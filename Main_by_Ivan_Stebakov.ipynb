{
 "cells": [
  {
   "cell_type": "markdown",
   "metadata": {
    "id": "RJkKJ83igGYb"
   },
   "source": [
    "#**Physics-based loss and machine learing approach in application to fluids flow modelling: 2D flow domains**\n",
    "\n",
    "The program recieves an image of the flow domain and the flow rate value, then calculate velocity distribution. The main idea is power loss minimization. The main unknown function is the stream function $\\psi = \\psi(x_1, x_2)$ that determines the velocity field $\\textbf{V} = [[v_1, v_2]]$, where $v_1 = \\frac{\\partial \\psi}{\\partial x_2}$, $v_2 = - \\frac{\\partial \\psi}{\\partial x_1}$.\n",
    "\n"
   ]
  },
  {
   "cell_type": "markdown",
   "metadata": {
    "id": "ozT2l1DxVSOL"
   },
   "source": [
    "#Libraries"
   ]
  },
  {
   "cell_type": "markdown",
   "metadata": {
    "id": "s3KFs0M9r7EQ"
   },
   "source": [
    "## Install libraries"
   ]
  },
  {
   "cell_type": "code",
   "execution_count": 19,
   "metadata": {
    "id": "jPSaJ-z614Tm"
   },
   "outputs": [
    {
     "name": "stderr",
     "output_type": "stream",
     "text": [
      "C:\\Users\\IMS\\Anaconda3\\envs\\Ivan\\lib\\site-packages\\fastbook\\__init__.py:19: UserWarning: Missing `graphviz` - please run `conda install fastbook`\n",
      "  except ModuleNotFoundError: warn(\"Missing `graphviz` - please run `conda install fastbook`\")\n"
     ]
    }
   ],
   "source": [
    "!pip install -Uqq fastbook\n",
    "import fastbook\n",
    "fastbook.setup_book()"
   ]
  },
  {
   "cell_type": "markdown",
   "metadata": {
    "id": "ydwhZV95sFoN"
   },
   "source": [
    "## Import libraries"
   ]
  },
  {
   "cell_type": "code",
   "execution_count": 20,
   "metadata": {
    "id": "Go3JwW4hICsK"
   },
   "outputs": [],
   "source": [
    "from fastai.vision.all import *\n",
    "import cv2\n",
    "import torch\n",
    "#from google.colab.patches import cv2_imshow\n",
    "#from collections import OrderedDict"
   ]
  },
  {
   "cell_type": "markdown",
   "metadata": {
    "id": "BT8OQ6AkVb6U"
   },
   "source": [
    "#Functions"
   ]
  },
  {
   "cell_type": "markdown",
   "metadata": {
    "id": "Hw2AD3oWsfJb"
   },
   "source": [
    "## Additional functions"
   ]
  },
  {
   "cell_type": "markdown",
   "metadata": {
    "id": "2JAf1YAHtV15"
   },
   "source": [
    "Numerical derivative"
   ]
  },
  {
   "cell_type": "code",
   "execution_count": 61,
   "metadata": {
    "id": "5P2RND6cYEOK"
   },
   "outputs": [],
   "source": [
    "def num_diff(f, dx1, dx2):\n",
    "  '''function to find partial derivatives of a two variables function:\n",
    "  i - index along x1\n",
    "  j - index along x2\n",
    "  for internal points - central differences e.q. df_dx = (f_{i+1}-f_{i-1})/(2*dx)\n",
    "  for boundaries - left and right finite differences e.q. df_dx = (f_{i+1}-f_{i})/dx or df_dx = (f_{i}-f_{i-1})/dx\n",
    "  '''\n",
    "  n1, n2 = f.shape\n",
    "  df_dx1 = 0\n",
    "  df_dx2 = 0\n",
    "  df_dx1, df_dx2 = torch.zeros(n1,n2), torch.zeros(n1,n2)\n",
    "  if torch.cuda.is_available():\n",
    "    df_dx1 = df_dx1.to('cuda')\n",
    "    df_dx2 = df_dx2.to('cuda')\n",
    "  # x1 derivative:\n",
    "  df_dx1[:, 1:n2-1] = (f[:,2:] - f[:,:-2])/(2*dx1)\n",
    "  df_dx1[:, 0] = (-f[:,2] + 4*f[:,1] - 3*f[:,0])/(2*dx1)\n",
    "  df_dx1[:,n2-1] = (3*f[:,n2-1] - 4*f[:,n2-2] + f[:,n2-3])/dx1\n",
    "  # x2 derivative:\n",
    "  df_dx2[1:n1-1,:] = (f[2:,:] - f[:-2,:])/(2*dx2)\n",
    "  df_dx2[0,:] = (-f[2,:] + 4*f[1,:] - 3*f[0,:])/(2*dx2)\n",
    "  df_dx2[n1-1,:] = (3*f[n1-1,:] - 4*f[n1-2,:] + f[n1-3,:])/(2*dx2)\n",
    "\n",
    "  return df_dx1, df_dx2"
   ]
  },
  {
   "cell_type": "markdown",
   "metadata": {
    "id": "1i1RAg4ozeGq"
   },
   "source": [
    "Numerical integrals: single and double can be implemented by torch.trapezoid function https://pytorch.org/docs/stable/generated/torch.trapezoid.html#torch.trapezoid\n"
   ]
  },
  {
   "cell_type": "markdown",
   "metadata": {
    "id": "lon3t_mIeGEi"
   },
   "source": [
    "Color filter "
   ]
  },
  {
   "cell_type": "code",
   "execution_count": 12,
   "metadata": {
    "id": "626DXTn0eKR-"
   },
   "outputs": [],
   "source": [
    "def colorFilter(img, color):\n",
    "  white = (255,255,255,255)\n",
    "  black = (0,0,0,255)\n",
    "  width,heigth = img.size\n",
    "  for i in range(width):\n",
    "    for j in range(heigth):\n",
    "      if img.getpixel((i,j)) == color:\n",
    "        img.putpixel((i,j),black)\n",
    "      else:\n",
    "        #print(img.getpixel((i,j)))\n",
    "        img.putpixel((i,j),white)\n",
    "  return (img)"
   ]
  },
  {
   "cell_type": "markdown",
   "metadata": {
    "id": "mH8zURs8A1Sr"
   },
   "source": [
    "##Major functions\n",
    "\n",
    "Distributions: the velocity components [[$v_1$, $v_2$]], the strain rate tensor components [[$\\xi_{ij}$]], $\\xi_{ij}=\\xi_{ji}$ . And the shear rate intensity Η. "
   ]
  },
  {
   "cell_type": "code",
   "execution_count": 13,
   "metadata": {
    "id": "WMUIipgs5t3Q"
   },
   "outputs": [],
   "source": [
    "def velocityDistr(psi,dx1n,dx2n,lim1,lim2):\n",
    "\n",
    "  n = psi.shape\n",
    "  v1 = 0\n",
    "  v2 = 0\n",
    "  dpsidx1 = 0\n",
    "  dpsidx2 = 0\n",
    "  dpsidx1, dpsidx2 = num_diff(psi, dx1n, dx2n)\n",
    "  v1 = dpsidx2/lim2[1]\n",
    "  v2 = - dpsidx1/lim1[1]\n",
    "\n",
    "  return v1,v2"
   ]
  },
  {
   "cell_type": "code",
   "execution_count": 14,
   "metadata": {
    "id": "716qlRJoNglx"
   },
   "outputs": [],
   "source": [
    "def TksiDistr(v1,v2,dx1n,dx2n,lim1,lim2):\n",
    "\n",
    "  n = v1.shape\n",
    "  xi11 = 0\n",
    "  xi12 = 0\n",
    "  xi22 = 0\n",
    "  dv1dx1 = 0\n",
    "  dv1dx2 =0\n",
    "  dv2dx1 = 0\n",
    "  dv2dx2 = 0\n",
    "\n",
    "  dv1dx1, dv1dx2 = num_diff(v1, dx1n, dx2n)\n",
    "  dv2dx1, dv2dx2 = num_diff(v2, dx1n, dx2n)\n",
    "\n",
    "  xi11 = dv1dx1/lim1[1]\n",
    "  xi12 = 0.5*(dv1dx2/lim2[1] + dv2dx1/lim1[1])\n",
    "  xi22 = dv2dx2/lim2[1]\n",
    "  EtaEta = (2*(xi11*xi11 + 2*xi12*xi12 + xi22*xi22))\n",
    "\n",
    "  return xi11,xi12,xi22,EtaEta"
   ]
  },
  {
   "cell_type": "markdown",
   "metadata": {
    "id": "nzMpruhsYD38"
   },
   "source": [
    "# Initialization"
   ]
  },
  {
   "cell_type": "markdown",
   "metadata": {
    "id": "itN_H_kFke1t"
   },
   "source": [
    "##Image of the flow domain"
   ]
  },
  {
   "cell_type": "markdown",
   "metadata": {
    "id": "3NCXTaNK4V4S"
   },
   "source": [
    "Path"
   ]
  },
  {
   "cell_type": "code",
   "execution_count": 15,
   "metadata": {
    "colab": {
     "base_uri": "https://localhost:8080/"
    },
    "id": "tDbZIropJMjw",
    "outputId": "292abe6d-a8e2-44aa-ff71-4f41c5c09a89"
   },
   "outputs": [
    {
     "ename": "NameError",
     "evalue": "name 'Path' is not defined",
     "output_type": "error",
     "traceback": [
      "\u001b[1;31m---------------------------------------------------------------------------\u001b[0m",
      "\u001b[1;31mNameError\u001b[0m                                 Traceback (most recent call last)",
      "\u001b[1;32m~\\AppData\\Local\\Temp/ipykernel_44572/2499667382.py\u001b[0m in \u001b[0;36m<module>\u001b[1;34m\u001b[0m\n\u001b[1;32m----> 1\u001b[1;33m \u001b[0mpath\u001b[0m \u001b[1;33m=\u001b[0m  \u001b[0mPath\u001b[0m\u001b[1;33m(\u001b[0m\u001b[1;34m'/content/gdrive/MyDrive/study/Publications/2022/IEEE-CEC-2022/physical-loss'\u001b[0m\u001b[1;33m)\u001b[0m\u001b[1;33m\u001b[0m\u001b[1;33m\u001b[0m\u001b[0m\n\u001b[0m\u001b[0;32m      2\u001b[0m \u001b[1;31m#path =  Path('/home/physical-loss')\u001b[0m\u001b[1;33m\u001b[0m\u001b[1;33m\u001b[0m\u001b[0m\n\u001b[0;32m      3\u001b[0m \u001b[0mimgPath\u001b[0m \u001b[1;33m=\u001b[0m \u001b[0mpath\u001b[0m\u001b[1;33m/\u001b[0m\u001b[1;34m'ToyDataset'\u001b[0m\u001b[1;33m\u001b[0m\u001b[1;33m\u001b[0m\u001b[0m\n\u001b[0;32m      4\u001b[0m \u001b[0mimgList\u001b[0m \u001b[1;33m=\u001b[0m \u001b[0mimgPath\u001b[0m\u001b[1;33m.\u001b[0m\u001b[0mls\u001b[0m\u001b[1;33m(\u001b[0m\u001b[1;33m)\u001b[0m\u001b[1;33m\u001b[0m\u001b[1;33m\u001b[0m\u001b[0m\n\u001b[0;32m      5\u001b[0m \u001b[0mimgPath\u001b[0m\u001b[1;33m.\u001b[0m\u001b[0mls\u001b[0m\u001b[1;33m(\u001b[0m\u001b[1;33m)\u001b[0m\u001b[1;33m\u001b[0m\u001b[1;33m\u001b[0m\u001b[0m\n",
      "\u001b[1;31mNameError\u001b[0m: name 'Path' is not defined"
     ]
    }
   ],
   "source": [
    " path =  Path('/content/gdrive/MyDrive/study/Publications/2022/IEEE-CEC-2022/physical-loss')\n",
    " #path =  Path('/home/physical-loss')\n",
    " imgPath = path/'ToyDataset'\n",
    " imgList = imgPath.ls()\n",
    " imgPath.ls()"
   ]
  },
  {
   "cell_type": "markdown",
   "metadata": {
    "id": "GYoObHLVIZWE"
   },
   "source": [
    "##Simulation"
   ]
  },
  {
   "cell_type": "code",
   "execution_count": 103,
   "metadata": {
    "id": "YsKHT1J2Ibx9"
   },
   "outputs": [],
   "source": [
    "#Training\n",
    "noOfFeatures = 4\n",
    "noOfEpoch = 10000\n",
    "learnRate = 0.01"
   ]
  },
  {
   "cell_type": "markdown",
   "metadata": {
    "id": "ORhTWZZvVw7c"
   },
   "source": [
    "##Geometry\n",
    "The domain of size *'L x L'*  with flow channel is represented as an image of size *'imgSize x imgSize'*. S1 is the upper wall with black label [0 0 0]. S2 and S4 are outlet and inlet surfaces, respectivelly. S3 is the lower wall with blue label [0 0 255]. "
   ]
  },
  {
   "cell_type": "code",
   "execution_count": 17,
   "metadata": {
    "id": "y8Q_jxpUYIEm"
   },
   "outputs": [],
   "source": [
    "L = 0.1 # L x L flow domain\n",
    "imgSize = 512 # imgSize x imgSize pixels image\n",
    "imgNo = 2\n",
    "upperWallColor =  (0, 0, 0,255)\n",
    "lowerWallColor =  (0, 0, 255,255)\n",
    "#Normalized coordinates\n",
    "x1n = torch.linspace(0,1,imgSize)\n",
    "x2n = torch.linspace(0,1,imgSize)\n",
    "dx1n = x1n[1] - x1n[0]\n",
    "dx2n = x2n[1] - x2n[0]\n",
    "lim1 = [0, L]\n",
    "lim2 = [0, L]\n",
    "#Visualisation\n",
    "figSize = 3\n"
   ]
  },
  {
   "cell_type": "markdown",
   "metadata": {
    "id": "fxyHNlSAEHSg"
   },
   "source": [
    "Check diff"
   ]
  },
  {
   "cell_type": "code",
   "execution_count": 26,
   "metadata": {
    "colab": {
     "base_uri": "https://localhost:8080/",
     "height": 143
    },
    "id": "1hKq9A5gtHzs",
    "outputId": "6b39a1b5-7f5e-4fe7-97e2-c822b1e80554"
   },
   "outputs": [
    {
     "data": {
      "image/png": "[encoded data removed]",
      "text/plain": [
       "<PIL.JpegImagePlugin.JpegImageFile image mode=RGB size=126x126 at 0x2927A6A4CA0>"
      ]
     },
     "execution_count": 26,
     "metadata": {},
     "output_type": "execute_result"
    }
   ],
   "source": [
    "domainMask = Image.open('Physics-based-loss-and-machine-learning-approach-in-application-to-non-Newtonian-fluids-flow-modelin-main/mlIzur4sNm0.jpg')\n",
    "domainMask "
   ]
  },
  {
   "cell_type": "markdown",
   "metadata": {
    "id": "45EnY5VmEcjK"
   },
   "source": [
    "Create masks for the walls and resize image"
   ]
  },
  {
   "cell_type": "code",
   "execution_count": 29,
   "metadata": {
    "id": "lmyMgC4op_o_"
   },
   "outputs": [],
   "source": [
    "\n",
    "upperWallMask = colorFilter(domainMask, upperWallColor)\n",
    "upperWallMask = upperWallMask.resize((imgSize,imgSize),resample=4)\n",
    "#upperWallMask"
   ]
  },
  {
   "cell_type": "code",
   "execution_count": 30,
   "metadata": {
    "id": "FF424vauuCi8"
   },
   "outputs": [],
   "source": [
    "domainMask = Image.open(imgList[imgNo])\n",
    "lowerWallMask = colorFilter(domainMask, lowerWallColor)\n",
    "lowerWallMask = lowerWallMask.resize((imgSize,imgSize),resample=4)\n",
    "#lowerWallMask"
   ]
  },
  {
   "cell_type": "markdown",
   "metadata": {
    "id": "XaVb_Ejsmynq"
   },
   "source": [
    "##Kinematic properties\n",
    "The velocity is equal to zero on all the surfaces. The flow rate is known."
   ]
  },
  {
   "cell_type": "code",
   "execution_count": 31,
   "metadata": {
    "colab": {
     "base_uri": "https://localhost:8080/",
     "height": 232
    },
    "id": "Gb4BFZNWnBsh",
    "outputId": "0dde0211-4908-4885-e6ac-4fc8f130ed54"
   },
   "outputs": [
    {
     "data": {
      "text/plain": [
       "<matplotlib.image.AxesImage at 0x2927b1a3bb0>"
      ]
     },
     "execution_count": 31,
     "metadata": {},
     "output_type": "execute_result"
    },
    {
     "data": {
      "image/png": "[encoded data removed]",
      "text/plain": [
       "<Figure size 216x216 with 1 Axes>"
      ]
     },
     "metadata": {
      "needs_background": "light"
     },
     "output_type": "display_data"
    }
   ],
   "source": [
    "Q = 1 #flow rate through the inlet (outlet) boundary, m^3/s\n",
    "psim = 0 # lower wall\n",
    "psip = Q # upper wall\n",
    "psi00 = torch.linspace(Q*4,0,imgSize, dtype=torch.float32)*torch.ones(imgSize,imgSize)\n",
    "psi0 = torch.t(psi00)-1.5*Q\n",
    "fig = plt.figure(figsize=(figSize, figSize))\n",
    "plt.imshow(psi0)\n",
    "#psi0[:,1]"
   ]
  },
  {
   "cell_type": "code",
   "execution_count": 32,
   "metadata": {
    "colab": {
     "base_uri": "https://localhost:8080/"
    },
    "id": "H-xEZhto3cLN",
    "outputId": "d4395f3b-7ad0-47c2-c461-da4f00bb9cbf"
   },
   "outputs": [
    {
     "data": {
      "text/plain": [
       "torch.float32"
      ]
     },
     "execution_count": 32,
     "metadata": {},
     "output_type": "execute_result"
    }
   ],
   "source": [
    "psi00.dtype"
   ]
  },
  {
   "cell_type": "code",
   "execution_count": 33,
   "metadata": {
    "colab": {
     "base_uri": "https://localhost:8080/",
     "height": 244
    },
    "id": "lyOiYXNSUVnK",
    "outputId": "79f8b54f-65b1-421b-fd76-d3d4fc7a117e"
   },
   "outputs": [
    {
     "data": {
      "text/plain": [
       "Text(0.5, 1.0, 'psi function with mask')"
      ]
     },
     "execution_count": 33,
     "metadata": {},
     "output_type": "execute_result"
    },
    {
     "data": {
      "image/png": "[encoded data removed]",
      "text/plain": [
       "<Figure size 216x216 with 1 Axes>"
      ]
     },
     "metadata": {
      "needs_background": "light"
     },
     "output_type": "display_data"
    }
   ],
   "source": [
    "wallsMask = (tensor(upperWallMask)[:,:,1]*tensor(lowerWallMask)[:,:,1])\n",
    "inverseUpperWallMask = (tensor(upperWallMask)[:,:,1]/(-255)+1)\n",
    "psi0Masked = (psi0*wallsMask) + (inverseUpperWallMask*Q)\n",
    "fig = plt.figure(figsize=(figSize, figSize))\n",
    "plt.imshow(psi0Masked)\n",
    "plt.title('psi function with mask')"
   ]
  },
  {
   "cell_type": "code",
   "execution_count": 34,
   "metadata": {
    "id": "DRUbnj0emwYz"
   },
   "outputs": [],
   "source": [
    "#velocityMask = torch.ones(imgSize,imgSize)\n",
    "#velocityMask[:,0:3] = 0\n",
    "#velocityMask[:,-3:] = 0\n",
    "#fig = plt.figure(figsize=(figSize, figSize))\n",
    "#plt.plot(velocityMask[1,:])\n",
    "#velocityMask[1,:]"
   ]
  },
  {
   "cell_type": "code",
   "execution_count": 35,
   "metadata": {
    "id": "uTDXqEz7qRGB"
   },
   "outputs": [],
   "source": [
    "#h=(126-92)*L/126\n",
    "#vm = (velocityMask*-1 + 1)*Q/L\n",
    "#Qcalc = torch.trapezoid(vm.t())*dx2n*L\n",
    "#plt.plot(Qcalc)"
   ]
  },
  {
   "cell_type": "code",
   "execution_count": 36,
   "metadata": {
    "id": "yWij5ddlqQ89"
   },
   "outputs": [],
   "source": [
    "#v1Mask = vm*wallsMask\n",
    "#fig = plt.figure(figsize=(figSize*4, figSize*2))\n",
    "#plt.imshow(v1Mask )\n",
    "#plt.title('v1 mask')\n",
    "#v1Mask[300,:]"
   ]
  },
  {
   "cell_type": "code",
   "execution_count": 37,
   "metadata": {
    "colab": {
     "base_uri": "https://localhost:8080/",
     "height": 228
    },
    "id": "e_0lRm44DIkI",
    "outputId": "ed9f374f-18ef-45d4-d346-6ccff15eb331"
   },
   "outputs": [
    {
     "data": {
      "text/plain": [
       "[<matplotlib.lines.Line2D at 0x2927b5e03d0>]"
      ]
     },
     "execution_count": 37,
     "metadata": {},
     "output_type": "execute_result"
    },
    {
     "data": {
      "image/png": "[encoded data removed]",
      "text/plain": [
       "<Figure size 216x216 with 1 Axes>"
      ]
     },
     "metadata": {
      "needs_background": "light"
     },
     "output_type": "display_data"
    }
   ],
   "source": [
    "fig = plt.figure(figsize=(figSize, figSize))\n",
    "plt.plot(psi0Masked[:,200])"
   ]
  },
  {
   "cell_type": "markdown",
   "metadata": {
    "id": "B7LQzVv63_0n"
   },
   "source": [
    "Velocity distribution"
   ]
  },
  {
   "cell_type": "code",
   "execution_count": 38,
   "metadata": {
    "colab": {
     "base_uri": "https://localhost:8080/",
     "height": 234
    },
    "id": "qbVbaBjT3aOd",
    "outputId": "70e136d5-4175-44e2-c96d-24e7e35e5ced"
   },
   "outputs": [
    {
     "data": {
      "text/plain": [
       "Text(0.5, 1.0, 'v2')"
      ]
     },
     "execution_count": 38,
     "metadata": {},
     "output_type": "execute_result"
    },
    {
     "data": {
      "image/png": "[encoded data removed]",
      "text/plain": [
       "<Figure size 432x216 with 2 Axes>"
      ]
     },
     "metadata": {
      "needs_background": "light"
     },
     "output_type": "display_data"
    }
   ],
   "source": [
    "v1, v2 = velocityDistr(psi0Masked,dx1n,dx2n,lim1,lim2)\n",
    "#v1Masked = (v1*velocityMask) + v1Mask\n",
    "#v2Masked = (v2*velocityMask)\n",
    "#v2Masked = torch.zeros(imgSize,imgSize)\n",
    "fig = plt.figure(figsize=(figSize*2, figSize))\n",
    "plt.subplot(1,2,1)\n",
    "plt.imshow(v1)\n",
    "plt.title('v1')\n",
    "plt.subplot(1,2,2)\n",
    "plt.imshow(v2)\n",
    "plt.title('v2')"
   ]
  },
  {
   "cell_type": "code",
   "execution_count": 39,
   "metadata": {
    "colab": {
     "base_uri": "https://localhost:8080/",
     "height": 282
    },
    "id": "thQzkbhu741H",
    "outputId": "d870533c-7e61-4fc3-87b2-515b2647429a"
   },
   "outputs": [
    {
     "data": {
      "text/plain": [
       "[<matplotlib.lines.Line2D at 0x2927bb43640>]"
      ]
     },
     "execution_count": 39,
     "metadata": {},
     "output_type": "execute_result"
    },
    {
     "data": {
      "image/png": "[encoded data removed]",
      "text/plain": [
       "<Figure size 432x288 with 1 Axes>"
      ]
     },
     "metadata": {
      "needs_background": "light"
     },
     "output_type": "display_data"
    }
   ],
   "source": [
    "plt.plot(v1[:,1])"
   ]
  },
  {
   "cell_type": "code",
   "execution_count": 40,
   "metadata": {
    "colab": {
     "base_uri": "https://localhost:8080/",
     "height": 282
    },
    "id": "rXz9T9VWA3G5",
    "outputId": "44a0902a-36ce-48f8-c4f9-a46992ff780d"
   },
   "outputs": [
    {
     "ename": "AttributeError",
     "evalue": "module 'torch' has no attribute 'trapezoid'",
     "output_type": "error",
     "traceback": [
      "\u001b[1;31m---------------------------------------------------------------------------\u001b[0m",
      "\u001b[1;31mAttributeError\u001b[0m                            Traceback (most recent call last)",
      "\u001b[1;32m~\\AppData\\Local\\Temp/ipykernel_44572/2327828344.py\u001b[0m in \u001b[0;36m<module>\u001b[1;34m\u001b[0m\n\u001b[1;32m----> 1\u001b[1;33m \u001b[0mQch\u001b[0m \u001b[1;33m=\u001b[0m \u001b[0mtorch\u001b[0m\u001b[1;33m.\u001b[0m\u001b[0mtrapezoid\u001b[0m\u001b[1;33m(\u001b[0m\u001b[0mv1\u001b[0m\u001b[1;33m.\u001b[0m\u001b[0mt\u001b[0m\u001b[1;33m(\u001b[0m\u001b[1;33m)\u001b[0m\u001b[1;33m)\u001b[0m\u001b[1;33m*\u001b[0m\u001b[0mdx1n\u001b[0m\u001b[1;33m*\u001b[0m\u001b[0mL\u001b[0m\u001b[1;33m\u001b[0m\u001b[1;33m\u001b[0m\u001b[0m\n\u001b[0m\u001b[0;32m      2\u001b[0m \u001b[0mplt\u001b[0m\u001b[1;33m.\u001b[0m\u001b[0mplot\u001b[0m\u001b[1;33m(\u001b[0m\u001b[0mQch\u001b[0m\u001b[1;33m)\u001b[0m\u001b[1;33m\u001b[0m\u001b[1;33m\u001b[0m\u001b[0m\n",
      "\u001b[1;31mAttributeError\u001b[0m: module 'torch' has no attribute 'trapezoid'"
     ]
    }
   ],
   "source": [
    "Qch = torch.trapezoid(v1.t())*dx1n*L\n",
    "plt.plot(Qch)"
   ]
  },
  {
   "cell_type": "markdown",
   "metadata": {
    "id": "hvAQmdvsnZQ5"
   },
   "source": [
    "##Dynamic properties\n",
    "The fluid is Newtonian."
   ]
  },
  {
   "cell_type": "code",
   "execution_count": 41,
   "metadata": {
    "id": "t4YCVOBPneFt"
   },
   "outputs": [],
   "source": [
    "mu = 1e-3 # koefficient of dynamic viscosity (viscosity), Pa*s"
   ]
  },
  {
   "cell_type": "markdown",
   "metadata": {
    "id": "wOpHVjQdkxS_"
   },
   "source": [
    "##Check assimptotic solution\n",
    "Newtonian fluid flows between parallel plates LxL"
   ]
  },
  {
   "cell_type": "code",
   "execution_count": 44,
   "metadata": {
    "colab": {
     "base_uri": "https://localhost:8080/",
     "height": 0
    },
    "id": "fpG0AV2LlF-W",
    "outputId": "9f04cbfb-4b5d-434d-daf0-8c00d296066d"
   },
   "outputs": [
    {
     "ename": "TypeError",
     "evalue": "unsupported operand type(s) for *: 'float' and '_L_Meta'",
     "output_type": "error",
     "traceback": [
      "\u001b[1;31m---------------------------------------------------------------------------\u001b[0m",
      "\u001b[1;31mTypeError\u001b[0m                                 Traceback (most recent call last)",
      "\u001b[1;32m~\\AppData\\Local\\Temp/ipykernel_44572/3263999151.py\u001b[0m in \u001b[0;36m<module>\u001b[1;34m\u001b[0m\n\u001b[0;32m      1\u001b[0m \u001b[1;31m#h=(126-92)*L/126\u001b[0m\u001b[1;33m\u001b[0m\u001b[1;33m\u001b[0m\u001b[0m\n\u001b[1;32m----> 2\u001b[1;33m \u001b[0mpressureDrop\u001b[0m \u001b[1;33m=\u001b[0m \u001b[0mQ\u001b[0m\u001b[1;33m*\u001b[0m\u001b[1;36m3\u001b[0m\u001b[1;33m*\u001b[0m\u001b[0mmu\u001b[0m\u001b[1;33m*\u001b[0m\u001b[0mL\u001b[0m\u001b[1;33m/\u001b[0m\u001b[1;33m(\u001b[0m\u001b[1;36m2\u001b[0m\u001b[1;33m*\u001b[0m\u001b[0mL\u001b[0m\u001b[1;33m*\u001b[0m\u001b[0mL\u001b[0m\u001b[1;33m*\u001b[0m\u001b[0mL\u001b[0m\u001b[1;33m)\u001b[0m\u001b[1;33m\u001b[0m\u001b[1;33m\u001b[0m\u001b[0m\n\u001b[0m\u001b[0;32m      3\u001b[0m \u001b[0mexternalPower\u001b[0m \u001b[1;33m=\u001b[0m \u001b[0mpressureDrop\u001b[0m\u001b[1;33m*\u001b[0m\u001b[0mQ\u001b[0m\u001b[1;33m\u001b[0m\u001b[1;33m\u001b[0m\u001b[0m\n\u001b[0;32m      4\u001b[0m \u001b[0mv1ex\u001b[0m \u001b[1;33m=\u001b[0m \u001b[0mpressureDrop\u001b[0m\u001b[1;33m/\u001b[0m\u001b[1;33m(\u001b[0m\u001b[1;36m2\u001b[0m\u001b[1;33m*\u001b[0m\u001b[0mmu\u001b[0m\u001b[1;33m*\u001b[0m\u001b[0mL\u001b[0m\u001b[1;33m)\u001b[0m\u001b[1;33m*\u001b[0m\u001b[1;33m(\u001b[0m\u001b[1;36m1\u001b[0m\u001b[1;33m-\u001b[0m\u001b[0mx2n\u001b[0m\u001b[1;33m*\u001b[0m\u001b[0mx2n\u001b[0m\u001b[1;33m)\u001b[0m\u001b[1;33m*\u001b[0m\u001b[0mL\u001b[0m\u001b[1;33m*\u001b[0m\u001b[0mL\u001b[0m\u001b[1;33m\u001b[0m\u001b[1;33m\u001b[0m\u001b[0m\n\u001b[0;32m      5\u001b[0m \u001b[0mpsiex\u001b[0m \u001b[1;33m=\u001b[0m \u001b[0mpressureDrop\u001b[0m\u001b[1;33m/\u001b[0m\u001b[1;33m(\u001b[0m\u001b[1;36m2\u001b[0m\u001b[1;33m*\u001b[0m\u001b[0mmu\u001b[0m\u001b[1;33m*\u001b[0m\u001b[0mL\u001b[0m\u001b[1;33m)\u001b[0m\u001b[1;33m*\u001b[0m\u001b[1;33m(\u001b[0m\u001b[1;36m1\u001b[0m\u001b[1;33m-\u001b[0m\u001b[0mx2n\u001b[0m\u001b[1;33m*\u001b[0m\u001b[0mx2n\u001b[0m\u001b[1;33m/\u001b[0m\u001b[1;36m3\u001b[0m\u001b[1;33m)\u001b[0m\u001b[1;33m*\u001b[0m\u001b[0mL\u001b[0m\u001b[1;33m*\u001b[0m\u001b[0mL\u001b[0m\u001b[1;33m*\u001b[0m\u001b[0mL\u001b[0m\u001b[1;33m*\u001b[0m\u001b[0mx2n\u001b[0m\u001b[1;33m\u001b[0m\u001b[1;33m\u001b[0m\u001b[0m\n",
      "\u001b[1;31mTypeError\u001b[0m: unsupported operand type(s) for *: 'float' and '_L_Meta'"
     ]
    }
   ],
   "source": [
    "#h=(126-92)*L/126\n",
    "pressureDrop = Q*3*mu*L/(2*L*L*L)\n",
    "externalPower = pressureDrop*Q\n",
    "v1ex = pressureDrop/(2*mu*L)*(1-x2n*x2n)*L*L\n",
    "psiex = pressureDrop/(2*mu*L)*(1-x2n*x2n/3)*L*L*L*x2n\n",
    "print('h =',L,'pressure drop =',pressureDrop,'external power =',externalPower)\n",
    "psiex2d = psiex*torch.ones(imgSize,imgSize)\n",
    "psiex2dt = psiex2d.t()\n",
    "plt.imshow(psiex2dt)"
   ]
  },
  {
   "cell_type": "code",
   "execution_count": 43,
   "metadata": {
    "colab": {
     "base_uri": "https://localhost:8080/",
     "height": 0
    },
    "id": "8TUsKIqMUX8t",
    "outputId": "765a321d-6e94-4e77-aa4c-710eeb6debb5"
   },
   "outputs": [
    {
     "ename": "NameError",
     "evalue": "name 'psiex2dt' is not defined",
     "output_type": "error",
     "traceback": [
      "\u001b[1;31m---------------------------------------------------------------------------\u001b[0m",
      "\u001b[1;31mNameError\u001b[0m                                 Traceback (most recent call last)",
      "\u001b[1;32m~\\AppData\\Local\\Temp/ipykernel_44572/3821562399.py\u001b[0m in \u001b[0;36m<module>\u001b[1;34m\u001b[0m\n\u001b[1;32m----> 1\u001b[1;33m \u001b[0mplt\u001b[0m\u001b[1;33m.\u001b[0m\u001b[0mplot\u001b[0m\u001b[1;33m(\u001b[0m\u001b[0mpsiex2dt\u001b[0m\u001b[1;33m[\u001b[0m\u001b[1;33m:\u001b[0m\u001b[1;33m,\u001b[0m\u001b[1;36m1\u001b[0m\u001b[1;33m]\u001b[0m\u001b[1;33m)\u001b[0m\u001b[1;33m\u001b[0m\u001b[1;33m\u001b[0m\u001b[0m\n\u001b[0m",
      "\u001b[1;31mNameError\u001b[0m: name 'psiex2dt' is not defined"
     ]
    }
   ],
   "source": [
    "plt.plot(psiex2dt[:,1])"
   ]
  },
  {
   "cell_type": "code",
   "execution_count": null,
   "metadata": {
    "colab": {
     "base_uri": "https://localhost:8080/",
     "height": 0
    },
    "id": "ppVboILQT4W4",
    "outputId": "74db4087-c430-4b81-8f9a-5b49b93c6061"
   },
   "outputs": [],
   "source": [
    "v1ch, v2ch = velocityDistr(psiex2dt,dx1n,dx2n,lim1,lim2)\n",
    "fig = plt.figure(figsize=(figSize*2, figSize))\n",
    "plt.subplot(1,2,1)\n",
    "plt.imshow(v1ch)\n",
    "plt.title('v1')\n",
    "plt.subplot(1,2,2)\n",
    "plt.imshow(v2ch)\n",
    "plt.title('v2')"
   ]
  },
  {
   "cell_type": "code",
   "execution_count": null,
   "metadata": {
    "colab": {
     "base_uri": "https://localhost:8080/",
     "height": 0
    },
    "id": "9Z6uPi8BUne2",
    "outputId": "b3f1fa83-703a-482d-ae34-4bcd5fed5d67"
   },
   "outputs": [],
   "source": [
    "fig = plt.figure(figsize=(figSize*2, figSize))\n",
    "plt.subplot(1,2,1)\n",
    "plt.plot(v1ch[:,1])\n",
    "plt.title('v1')\n",
    "plt.subplot(1,2,2)\n",
    "plt.plot(x1n,-v1ch[:,1],'-r',x1n,v1ex,'--b')\n",
    "plt.title('v2')"
   ]
  },
  {
   "cell_type": "code",
   "execution_count": null,
   "metadata": {
    "colab": {
     "base_uri": "https://localhost:8080/"
    },
    "id": "t4giQ6iXUClB",
    "outputId": "93d06fd9-dfc0-4abe-9a12-84a2f4eccb0b"
   },
   "outputs": [],
   "source": [
    "v1ch.max(),v1ch.min(),v2ch.max(),v2ch.min()"
   ]
  },
  {
   "cell_type": "markdown",
   "metadata": {
    "id": "1d1oviwgU3ae"
   },
   "source": [
    "flow rate"
   ]
  },
  {
   "cell_type": "code",
   "execution_count": null,
   "metadata": {
    "colab": {
     "base_uri": "https://localhost:8080/",
     "height": 0
    },
    "id": "ZPFVBPRRU5VQ",
    "outputId": "27f01fef-99f0-46b4-b79e-3416c3b58b24"
   },
   "outputs": [],
   "source": [
    "Qcalc = torch.trapezoid(v1.t())*dx1n*L\n",
    "plt.plot(Qcalc)"
   ]
  },
  {
   "cell_type": "code",
   "execution_count": null,
   "metadata": {
    "colab": {
     "base_uri": "https://localhost:8080/",
     "height": 0
    },
    "id": "QZ7FdI9-GB6e",
    "outputId": "52ebdea8-d575-48a1-8163-79b45d5a4641"
   },
   "outputs": [],
   "source": [
    "fig = plt.figure(figsize=(figSize*2, figSize))\n",
    "plt.subplot(1,2,1)\n",
    "plt.plot(v1ex)\n",
    "plt.subplot(1,2,2)\n",
    "plt.plot(psiex)"
   ]
  },
  {
   "cell_type": "markdown",
   "metadata": {
    "id": "PhZutgNIyYhH"
   },
   "source": [
    "#Training"
   ]
  },
  {
   "cell_type": "markdown",
   "metadata": {
    "id": "FPeLHoR31p1D"
   },
   "source": [
    "##Create model\n",
    "Unet architecture [2] is used"
   ]
  },
  {
   "cell_type": "code",
   "execution_count": 124,
   "metadata": {
    "id": "PID82zl-cxN4"
   },
   "outputs": [],
   "source": [
    "class UNet(nn.Module):\n",
    "\n",
    "    def __init__(self, in_channels=3, out_channels=1, init_features=noOfFeatures):\n",
    "        super(UNet, self).__init__()\n",
    "\n",
    "        features = init_features\n",
    "        self.encoder1 = UNet._block(in_channels, features, name=\"enc1\")\n",
    "        self.pool1 = nn.MaxPool2d(kernel_size=2, stride=2)\n",
    "        self.encoder2 = UNet._block(features, features * 2, name=\"enc2\")\n",
    "        self.pool2 = nn.MaxPool2d(kernel_size=2, stride=2)\n",
    "        self.encoder3 = UNet._block(features * 2, features * 4, name=\"enc3\")\n",
    "        self.pool3 = nn.MaxPool2d(kernel_size=2, stride=2)\n",
    "        self.encoder4 = UNet._block(features * 4, features * 8, name=\"enc4\")\n",
    "        self.pool4 = nn.MaxPool2d(kernel_size=2, stride=2)\n",
    "\n",
    "        self.bottleneck = UNet._block(features * 8, features * 16, name=\"bottleneck\")\n",
    "\n",
    "        self.upconv4 = nn.ConvTranspose2d(\n",
    "            features * 16, features * 8, kernel_size=2, stride=2\n",
    "        )\n",
    "        self.decoder4 = UNet._block((features * 8) * 2, features * 8, name=\"dec4\")\n",
    "        self.upconv3 = nn.ConvTranspose2d(\n",
    "            features * 8, features * 4, kernel_size=2, stride=2\n",
    "        )\n",
    "        self.decoder3 = UNet._block((features * 4) * 2, features * 4, name=\"dec3\")\n",
    "        self.upconv2 = nn.ConvTranspose2d(\n",
    "            features * 4, features * 2, kernel_size=2, stride=2\n",
    "        )\n",
    "        self.decoder2 = UNet._block((features * 2) * 2, features * 2, name=\"dec2\")\n",
    "        self.upconv1 = nn.ConvTranspose2d(\n",
    "            features * 2, features, kernel_size=2, stride=2\n",
    "        )\n",
    "        self.decoder1 = UNet._block(features * 2, features, name=\"dec1\")\n",
    "\n",
    "        self.conv = nn.Conv2d(\n",
    "            in_channels=features, out_channels=out_channels, kernel_size=1\n",
    "        )\n",
    "\n",
    "    def forward(self, x):\n",
    "        enc1 = self.encoder1(x)\n",
    "        enc2 = self.encoder2(self.pool1(enc1))\n",
    "        enc3 = self.encoder3(self.pool2(enc2))\n",
    "        enc4 = self.encoder4(self.pool3(enc3))\n",
    "\n",
    "        bottleneck = self.bottleneck(self.pool4(enc4))\n",
    "\n",
    "        dec4 = self.upconv4(bottleneck)\n",
    "        dec4 = torch.cat((dec4, enc4), dim=1)\n",
    "        dec4 = self.decoder4(dec4)\n",
    "        dec3 = self.upconv3(dec4)\n",
    "        dec3 = torch.cat((dec3, enc3), dim=1)\n",
    "        dec3 = self.decoder3(dec3)\n",
    "        dec2 = self.upconv2(dec3)\n",
    "        dec2 = torch.cat((dec2, enc2), dim=1)\n",
    "        dec2 = self.decoder2(dec2)\n",
    "        dec1 = self.upconv1(dec2)\n",
    "        dec1 = torch.cat((dec1, enc1), dim=1)\n",
    "        dec1 = self.decoder1(dec1)\n",
    "        return torch.sigmoid(self.conv(dec1))\n",
    "\n",
    "    @staticmethod\n",
    "    def _block(in_channels, features, name):\n",
    "        return nn.Sequential(\n",
    "            OrderedDict(\n",
    "                [\n",
    "                    (\n",
    "                        name + \"conv1\",\n",
    "                        nn.Conv2d(\n",
    "                            in_channels=in_channels,\n",
    "                            out_channels=features,\n",
    "                            kernel_size=3,\n",
    "                            padding=1,\n",
    "                            bias=False,\n",
    "                        ),\n",
    "                    ),\n",
    "                    (name + \"norm1\", nn.BatchNorm2d(num_features=features)),\n",
    "                    (name + \"relu1\", nn.ReLU(inplace=True)),\n",
    "                    (\n",
    "                        name + \"conv2\",\n",
    "                        nn.Conv2d(\n",
    "                            in_channels=features,\n",
    "                            out_channels=features,\n",
    "                            kernel_size=3,\n",
    "                            padding=1,\n",
    "                            bias=False,\n",
    "                        ),\n",
    "                    ),\n",
    "                    (name + \"norm2\", nn.BatchNorm2d(num_features=features)),\n",
    "                    (name + \"relu2\", nn.ReLU(inplace=True)),\n",
    "                ]\n",
    "            )\n",
    "        )\n",
    "\n",
    "\n",
    "        \n",
    "model = UNet(in_channels=1, out_channels=1, init_features=32)"
   ]
  },
  {
   "cell_type": "code",
   "execution_count": 136,
   "metadata": {},
   "outputs": [],
   "source": [
    "# Сохранение и загрузка всей сети\n",
    "\n",
    "torch.save(model.state_dict(), 'model.pth')\n",
    "model.load_state_dict(torch.load('model.pth'))"
   ]
  },
  {
   "cell_type": "code",
   "execution_count": 140,
   "metadata": {},
   "outputs": [],
   "source": [
    "# Сохранение и загрузка всей сети\n",
    "\n",
    "torch.save(model.encoder1.state_dict(), 'encoder1.pth')\n",
    "model.encoder1.load_state_dict(torch.load('encoder1.pth'))"
   ]
  },
  {
   "cell_type": "code",
   "execution_count": 125,
   "metadata": {
    "id": "2yb3P0n1c8df"
   },
   "outputs": [],
   "source": [
    "#model"
   ]
  },
  {
   "cell_type": "markdown",
   "metadata": {
    "id": "PwikCXOPyPPR"
   },
   "source": [
    "## Optimizer"
   ]
  },
  {
   "cell_type": "code",
   "execution_count": 126,
   "metadata": {
    "id": "oKBkisM7hASi"
   },
   "outputs": [],
   "source": [
    "# optimizer = torch.optim.Adam(model.parameters(), lr=learnRate)\n",
    "optimizer = torch.optim.SGD(model.parameters(), lr=learnRate)\n",
    "lr_scheduler = torch.optim.lr_scheduler.StepLR(optimizer, step_size=250, gamma=0.1)"
   ]
  },
  {
   "cell_type": "markdown",
   "metadata": {
    "id": "TyTAp5u0yroJ"
   },
   "source": [
    "##Input image"
   ]
  },
  {
   "cell_type": "code",
   "execution_count": 127,
   "metadata": {
    "colab": {
     "base_uri": "https://localhost:8080/"
    },
    "id": "j6BFOOEv3OhT",
    "outputId": "b2a06397-dbb7-42ee-eeb2-25c6969d37f0"
   },
   "outputs": [
    {
     "data": {
      "text/plain": [
       "torch.float32"
      ]
     },
     "execution_count": 127,
     "metadata": {},
     "output_type": "execute_result"
    }
   ],
   "source": [
    "psi0Masked.dtype"
   ]
  },
  {
   "cell_type": "code",
   "execution_count": 128,
   "metadata": {
    "colab": {
     "base_uri": "https://localhost:8080/"
    },
    "id": "xruHyQ-vdVhz",
    "outputId": "91471681-6ca8-483b-cecc-8d0d686948de"
   },
   "outputs": [
    {
     "data": {
      "text/plain": [
       "(torch.float32, torch.Size([1, 1, 512, 512]))"
      ]
     },
     "execution_count": 128,
     "metadata": {},
     "output_type": "execute_result"
    }
   ],
   "source": [
    "#x = torch.randn((1, 1, 512, 512))\n",
    "x = torch.ones((1, 1, imgSize, imgSize))*psi0Masked\n",
    "#fig = plt.figure(figsize=(3, 3))\n",
    "#plt.imshow(x[0,0,:,:])\n",
    "x.dtype, x.shape"
   ]
  },
  {
   "cell_type": "code",
   "execution_count": 129,
   "metadata": {
    "id": "f1L8QG9ndbML"
   },
   "outputs": [],
   "source": [
    "#model(x)"
   ]
  },
  {
   "cell_type": "code",
   "execution_count": 130,
   "metadata": {
    "colab": {
     "base_uri": "https://localhost:8080/"
    },
    "id": "osreN0VAdhZw",
    "outputId": "d1e71764-ce41-442a-8200-4246deb917d5"
   },
   "outputs": [
    {
     "data": {
      "text/plain": [
       "tensor(3.8296e-08, device='cuda:0')"
      ]
     },
     "execution_count": 130,
     "metadata": {},
     "output_type": "execute_result"
    }
   ],
   "source": [
    "s = dx1n*dx2n*lim1[1]*lim2[1]\n",
    "s"
   ]
  },
  {
   "cell_type": "code",
   "execution_count": 131,
   "metadata": {
    "colab": {
     "base_uri": "https://localhost:8080/"
    },
    "id": "CsBCY3g4gspY",
    "outputId": "ccfd7583-c9f7-445b-d688-faac35b4d956"
   },
   "outputs": [
    {
     "name": "stdout",
     "output_type": "stream",
     "text": [
      "#iter 0 loss 42512980.0\n",
      "#iter 1 loss 1831927.0\n",
      "#iter 2 loss 373899168.0\n",
      "#iter 3 loss 373899168.0\n",
      "#iter 4 loss 373899168.0\n",
      "#iter 5 loss 373899168.0\n",
      "#iter 6 loss 373899168.0\n",
      "#iter 7 loss 373899168.0\n",
      "#iter 8 loss 373899168.0\n",
      "#iter 9 loss 373899168.0\n",
      "#iter 10 loss 373899168.0\n",
      "#iter 11 loss 373899168.0\n",
      "#iter 12 loss 373899168.0\n",
      "#iter 13 loss 373899168.0\n",
      "#iter 14 loss 373899168.0\n",
      "#iter 15 loss 373899168.0\n",
      "#iter 16 loss 0.0\n"
     ]
    }
   ],
   "source": [
    "history = []\n",
    "\n",
    "# Перемещение на GPU\n",
    "if torch.cuda.is_available():\n",
    "    x = x.to('cuda')\n",
    "    model = model.to('cuda')\n",
    "    wallsMask = wallsMask.to('cuda')\n",
    "    inverseUpperWallMask = inverseUpperWallMask.to('cuda')\n",
    "    dx1n = dx1n.to('cuda')\n",
    "    dx2n = dx2n.to('cuda')\n",
    "    s = s.to('cuda')\n",
    "    EtaEta = EtaEta.to('cuda')\n",
    "\n",
    "for epoch in range(noOfEpoch):\n",
    "\n",
    "    psi = model(x)\n",
    "    psiMasked = (psi[0,0,:,:]*wallsMask) + (inverseUpperWallMask*Q)\n",
    "#     print(psi[0,0,:,:].shape)\n",
    "    v1,v2 = velocityDistr(psiMasked,dx1n,dx2n,lim1,lim2)\n",
    "\n",
    "    #v1Masked = (v1*velocityMask) + v1Mask\n",
    "    #v2Masked = (v2*velocityMask)\n",
    "    #v2Masked = torch.zeros(imgSize,imgSize)\n",
    "\n",
    "    xi11,xi12,xi22,EtaEta = TksiDistr(v1,v2,dx1n,dx2n,lim1,lim2)\n",
    "    #xi11,xi12,xi22,EtaEta = TksiDistr(v1Masked,v2Masked,dx1n,dx2n,lim1,lim2)\n",
    "    \n",
    "    #int1EtaEta = torch.trapezoid(EtaEta)\n",
    "    #int2EtaEta = torch.trapezoid(int1EtaEta)\n",
    "    #out = 0.5*mu*s*int2EtaEta #doublelIntegral(0.5*mu*EtaEta,lim1,lim2) #loss\n",
    "    out = 0.5*mu*s*EtaEta.sum()\n",
    "    history.append(out.item())\n",
    "    out.backward()\n",
    "    optimizer.step()\n",
    "    lr_scheduler.step()\n",
    "    print('#iter',epoch,'loss', history[-1])\n",
    "    if out < 1e-6:\n",
    "        break"
   ]
  },
  {
   "cell_type": "code",
   "execution_count": 112,
   "metadata": {},
   "outputs": [
    {
     "data": {
      "text/plain": [
       "tensor(0., device='cuda:0', grad_fn=<MulBackward0>)"
      ]
     },
     "execution_count": 112,
     "metadata": {},
     "output_type": "execute_result"
    }
   ],
   "source": [
    "out"
   ]
  },
  {
   "cell_type": "code",
   "execution_count": 132,
   "metadata": {
    "colab": {
     "base_uri": "https://localhost:8080/",
     "height": 294
    },
    "id": "jHYMzoLTbFyR",
    "outputId": "72a4f05f-d5fb-4a3f-c1e5-51a5b46dacc9"
   },
   "outputs": [
    {
     "data": {
      "text/plain": [
       "[<matplotlib.lines.Line2D at 0x2927bb567c0>]"
      ]
     },
     "execution_count": 132,
     "metadata": {},
     "output_type": "execute_result"
    },
    {
     "data": {
      "image/png": "[encoded data removed]",
      "text/plain": [
       "<Figure size 432x288 with 1 Axes>"
      ]
     },
     "metadata": {
      "needs_background": "light"
     },
     "output_type": "display_data"
    }
   ],
   "source": [
    "plt.plot(history)"
   ]
  },
  {
   "cell_type": "markdown",
   "metadata": {
    "id": "twoS2qPPcSPN"
   },
   "source": [
    "Visualisation"
   ]
  },
  {
   "cell_type": "code",
   "execution_count": 133,
   "metadata": {
    "colab": {
     "base_uri": "https://localhost:8080/"
    },
    "id": "cmYDRsmlc0-b",
    "outputId": "88744f6e-9acc-4fd3-c3aa-3a80f31f2068"
   },
   "outputs": [
    {
     "data": {
      "text/plain": [
       "torch.Size([512, 512])"
      ]
     },
     "execution_count": 133,
     "metadata": {},
     "output_type": "execute_result"
    }
   ],
   "source": [
    "psi[0,0,:,:].shape"
   ]
  },
  {
   "cell_type": "code",
   "execution_count": 134,
   "metadata": {
    "colab": {
     "base_uri": "https://localhost:8080/",
     "height": 299
    },
    "id": "Tx_qNIxjcZoa",
    "outputId": "f932fd0f-6a7a-4e72-b8ff-1f1b9802466b"
   },
   "outputs": [
    {
     "name": "stderr",
     "output_type": "stream",
     "text": [
      "C:\\Users\\IMS\\AppData\\Local\\Temp/ipykernel_44572/2335847364.py:1: UserWarning: To copy construct from a tensor, it is recommended to use sourceTensor.clone().detach() or sourceTensor.clone().detach().requires_grad_(True), rather than torch.tensor(sourceTensor).\n",
      "  psicheck = torch.tensor(psi[0,0,:,:],requires_grad=False)\n"
     ]
    },
    {
     "data": {
      "text/plain": [
       "Text(0.5, 1.0, 'psi function with mask')"
      ]
     },
     "execution_count": 134,
     "metadata": {},
     "output_type": "execute_result"
    },
    {
     "data": {
      "image/png": "[encoded data removed]",
      "text/plain": [
       "<Figure size 216x216 with 1 Axes>"
      ]
     },
     "metadata": {
      "needs_background": "light"
     },
     "output_type": "display_data"
    }
   ],
   "source": [
    "psicheck = torch.tensor(psi[0,0,:,:],requires_grad=False)\n",
    "psiMasked = (psicheck*wallsMask) + (inverseUpperWallMask*Q)\n",
    "fig = plt.figure(figsize=(figSize, figSize))\n",
    "plt.imshow(psiMasked.to('cpu'))\n",
    "plt.title('psi function with mask')"
   ]
  },
  {
   "cell_type": "code",
   "execution_count": 118,
   "metadata": {
    "colab": {
     "base_uri": "https://localhost:8080/",
     "height": 298
    },
    "id": "r-cNSoA-vtz4",
    "outputId": "f065bb8d-f8dc-4854-d6fc-50f6d7ff197b"
   },
   "outputs": [
    {
     "data": {
      "text/plain": [
       "Text(0.5, 1.0, 'psi function slice')"
      ]
     },
     "execution_count": 118,
     "metadata": {},
     "output_type": "execute_result"
    },
    {
     "data": {
      "image/png": "[encoded data removed]",
      "text/plain": [
       "<Figure size 432x288 with 1 Axes>"
      ]
     },
     "metadata": {
      "needs_background": "light"
     },
     "output_type": "display_data"
    }
   ],
   "source": [
    "plt.plot(psiMasked[:,250].to('cpu'))\n",
    "plt.title('psi function slice')"
   ]
  },
  {
   "cell_type": "code",
   "execution_count": 120,
   "metadata": {
    "colab": {
     "base_uri": "https://localhost:8080/",
     "height": 234
    },
    "id": "IcEzHkrgcVWx",
    "outputId": "3679348b-c16e-4754-99ef-3040a3a32b9b"
   },
   "outputs": [
    {
     "data": {
      "text/plain": [
       "Text(0.5, 1.0, 'v2')"
      ]
     },
     "execution_count": 120,
     "metadata": {},
     "output_type": "execute_result"
    },
    {
     "data": {
      "image/png": "[encoded data removed]",
      "text/plain": [
       "<Figure size 432x216 with 2 Axes>"
      ]
     },
     "metadata": {
      "needs_background": "light"
     },
     "output_type": "display_data"
    }
   ],
   "source": [
    "v1, v2 = velocityDistr(psiMasked,dx1n,dx2n,lim1,lim2)\n",
    "fig = plt.figure(figsize=(figSize*2, figSize))\n",
    "plt.subplot(1,2,1)\n",
    "plt.imshow(v1.to('cpu'))\n",
    "plt.title('v1')\n",
    "plt.subplot(1,2,2)\n",
    "plt.imshow(v2.to('cpu'))\n",
    "plt.title('v2')"
   ]
  },
  {
   "cell_type": "code",
   "execution_count": 121,
   "metadata": {
    "colab": {
     "base_uri": "https://localhost:8080/",
     "height": 282
    },
    "id": "tM5Nv56YeC9r",
    "outputId": "1f0a0c8c-e425-4d4c-d3ae-0b4f96ef74e7"
   },
   "outputs": [
    {
     "data": {
      "text/plain": [
       "[<matplotlib.lines.Line2D at 0x29226fff970>]"
      ]
     },
     "execution_count": 121,
     "metadata": {},
     "output_type": "execute_result"
    },
    {
     "data": {
      "image/png": "[encoded data removed]",
      "text/plain": [
       "<Figure size 432x288 with 1 Axes>"
      ]
     },
     "metadata": {
      "needs_background": "light"
     },
     "output_type": "display_data"
    }
   ],
   "source": [
    "plt.plot(v1[:,250].to('cpu'))"
   ]
  },
  {
   "cell_type": "code",
   "execution_count": 122,
   "metadata": {
    "colab": {
     "base_uri": "https://localhost:8080/",
     "height": 294
    },
    "id": "Pv28vfRLogb_",
    "outputId": "f02fc1ee-bbb6-459f-f554-df729aa08cf0"
   },
   "outputs": [
    {
     "ename": "AttributeError",
     "evalue": "module 'torch' has no attribute 'trapezoid'",
     "output_type": "error",
     "traceback": [
      "\u001b[1;31m---------------------------------------------------------------------------\u001b[0m",
      "\u001b[1;31mAttributeError\u001b[0m                            Traceback (most recent call last)",
      "\u001b[1;32m~\\AppData\\Local\\Temp/ipykernel_44572/2214590062.py\u001b[0m in \u001b[0;36m<module>\u001b[1;34m\u001b[0m\n\u001b[1;32m----> 1\u001b[1;33m \u001b[0mQcalc\u001b[0m \u001b[1;33m=\u001b[0m \u001b[0mtorch\u001b[0m\u001b[1;33m.\u001b[0m\u001b[0mtrapezoid\u001b[0m\u001b[1;33m(\u001b[0m\u001b[0mv1\u001b[0m\u001b[1;33m.\u001b[0m\u001b[0mt\u001b[0m\u001b[1;33m(\u001b[0m\u001b[1;33m)\u001b[0m\u001b[1;33m)\u001b[0m\u001b[1;33m*\u001b[0m\u001b[0mdx2n\u001b[0m\u001b[1;33m*\u001b[0m\u001b[0mL\u001b[0m\u001b[1;33m\u001b[0m\u001b[1;33m\u001b[0m\u001b[0m\n\u001b[0m\u001b[0;32m      2\u001b[0m \u001b[0mplt\u001b[0m\u001b[1;33m.\u001b[0m\u001b[0mplot\u001b[0m\u001b[1;33m(\u001b[0m\u001b[0mQcalc\u001b[0m\u001b[1;33m)\u001b[0m\u001b[1;33m\u001b[0m\u001b[1;33m\u001b[0m\u001b[0m\n",
      "\u001b[1;31mAttributeError\u001b[0m: module 'torch' has no attribute 'trapezoid'"
     ]
    }
   ],
   "source": [
    "Qcalc = torch.trapezoid(v1.t())*dx2n*L\n",
    "plt.plot(Qcalc)"
   ]
  },
  {
   "cell_type": "code",
   "execution_count": null,
   "metadata": {
    "colab": {
     "base_uri": "https://localhost:8080/",
     "height": 182
    },
    "id": "r3w7q2Y1pIfD",
    "outputId": "b26b5134-c04b-42a6-de69-787c7b966627"
   },
   "outputs": [],
   "source": [
    "Qcalc.mean()\n",
    "h"
   ]
  },
  {
   "cell_type": "markdown",
   "metadata": {
    "id": "rpGo7xQz6cny"
   },
   "source": [
    "#Links\n",
    "\n",
    "[1]. https://github.com/Mechanics-Mechatronics-and-Robotics/Mathematical_modelling/blob/main/Practice_1_by_IStebakov.ipynb\n",
    "\n",
    "[2]. https://github.com/mateuszbuda/brain-segmentation-pytorch"
   ]
  }
 ],
 "metadata": {
  "accelerator": "GPU",
  "colab": {
   "collapsed_sections": [],
   "name": "Main.ipynb",
   "provenance": []
  },
  "kernelspec": {
   "display_name": "Python 3 (ipykernel)",
   "language": "python",
   "name": "python3"
  },
  "language_info": {
   "codemirror_mode": {
    "name": "ipython",
    "version": 3
   },
   "file_extension": ".py",
   "mimetype": "text/x-python",
   "name": "python",
   "nbconvert_exporter": "python",
   "pygments_lexer": "ipython3",
   "version": "3.9.7"
  },
  "varInspector": {
   "cols": {
    "lenName": 16,
    "lenType": 16,
    "lenVar": 40
   },
   "kernels_config": {
    "python": {
     "delete_cmd_postfix": "",
     "delete_cmd_prefix": "del ",
     "library": "var_list.py",
     "varRefreshCmd": "print(var_dic_list())"
    },
    "r": {
     "delete_cmd_postfix": ") ",
     "delete_cmd_prefix": "rm(",
     "library": "var_list.r",
     "varRefreshCmd": "cat(var_dic_list()) "
    }
   },
   "types_to_exclude": [
    "module",
    "function",
    "builtin_function_or_method",
    "instance",
    "_Feature"
   ],
   "window_display": false
  }
 },
 "nbformat": 4,
 "nbformat_minor": 1
}
