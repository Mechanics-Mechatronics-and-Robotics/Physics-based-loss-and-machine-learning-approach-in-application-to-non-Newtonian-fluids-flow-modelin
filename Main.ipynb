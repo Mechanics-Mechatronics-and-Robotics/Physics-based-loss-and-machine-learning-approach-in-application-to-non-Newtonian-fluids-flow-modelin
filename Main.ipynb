{
  "nbformat": 4,
  "nbformat_minor": 0,
  "metadata": {
    "colab": {
      "name": "Main.ipynb",
      "provenance": [],
      "collapsed_sections": [],
      "authorship_tag": "ABX9TyPY3b3EtfTsgigXjiOiB0ui",
      "include_colab_link": true
    },
    "kernelspec": {
      "name": "python3",
      "display_name": "Python 3"
    },
    "language_info": {
      "name": "python"
    }
  },
  "cells": [
    {
      "cell_type": "markdown",
      "metadata": {
        "id": "view-in-github",
        "colab_type": "text"
      },
      "source": [
        "<a href=\"https://colab.research.google.com/github/Mechanics-Mechatronics-and-Robotics/Physics-based-loss-and-machine-learning-approach-in-application-to-non-Newtonian-fluids-flow-modelin/blob/main/Main.ipynb\" target=\"_parent\"><img src=\"https://colab.research.google.com/assets/colab-badge.svg\" alt=\"Open In Colab\"/></a>"
      ]
    },
    {
      "cell_type": "markdown",
      "source": [
        "#**Physics-based loss and machine learing approach in application to fluids flow modelling: 2D flow domains**\n",
        "\n",
        "The program recieves an image of the flow domain and the flow rate value, then calculate velocity distribution. The main idea is power loss minimization. The main unknown function is the stream function ψ = ψ(x1, x2) that determines the velocity field [[v1, v2]], v1 = ∂ψ/∂x2, v2 = - ∂ψ/∂x1.\n",
        "\n"
      ],
      "metadata": {
        "id": "RJkKJ83igGYb"
      }
    },
    {
      "cell_type": "markdown",
      "source": [
        "# Install libraries"
      ],
      "metadata": {
        "id": "s3KFs0M9r7EQ"
      }
    },
    {
      "cell_type": "code",
      "execution_count": 172,
      "metadata": {
        "id": "jPSaJ-z614Tm"
      },
      "outputs": [],
      "source": [
        "!pip install -Uqq fastbook\n",
        "import fastbook\n",
        "fastbook.setup_book()"
      ]
    },
    {
      "cell_type": "markdown",
      "source": [
        "# Import libraries"
      ],
      "metadata": {
        "id": "ydwhZV95sFoN"
      }
    },
    {
      "cell_type": "code",
      "source": [
        "from fastai.vision.all import *\n",
        "import cv2\n",
        "from google.colab.patches import cv2_imshow\n"
      ],
      "metadata": {
        "id": "Go3JwW4hICsK"
      },
      "execution_count": 173,
      "outputs": []
    },
    {
      "cell_type": "markdown",
      "source": [
        "# Additional functions"
      ],
      "metadata": {
        "id": "Hw2AD3oWsfJb"
      }
    },
    {
      "cell_type": "markdown",
      "source": [
        "Numerical derivative"
      ],
      "metadata": {
        "id": "2JAf1YAHtV15"
      }
    },
    {
      "cell_type": "code",
      "source": [
        "def mydiff(j,y,dx):\n",
        "  '''The function calculates the first order derivative in a specific direction \n",
        "     'dx' at a specific point 'j' for a given array 'y' \n",
        "     using parabolic approximation\n",
        "  '''\n",
        "  n = len(y)\n",
        "  if j==0:\n",
        "    dydx=(-y[3]+4*y[2]-3*y[1])/(2*dx)\n",
        "  elif j==n:\n",
        "    dydx=(3*y[j]-4*y[j-1]+y[j-2])/(2*dx)\n",
        "  else:\n",
        "    dydx=(y[j+1]-y[j-1])/(2*dx);\n",
        "  return (dydx)"
      ],
      "metadata": {
        "id": "MSTF3qPgtbn8"
      },
      "execution_count": 174,
      "outputs": []
    },
    {
      "cell_type": "markdown",
      "source": [
        "Numerical integrals: single and double"
      ],
      "metadata": {
        "id": "1i1RAg4ozeGq"
      }
    },
    {
      "cell_type": "code",
      "source": [
        "def singleIntegral(f,xn,lowerLim,upperLim):\n",
        "  '''The function calculates the single integral using Simpson's formula. \n",
        "     The formula limits are uniform and set from 0 to 1. So, the obtained\n",
        "     result is multiplied by the difference between the upper and lower limits.\n",
        "  '''  \n",
        "  sglInt = 0\n",
        "  n = len(f)\n",
        "  #x = torch.linspace(0,1,n,dtype=torch.float64)\n",
        "  dxn = xn[1]-xn[0]\n",
        "\n",
        "  for i in range (1, (n-1), 2):\n",
        "    sglInt += (f[i-1] + 4*f[i]+f[i+1])*dxn/3\n",
        "  if (n % 2) == 0:\n",
        "    sglInt += (f[-1]+f[-2])*dxn/2\n",
        "\n",
        "  sglInt = sglInt*(upperLim-lowerLim)\n",
        "\n",
        "  return (sglInt)"
      ],
      "metadata": {
        "id": "MbSgsSbO0srV"
      },
      "execution_count": 175,
      "outputs": []
    },
    {
      "cell_type": "code",
      "source": [
        "def doublelIntegral(f,x1n,x2n,lim1,lim2):\n",
        "  '''The function calculates the double integral using Simpson's formula twice. \n",
        "     The formula limits are uniform and set from 0 to 1. So, the obtained\n",
        "     result is multiplied by the differences between the upper and lower limits.\n",
        "  '''\n",
        "  dblInt = 0\n",
        "  n = f.shape\n",
        "  #x1 = torch.linspace(0,1,n[0],dtype=torch.float64)\n",
        "  #x2 = torch.linspace(0,1,n[1],dtype=torch.float64)\n",
        "  dx1n = x1n[1]-x1n[0]\n",
        "  dx2n = x2n[1]-x2n[0]\n",
        "\n",
        "  for i in range (1, (n[0]-1), 2):\n",
        "    for j in range (1, (n[1]-1), 2):\n",
        "      dblInt += (f[i-1][j-1] + f[i+1][j-1] + f[i-1][j+1] + f[i+1][j+1] + \n",
        "                   4*(f[i][j+1] + f[i][j-1] + f[i-1][j] + f[i+1][j]) + \n",
        "                   16*f[i][j])*dx1n*dx2n/9\n",
        "          \n",
        "  dblInt = dblInt*(lim1[1]-lim1[0])*(lim2[1]-lim2[0])\n",
        "\n",
        "  return (dblInt)"
      ],
      "metadata": {
        "id": "fxibGVL-zkCW"
      },
      "execution_count": 176,
      "outputs": []
    },
    {
      "cell_type": "markdown",
      "source": [
        "Check double integral "
      ],
      "metadata": {
        "id": "qyl0qTFMj-lf"
      }
    },
    {
      "cell_type": "code",
      "source": [
        "ss = 101\n",
        "x = torch.linspace(0,1,ss, dtype=torch.float64, requires_grad=False)\n",
        "y = torch.linspace(0,1,ss, dtype=torch.float64, requires_grad=False)\n",
        "y = y.reshape(1,-1).t()\n",
        "z = (x*x) * (y*y)\n",
        "print(doublelIntegral(z,x,y,[0,1],[0,1]),'- calculated', 1/9, '- exact')"
      ],
      "metadata": {
        "colab": {
          "base_uri": "https://localhost:8080/"
        },
        "id": "byisjmu7c8C6",
        "outputId": "1b8ca937-f2fd-4df4-8dd9-40cf9765c77d"
      },
      "execution_count": 177,
      "outputs": [
        {
          "output_type": "stream",
          "name": "stdout",
          "text": [
            "tensor([0.1111], dtype=torch.float64) - calculated 0.1111111111111111 - exact\n"
          ]
        }
      ]
    },
    {
      "cell_type": "markdown",
      "source": [
        "#Major functions\n",
        "\n",
        "Distributions: the velocity components [[$v_1$, $v_2$]], the strain rate tensor components [[$\\xi_{ij}$]], $\\xi_{ij}=\\xi_{ji}$ . And the shear rate intensity Η "
      ],
      "metadata": {
        "id": "mH8zURs8A1Sr"
      }
    },
    {
      "cell_type": "code",
      "source": [
        "def velocityDistr(psi,x1n,x2n,lim1,lim2):\n",
        "\n",
        "  n = psi.shape\n",
        "  v1 = torch.zeros(n)\n",
        "  v2 = torch.zeros(n)\n",
        "\n",
        "  #x1 = torch.linspace(0,1,n[0])\n",
        "  #x2 = torch.linspace(0,1,n[1])\n",
        "  dx1n = x1n[1]-x1n[0]\n",
        "  dx2n = x2n[1]-x2n[0]\n",
        "\n",
        "  for i in range (len(n[0])):\n",
        "    for j in range (len(n[1])):\n",
        "      v1[i][j] = - mydiff(i,psi[:,j],dx2n)/lim2[1]\n",
        "      v2[i][j] = - mydiff(j,psi[i,:],dx1n)/lim1[1]\n",
        "\n",
        "  return (v1,v2)"
      ],
      "metadata": {
        "id": "WMUIipgs5t3Q"
      },
      "execution_count": 178,
      "outputs": []
    },
    {
      "cell_type": "code",
      "source": [
        "def TksiDistr(v1,v2,x1n,x2n,lim1,lim2):\n",
        "\n",
        "  n = v1.shape\n",
        "  ksi11 = torch.zeros(n)\n",
        "  ksi12 = torch.zeros(n)\n",
        "  ksi22 = torch.zeros(n)\n",
        "\n",
        "  #x1 = torch.linspace(0,1,n[0])\n",
        "  #x2 = torch.linspace(0,1,n[1])\n",
        "  dx1n = x1n[1]-x1n[0]\n",
        "  dx2n = x2n[1]-x2n[0]\n",
        "\n",
        "  for i in range (len(n[0])):\n",
        "    for j in range (len(n[1])):\n",
        "      x11[i][j] = mydiff(i,v1[i,:],dx1n)/lim1[1] \n",
        "      x12[i][j] = 0.5*((mydiff(j,v1[:,j],dx2n)/lim2[1])+\n",
        "                         (mydiff(i,v2[i,:],dx1n)/lim1[1]))\n",
        "      xi22[i][j] = mydiff(j,v2[:,j],dx2n)/lim2[1]\n",
        "\n",
        "  return (xi11,xi12,xi22)"
      ],
      "metadata": {
        "id": "716qlRJoNglx"
      },
      "execution_count": 190,
      "outputs": []
    },
    {
      "cell_type": "markdown",
      "source": [
        "# Initialization\n",
        "\n",
        "**Geometry**. The domain of size *'L x L'*  with flow channel is represented as an image of size *'imgSize x imgSize'*."
      ],
      "metadata": {
        "id": "nzMpruhsYD38"
      }
    },
    {
      "cell_type": "code",
      "source": [
        "L=0.1 # L x L flow domain\n",
        "imgSize = 224 # imgSize x imgSize pixels image\n",
        "#Normalized coordinates\n",
        "x1n = torch.linspace(0,1,imgSize, dtype=torch.float64, requires_grad=False)\n",
        "x2n = torch.linspace(0,1,imgSize, dtype=torch.float64, requires_grad=False)\n",
        "lim1 = [0, L]\n",
        "lim1 = [0, L]\n",
        "#scaleFactor = 1e+4 # 1e+4 pixels per 1m when resolution is 128x128 "
      ],
      "metadata": {
        "id": "y8Q_jxpUYIEm"
      },
      "execution_count": 179,
      "outputs": []
    },
    {
      "cell_type": "markdown",
      "source": [
        "Boundary conditions. S1 is the upper wall with black label [0 0 0]. S2 and S4 are outlet and inlet surfaces, respectivelly. S3 is the lower wall with blue label [0 0 255]. "
      ],
      "metadata": {
        "id": "Ey06hzmHfWyu"
      }
    },
    {
      "cell_type": "markdown",
      "source": [
        "**Kinematic properties**. The velocity is equal to zero on all surfaces"
      ],
      "metadata": {
        "id": "XaVb_Ejsmynq"
      }
    },
    {
      "cell_type": "code",
      "source": [
        "Q = 1 #flow rate through the inlet (outlet) boundary, m^3/s"
      ],
      "metadata": {
        "id": "Gb4BFZNWnBsh"
      },
      "execution_count": 180,
      "outputs": []
    },
    {
      "cell_type": "markdown",
      "source": [
        "**Dynamic properties**. The fluid is Newtonian"
      ],
      "metadata": {
        "id": "hvAQmdvsnZQ5"
      }
    },
    {
      "cell_type": "code",
      "source": [
        "mu = 1e-3 # koefficient of dynamic viscosity (viscosity), Pa*s"
      ],
      "metadata": {
        "id": "t4YCVOBPneFt"
      },
      "execution_count": 181,
      "outputs": []
    },
    {
      "cell_type": "code",
      "source": [
        "x1[10]"
      ],
      "metadata": {
        "colab": {
          "base_uri": "https://localhost:8080/"
        },
        "id": "qvqyYlZ_mNex",
        "outputId": "9d522fcb-a7ae-48d0-e74b-1f1fa2005c0c"
      },
      "execution_count": 182,
      "outputs": [
        {
          "output_type": "execute_result",
          "data": {
            "text/plain": [
              "tensor(0.0045, dtype=torch.float64)"
            ]
          },
          "metadata": {},
          "execution_count": 182
        }
      ]
    },
    {
      "cell_type": "code",
      "source": [
        "\n",
        "psi = x1*Q # psi initialization\n",
        "#psi.backward(x1[10])"
      ],
      "metadata": {
        "id": "WYDPVdYTgkB3"
      },
      "execution_count": 183,
      "outputs": []
    },
    {
      "cell_type": "markdown",
      "source": [
        "Resize image"
      ],
      "metadata": {
        "id": "iQXog3TQaU7O"
      }
    },
    {
      "cell_type": "markdown",
      "source": [
        "Path"
      ],
      "metadata": {
        "id": "3NCXTaNK4V4S"
      }
    },
    {
      "cell_type": "code",
      "source": [
        " path =  Path('/content/gdrive/MyDrive/study/Publications/2022/IEEE-CEC-2022/physical-loss')\n",
        " imgPath = path/'ToyDataset'\n",
        " imgList = imgPath.ls()\n",
        " imgPath.ls()"
      ],
      "metadata": {
        "colab": {
          "base_uri": "https://localhost:8080/"
        },
        "id": "tDbZIropJMjw",
        "outputId": "156c39a5-e497-4573-f2b8-90ef02aadd38"
      },
      "execution_count": 184,
      "outputs": [
        {
          "output_type": "execute_result",
          "data": {
            "text/plain": [
              "(#3) [Path('/content/gdrive/MyDrive/study/Publications/2022/IEEE-CEC-2022/physical-loss/ToyDataset/Parallel plates and ball.png'),Path('/content/gdrive/MyDrive/study/Publications/2022/IEEE-CEC-2022/physical-loss/ToyDataset/Parallel plates with notch.png'),Path('/content/gdrive/MyDrive/study/Publications/2022/IEEE-CEC-2022/physical-loss/ToyDataset/Parallel plates.png')]"
            ]
          },
          "metadata": {},
          "execution_count": 184
        }
      ]
    },
    {
      "cell_type": "code",
      "source": [
        "imgTest = Image.open(imgList[2]) \n",
        "imgTest\n"
      ],
      "metadata": {
        "colab": {
          "base_uri": "https://localhost:8080/",
          "height": 143
        },
        "id": "LAlSQgN7oVTk",
        "outputId": "8a766b55-1213-4e1c-e1a9-d4f10c82c18f"
      },
      "execution_count": 185,
      "outputs": [
        {
          "output_type": "execute_result",
          "data": {
            "image/png": "[encoded data removed]",
            "text/plain": [
              "<PIL.PngImagePlugin.PngImageFile image mode=RGBA size=126x126 at 0x7FC5C8B73F50>"
            ]
          },
          "metadata": {},
          "execution_count": 185
        }
      ]
    },
    {
      "cell_type": "code",
      "source": [
        ""
      ],
      "metadata": {
        "id": "4SwX7A_8VL2E"
      },
      "execution_count": 185,
      "outputs": []
    },
    {
      "cell_type": "code",
      "source": [
        "jj = tensor(imgTest)[:,:,0]\n",
        "jj[1][2]"
      ],
      "metadata": {
        "colab": {
          "base_uri": "https://localhost:8080/"
        },
        "id": "j2-5-AaHpMmQ",
        "outputId": "5526247e-873a-4458-acd1-f0c6eafeda82"
      },
      "execution_count": 186,
      "outputs": [
        {
          "output_type": "execute_result",
          "data": {
            "text/plain": [
              "tensor(0, dtype=torch.uint8)"
            ]
          },
          "metadata": {},
          "execution_count": 186
        }
      ]
    },
    {
      "cell_type": "code",
      "source": [
        "jj.shape"
      ],
      "metadata": {
        "colab": {
          "base_uri": "https://localhost:8080/"
        },
        "id": "-qcFXqGuVPhs",
        "outputId": "5690f687-3474-44ab-a89e-129706f341bc"
      },
      "execution_count": 187,
      "outputs": [
        {
          "output_type": "execute_result",
          "data": {
            "text/plain": [
              "torch.Size([126, 126])"
            ]
          },
          "metadata": {},
          "execution_count": 187
        }
      ]
    },
    {
      "cell_type": "code",
      "source": [
        "  k=0\n",
        "  for i in range (1, 10, 2):\n",
        "    k += i + \\\n",
        "    i\n",
        "    print (i, k)\n"
      ],
      "metadata": {
        "colab": {
          "base_uri": "https://localhost:8080/"
        },
        "id": "0KiNR77t30iN",
        "outputId": "45c7a663-af9a-4b57-9498-20ab02817d27"
      },
      "execution_count": 188,
      "outputs": [
        {
          "output_type": "stream",
          "name": "stdout",
          "text": [
            "1 2\n",
            "3 8\n",
            "5 18\n",
            "7 32\n",
            "9 50\n"
          ]
        }
      ]
    },
    {
      "cell_type": "markdown",
      "source": [
        "#Links\n",
        "\n",
        "https://github.com/Mechanics-Mechatronics-and-Robotics/Mathematical_modelling/blob/main/Practice_1_by_IStebakov.ipynb"
      ],
      "metadata": {
        "id": "rpGo7xQz6cny"
      }
    }
  ]
}