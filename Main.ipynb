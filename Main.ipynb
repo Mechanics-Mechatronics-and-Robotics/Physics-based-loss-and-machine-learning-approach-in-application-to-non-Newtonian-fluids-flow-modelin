{
 "cells": [
  {
   "cell_type": "markdown",
   "metadata": {
    "id": "RJkKJ83igGYb"
   },
   "source": [
    "# **Physics-based loss and machine learing approach in application to fluids flow modelling: 2D flow domains**\n",
    "\n",
    "The program recieves an image of the flow domain and the flow rate value, then calculate velocity distribution. The main idea is power loss minimization. The main unknown function is the stream function $\\psi = \\psi(x_1, x_2)$ that determines the velocity field $\\textbf{V} = [[v_1, v_2]]$, where $v_1 = \\frac{\\partial \\psi}{\\partial x_2}$, $v_2 = - \\frac{\\partial \\psi}{\\partial x_1}$.\n",
    "\n"
   ]
  },
  {
   "cell_type": "markdown",
   "metadata": {
    "id": "ydwhZV95sFoN"
   },
   "source": [
    "# Import libraries"
   ]
  },
  {
   "cell_type": "code",
   "execution_count": 1,
   "metadata": {
    "id": "Go3JwW4hICsK"
   },
   "outputs": [],
   "source": [
    "# Pytorch modules\n",
    "import torch\n",
    "from torch import nn\n",
    "\n",
    "# Paths\n",
    "from pathlib import Path\n",
    "\n",
    "# Plotting\n",
    "from matplotlib import pyplot as plt\n",
    "\n",
    "# Python functions\n",
    "from collections import namedtuple\n",
    "from itertools import product\n",
    "from collections import OrderedDict\n",
    "\n",
    "# Status bar\n",
    "from tqdm.notebook import tqdm\n",
    "\n",
    "# Work with files\n",
    "import json\n",
    "import os"
   ]
  },
  {
   "cell_type": "markdown",
   "metadata": {
    "id": "nzMpruhsYD38"
   },
   "source": [
    "# Constants"
   ]
  },
  {
   "cell_type": "code",
   "execution_count": 80,
   "metadata": {
    "id": "YsKHT1J2Ibx9"
   },
   "outputs": [],
   "source": [
    "EPOCHS = 10000\n",
    "SIZE = 224 # image size\n",
    "FIGSIZE = 5 # figure size\n",
    "S2 = int(SIZE*0.4)\n",
    "S3 = SIZE - S2\n",
    "UP_COLOR =  torch.tensor((0, 0, 0)) # upper wall \n",
    "LOW_COLOR =  torch.tensor((0, 0, 1)) # upper wall\n",
    "CENTER_COLOR = torch.tensor((1, 1, 1)) # flow domain\n",
    "WORK_DIR = '/root/Physics_based_loss'\n",
    "DEVICE = torch.device(\"cuda\" if torch.cuda.is_available() else \"cpu\")\n",
    "MODEL_NAME = \"unet\"\n",
    "EARLY_STOP_PATIENCE = 10\n",
    "DECAY = 0\n",
    "\n",
    "HYPS = []\n",
    "\n",
    "hyps = {\"learning_rate\": [1e-3],\n",
    "        \"scheduler\": [\"None\", \"step\", \"cycle\"],\n",
    "        \"scheduler_factor\": [0.1],\n",
    "        \"scheduler_patience\": [5],\n",
    "        \"use_bn\": [True, False]} # Use or not batchnorm\n",
    "    \n",
    "for i in product(*[hyps[j] for j in hyps]):\n",
    "    HYPS.append({a:b for a, b in zip(hyps, i)})"
   ]
  },
  {
   "cell_type": "markdown",
   "metadata": {
    "id": "ORhTWZZvVw7c"
   },
   "source": [
    "# Geometry of the flow domain and the dynamic properties of fluid\n",
    "The fluid is Newtonian.\n",
    "The domain of size *'L x L'*  with flow channel is represented as an image of size *'imgSize x imgSize'*. S1 is the upper wall with black label [0 0 0]. S2 and S4 are outlet and inlet surfaces, respectivelly. S3 is the lower wall with blue label [0 0 255]. "
   ]
  },
  {
   "cell_type": "code",
   "execution_count": 3,
   "metadata": {},
   "outputs": [],
   "source": [
    "# L x L flow domain\n",
    "L = 0.1 \n",
    "\n",
    "# Normalized coordinates\n",
    "X1N = torch.linspace(0, 1, SIZE)\n",
    "X2N = torch.linspace(0, 1, SIZE)\n",
    "DX1N = X1N[1] - X1N[0]\n",
    "DX2N = X2N[1] - X2N[0]\n",
    "LIM1 = [0, L]\n",
    "LIM2 = [0, L]\n",
    "\n",
    "# Flow rate through the inlet (outlet) boundary, m^3/s\n",
    "Q = 1 \n",
    "\n",
    "# Koefficient of dynamic viscosity (viscosity), Pa*s\n",
    "MU = 1e-3 "
   ]
  },
  {
   "cell_type": "markdown",
   "metadata": {
    "id": "Hw2AD3oWsfJb"
   },
   "source": [
    "# Additional functions"
   ]
  },
  {
   "cell_type": "markdown",
   "metadata": {
    "id": "2JAf1YAHtV15"
   },
   "source": [
    "Numerical derivative"
   ]
  },
  {
   "cell_type": "code",
   "execution_count": 4,
   "metadata": {
    "id": "5P2RND6cYEOK"
   },
   "outputs": [],
   "source": [
    "def num_diff(f, dx1, dx2):\n",
    "    '''Numerical partial derivatives of a function of two variables f = f(x1, x2):\n",
    "    i - index along x1\n",
    "    j - index along x2\n",
    "    for the internal points - central differences e.q. df_dx = (f_{i+1}-f_{i-1})/(2*dx)\n",
    "    for the boundaries - left or right finite differences e.q. df_dx = (f_{i+1}-f_{i})/dx or df_dx = (f_{i}-f_{i-1})/dx\n",
    "    '''\n",
    "    n1, n2 = f.shape\n",
    "    df_dx1 = 0\n",
    "    df_dx2 = 0\n",
    "    df_dx1, df_dx2 = torch.zeros(n1, n2), torch.zeros(n1, n2)\n",
    "    if torch.cuda.is_available():\n",
    "        df_dx1 = df_dx1.to('cuda')\n",
    "        df_dx2 = df_dx2.to('cuda')\n",
    "    # x1 derivative:\n",
    "    df_dx1[:, 1:n2-1] = (f[:, 2:] - f[:, :-2]) / (2 * dx1)\n",
    "    df_dx1[:, 0] = (-f[:, 2] + 4 * f[:,1] - 3 * f[:,0]) / (2 * dx1)\n",
    "    df_dx1[:, n2-1] = (3 * f[:,n2-1] - 4 * f[:,n2-2] + f[:,n2-3]) / dx1\n",
    "    # x2 derivative:\n",
    "    df_dx2[1:n1-1, :] = (f[2:, :] - f[:-2,:]) / (2 * dx2)\n",
    "    df_dx2[0, :] = (- f[2,:] + 4 * f[1,:] - 3 * f[0, :]) / (2 * dx2)\n",
    "    df_dx2[n1-1, :] = (3 * f[n1 - 1, :] - 4 * f[n1 - 2, :] + f[n1 - 3, :]) / (2 * dx2)\n",
    "\n",
    "    return df_dx1, df_dx2"
   ]
  },
  {
   "cell_type": "markdown",
   "metadata": {
    "id": "1i1RAg4ozeGq"
   },
   "source": [
    "Numerical integrals: single and double can be implemented by torch.trapezoid function https://pytorch.org/docs/stable/generated/torch.trapezoid.html#torch.trapezoid\n"
   ]
  },
  {
   "cell_type": "markdown",
   "metadata": {
    "id": "mH8zURs8A1Sr"
   },
   "source": [
    "# Major functions\n",
    "\n",
    "Distributions: the velocity components [[$v_1$, $v_2$]], the strain rate tensor components [[$\\xi_{ij}$]], $\\xi_{ij}=\\xi_{ji}$ . And the shear rate intensity Η. "
   ]
  },
  {
   "cell_type": "code",
   "execution_count": 5,
   "metadata": {
    "id": "WMUIipgs5t3Q"
   },
   "outputs": [],
   "source": [
    "def velocityDistr(psi,dx1n,dx2n,lim1,lim2):\n",
    "    '''Velocity distribution [[v1, v2]] in the flow domain\n",
    "    '''\n",
    "    n = psi.shape\n",
    "    v1 = 0\n",
    "    v2 = 0\n",
    "    dpsidx1 = 0\n",
    "    dpsidx2 = 0\n",
    "    dpsidx1, dpsidx2 = num_diff(psi, dx1n, dx2n)\n",
    "    v1 = dpsidx2 / lim2[1]\n",
    "    v2 = - dpsidx1 / lim1[1]\n",
    "    \n",
    "    return v1,v2"
   ]
  },
  {
   "cell_type": "code",
   "execution_count": 6,
   "metadata": {
    "id": "716qlRJoNglx"
   },
   "outputs": [],
   "source": [
    "def TksiDistr(v1,v2,dx1n,dx2n,lim1,lim2):\n",
    "    '''Strain rate tensor Txi and the shear rate intensity Eta squared\n",
    "    '''    \n",
    "    n = v1.shape\n",
    "    xi11 = 0\n",
    "    xi12 = 0\n",
    "    xi22 = 0\n",
    "    dv1dx1 = 0\n",
    "    dv1dx2 =0\n",
    "    dv2dx1 = 0\n",
    "    dv2dx2 = 0\n",
    "  \n",
    "    dv1dx1, dv1dx2 = num_diff(v1, dx1n, dx2n)\n",
    "    dv2dx1, dv2dx2 = num_diff(v2, dx1n, dx2n)\n",
    "  \n",
    "    xi11 = dv1dx1 / lim1[1]\n",
    "    xi12 = 0.5 * (dv1dx2 / lim2[1] + dv2dx1 / lim1[1])\n",
    "    xi22 = dv2dx2 / lim2[1]\n",
    "    EtaEta = (2 * (xi11 * xi11 + 2* xi12 * xi12 + xi22 * xi22))\n",
    "  \n",
    "    return xi11, xi12, xi22, EtaEta"
   ]
  },
  {
   "cell_type": "markdown",
   "metadata": {},
   "source": [
    "# Callbacks"
   ]
  },
  {
   "cell_type": "code",
   "execution_count": 7,
   "metadata": {},
   "outputs": [],
   "source": [
    "class EarlyStop():\n",
    "    \"\"\"Callback for early stop train process.\n",
    "    \n",
    "    Args:\n",
    "        monitor (str): value for monitoring.\n",
    "        patience (int): Number of epochs with no improvement after which training will be stopped.\n",
    "        mode (str): One of {\"min\", \"max\"}. In min mode, training will stop when the quantity monitored has stopped decreasing.\n",
    "            In \"max\" mode it will stop when the quantity monitored has stopped increasing.\n",
    "    \n",
    "    Attributes:\n",
    "        history (dict): Dict of lists with train history. Key \"monitor\" contains list of monitoring values. \n",
    "        steps (int): Number of passed epoches. \n",
    "        best_step (int): Number of best epoch. \n",
    "        best_monitor (float): Best of monitoring value.\n",
    "        model (Model): Training model\n",
    "    \"\"\"\n",
    "    \n",
    "    def __init__(self, monitor, patience, mode):\n",
    "        self.monitor = monitor\n",
    "        self.patience = patience\n",
    "        self.mode = mode\n",
    "        self.history = None\n",
    "        self.steps = -1\n",
    "        self.best_step = -1\n",
    "        if self.mode == 'max':\n",
    "            self.best_monitor = 0\n",
    "        elif self.mode == 'min':\n",
    "            self.best_monitor = 1e99999\n",
    "            \n",
    "    def start(self, history, model):\n",
    "        \"\"\"Start and init callback.\n",
    "        \n",
    "        Args:\n",
    "            history (dict): Dict of lists with train history. Key \"monitor\" contains list of monitoring values. \n",
    "            model (Model): Training model.\n",
    "        \"\"\"\n",
    "        \n",
    "        self.history = history\n",
    "        self.model = model\n",
    "        \n",
    "    def step(self):\n",
    "        \"\"\"Make a step of callback.\n",
    "        \n",
    "        Returns:\n",
    "            tuple: (event, stop):\n",
    "                event (str): Decription of event. If event not did not happen then event = ''.\n",
    "                stop (bool): Flag of stopping train process.\n",
    "        \"\"\"\n",
    "        \n",
    "        self.steps += 1\n",
    "        \n",
    "        if self.mode == 'max':\n",
    "            if self.history[self.monitor][-1] > self.best_monitor:\n",
    "                self.best_monitor = self.history[self.monitor][-1]\n",
    "                self.best_step = self.steps\n",
    "        elif self.mode == 'min':\n",
    "            if self.history[self.monitor][-1] < self.best_monitor:\n",
    "                self.best_monitor = self.history[self.monitor][-1]\n",
    "                self.best_step = self.steps\n",
    "        \n",
    "        if self.steps - self.best_step > self.patience:\n",
    "            return 'Early stop with {}: {:.4f}'.format(self.monitor, self.history[self.monitor][self.best_step]), True\n",
    "        return None, False\n",
    "    \n",
    "    def stop(self):\n",
    "        \"\"\"Delete model from callback.\"\"\"\n",
    "        \n",
    "        self.model = None\n",
    "        torch.cuda.empty_cache()\n",
    "\n",
    "\n",
    "class SaveBest():\n",
    "    \"\"\"Callback for save model if there is an improvement.\n",
    "    \n",
    "    Args:\n",
    "        monitor (str): value for monitoring.\n",
    "        model_path (str): Path for saving model.\n",
    "        mode (str): One of {\"min\", \"max\"}. In min mode, training will stop when the quantity monitored has stopped decreasing.\n",
    "            In \"max\" mode it will stop when the quantity monitored has stopped increasing.\n",
    "    \n",
    "    Attributes:\n",
    "        history (dict): Dict of lists with train history. Key \"monitor\" contains list of monitoring values. \n",
    "        steps (int): Number of passed epoches. \n",
    "        best_step (int): Number of best epoch. \n",
    "        best_monitor (float): Best of monitoring value.\n",
    "        model (Model): Training model\n",
    "    \"\"\"\n",
    "    \n",
    "    def __init__(self, monitor, model_path, mode):\n",
    "        self.monitor = monitor\n",
    "        self.model_path = model_path\n",
    "        self.mode = mode\n",
    "        self.history = None\n",
    "        self.steps = -1\n",
    "        self.best_step = -1\n",
    "        if self.mode == 'max':\n",
    "            self.best_monitor = 0\n",
    "        elif self.mode == 'min':\n",
    "            self.best_monitor = 1e99999\n",
    "    \n",
    "    def start(self, history, model):\n",
    "        \"\"\"Start and init callback. Save first version of model.\n",
    "        \n",
    "        Args:\n",
    "            history (dict): Dict of lists with train history. Key \"monitor\" contains list of monitoring values. \n",
    "            model (Model): Training model\n",
    "        \"\"\"\n",
    "        \n",
    "        self.history = history\n",
    "        self.model = model\n",
    "        torch.save(self.model.state_dict(), self.model_path)\n",
    "    \n",
    "    def step(self):\n",
    "        \"\"\"Make a step of callback.\n",
    "        \n",
    "        Returns:\n",
    "            tuple: (event, stop):\n",
    "                event (str): Decription of event. If event not did not happen then event = ''.\n",
    "                stop (bool): Flag of stopping train process.\n",
    "        \"\"\"\n",
    "        \n",
    "        self.steps += 1\n",
    "        \n",
    "        if self.mode == 'max':\n",
    "            if self.history[self.monitor][-1] > self.best_monitor:\n",
    "                self.best_monitor = self.history[self.monitor][-1]\n",
    "                self.best_step = self.steps\n",
    "        elif self.mode == 'min':\n",
    "            if self.history[self.monitor][-1] < self.best_monitor:\n",
    "                self.best_monitor = self.history[self.monitor][-1]\n",
    "                self.best_step = self.steps\n",
    "        \n",
    "        if self.steps == self.best_step:\n",
    "            torch.save(self.model.state_dict(), self.model_path)\n",
    "            return 'Save model with {}: {:.4f}'.format(self.monitor, self.history[self.monitor][self.best_step]), False\n",
    "        return None, False\n",
    "    \n",
    "    def stop(self):\n",
    "        \"\"\"Delete model from callback.\"\"\"\n",
    "        \n",
    "        self.model = None\n",
    "        torch.cuda.empty_cache()"
   ]
  },
  {
   "cell_type": "markdown",
   "metadata": {},
   "source": [
    "# Functions of model"
   ]
  },
  {
   "cell_type": "code",
   "execution_count": 8,
   "metadata": {},
   "outputs": [],
   "source": [
    "def train(model, inp, optimizer,\n",
    "          criterion, epochs, print_every, callbacks, lr_scheduler):\n",
    "    \"\"\"Make model prediction on image.\n",
    "    \n",
    "    Args:\n",
    "        model (Model): Model for training.\n",
    "        inp (Tensor): Inpu image.\n",
    "        optimizer (Optimizer): Optimizer. \n",
    "        criterion (callable): Function for loss calculation.\n",
    "        epochs (int): Number of epoches.\n",
    "        print_every (int): Number of iteration for update statusbar.\n",
    "        callbacks (list): List of callbacks\n",
    "    \n",
    "    Returns:\n",
    "        history (dict): Dict of lists with train history.\n",
    "    \"\"\"\n",
    "    \n",
    "    history = {'Train loss':[]}\n",
    "    \n",
    "    if callbacks:\n",
    "        for i in callbacks:\n",
    "            i.start(history, model)\n",
    "    \n",
    "    train_print = ''\n",
    "    state_text_last = ''\n",
    "    bar = tqdm(range(epochs), desc=\"Epoch\", postfix=train_print)\n",
    "    for e in range(epochs):\n",
    "        model.train()\n",
    "\n",
    "        running_loss = 0\n",
    "\n",
    "        stop = False\n",
    "        \n",
    "        steps = 0\n",
    "        \n",
    "        optimizer.zero_grad()\n",
    "        \n",
    "        out = model.forward(inp)\n",
    "            \n",
    "        loss = criterion(out)\n",
    "\n",
    "        loss.backward()\n",
    "                \n",
    "        optimizer.step()\n",
    "            \n",
    "        with torch.no_grad():\n",
    "            running_loss = loss.item()\n",
    "        \n",
    "        if (e + 1) % print_every == 0:\n",
    "            train_print = \"Train loss: {:.4f}\".format(running_loss) + ', ' + state_text_last\n",
    "            bar.postfix = train_print\n",
    "            model.train()\n",
    "            \n",
    "        \n",
    "        history['Train loss'].append(running_loss)\n",
    "        \n",
    "        if lr_scheduler:\n",
    "            if \"OneCycleLR\" in str(lr_scheduler):\n",
    "                lr_scheduler.step()\n",
    "            else:\n",
    "                lr_scheduler.step(running_loss)\n",
    "        \n",
    "        if callbacks:\n",
    "            for i in callbacks:\n",
    "                state_text, state = i.step()\n",
    "                if state_text:\n",
    "                    state_text_last = state_text\n",
    "                if state:\n",
    "                    stop = True\n",
    "        if stop:\n",
    "            train_print = \"Train loss: {:.4f}\".format(running_loss) + ', ' + state_text_last\n",
    "            bar.postfix = train_print\n",
    "            if callbacks:\n",
    "                for i in callbacks:\n",
    "                    i.stop()\n",
    "            model = None\n",
    "            inputs = None\n",
    "            targets = None\n",
    "            outputs = None\n",
    "            loss = None\n",
    "            sm = None\n",
    "            \n",
    "            torch.cuda.empty_cache()\n",
    "            \n",
    "            break\n",
    "            \n",
    "        if e + 1 != epochs:\n",
    "            bar.update()\n",
    "                        \n",
    "        inputs = None\n",
    "        targets = None\n",
    "        outputs = None\n",
    "        loss = None\n",
    "        sm = None\n",
    "        \n",
    "        torch.cuda.empty_cache()\n",
    "      \n",
    "    bar.update()\n",
    "    bar.close()\n",
    "    \n",
    "    if callbacks:\n",
    "        for i in callbacks:\n",
    "            i.stop()\n",
    "    \n",
    "    model = None\n",
    "    \n",
    "    torch.cuda.empty_cache()\n",
    "    \n",
    "    return history\n",
    "\n",
    "\n",
    "def plot_train_history(history):\n",
    "    \"\"\"Plot train history.\n",
    "    \n",
    "    Args:\n",
    "        history (dict): Dict of lists with train history..\n",
    "    \"\"\"\n",
    "    \n",
    "    fig, ax = plt.subplots(figsize = (FIGSIZE * 2, FIGSIZE))\n",
    "    \n",
    "    ax.plot(history['Train loss'], c = 'r')\n",
    "    ax.set_title('Loss')\n",
    "    ax.set_xlabel('Epochs')\n",
    "    ax.set_ylabel('Loss')\n",
    "    ax.legend(['Train'])\n",
    "    ax.set_yscale('log')\n",
    "    plt.subplots_adjust(left=None, bottom=None, right=None, top=None, wspace=None, hspace=0.3)\n",
    "    plt.show()\n",
    "\n",
    "    \n",
    "def dict2str(dict1):\n",
    "    out = str(dict1).replace(\"}\", \"\")\n",
    "    out = str(out).replace(\"{\", \"\")\n",
    "    out = str(out).replace(\"\\\"\", \"\")\n",
    "    out = str(out).replace(\"\\'\", \"\")\n",
    "    out = str(out).replace(\":\", \"\")\n",
    "    return out"
   ]
  },
  {
   "cell_type": "markdown",
   "metadata": {},
   "source": [
    "# Domain mask"
   ]
  },
  {
   "cell_type": "code",
   "execution_count": 9,
   "metadata": {
    "colab": {
     "base_uri": "https://localhost:8080/",
     "height": 143
    },
    "id": "1hKq9A5gtHzs",
    "outputId": "6b39a1b5-7f5e-4fe7-97e2-c822b1e80554"
   },
   "outputs": [
    {
     "data": {
      "image/png": "[encoded data removed]",
      "text/plain": [
       "<Figure size 216x216 with 1 Axes>"
      ]
     },
     "metadata": {},
     "output_type": "display_data"
    },
    {
     "data": {
      "image/png": "[encoded data removed]",
      "text/plain": [
       "<Figure size 216x216 with 1 Axes>"
      ]
     },
     "metadata": {},
     "output_type": "display_data"
    },
    {
     "data": {
      "image/png": "[encoded data removed]",
      "text/plain": [
       "<Figure size 216x216 with 1 Axes>"
      ]
     },
     "metadata": {},
     "output_type": "display_data"
    }
   ],
   "source": [
    "domain_mask = torch.ones((SIZE, SIZE, 3))\n",
    "domain_mask[:S2, :, :] = 0\n",
    "domain_mask[S3:, :, :2] = 0\n",
    "\n",
    "fig = plt.figure(figsize=(FIGSIZE, FIGSIZE))\n",
    "plt.imshow(domain_mask)\n",
    "plt.xticks([])\n",
    "plt.yticks([])\n",
    "plt.title(\"Domain mask\")\n",
    "plt.show()\n",
    "\n",
    "wall_mask = (domain_mask == CENTER_COLOR).float().sum(axis=2)\n",
    "wall_mask[wall_mask < 3] = 0\n",
    "wall_mask[wall_mask == 3] = 1\n",
    "\n",
    "fig = plt.figure(figsize=(FIGSIZE, FIGSIZE))\n",
    "plt.imshow(wall_mask, cmap='gray')\n",
    "plt.xticks([])\n",
    "plt.yticks([])\n",
    "plt.title(\"Wall mask\")\n",
    "plt.show()\n",
    "\n",
    "upper_mask = (domain_mask == UP_COLOR).float().sum(axis=2)\n",
    "upper_mask[upper_mask < 3] = 0\n",
    "upper_mask[upper_mask == 3] = 1\n",
    "\n",
    "fig = plt.figure(figsize=(FIGSIZE, FIGSIZE))\n",
    "plt.imshow(upper_mask, cmap='gray')\n",
    "plt.xticks([])\n",
    "plt.yticks([])\n",
    "plt.title(\"Upper mask\")\n",
    "plt.show()"
   ]
  },
  {
   "cell_type": "markdown",
   "metadata": {
    "id": "XaVb_Ejsmynq"
   },
   "source": [
    "# Kinematic properties\n",
    "The velocity is equal to zero on all the surfaces. The flow rate is known."
   ]
  },
  {
   "cell_type": "code",
   "execution_count": 10,
   "metadata": {
    "colab": {
     "base_uri": "https://localhost:8080/",
     "height": 232
    },
    "id": "Gb4BFZNWnBsh",
    "outputId": "0dde0211-4908-4885-e6ac-4fc8f130ed54"
   },
   "outputs": [
    {
     "data": {
      "image/png": "[encoded data removed]",
      "text/plain": [
       "<Figure size 216x216 with 1 Axes>"
      ]
     },
     "metadata": {},
     "output_type": "display_data"
    }
   ],
   "source": [
    "psi0 = (torch.linspace(Q * 4, 0,SIZE, dtype=torch.float32) * torch.ones(SIZE,SIZE)).T - 1.5 * Q\n",
    "\n",
    "fig = plt.figure(figsize=(FIGSIZE, FIGSIZE))\n",
    "plt.imshow(psi0)\n",
    "plt.xticks([])\n",
    "plt.yticks([])\n",
    "plt.title('psi function')\n",
    "plt.show()"
   ]
  },
  {
   "cell_type": "code",
   "execution_count": 11,
   "metadata": {
    "colab": {
     "base_uri": "https://localhost:8080/",
     "height": 244
    },
    "id": "lyOiYXNSUVnK",
    "outputId": "79f8b54f-65b1-421b-fd76-d3d4fc7a117e"
   },
   "outputs": [
    {
     "data": {
      "image/png": "[encoded data removed]",
      "text/plain": [
       "<Figure size 216x216 with 1 Axes>"
      ]
     },
     "metadata": {},
     "output_type": "display_data"
    },
    {
     "data": {
      "image/png": "[encoded data removed]",
      "text/plain": [
       "<Figure size 216x216 with 1 Axes>"
      ]
     },
     "metadata": {
      "needs_background": "light"
     },
     "output_type": "display_data"
    }
   ],
   "source": [
    "psi0_masked = (psi0 * wall_mask) + (upper_mask * Q)\n",
    "\n",
    "fig = plt.figure(figsize=(FIGSIZE, FIGSIZE))\n",
    "plt.imshow(psi0_masked)\n",
    "plt.title('psi function with mask')\n",
    "plt.xticks([])\n",
    "plt.yticks([])\n",
    "plt.show()\n",
    "\n",
    "fig = plt.figure(figsize=(FIGSIZE, FIGSIZE))\n",
    "plt.plot(psi0_masked[:,200])\n",
    "plt.title('psi function slice')\n",
    "plt.show()"
   ]
  },
  {
   "cell_type": "markdown",
   "metadata": {
    "id": "B7LQzVv63_0n"
   },
   "source": [
    "# Velocity distribution"
   ]
  },
  {
   "cell_type": "code",
   "execution_count": 12,
   "metadata": {
    "colab": {
     "base_uri": "https://localhost:8080/",
     "height": 234
    },
    "id": "qbVbaBjT3aOd",
    "outputId": "70e136d5-4175-44e2-c96d-24e7e35e5ced"
   },
   "outputs": [
    {
     "data": {
      "image/png": "[encoded data removed]",
      "text/plain": [
       "<Figure size 432x216 with 2 Axes>"
      ]
     },
     "metadata": {
      "needs_background": "light"
     },
     "output_type": "display_data"
    },
    {
     "data": {
      "image/png": "[encoded data removed]",
      "text/plain": [
       "<Figure size 216x216 with 1 Axes>"
      ]
     },
     "metadata": {
      "needs_background": "light"
     },
     "output_type": "display_data"
    }
   ],
   "source": [
    "v1, v2 = velocityDistr(psi0_masked, DX1N, DX2N, LIM1, LIM2)\n",
    "#v1Masked = (v1*velocityMask) + v1Mask\n",
    "#v2Masked = (v2*velocityMask)\n",
    "#v2Masked = torch.zeros(imgSize,imgSize)\n",
    "fig = plt.figure(figsize=(FIGSIZE * 2, FIGSIZE))\n",
    "plt.subplot(1,2,1)\n",
    "plt.imshow(v1.cpu())\n",
    "plt.title('v1')\n",
    "plt.subplot(1,2,2)\n",
    "plt.imshow(v2.cpu())\n",
    "plt.title('v2')\n",
    "plt.show()\n",
    "\n",
    "fig = plt.figure(figsize=(FIGSIZE, FIGSIZE))\n",
    "plt.plot(v1[:,1].cpu())\n",
    "plt.show()"
   ]
  },
  {
   "cell_type": "code",
   "execution_count": 13,
   "metadata": {
    "colab": {
     "base_uri": "https://localhost:8080/",
     "height": 282
    },
    "id": "rXz9T9VWA3G5",
    "outputId": "44a0902a-36ce-48f8-c4f9-a46992ff780d"
   },
   "outputs": [
    {
     "data": {
      "image/png": "[encoded data removed]",
      "text/plain": [
       "<Figure size 216x216 with 1 Axes>"
      ]
     },
     "metadata": {
      "needs_background": "light"
     },
     "output_type": "display_data"
    }
   ],
   "source": [
    "# Check the flow rate\n",
    "Qch = torch.trapezoid(v1.t()) * DX1N * L\n",
    "\n",
    "fig = plt.figure(figsize=(FIGSIZE, FIGSIZE))\n",
    "plt.plot(Qch.cpu())\n",
    "plt.show()"
   ]
  },
  {
   "cell_type": "code",
   "execution_count": 14,
   "metadata": {
    "id": "DRUbnj0emwYz"
   },
   "outputs": [],
   "source": [
    "# velocityMask = torch.ones(imgSize,imgSize)\n",
    "# velocityMask[:,0:3] = 0\n",
    "# velocityMask[:,-3:] = 0\n",
    "# fig = plt.figure(figsize=(figSize, figSize))\n",
    "# plt.plot(velocityMask[1,:])\n",
    "# velocityMask[1,:]"
   ]
  },
  {
   "cell_type": "code",
   "execution_count": 15,
   "metadata": {
    "id": "uTDXqEz7qRGB"
   },
   "outputs": [],
   "source": [
    "# h=(126-92)*L/126\n",
    "# vm = (velocityMask*-1 + 1)*Q/L\n",
    "# Qcalc = torch.trapezoid(vm.t())*dx2n*L\n",
    "# plt.plot(Qcalc)"
   ]
  },
  {
   "cell_type": "code",
   "execution_count": 16,
   "metadata": {
    "id": "yWij5ddlqQ89"
   },
   "outputs": [],
   "source": [
    "# v1Mask = vm*wallsMask\n",
    "# fig = plt.figure(figsize=(figSize*4, figSize*2))\n",
    "# plt.imshow(v1Mask )\n",
    "# plt.title('v1 mask')\n",
    "# v1Mask[300,:]"
   ]
  },
  {
   "cell_type": "markdown",
   "metadata": {
    "id": "wOpHVjQdkxS_"
   },
   "source": [
    "## Check assimptotic solution: flow between parallel plates\n",
    "Newtonian fluid flows between parallel plates LxL"
   ]
  },
  {
   "cell_type": "code",
   "execution_count": 92,
   "metadata": {
    "colab": {
     "base_uri": "https://localhost:8080/",
     "height": 0
    },
    "id": "fpG0AV2LlF-W",
    "outputId": "9f04cbfb-4b5d-434d-daf0-8c00d296066d"
   },
   "outputs": [
    {
     "name": "stdout",
     "output_type": "stream",
     "text": [
      "h = 0.02053571428571429 L= 0.1 (p1-p0) = 17.320555601216398 \n",
      "v1max = tensor(-73.0420) Ext = 17.320555601216398 Int = tensor(55.0590, device='cuda:0')\n"
     ]
    },
    {
     "data": {
      "image/png": "[encoded data removed]",
      "text/plain": [
       "<Figure size 1080x720 with 6 Axes>"
      ]
     },
     "metadata": {
      "needs_background": "light"
     },
     "output_type": "display_data"
    }
   ],
   "source": [
    "#Exact solution\n",
    "sp = int(SIZE/2)#slice position\n",
    "h=(SIZE-2*S2)*L/SIZE#(126-92)*L/126 # h is thickness of the channel, L is it's length\n",
    "pressureDrop = Q * 3 * MU * L / (2 * h ** 3)\n",
    "Extex = pressureDrop * Q\n",
    "# v1ex = pressureDrop / (2 * MU * L) * X2N*(X2N - 1) * h ** 2\n",
    "# v1exmax = pressureDrop / (2 * MU * L) * X2N[int(SIZE/2)]*(X2N[int(SIZE/2)] - 1) * h ** 2 # in the middle of the flow\n",
    "# psiex = (pressureDrop / (2 * MU * L) * (X2N ** 2)*((X2N/3) - (1/2)) * (h ** 3) + Q\n",
    "#        + pressureDrop / (12 * MU * L) * (h ** 3))\n",
    "C0 = 12*Q/(h**3)\n",
    "C1 = -6*Q/(h**2)\n",
    "psiex = C0*(X2N**3/6)*h**3 + C1*(X2N**2/2)*h**2\n",
    "v1ex = C0*(X2N**2/2)*h**2 + C1*(X2N)*h\n",
    "v1exmax = v1ex[int(SIZE/2)] \n",
    "\n",
    "# From 1D to 2D\n",
    "psiex = psiex * torch.ones(SIZE, SIZE)\n",
    "psiex = psiex.t()\n",
    "\n",
    "v1ex = v1ex * torch.ones(SIZE, SIZE)\n",
    "v1ex = v1ex.t()\n",
    "\n",
    "v2ex = torch.zeros(SIZE, SIZE)\n",
    "\n",
    "#Calculate Internal power to check numerical integration\n",
    "xi11, xi12, xi22, EtaEta = TksiDistr(v1, v2, DX1N, DX2N, LIM1, LIM2)\n",
    "#xi11,xi12,xi22,EtaEta = TksiDistr(v1Masked,v2Masked,dx1n,dx2n,lim1,lim2)\n",
    "int1EtaEta = torch.trapezoid(EtaEta)\n",
    "int2EtaEta = torch.trapezoid(int1EtaEta)\n",
    "s = DX1N * DX2N * LIM1[1] * LIM2[1]\n",
    "Intex = 0.5*MU*s*int2EtaEta #doublelIntegra\n",
    "\n",
    "\n",
    "\n",
    "print('h =', h, 'L=', L, '(p1-p0) =', pressureDrop,\n",
    "      '\\nv1max =', v1exmax, 'Ext =', Extex, 'Int =', Intex)\n",
    "\n",
    "\n",
    "fig = plt.figure(figsize=(FIGSIZE*3, FIGSIZE*2))\n",
    "plt.subplot(2,3,1)\n",
    "plt.imshow(psiex)\n",
    "plt.title('Psi exact')\n",
    "\n",
    "plt.subplot(2,3,2)\n",
    "plt.imshow(v1ex)\n",
    "plt.title('v1 exact')\n",
    "\n",
    "plt.subplot(2,3,3)\n",
    "plt.imshow(v2ex)\n",
    "plt.title('v2 exact')\n",
    "\n",
    "plt.subplot(2,3,4)\n",
    "plt.plot(psiex[:,sp])\n",
    "plt.title('Psi exact (slice)')\n",
    "\n",
    "plt.subplot(2,3,5)\n",
    "plt.plot(v1ex[:,sp])\n",
    "plt.title('Psi exact (slice)')\n",
    "\n",
    "plt.subplot(2,3,6)\n",
    "plt.plot(v2ex[:,sp])\n",
    "plt.title('Psi exact (slice)')\n",
    "\n",
    "plt.show()"
   ]
  },
  {
   "cell_type": "code",
   "execution_count": 96,
   "metadata": {},
   "outputs": [
    {
     "data": {
      "text/plain": [
       "(torch.Size([224]), 112, tensor(3.1788, device='cuda:0'))"
      ]
     },
     "execution_count": 96,
     "metadata": {},
     "output_type": "execute_result"
    }
   ],
   "source": [
    "X2N.shape, int(SIZE/2),Intex/Extex"
   ]
  },
  {
   "cell_type": "code",
   "execution_count": 18,
   "metadata": {
    "colab": {
     "base_uri": "https://localhost:8080/",
     "height": 0
    },
    "id": "ppVboILQT4W4",
    "outputId": "74db4087-c430-4b81-8f9a-5b49b93c6061"
   },
   "outputs": [
    {
     "data": {
      "image/png": "[encoded data removed]",
      "text/plain": [
       "<Figure size 432x216 with 2 Axes>"
      ]
     },
     "metadata": {
      "needs_background": "light"
     },
     "output_type": "display_data"
    }
   ],
   "source": [
    "v1ch, v2ch = velocityDistr(psiex2dt, DX1N, DX2N, LIM1, LIM2)\n",
    "fig = plt.figure(figsize=(FIGSIZE * 2, FIGSIZE))\n",
    "plt.subplot(1,2,1)\n",
    "plt.imshow(v1ch.cpu())\n",
    "plt.title('v1')\n",
    "plt.subplot(1,2,2)\n",
    "plt.imshow(v2ch.cpu())\n",
    "plt.title('v2')\n",
    "plt.show()"
   ]
  },
  {
   "cell_type": "code",
   "execution_count": 19,
   "metadata": {
    "colab": {
     "base_uri": "https://localhost:8080/",
     "height": 0
    },
    "id": "9Z6uPi8BUne2",
    "outputId": "b3f1fa83-703a-482d-ae34-4bcd5fed5d67"
   },
   "outputs": [
    {
     "data": {
      "image/png": "[encoded data removed]",
      "text/plain": [
       "<Figure size 432x216 with 2 Axes>"
      ]
     },
     "metadata": {
      "needs_background": "light"
     },
     "output_type": "display_data"
    },
    {
     "name": "stdout",
     "output_type": "stream",
     "text": [
      "7.500000476837158 -2.4995296001434326 0.00013291834329720587 -0.00013291834329720587\n"
     ]
    }
   ],
   "source": [
    "fig = plt.figure(figsize=(FIGSIZE * 2, FIGSIZE))\n",
    "plt.subplot(1,2,1)\n",
    "plt.plot(v1ch[:,1].cpu())\n",
    "plt.title('v1')\n",
    "plt.subplot(1,2,2)\n",
    "plt.plot(X1N.cpu(),-v1ch[:,1].cpu(),'-r',X1N,v1ex,'--b')\n",
    "plt.title('v2')\n",
    "plt.show()\n",
    "\n",
    "print(v1ch.max().item(), v1ch.min().item(), v2ch.max().item(), v2ch.min().item())"
   ]
  },
  {
   "cell_type": "code",
   "execution_count": 20,
   "metadata": {
    "colab": {
     "base_uri": "https://localhost:8080/",
     "height": 0
    },
    "id": "ZPFVBPRRU5VQ",
    "outputId": "27f01fef-99f0-46b4-b79e-3416c3b58b24"
   },
   "outputs": [
    {
     "data": {
      "image/png": "[encoded data removed]",
      "text/plain": [
       "<Figure size 432x216 with 1 Axes>"
      ]
     },
     "metadata": {
      "needs_background": "light"
     },
     "output_type": "display_data"
    }
   ],
   "source": [
    "Qcalc = torch.trapezoid(v1.t()) * DX1N * L\n",
    "\n",
    "fig = plt.figure(figsize=(FIGSIZE * 2, FIGSIZE))\n",
    "plt.plot(Qcalc.cpu())\n",
    "plt.show()"
   ]
  },
  {
   "cell_type": "code",
   "execution_count": 21,
   "metadata": {
    "colab": {
     "base_uri": "https://localhost:8080/",
     "height": 0
    },
    "id": "QZ7FdI9-GB6e",
    "outputId": "52ebdea8-d575-48a1-8163-79b45d5a4641"
   },
   "outputs": [
    {
     "data": {
      "image/png": "[encoded data removed]",
      "text/plain": [
       "<Figure size 432x216 with 2 Axes>"
      ]
     },
     "metadata": {
      "needs_background": "light"
     },
     "output_type": "display_data"
    }
   ],
   "source": [
    "fig = plt.figure(figsize=(FIGSIZE * 2, FIGSIZE))\n",
    "plt.subplot(1,2,1)\n",
    "plt.plot(v1ex)\n",
    "plt.subplot(1,2,2)\n",
    "plt.plot(psiex)\n",
    "plt.show()"
   ]
  },
  {
   "cell_type": "markdown",
   "metadata": {
    "id": "FPeLHoR31p1D"
   },
   "source": [
    "## Create model\n",
    "Unet architecture [2] is used"
   ]
  },
  {
   "cell_type": "code",
   "execution_count": 22,
   "metadata": {
    "id": "PID82zl-cxN4"
   },
   "outputs": [],
   "source": [
    "class UNet(nn.Module):\n",
    "\n",
    "    def __init__(self, in_channels=3, out_channels=1, init_features=4, use_bn=True):\n",
    "        super(UNet, self).__init__()\n",
    "\n",
    "        features = init_features\n",
    "        self.encoder1 = UNet._block(in_channels, features, name=\"enc1\", use_bn=use_bn)\n",
    "        self.pool1 = nn.MaxPool2d(kernel_size=2, stride=2)\n",
    "        self.encoder2 = UNet._block(features, features * 2, name=\"enc2\", use_bn=use_bn)\n",
    "        self.pool2 = nn.MaxPool2d(kernel_size=2, stride=2)\n",
    "        self.encoder3 = UNet._block(features * 2, features * 4, name=\"enc3\", use_bn=use_bn)\n",
    "        self.pool3 = nn.MaxPool2d(kernel_size=2, stride=2)\n",
    "        self.encoder4 = UNet._block(features * 4, features * 8, name=\"enc4\", use_bn=use_bn)\n",
    "        self.pool4 = nn.MaxPool2d(kernel_size=2, stride=2)\n",
    "\n",
    "        self.bottleneck = UNet._block(features * 8, features * 16, name=\"bottleneck\", use_bn=use_bn)\n",
    "\n",
    "        self.upconv4 = nn.ConvTranspose2d(\n",
    "            features * 16, features * 8, kernel_size=2, stride=2\n",
    "        )\n",
    "        self.decoder4 = UNet._block((features * 8) * 2, features * 8, name=\"dec4\", use_bn=use_bn)\n",
    "        self.upconv3 = nn.ConvTranspose2d(\n",
    "            features * 8, features * 4, kernel_size=2, stride=2\n",
    "        )\n",
    "        self.decoder3 = UNet._block((features * 4) * 2, features * 4, name=\"dec3\", use_bn=use_bn)\n",
    "        self.upconv2 = nn.ConvTranspose2d(\n",
    "            features * 4, features * 2, kernel_size=2, stride=2\n",
    "        )\n",
    "        self.decoder2 = UNet._block((features * 2) * 2, features * 2, name=\"dec2\", use_bn=use_bn)\n",
    "        self.upconv1 = nn.ConvTranspose2d(\n",
    "            features * 2, features, kernel_size=2, stride=2\n",
    "        )\n",
    "        self.decoder1 = UNet._block(features * 2, features, name=\"dec1\", use_bn=use_bn)\n",
    "\n",
    "        self.conv = nn.Conv2d(\n",
    "            in_channels=features, out_channels=out_channels, kernel_size=1\n",
    "        )\n",
    "\n",
    "    def forward(self, x):\n",
    "        enc1 = self.encoder1(x)\n",
    "        enc2 = self.encoder2(self.pool1(enc1))\n",
    "        enc3 = self.encoder3(self.pool2(enc2))\n",
    "        enc4 = self.encoder4(self.pool3(enc3))\n",
    "\n",
    "        bottleneck = self.bottleneck(self.pool4(enc4))\n",
    "\n",
    "        dec4 = self.upconv4(bottleneck)\n",
    "        dec4 = torch.cat((dec4, enc4), dim=1)\n",
    "        dec4 = self.decoder4(dec4)\n",
    "        dec3 = self.upconv3(dec4)\n",
    "        dec3 = torch.cat((dec3, enc3), dim=1)\n",
    "        dec3 = self.decoder3(dec3)\n",
    "        dec2 = self.upconv2(dec3)\n",
    "        dec2 = torch.cat((dec2, enc2), dim=1)\n",
    "        dec2 = self.decoder2(dec2)\n",
    "        dec1 = self.upconv1(dec2)\n",
    "        dec1 = torch.cat((dec1, enc1), dim=1)\n",
    "        dec1 = self.decoder1(dec1)\n",
    "        return torch.sigmoid(self.conv(dec1))\n",
    "\n",
    "    @staticmethod\n",
    "    def _block(in_channels, features, name, use_bn):\n",
    "        return nn.Sequential(\n",
    "            OrderedDict(\n",
    "                [\n",
    "                    (\n",
    "                        name + \"conv1\",\n",
    "                        nn.Conv2d(\n",
    "                            in_channels=in_channels,\n",
    "                            out_channels=features,\n",
    "                            kernel_size=3,\n",
    "                            padding=1,\n",
    "                            bias=False,\n",
    "                        ),\n",
    "                    ),\n",
    "                    *[(name + \"norm1\", nn.BatchNorm2d(num_features=features)),\n",
    "                      (name + \"relu1\", nn.ReLU(inplace=True))][0 if use_bn else 1:],\n",
    "                    (\n",
    "                        name + \"conv2\",\n",
    "                        nn.Conv2d(\n",
    "                            in_channels=features,\n",
    "                            out_channels=features,\n",
    "                            kernel_size=3,\n",
    "                            padding=1,\n",
    "                            bias=False,\n",
    "                        ),\n",
    "                    ),\n",
    "                    *[(name + \"norm2\", nn.BatchNorm2d(num_features=features)),\n",
    "                      (name + \"relu2\", nn.ReLU(inplace=True))][0 if use_bn else 1:],\n",
    "                ]\n",
    "            )\n",
    "        )\n",
    "    \n",
    "def power_loss(psi):\n",
    "    psi_masked = (psi[0,0,:,:] * wall_mask) + (upper_mask * Q)\n",
    "    v1,v2 = velocityDistr(psi_masked, DX1N, DX2N, LIM1, LIM2)\n",
    "\n",
    "    #v1Masked = (v1*velocityMask) + v1Mask\n",
    "    #v2Masked = (v2*velocityMask)\n",
    "    #v2Masked = torch.zeros(imgSize,imgSize)\n",
    "\n",
    "    xi11, xi12, xi22, EtaEta = TksiDistr(v1, v2, DX1N, DX2N, LIM1, LIM2)\n",
    "    #xi11,xi12,xi22,EtaEta = TksiDistr(v1Masked,v2Masked,dx1n,dx2n,lim1,lim2)\n",
    "    \n",
    "    int1EtaEta = torch.trapezoid(EtaEta)\n",
    "    int2EtaEta = torch.trapezoid(int1EtaEta)\n",
    "    out = 0.5*MU*s*int2EtaEta #doublelIntegral(0.5*mu*EtaEta,lim1,lim2) #loss\n",
    "    return out #0.5 * MU * s * EtaEta.mean()"
   ]
  },
  {
   "cell_type": "markdown",
   "metadata": {
    "id": "PhZutgNIyYhH"
   },
   "source": [
    "# Training"
   ]
  },
  {
   "cell_type": "code",
   "execution_count": 23,
   "metadata": {},
   "outputs": [
    {
     "name": "stdout",
     "output_type": "stream",
     "text": [
      "hyperparams: \n",
      " learning_rate 0.001, scheduler None, scheduler_factor 0.1, scheduler_patience 5, use_bn True\n"
     ]
    },
    {
     "data": {
      "application/vnd.jupyter.widget-view+json": {
       "model_id": "8cc97e10dd6b41bd9fd7d39b9d78fed6",
       "version_major": 2,
       "version_minor": 0
      },
      "text/plain": [
       "HBox(children=(FloatProgress(value=0.0, description='Epoch', max=10000.0, style=ProgressStyle(description_widt…"
      ]
     },
     "metadata": {},
     "output_type": "display_data"
    },
    {
     "name": "stdout",
     "output_type": "stream",
     "text": [
      "\n",
      "Best Train loss 324.1160\n",
      "hyperparams: \n",
      " learning_rate 0.001, scheduler None, scheduler_factor 0.1, scheduler_patience 5, use_bn False\n"
     ]
    },
    {
     "data": {
      "application/vnd.jupyter.widget-view+json": {
       "model_id": "1e07f036152a4cf39e4e663918fc58c0",
       "version_major": 2,
       "version_minor": 0
      },
      "text/plain": [
       "HBox(children=(FloatProgress(value=0.0, description='Epoch', max=10000.0, style=ProgressStyle(description_widt…"
      ]
     },
     "metadata": {},
     "output_type": "display_data"
    },
    {
     "name": "stdout",
     "output_type": "stream",
     "text": [
      "\n",
      "Best Train loss 108.2727\n",
      "hyperparams: \n",
      " learning_rate 0.001, scheduler step, scheduler_factor 0.1, scheduler_patience 5, use_bn True\n"
     ]
    },
    {
     "data": {
      "application/vnd.jupyter.widget-view+json": {
       "model_id": "6161b1012e6c410c9a127995103fb994",
       "version_major": 2,
       "version_minor": 0
      },
      "text/plain": [
       "HBox(children=(FloatProgress(value=0.0, description='Epoch', max=10000.0, style=ProgressStyle(description_widt…"
      ]
     },
     "metadata": {},
     "output_type": "display_data"
    },
    {
     "name": "stdout",
     "output_type": "stream",
     "text": [
      "\n",
      "Best Train loss 55.0594\n",
      "hyperparams: \n",
      " learning_rate 0.001, scheduler step, scheduler_factor 0.1, scheduler_patience 5, use_bn False\n"
     ]
    },
    {
     "data": {
      "application/vnd.jupyter.widget-view+json": {
       "model_id": "b1455ec8cd6d4497b24e5a8ae74af768",
       "version_major": 2,
       "version_minor": 0
      },
      "text/plain": [
       "HBox(children=(FloatProgress(value=0.0, description='Epoch', max=10000.0, style=ProgressStyle(description_widt…"
      ]
     },
     "metadata": {},
     "output_type": "display_data"
    },
    {
     "name": "stdout",
     "output_type": "stream",
     "text": [
      "\n",
      "Best Train loss 2572.9167\n",
      "hyperparams: \n",
      " learning_rate 0.001, scheduler cycle, scheduler_factor 0.1, scheduler_patience 5, use_bn True\n"
     ]
    },
    {
     "data": {
      "application/vnd.jupyter.widget-view+json": {
       "model_id": "489d5ad39c124d8faf23b2b8d52e0032",
       "version_major": 2,
       "version_minor": 0
      },
      "text/plain": [
       "HBox(children=(FloatProgress(value=0.0, description='Epoch', max=10000.0, style=ProgressStyle(description_widt…"
      ]
     },
     "metadata": {},
     "output_type": "display_data"
    },
    {
     "name": "stdout",
     "output_type": "stream",
     "text": [
      "\n",
      "Best Train loss 111.8241\n",
      "hyperparams: \n",
      " learning_rate 0.001, scheduler cycle, scheduler_factor 0.1, scheduler_patience 5, use_bn False\n"
     ]
    },
    {
     "data": {
      "application/vnd.jupyter.widget-view+json": {
       "model_id": "f4dd4b4e3aaf493a930a491ccd05836e",
       "version_major": 2,
       "version_minor": 0
      },
      "text/plain": [
       "HBox(children=(FloatProgress(value=0.0, description='Epoch', max=10000.0, style=ProgressStyle(description_widt…"
      ]
     },
     "metadata": {},
     "output_type": "display_data"
    },
    {
     "name": "stdout",
     "output_type": "stream",
     "text": [
      "\n",
      "Best Train loss 97.8322\n",
      "Best Train loss: 55.0594, best hyperparams: learning_rate: 0.001, scheduler: step, scheduler_factor: 0.1, scheduler_patience: 5, use_bn: True\n"
     ]
    },
    {
     "data": {
      "image/png": "[encoded data removed]",
      "text/plain": [
       "<Figure size 432x216 with 1 Axes>"
      ]
     },
     "metadata": {
      "needs_background": "light"
     },
     "output_type": "display_data"
    },
    {
     "name": "stdout",
     "output_type": "stream",
     "text": [
      "Final loss: 2762641.820\n"
     ]
    }
   ],
   "source": [
    "os.makedirs(WORK_DIR + '/models', exist_ok=True)\n",
    "os.makedirs(WORK_DIR + '/history', exist_ok=True)\n",
    "\n",
    "x = torch.ones((1, 1, SIZE, SIZE)) * psi0_masked\n",
    "s = DX1N * DX2N * LIM1[1] * LIM2[1]\n",
    "\n",
    "# Перемещение на GPU\n",
    "x = x.to(DEVICE)\n",
    "wall_mask = wall_mask.to(DEVICE)\n",
    "upper_mask = upper_mask.to(DEVICE)\n",
    "DX1N = DX2N.to(DEVICE)\n",
    "DX2N = DX2N.to(DEVICE)\n",
    "s = s.to(DEVICE)\n",
    "\n",
    "run_record = {}\n",
    "\n",
    "for hyp in HYPS:\n",
    "    print('hyperparams: \\n', dict2str(hyp)) \n",
    "\n",
    "    model_path = (f'{WORK_DIR}/models/{MODEL_NAME}_{dict2str(hyp)}.pth')\n",
    "\n",
    "    callbacks = [SaveBest(f'Train loss', model_path, 'min'),\n",
    "                 EarlyStop(f'Train loss', EARLY_STOP_PATIENCE, 'min')]\n",
    "\n",
    "    model = UNet(in_channels=1, out_channels=1, init_features=32, use_bn=hyp[\"use_bn\"])\n",
    "\n",
    "    model = model.to(DEVICE)\n",
    "\n",
    "    optimizer = torch.optim.Adam(model.parameters(), lr=hyp[\"learning_rate\"], weight_decay=DECAY)\n",
    "\n",
    "    if hyp[\"scheduler\"] == \"step\":\n",
    "        lr_scheduler = torch.optim.lr_scheduler.ReduceLROnPlateau(optimizer, mode='min',\n",
    "                                                                  patience=hyp[\"scheduler_patience\"],\n",
    "                                                                  min_lr=1e-6, factor=hyp[\"scheduler_factor\"])\n",
    "    elif hyp[\"scheduler\"] == \"cycle\":\n",
    "        lr_scheduler = scheduler = torch.optim.lr_scheduler.OneCycleLR(optimizer, max_lr=hyp[\"learning_rate\"] * 20,\n",
    "                                                                       steps_per_epoch=1, epochs=EPOCHS,\n",
    "                                                                       pct_start=0.125,\n",
    "                                                                       div_factor=hyp[\"scheduler_factor\"] ** -1,\n",
    "                                                                       final_div_factor=(hyp[\"scheduler_factor\"] ** -1) * 50)\n",
    "    else:\n",
    "        lr_scheduler = None\n",
    "\n",
    "    history = train(model, x, optimizer, power_loss,\n",
    "                    epochs=EPOCHS, print_every=10,\n",
    "                    callbacks=callbacks, lr_scheduler=lr_scheduler)\n",
    "\n",
    "    run_record[model_path] = {'hyperparams': hyp,\n",
    "                              'history': history,\n",
    "                              'final_val_metric': callbacks[1].best_monitor}\n",
    "\n",
    "    print(f\"Best Train loss %4.4f\" % (callbacks[1].best_monitor))\n",
    "\n",
    "    model = None\n",
    "    optimizer = None\n",
    "\n",
    "    torch.cuda.empty_cache()\n",
    "\n",
    "best_val_metric = None\n",
    "best_hyperparams = None\n",
    "best_run = None\n",
    "best_model_path = None\n",
    "\n",
    "for key, train_info in run_record.items():\n",
    "    if best_val_metric is None or best_val_metric > train_info['final_val_metric']:\n",
    "        best_val_metric = train_info['final_val_metric']\n",
    "        best_hyperparams = train_info['hyperparams']\n",
    "        best_run = train_info\n",
    "        best_model_path = key\n",
    "\n",
    "with open(f'{WORK_DIR}/history/{MODEL_NAME}_history.json', 'w') as fp:\n",
    "    json.dump(run_record, fp)\n",
    "\n",
    "best_hyp = str(best_hyperparams).replace(\"}\", \"\")\n",
    "best_hyp = best_hyp.replace(\"{\", \"\")\n",
    "best_hyp = best_hyp.replace(\"'\", \"\")\n",
    "\n",
    "print(f\"Best Train loss: %4.4f, best hyperparams: %s\" % (best_val_metric, best_hyp))\n",
    "\n",
    "model = UNet(in_channels=1, out_channels=1, init_features=32, use_bn=best_hyperparams[\"use_bn\"])\n",
    "model.load_state_dict(torch.load(best_model_path))\n",
    "torch.save(model.state_dict(), f'{WORK_DIR}/models/{MODEL_NAME}_best.pth')\n",
    "\n",
    "model = model.to(DEVICE)\n",
    "\n",
    "psi = model.forward(x)\n",
    "\n",
    "plot_train_history(best_run['history'])\n",
    "\n",
    "print(f'Final loss: {power_loss(psi).cpu().item() * SIZE ** 2:.3f}')"
   ]
  },
  {
   "cell_type": "markdown",
   "metadata": {
    "id": "PhZutgNIyYhH"
   },
   "source": [
    "# Results"
   ]
  },
  {
   "cell_type": "code",
   "execution_count": 24,
   "metadata": {},
   "outputs": [
    {
     "data": {
      "image/png": "[encoded data removed]",
      "text/plain": [
       "<Figure size 216x216 with 1 Axes>"
      ]
     },
     "metadata": {
      "needs_background": "light"
     },
     "output_type": "display_data"
    }
   ],
   "source": [
    "fig = plt.figure(figsize=(FIGSIZE, FIGSIZE))\n",
    "plt.imshow(psi[0, 0, :, :].clone().detach().to('cpu'))\n",
    "plt.title('psi function')\n",
    "plt.show()"
   ]
  },
  {
   "cell_type": "code",
   "execution_count": 25,
   "metadata": {
    "colab": {
     "base_uri": "https://localhost:8080/",
     "height": 299
    },
    "id": "Tx_qNIxjcZoa",
    "outputId": "f932fd0f-6a7a-4e72-b8ff-1f1b9802466b"
   },
   "outputs": [
    {
     "data": {
      "image/png": "[encoded data removed]",
      "text/plain": [
       "<Figure size 216x216 with 1 Axes>"
      ]
     },
     "metadata": {
      "needs_background": "light"
     },
     "output_type": "display_data"
    }
   ],
   "source": [
    "psicheck = psi[0, 0, :, :].clone().detach()\n",
    "psi_masked = (psicheck * wall_mask) + (upper_mask * Q)\n",
    "\n",
    "fig = plt.figure(figsize=(FIGSIZE, FIGSIZE))\n",
    "plt.imshow(psi_masked.to('cpu'))\n",
    "plt.title('psi function with mask')\n",
    "plt.show()"
   ]
  },
  {
   "cell_type": "code",
   "execution_count": 26,
   "metadata": {
    "colab": {
     "base_uri": "https://localhost:8080/",
     "height": 298
    },
    "id": "r-cNSoA-vtz4",
    "outputId": "f065bb8d-f8dc-4854-d6fc-50f6d7ff197b"
   },
   "outputs": [
    {
     "data": {
      "image/png": "[encoded data removed]",
      "text/plain": [
       "<Figure size 864x864 with 1 Axes>"
      ]
     },
     "metadata": {
      "needs_background": "light"
     },
     "output_type": "display_data"
    }
   ],
   "source": [
    "fig = plt.figure(figsize=(FIGSIZE*4, FIGSIZE*4))\n",
    "plt.plot(psi_masked[:, int(SIZE/2)].to('cpu'))\n",
    "plt.title('psi function slice')\n",
    "plt.show()"
   ]
  },
  {
   "cell_type": "code",
   "execution_count": 27,
   "metadata": {
    "colab": {
     "base_uri": "https://localhost:8080/",
     "height": 234
    },
    "id": "IcEzHkrgcVWx",
    "outputId": "3679348b-c16e-4754-99ef-3040a3a32b9b"
   },
   "outputs": [
    {
     "data": {
      "image/png": "[encoded data removed]",
      "text/plain": [
       "<Figure size 432x216 with 2 Axes>"
      ]
     },
     "metadata": {
      "needs_background": "light"
     },
     "output_type": "display_data"
    }
   ],
   "source": [
    "v1, v2 = velocityDistr(psi_masked, DX1N, DX2N, LIM1, LIM2)\n",
    "\n",
    "fig = plt.figure(figsize=(FIGSIZE * 2, FIGSIZE))\n",
    "plt.subplot(1,2,1)\n",
    "plt.imshow(v1.to('cpu'))\n",
    "plt.title('v1')\n",
    "plt.subplot(1,2,2)\n",
    "plt.imshow(v2.to('cpu'))\n",
    "plt.title('v2')\n",
    "plt.show()"
   ]
  },
  {
   "cell_type": "code",
   "execution_count": 28,
   "metadata": {
    "colab": {
     "base_uri": "https://localhost:8080/",
     "height": 282
    },
    "id": "tM5Nv56YeC9r",
    "outputId": "1f0a0c8c-e425-4d4c-d3ae-0b4f96ef74e7"
   },
   "outputs": [
    {
     "data": {
      "image/png": "[encoded data removed]",
      "text/plain": [
       "<Figure size 216x216 with 1 Axes>"
      ]
     },
     "metadata": {
      "needs_background": "light"
     },
     "output_type": "display_data"
    }
   ],
   "source": [
    "fig = plt.figure(figsize=(FIGSIZE, FIGSIZE))\n",
    "plt.plot(v1[:,int(SIZE/2)].to('cpu'))\n",
    "plt.show()"
   ]
  },
  {
   "cell_type": "code",
   "execution_count": 29,
   "metadata": {
    "colab": {
     "base_uri": "https://localhost:8080/",
     "height": 294
    },
    "id": "Pv28vfRLogb_",
    "outputId": "f02fc1ee-bbb6-459f-f554-df729aa08cf0"
   },
   "outputs": [
    {
     "data": {
      "image/png": "[encoded data removed]",
      "text/plain": [
       "<Figure size 216x216 with 1 Axes>"
      ]
     },
     "metadata": {
      "needs_background": "light"
     },
     "output_type": "display_data"
    }
   ],
   "source": [
    "fig = plt.figure(figsize=(FIGSIZE, FIGSIZE))\n",
    "Qcalc = torch.trapezoid(v1.t()) * DX2N * L\n",
    "plt.plot(Qcalc.cpu())\n",
    "plt.show()"
   ]
  },
  {
   "cell_type": "code",
   "execution_count": 30,
   "metadata": {
    "colab": {
     "base_uri": "https://localhost:8080/",
     "height": 182
    },
    "id": "r3w7q2Y1pIfD",
    "outputId": "b26b5134-c04b-42a6-de69-787c7b966627"
   },
   "outputs": [
    {
     "name": "stdout",
     "output_type": "stream",
     "text": [
      "-1.0\n"
     ]
    }
   ],
   "source": [
    "print(Qcalc.mean().cpu().item())"
   ]
  },
  {
   "cell_type": "markdown",
   "metadata": {
    "id": "rpGo7xQz6cny"
   },
   "source": [
    "# Links\n",
    "\n",
    "[1]. https://github.com/Mechanics-Mechatronics-and-Robotics/Mathematical_modelling/blob/main/Practice_1_by_IStebakov.ipynb\n",
    "\n",
    "[2]. https://github.com/mateuszbuda/brain-segmentation-pytorch"
   ]
  }
 ],
 "metadata": {
  "accelerator": "GPU",
  "colab": {
   "collapsed_sections": [],
   "name": "Main.ipynb",
   "provenance": []
  },
  "kernelspec": {
   "display_name": "Python 3",
   "language": "python",
   "name": "python3"
  },
  "language_info": {
   "codemirror_mode": {
    "name": "ipython",
    "version": 3
   },
   "file_extension": ".py",
   "mimetype": "text/x-python",
   "name": "python",
   "nbconvert_exporter": "python",
   "pygments_lexer": "ipython3",
   "version": "3.7.7"
  },
  "varInspector": {
   "cols": {
    "lenName": 16,
    "lenType": 16,
    "lenVar": 40
   },
   "kernels_config": {
    "python": {
     "delete_cmd_postfix": "",
     "delete_cmd_prefix": "del ",
     "library": "var_list.py",
     "varRefreshCmd": "print(var_dic_list())"
    },
    "r": {
     "delete_cmd_postfix": ") ",
     "delete_cmd_prefix": "rm(",
     "library": "var_list.r",
     "varRefreshCmd": "cat(var_dic_list()) "
    }
   },
   "types_to_exclude": [
    "module",
    "function",
    "builtin_function_or_method",
    "instance",
    "_Feature"
   ],
   "window_display": false
  }
 },
 "nbformat": 4,
 "nbformat_minor": 4
}
