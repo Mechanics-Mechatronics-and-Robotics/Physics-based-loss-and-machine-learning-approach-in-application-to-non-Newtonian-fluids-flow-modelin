{
  "nbformat": 4,
  "nbformat_minor": 0,
  "metadata": {
    "colab": {
      "name": "Main.ipynb",
      "provenance": [],
      "collapsed_sections": []
    },
    "kernelspec": {
      "name": "python3",
      "display_name": "Python 3"
    },
    "language_info": {
      "name": "python"
    },
    "accelerator": "GPU"
  },
  "cells": [
    {
      "cell_type": "markdown",
      "source": [
        "#**Physics-based loss and machine learing approach in application to fluids flow modelling: 2D flow domains**\n",
        "\n",
        "The program recieves an image of the flow domain and the flow rate value, then calculate velocity distribution. The main idea is power loss minimization. The main unknown function is the stream function $\\psi = \\psi(x_1, x_2)$ that determines the velocity field $\\textbf{V} = [[v_1, v_2]]$, where $v_1 = \\frac{\\partial \\psi}{\\partial x_2}$, $v_2 = - \\frac{\\partial \\psi}{\\partial x_1}$.\n",
        "\n"
      ],
      "metadata": {
        "id": "RJkKJ83igGYb"
      }
    },
    {
      "cell_type": "markdown",
      "source": [
        "#Libraries"
      ],
      "metadata": {
        "id": "ozT2l1DxVSOL"
      }
    },
    {
      "cell_type": "markdown",
      "source": [
        "## Install libraries"
      ],
      "metadata": {
        "id": "s3KFs0M9r7EQ"
      }
    },
    {
      "cell_type": "code",
      "execution_count": 129,
      "metadata": {
        "id": "jPSaJ-z614Tm"
      },
      "outputs": [],
      "source": [
        "!pip install -Uqq fastbook\n",
        "import fastbook\n",
        "fastbook.setup_book()"
      ]
    },
    {
      "cell_type": "markdown",
      "source": [
        "## Import libraries"
      ],
      "metadata": {
        "id": "ydwhZV95sFoN"
      }
    },
    {
      "cell_type": "code",
      "source": [
        "from fastai.vision.all import *\n",
        "import cv2\n",
        "from google.colab.patches import cv2_imshow\n",
        "from collections import OrderedDict"
      ],
      "metadata": {
        "id": "Go3JwW4hICsK"
      },
      "execution_count": 130,
      "outputs": []
    },
    {
      "cell_type": "markdown",
      "source": [
        "#Functions"
      ],
      "metadata": {
        "id": "BT8OQ6AkVb6U"
      }
    },
    {
      "cell_type": "markdown",
      "source": [
        "## Additional functions"
      ],
      "metadata": {
        "id": "Hw2AD3oWsfJb"
      }
    },
    {
      "cell_type": "markdown",
      "source": [
        "Numerical derivative"
      ],
      "metadata": {
        "id": "2JAf1YAHtV15"
      }
    },
    {
      "cell_type": "code",
      "source": [
        "def mydiff(j,y,dx):\n",
        "  '''The function calculates the first order derivative in a specific direction \n",
        "     'dx' at a specific point 'j' for a given array 'y' \n",
        "     using parabolic approximation\n",
        "  '''\n",
        "  dydx = 0\n",
        "  n = len(y)\n",
        "  if j==0:\n",
        "    dydx=(-y[3]+4*y[2]-3*y[1])/(2*dx)\n",
        "  elif j==n-1:\n",
        "    dydx=(3*y[j]-4*y[j-1]+y[j-2])/(2*dx)\n",
        "  else:\n",
        "    dydx=(y[j+1]-y[j-1])/(2*dx);\n",
        "  return dydx"
      ],
      "metadata": {
        "id": "MSTF3qPgtbn8"
      },
      "execution_count": 131,
      "outputs": []
    },
    {
      "cell_type": "code",
      "source": [
        "def num_diff(f, dx1, dx2):\n",
        "  '''function to find partial derivatives of a two variables function:\n",
        "  i - index along x1\n",
        "  j - index along x2\n",
        "  for internal points - central differences e.q. df_dx = (f_{i+1}-f_{i-1})/(2*dx)\n",
        "  for boundaries - left and right finite differences e.q. df_dx = (f_{i+1}-f_{i})/dx or df_dx = (f_{i}-f_{i-1})/dx\n",
        "  '''\n",
        "  n1, n2 = f.shape\n",
        "  df_dx1, df_dx2 = torch.zeros(n1,n2), torch.zeros(n1,n2)\n",
        "  # x1 derivative:\n",
        "  df_dx1[1:n1-1,:] = (f[2:,:] - f[:-2,:])/(2*dx1)\n",
        "  df_dx1[0,:] = (f[1,:] - f[0,:])/dx1\n",
        "  df_dx1[n1-1,:] = (f[n1-1,:] - f[n1-2,:])/dx1\n",
        "  # x2 derivative:\n",
        "  df_dx2[:, 1:n2-1] = (f[:,2:] - f[:,:-2])/(2*dx2)\n",
        "  df_dx2[:, 0] = (f[:,1] - f[:,0])/dx2\n",
        "  df_dx2[:,n2-1] = (f[:,n2-1] - f[:,n2-2])/dx2\n",
        "  return df_dx1, df_dx2"
      ],
      "metadata": {
        "id": "5P2RND6cYEOK"
      },
      "execution_count": 132,
      "outputs": []
    },
    {
      "cell_type": "markdown",
      "source": [
        "Numerical integrals: single and double"
      ],
      "metadata": {
        "id": "1i1RAg4ozeGq"
      }
    },
    {
      "cell_type": "code",
      "source": [
        "def singleIntegral(f,lowerLim,upperLim):\n",
        "  '''The function calculates the single integral using Simpson's formula. \n",
        "     The formula limits are uniform and set from 0 to 1. So, the obtained\n",
        "     result is multiplied by the difference between the upper and lower limits.\n",
        "  '''  \n",
        "  sglInt = 0\n",
        "  n = len(f)\n",
        "  x = torch.linspace(0,1,n)\n",
        "  dxn = x[1]-x[0]\n",
        "\n",
        "  for i in range (1, (n-1), 2):\n",
        "    sglInt += (f[i-1] + 4*f[i]+f[i+1])*dxn/3\n",
        "  if (n % 2) == 0:\n",
        "    sglInt += (f[-1]+f[-2])*dxn/2\n",
        "\n",
        "  sglInt = sglInt*(upperLim-lowerLim)\n",
        "\n",
        "  return sglInt"
      ],
      "metadata": {
        "id": "MbSgsSbO0srV"
      },
      "execution_count": 133,
      "outputs": []
    },
    {
      "cell_type": "code",
      "source": [
        "def doublelIntegral(f,lim1,lim2):\n",
        "  '''The function calculates the double integral using Simpson's formula twice. \n",
        "     The formula limits are uniform and set from 0 to 1. So, the obtained\n",
        "     result is multiplied by the differences between the upper and lower limits.\n",
        "  '''\n",
        "  dblInt = 0\n",
        "  n = f.shape\n",
        "  x1 = torch.linspace(0,1,n[0])\n",
        "  x2 = torch.linspace(0,1,n[1])\n",
        "  dx1n = x1[1]-x1[0]\n",
        "  dx2n = x2[1]-x2[0]\n",
        "\n",
        "  for i in range (1, (n[0]-1), 2):\n",
        "    for j in range (1, (n[1]-1), 2):\n",
        "      dblInt += (f[i-1][j-1] + f[i+1][j-1] + f[i-1][j+1] + f[i+1][j+1] + \n",
        "                   4*(f[i][j+1] + f[i][j-1] + f[i-1][j] + f[i+1][j]) + \n",
        "                   16*f[i][j])*dx1n*dx2n/9\n",
        "          \n",
        "  dblInt = dblInt*(lim1[1]-lim1[0])*(lim2[1]-lim2[0])\n",
        "\n",
        "  return (dblInt)"
      ],
      "metadata": {
        "id": "fxibGVL-zkCW"
      },
      "execution_count": 134,
      "outputs": []
    },
    {
      "cell_type": "markdown",
      "source": [
        "Check double integral "
      ],
      "metadata": {
        "id": "qyl0qTFMj-lf"
      }
    },
    {
      "cell_type": "code",
      "source": [
        "ss = 101\n",
        "x = torch.linspace(0,1,ss)\n",
        "y = torch.linspace(0,1,ss)\n",
        "y = y.reshape(1,-1).t()\n",
        "z = (x*x) * (y*y)\n",
        "print(doublelIntegral(z,[0,1],[0,1]),'- calculated', 1/9, '- exact')"
      ],
      "metadata": {
        "id": "byisjmu7c8C6",
        "colab": {
          "base_uri": "https://localhost:8080/"
        },
        "outputId": "5b1f2a52-8056-48da-8834-593f1266f4b9"
      },
      "execution_count": 135,
      "outputs": [
        {
          "output_type": "stream",
          "name": "stdout",
          "text": [
            "tensor(0.1111) - calculated 0.1111111111111111 - exact\n"
          ]
        }
      ]
    },
    {
      "cell_type": "markdown",
      "source": [
        "Color filter "
      ],
      "metadata": {
        "id": "lon3t_mIeGEi"
      }
    },
    {
      "cell_type": "code",
      "source": [
        "def colorFilter(img, color):\n",
        "  white = (255,255,255,255)\n",
        "  black = (0,0,0,255)\n",
        "  width,heigth = img.size\n",
        "  for i in range(width):\n",
        "    for j in range(heigth):\n",
        "      if img.getpixel((i,j)) == color:\n",
        "        img.putpixel((i,j),black)\n",
        "      else:\n",
        "        #print(img.getpixel((i,j)))\n",
        "        img.putpixel((i,j),white)\n",
        "  return (img)"
      ],
      "metadata": {
        "id": "626DXTn0eKR-"
      },
      "execution_count": 136,
      "outputs": []
    },
    {
      "cell_type": "markdown",
      "source": [
        "##Major functions\n",
        "\n",
        "Distributions: the velocity components [[$v_1$, $v_2$]], the strain rate tensor components [[$\\xi_{ij}$]], $\\xi_{ij}=\\xi_{ji}$ . And the shear rate intensity Η. "
      ],
      "metadata": {
        "id": "mH8zURs8A1Sr"
      }
    },
    {
      "cell_type": "code",
      "source": [
        "def velocityDistr(psi,dx1n,dx2n,lim1,lim2):\n",
        "\n",
        "  n = psi.shape\n",
        "  dpsidx1, dpsidx2 = num_diff(psi, dx1n, dx2n)\n",
        "  v1 = dpsidx2/lim2[1]\n",
        "  v2 = - dpsidx1/lim1[1]\n",
        "\n",
        "  return v1,v2"
      ],
      "metadata": {
        "id": "WMUIipgs5t3Q"
      },
      "execution_count": 137,
      "outputs": []
    },
    {
      "cell_type": "code",
      "source": [
        "def TksiDistr(v1,v2,dx1n,dx2n,lim1,lim2):\n",
        "\n",
        "  n = v1.shape\n",
        "  dv1dx1, dv1dx2 = num_diff(v1, dx1n, dx2n)\n",
        "  dv2dx1, dv2dx2 = num_diff(v2, dx1n, dx2n)\n",
        "\n",
        "  xi11 = dv1dx1/lim1[1]\n",
        "  xi12 = 0.5*(dv1dx2/lim2[1] + dv2dx1/lim1[1])\n",
        "  xi22 = dv2dx2/lim2[1]\n",
        "  EtaEta = (2*(xi11*xi11 + 2*xi12*xi12 + xi22*xi22))\n",
        "\n",
        "  return xi11,xi12,xi22,EtaEta"
      ],
      "metadata": {
        "id": "716qlRJoNglx"
      },
      "execution_count": 138,
      "outputs": []
    },
    {
      "cell_type": "markdown",
      "source": [
        "# Initialization"
      ],
      "metadata": {
        "id": "nzMpruhsYD38"
      }
    },
    {
      "cell_type": "markdown",
      "source": [
        "##Image of the flow domain"
      ],
      "metadata": {
        "id": "itN_H_kFke1t"
      }
    },
    {
      "cell_type": "markdown",
      "source": [
        "Path"
      ],
      "metadata": {
        "id": "3NCXTaNK4V4S"
      }
    },
    {
      "cell_type": "code",
      "source": [
        " path =  Path('/content/gdrive/MyDrive/study/Publications/2022/IEEE-CEC-2022/physical-loss')\n",
        " imgPath = path/'ToyDataset'\n",
        " imgList = imgPath.ls()\n",
        " imgPath.ls()"
      ],
      "metadata": {
        "id": "tDbZIropJMjw",
        "colab": {
          "base_uri": "https://localhost:8080/"
        },
        "outputId": "59342e35-9811-4f93-fea1-a2bdf3929d7a"
      },
      "execution_count": 139,
      "outputs": [
        {
          "output_type": "execute_result",
          "data": {
            "text/plain": [
              "(#3) [Path('/content/gdrive/MyDrive/study/Publications/2022/IEEE-CEC-2022/physical-loss/ToyDataset/Parallel plates and ball.png'),Path('/content/gdrive/MyDrive/study/Publications/2022/IEEE-CEC-2022/physical-loss/ToyDataset/Parallel plates with notch.png'),Path('/content/gdrive/MyDrive/study/Publications/2022/IEEE-CEC-2022/physical-loss/ToyDataset/Parallel plates.png')]"
            ]
          },
          "metadata": {},
          "execution_count": 139
        }
      ]
    },
    {
      "cell_type": "markdown",
      "source": [
        "##Simulation"
      ],
      "metadata": {
        "id": "GYoObHLVIZWE"
      }
    },
    {
      "cell_type": "code",
      "source": [
        "#Training\n",
        "noOfEpoch = 1500\n",
        "learnRate = 0.001"
      ],
      "metadata": {
        "id": "YsKHT1J2Ibx9"
      },
      "execution_count": 140,
      "outputs": []
    },
    {
      "cell_type": "markdown",
      "source": [
        "##Geometry\n",
        "The domain of size *'L x L'*  with flow channel is represented as an image of size *'imgSize x imgSize'*. S1 is the upper wall with black label [0 0 0]. S2 and S4 are outlet and inlet surfaces, respectivelly. S3 is the lower wall with blue label [0 0 255]. "
      ],
      "metadata": {
        "id": "ORhTWZZvVw7c"
      }
    },
    {
      "cell_type": "code",
      "source": [
        "L = 0.1 # L x L flow domain\n",
        "imgSize = 512 # imgSize x imgSize pixels image\n",
        "imgNo = 2\n",
        "upperWallColor =  (0, 0, 0,255)\n",
        "lowerWallColor =  (0, 0, 255,255)\n",
        "#Normalized coordinates\n",
        "x1n = torch.linspace(0,1,imgSize)\n",
        "x2n = torch.linspace(0,1,imgSize)\n",
        "dx1n = x1n[1] - x1n[0]\n",
        "dx2n = x2n[1] - x2n[0]\n",
        "lim1 = [0, L]\n",
        "lim2 = [0, L]\n",
        "#Visualisation\n",
        "figSize = 3\n"
      ],
      "metadata": {
        "id": "y8Q_jxpUYIEm"
      },
      "execution_count": 141,
      "outputs": []
    },
    {
      "cell_type": "code",
      "source": [
        "domainMask = Image.open(imgList[imgNo])\n",
        "domainMask "
      ],
      "metadata": {
        "id": "1hKq9A5gtHzs",
        "colab": {
          "base_uri": "https://localhost:8080/",
          "height": 143
        },
        "outputId": "26980c70-311a-43a1-9774-4e7a1c43a4c7"
      },
      "execution_count": 142,
      "outputs": [
        {
          "output_type": "execute_result",
          "data": {
            "image/png": "[encoded data removed]",
            "text/plain": [
              "<PIL.PngImagePlugin.PngImageFile image mode=RGBA size=126x126 at 0x7FA74A93E0D0>"
            ]
          },
          "metadata": {},
          "execution_count": 142
        }
      ]
    },
    {
      "cell_type": "markdown",
      "source": [
        "Create masks for the walls and resize image"
      ],
      "metadata": {
        "id": "45EnY5VmEcjK"
      }
    },
    {
      "cell_type": "code",
      "source": [
        "x2n.dtype"
      ],
      "metadata": {
        "id": "SgL2YvbN3rmT",
        "colab": {
          "base_uri": "https://localhost:8080/"
        },
        "outputId": "1760021c-a86b-4751-9959-32eac03fc4e7"
      },
      "execution_count": 143,
      "outputs": [
        {
          "output_type": "execute_result",
          "data": {
            "text/plain": [
              "torch.float32"
            ]
          },
          "metadata": {},
          "execution_count": 143
        }
      ]
    },
    {
      "cell_type": "code",
      "source": [
        "\n",
        "upperWallMask = colorFilter(domainMask, upperWallColor)\n",
        "upperWallMask = upperWallMask.resize((imgSize,imgSize),resample=4)\n",
        "#upperWallMask"
      ],
      "metadata": {
        "id": "lmyMgC4op_o_"
      },
      "execution_count": 144,
      "outputs": []
    },
    {
      "cell_type": "code",
      "source": [
        "domainMask = Image.open(imgList[imgNo])\n",
        "lowerWallMask = colorFilter(domainMask, lowerWallColor)\n",
        "lowerWallMask = lowerWallMask.resize((imgSize,imgSize),resample=4)\n",
        "#lowerWallMask"
      ],
      "metadata": {
        "id": "FF424vauuCi8"
      },
      "execution_count": 145,
      "outputs": []
    },
    {
      "cell_type": "markdown",
      "source": [
        "##Kinematic properties\n",
        "The velocity is equal to zero on all the surfaces. The flow rate is known."
      ],
      "metadata": {
        "id": "XaVb_Ejsmynq"
      }
    },
    {
      "cell_type": "code",
      "source": [
        "Q = 1 #flow rate through the inlet (outlet) boundary, m^3/s\n",
        "psim = 0 # lower wall\n",
        "psip = Q # upper wall\n",
        "psi00 = torch.linspace(Q,0,imgSize, dtype=torch.float32)*torch.ones(imgSize,imgSize)\n",
        "psi0 = torch.t(psi00)\n",
        "fig = plt.figure(figsize=(figSize, figSize))\n",
        "plt.imshow(psi0)"
      ],
      "metadata": {
        "id": "Gb4BFZNWnBsh",
        "colab": {
          "base_uri": "https://localhost:8080/",
          "height": 232
        },
        "outputId": "7339fbe7-3783-4b4b-9f92-862b00d66bd6"
      },
      "execution_count": 146,
      "outputs": [
        {
          "output_type": "execute_result",
          "data": {
            "text/plain": [
              "<matplotlib.image.AxesImage at 0x7fa74a8f2f90>"
            ]
          },
          "metadata": {},
          "execution_count": 146
        },
        {
          "output_type": "display_data",
          "data": {
            "image/png": "[encoded data removed]",
            "text/plain": [
              "<Figure size 216x216 with 1 Axes>"
            ]
          },
          "metadata": {
            "needs_background": "light"
          }
        }
      ]
    },
    {
      "cell_type": "code",
      "source": [
        "psi00.dtype"
      ],
      "metadata": {
        "id": "H-xEZhto3cLN",
        "colab": {
          "base_uri": "https://localhost:8080/"
        },
        "outputId": "3b1b7d27-69a6-491c-e625-b2c3fb891320"
      },
      "execution_count": 147,
      "outputs": [
        {
          "output_type": "execute_result",
          "data": {
            "text/plain": [
              "torch.float32"
            ]
          },
          "metadata": {},
          "execution_count": 147
        }
      ]
    },
    {
      "cell_type": "code",
      "source": [
        "wallsMask = (tensor(upperWallMask)[:,:,1]*tensor(lowerWallMask)[:,:,1])\n",
        "inverseUpperWallMask = (tensor(upperWallMask)[:,:,1]/(-255)+1)\n",
        "psi0Masked = (psi0*wallsMask) + (inverseUpperWallMask*Q)\n",
        "fig = plt.figure(figsize=(figSize, figSize))\n",
        "plt.imshow(psi0Masked)\n",
        "plt.title('psi function with mask')"
      ],
      "metadata": {
        "id": "lyOiYXNSUVnK",
        "colab": {
          "base_uri": "https://localhost:8080/",
          "height": 244
        },
        "outputId": "28956e8d-f33c-4e05-f61b-0904c6c4d9e3"
      },
      "execution_count": 148,
      "outputs": [
        {
          "output_type": "execute_result",
          "data": {
            "text/plain": [
              "Text(0.5, 1.0, 'psi function with mask')"
            ]
          },
          "metadata": {},
          "execution_count": 148
        },
        {
          "output_type": "display_data",
          "data": {
            "image/png": "[encoded data removed]",
            "text/plain": [
              "<Figure size 216x216 with 1 Axes>"
            ]
          },
          "metadata": {
            "needs_background": "light"
          }
        }
      ]
    },
    {
      "cell_type": "code",
      "source": [
        "fig = plt.figure(figsize=(figSize, figSize))\n",
        "plt.plot(psi0Masked[:,200])"
      ],
      "metadata": {
        "id": "e_0lRm44DIkI",
        "outputId": "cddbf7f2-d2b8-4534-9688-e7dcb7fcf4aa",
        "colab": {
          "base_uri": "https://localhost:8080/",
          "height": 228
        }
      },
      "execution_count": 149,
      "outputs": [
        {
          "output_type": "execute_result",
          "data": {
            "text/plain": [
              "[<matplotlib.lines.Line2D at 0x7fa74a836610>]"
            ]
          },
          "metadata": {},
          "execution_count": 149
        },
        {
          "output_type": "display_data",
          "data": {
            "image/png": "[encoded data removed]",
            "text/plain": [
              "<Figure size 216x216 with 1 Axes>"
            ]
          },
          "metadata": {
            "needs_background": "light"
          }
        }
      ]
    },
    {
      "cell_type": "markdown",
      "source": [
        "Velocity distribution"
      ],
      "metadata": {
        "id": "B7LQzVv63_0n"
      }
    },
    {
      "cell_type": "code",
      "source": [
        "v1, v2 = velocityDistr(psi0Masked,dx1n,dx2n,lim1,lim2)\n",
        "fig = plt.figure(figsize=(figSize*2, figSize))\n",
        "plt.subplot(1,2,1)\n",
        "plt.imshow(v1)\n",
        "plt.title('v1')\n",
        "plt.subplot(1,2,2)\n",
        "plt.imshow(v2)\n",
        "plt.title('v2')"
      ],
      "metadata": {
        "id": "qbVbaBjT3aOd",
        "colab": {
          "base_uri": "https://localhost:8080/",
          "height": 234
        },
        "outputId": "c1e4e23a-4b49-434d-ad55-668b7b4ae2a9"
      },
      "execution_count": 150,
      "outputs": [
        {
          "output_type": "execute_result",
          "data": {
            "text/plain": [
              "Text(0.5, 1.0, 'v2')"
            ]
          },
          "metadata": {},
          "execution_count": 150
        },
        {
          "output_type": "display_data",
          "data": {
            "image/png": "[encoded data removed]",
            "text/plain": [
              "<Figure size 432x216 with 2 Axes>"
            ]
          },
          "metadata": {
            "needs_background": "light"
          }
        }
      ]
    },
    {
      "cell_type": "markdown",
      "source": [
        "##Dynamic properties\n",
        "The fluid is Newtonian."
      ],
      "metadata": {
        "id": "hvAQmdvsnZQ5"
      }
    },
    {
      "cell_type": "code",
      "source": [
        "mu = 1e-3 # koefficient of dynamic viscosity (viscosity), Pa*s"
      ],
      "metadata": {
        "id": "t4YCVOBPneFt"
      },
      "execution_count": 151,
      "outputs": []
    },
    {
      "cell_type": "markdown",
      "source": [
        "##Check assimptotic solution\n",
        "Newtonian fluid flows between parallel plates "
      ],
      "metadata": {
        "id": "wOpHVjQdkxS_"
      }
    },
    {
      "cell_type": "code",
      "source": [
        "h=(126-92)*L/126\n",
        "pressureDrop = Q*3*mu*L/(2*h*h*h)\n",
        "externalPower = pressureDrop*Q\n",
        "v1ex = pressureDrop/(2*mu*L)*(1-x2n*x2n)*h*h\n",
        "psiex = pressureDrop/(2*mu*L)*(1-x2n*x2n/3)*h*h*h*x2n\n",
        "print('h =',h,'pressure drop =',pressureDrop,'external power =',externalPower)"
      ],
      "metadata": {
        "colab": {
          "base_uri": "https://localhost:8080/"
        },
        "id": "fpG0AV2LlF-W",
        "outputId": "b7432302-a43e-4cbb-b016-53be352bfdc0"
      },
      "execution_count": 152,
      "outputs": [
        {
          "output_type": "stream",
          "name": "stdout",
          "text": [
            "h = 0.026984126984126985 pressure drop = 7.634245878282108 external power = 7.634245878282108\n"
          ]
        }
      ]
    },
    {
      "cell_type": "code",
      "source": [
        "fig = plt.figure(figsize=(figSize*2, figSize))\n",
        "plt.subplot(1,2,1)\n",
        "plt.plot(v1ex)\n",
        "plt.subplot(1,2,2)\n",
        "plt.plot(psiex)"
      ],
      "metadata": {
        "id": "QZ7FdI9-GB6e",
        "outputId": "907d33f9-be6e-4160-8d3a-c47010864de8",
        "colab": {
          "base_uri": "https://localhost:8080/",
          "height": 228
        }
      },
      "execution_count": 153,
      "outputs": [
        {
          "output_type": "execute_result",
          "data": {
            "text/plain": [
              "[<matplotlib.lines.Line2D at 0x7fa74d460750>]"
            ]
          },
          "metadata": {},
          "execution_count": 153
        },
        {
          "output_type": "display_data",
          "data": {
            "image/png": "[encoded data removed]",
            "text/plain": [
              "<Figure size 432x216 with 2 Axes>"
            ]
          },
          "metadata": {
            "needs_background": "light"
          }
        }
      ]
    },
    {
      "cell_type": "markdown",
      "source": [
        "#Training"
      ],
      "metadata": {
        "id": "PhZutgNIyYhH"
      }
    },
    {
      "cell_type": "markdown",
      "source": [
        "##Create model\n",
        "Unet architecture [2] is used"
      ],
      "metadata": {
        "id": "FPeLHoR31p1D"
      }
    },
    {
      "cell_type": "code",
      "source": [
        "class UNet(nn.Module):\n",
        "\n",
        "    def __init__(self, in_channels=3, out_channels=1, init_features=4):\n",
        "        super(UNet, self).__init__()\n",
        "\n",
        "        features = init_features\n",
        "        self.encoder1 = UNet._block(in_channels, features, name=\"enc1\")\n",
        "        self.pool1 = nn.MaxPool2d(kernel_size=2, stride=2)\n",
        "        self.encoder2 = UNet._block(features, features * 2, name=\"enc2\")\n",
        "        self.pool2 = nn.MaxPool2d(kernel_size=2, stride=2)\n",
        "        self.encoder3 = UNet._block(features * 2, features * 4, name=\"enc3\")\n",
        "        self.pool3 = nn.MaxPool2d(kernel_size=2, stride=2)\n",
        "        self.encoder4 = UNet._block(features * 4, features * 8, name=\"enc4\")\n",
        "        self.pool4 = nn.MaxPool2d(kernel_size=2, stride=2)\n",
        "\n",
        "        self.bottleneck = UNet._block(features * 8, features * 16, name=\"bottleneck\")\n",
        "\n",
        "        self.upconv4 = nn.ConvTranspose2d(\n",
        "            features * 16, features * 8, kernel_size=2, stride=2\n",
        "        )\n",
        "        self.decoder4 = UNet._block((features * 8) * 2, features * 8, name=\"dec4\")\n",
        "        self.upconv3 = nn.ConvTranspose2d(\n",
        "            features * 8, features * 4, kernel_size=2, stride=2\n",
        "        )\n",
        "        self.decoder3 = UNet._block((features * 4) * 2, features * 4, name=\"dec3\")\n",
        "        self.upconv2 = nn.ConvTranspose2d(\n",
        "            features * 4, features * 2, kernel_size=2, stride=2\n",
        "        )\n",
        "        self.decoder2 = UNet._block((features * 2) * 2, features * 2, name=\"dec2\")\n",
        "        self.upconv1 = nn.ConvTranspose2d(\n",
        "            features * 2, features, kernel_size=2, stride=2\n",
        "        )\n",
        "        self.decoder1 = UNet._block(features * 2, features, name=\"dec1\")\n",
        "\n",
        "        self.conv = nn.Conv2d(\n",
        "            in_channels=features, out_channels=out_channels, kernel_size=1\n",
        "        )\n",
        "\n",
        "    def forward(self, x):\n",
        "        enc1 = self.encoder1(x)\n",
        "        enc2 = self.encoder2(self.pool1(enc1))\n",
        "        enc3 = self.encoder3(self.pool2(enc2))\n",
        "        enc4 = self.encoder4(self.pool3(enc3))\n",
        "\n",
        "        bottleneck = self.bottleneck(self.pool4(enc4))\n",
        "\n",
        "        dec4 = self.upconv4(bottleneck)\n",
        "        dec4 = torch.cat((dec4, enc4), dim=1)\n",
        "        dec4 = self.decoder4(dec4)\n",
        "        dec3 = self.upconv3(dec4)\n",
        "        dec3 = torch.cat((dec3, enc3), dim=1)\n",
        "        dec3 = self.decoder3(dec3)\n",
        "        dec2 = self.upconv2(dec3)\n",
        "        dec2 = torch.cat((dec2, enc2), dim=1)\n",
        "        dec2 = self.decoder2(dec2)\n",
        "        dec1 = self.upconv1(dec2)\n",
        "        dec1 = torch.cat((dec1, enc1), dim=1)\n",
        "        dec1 = self.decoder1(dec1)\n",
        "        return torch.sigmoid(self.conv(dec1))\n",
        "\n",
        "    @staticmethod\n",
        "    def _block(in_channels, features, name):\n",
        "        return nn.Sequential(\n",
        "            OrderedDict(\n",
        "                [\n",
        "                    (\n",
        "                        name + \"conv1\",\n",
        "                        nn.Conv2d(\n",
        "                            in_channels=in_channels,\n",
        "                            out_channels=features,\n",
        "                            kernel_size=3,\n",
        "                            padding=1,\n",
        "                            bias=False,\n",
        "                        ),\n",
        "                    ),\n",
        "                    (name + \"norm1\", nn.BatchNorm2d(num_features=features)),\n",
        "                    (name + \"relu1\", nn.ReLU(inplace=True)),\n",
        "                    (\n",
        "                        name + \"conv2\",\n",
        "                        nn.Conv2d(\n",
        "                            in_channels=features,\n",
        "                            out_channels=features,\n",
        "                            kernel_size=3,\n",
        "                            padding=1,\n",
        "                            bias=False,\n",
        "                        ),\n",
        "                    ),\n",
        "                    (name + \"norm2\", nn.BatchNorm2d(num_features=features)),\n",
        "                    (name + \"relu2\", nn.ReLU(inplace=True)),\n",
        "                ]\n",
        "            )\n",
        "        )\n",
        "\n",
        "\n",
        "        \n",
        "model = UNet(in_channels=1, out_channels=1, init_features=32)"
      ],
      "metadata": {
        "id": "PID82zl-cxN4"
      },
      "execution_count": 154,
      "outputs": []
    },
    {
      "cell_type": "code",
      "source": [
        "#model"
      ],
      "metadata": {
        "id": "2yb3P0n1c8df"
      },
      "execution_count": 155,
      "outputs": []
    },
    {
      "cell_type": "markdown",
      "source": [
        "## Optimizer"
      ],
      "metadata": {
        "id": "PwikCXOPyPPR"
      }
    },
    {
      "cell_type": "code",
      "source": [
        "optimizer = torch.optim.Adam(model.parameters(), lr=learnRate, weight_decay=1e-5)"
      ],
      "metadata": {
        "id": "oKBkisM7hASi"
      },
      "execution_count": 156,
      "outputs": []
    },
    {
      "cell_type": "markdown",
      "source": [
        "##Input image"
      ],
      "metadata": {
        "id": "TyTAp5u0yroJ"
      }
    },
    {
      "cell_type": "code",
      "source": [
        "psi0Masked.dtype"
      ],
      "metadata": {
        "id": "j6BFOOEv3OhT",
        "colab": {
          "base_uri": "https://localhost:8080/"
        },
        "outputId": "55df3c06-7cd6-49b3-f848-c51143227a3d"
      },
      "execution_count": 157,
      "outputs": [
        {
          "output_type": "execute_result",
          "data": {
            "text/plain": [
              "torch.float32"
            ]
          },
          "metadata": {},
          "execution_count": 157
        }
      ]
    },
    {
      "cell_type": "code",
      "source": [
        "#x = torch.randn((1, 1, 512, 512))\n",
        "x = torch.ones((1, 1, imgSize, imgSize))*psi0Masked\n",
        "#fig = plt.figure(figsize=(3, 3))\n",
        "#plt.imshow(x[0,0,:,:])\n",
        "x.dtype, x.shape"
      ],
      "metadata": {
        "id": "xruHyQ-vdVhz",
        "colab": {
          "base_uri": "https://localhost:8080/"
        },
        "outputId": "c621f83e-5a9a-458c-99fc-427d91767c3e"
      },
      "execution_count": 158,
      "outputs": [
        {
          "output_type": "execute_result",
          "data": {
            "text/plain": [
              "(torch.float32, torch.Size([1, 1, 512, 512]))"
            ]
          },
          "metadata": {},
          "execution_count": 158
        }
      ]
    },
    {
      "cell_type": "code",
      "source": [
        "#model(x)"
      ],
      "metadata": {
        "id": "f1L8QG9ndbML"
      },
      "execution_count": 159,
      "outputs": []
    },
    {
      "cell_type": "code",
      "source": [
        "s = dx1n*dx2n*lim1[1]*lim2[1]\n",
        "s"
      ],
      "metadata": {
        "id": "osreN0VAdhZw",
        "colab": {
          "base_uri": "https://localhost:8080/"
        },
        "outputId": "fed157a0-5d18-4670-f049-1e32628304c7"
      },
      "execution_count": 160,
      "outputs": [
        {
          "output_type": "execute_result",
          "data": {
            "text/plain": [
              "tensor(3.8296e-08)"
            ]
          },
          "metadata": {},
          "execution_count": 160
        }
      ]
    },
    {
      "cell_type": "code",
      "source": [
        "history = []\n",
        "\n",
        "\n",
        "for epoch in range(noOfEpoch):\n",
        "  psi = model(x)\n",
        "  psiMasked = (psi[0,0,:,:]*wallsMask) + (inverseUpperWallMask*Q)\n",
        "  print(psi[0,0,:,:].shape)\n",
        "  v1,v2 = velocityDistr(psiMasked,dx1n,dx2n,lim1,lim2)\n",
        "  xi11,xi12,xi22,EtaEta = TksiDistr(v1,v2,dx1n,dx2n,lim1,lim2)\n",
        "  out = 0.5*mu*s*EtaEta.sum() #doublelIntegral(0.5*mu*EtaEta,lim1,lim2) #loss\n",
        "  #out = loss(out)\n",
        "  if out < 1e-6:\n",
        "      break\n",
        "  history.append(out.item())\n",
        "  out.backward()\n",
        "  optimizer.step()\n",
        "  print('#iter',epoch,'loss',out)"
      ],
      "metadata": {
        "id": "CsBCY3g4gspY",
        "colab": {
          "base_uri": "https://localhost:8080/"
        },
        "outputId": "4ce06f5e-b92f-4400-c166-24c8e3030c07"
      },
      "execution_count": null,
      "outputs": [
        {
          "output_type": "stream",
          "name": "stdout",
          "text": [
            "torch.Size([512, 512])\n",
            "#iter 0 loss tensor(1513302.7500, grad_fn=<MulBackward0>)\n",
            "torch.Size([512, 512])\n",
            "#iter 1 loss tensor(1428006.3750, grad_fn=<MulBackward0>)\n",
            "torch.Size([512, 512])\n",
            "#iter 2 loss tensor(434927.3438, grad_fn=<MulBackward0>)\n",
            "torch.Size([512, 512])\n",
            "#iter 3 loss tensor(216691.5156, grad_fn=<MulBackward0>)\n",
            "torch.Size([512, 512])\n",
            "#iter 4 loss tensor(225005.6094, grad_fn=<MulBackward0>)\n",
            "torch.Size([512, 512])\n",
            "#iter 5 loss tensor(289591.1875, grad_fn=<MulBackward0>)\n",
            "torch.Size([512, 512])\n",
            "#iter 6 loss tensor(305606.4375, grad_fn=<MulBackward0>)\n",
            "torch.Size([512, 512])\n",
            "#iter 7 loss tensor(271963.6875, grad_fn=<MulBackward0>)\n",
            "torch.Size([512, 512])\n",
            "#iter 8 loss tensor(227569.2344, grad_fn=<MulBackward0>)\n",
            "torch.Size([512, 512])\n",
            "#iter 9 loss tensor(188486.5312, grad_fn=<MulBackward0>)\n",
            "torch.Size([512, 512])\n",
            "#iter 10 loss tensor(168689.4844, grad_fn=<MulBackward0>)\n",
            "torch.Size([512, 512])\n",
            "#iter 11 loss tensor(146080.9844, grad_fn=<MulBackward0>)\n",
            "torch.Size([512, 512])\n",
            "#iter 12 loss tensor(116310.5859, grad_fn=<MulBackward0>)\n",
            "torch.Size([512, 512])\n",
            "#iter 13 loss tensor(87795.5547, grad_fn=<MulBackward0>)\n",
            "torch.Size([512, 512])\n",
            "#iter 14 loss tensor(72029.9219, grad_fn=<MulBackward0>)\n",
            "torch.Size([512, 512])\n",
            "#iter 15 loss tensor(68112.2812, grad_fn=<MulBackward0>)\n",
            "torch.Size([512, 512])\n",
            "#iter 16 loss tensor(76469.6016, grad_fn=<MulBackward0>)\n",
            "torch.Size([512, 512])\n",
            "#iter 17 loss tensor(86145.9375, grad_fn=<MulBackward0>)\n",
            "torch.Size([512, 512])\n",
            "#iter 18 loss tensor(92110.9688, grad_fn=<MulBackward0>)\n",
            "torch.Size([512, 512])\n",
            "#iter 19 loss tensor(91128.4297, grad_fn=<MulBackward0>)\n",
            "torch.Size([512, 512])\n",
            "#iter 20 loss tensor(85512.0312, grad_fn=<MulBackward0>)\n",
            "torch.Size([512, 512])\n",
            "#iter 21 loss tensor(73933.9531, grad_fn=<MulBackward0>)\n",
            "torch.Size([512, 512])\n",
            "#iter 22 loss tensor(60642.0469, grad_fn=<MulBackward0>)\n",
            "torch.Size([512, 512])\n",
            "#iter 23 loss tensor(52307.9414, grad_fn=<MulBackward0>)\n",
            "torch.Size([512, 512])\n",
            "#iter 24 loss tensor(50138.0039, grad_fn=<MulBackward0>)\n",
            "torch.Size([512, 512])\n",
            "#iter 25 loss tensor(57601.8516, grad_fn=<MulBackward0>)\n",
            "torch.Size([512, 512])\n",
            "#iter 26 loss tensor(72385.6719, grad_fn=<MulBackward0>)\n",
            "torch.Size([512, 512])\n",
            "#iter 27 loss tensor(114843.0859, grad_fn=<MulBackward0>)\n",
            "torch.Size([512, 512])\n",
            "#iter 28 loss tensor(94928.9375, grad_fn=<MulBackward0>)\n",
            "torch.Size([512, 512])\n",
            "#iter 29 loss tensor(50256.6602, grad_fn=<MulBackward0>)\n",
            "torch.Size([512, 512])\n",
            "#iter 30 loss tensor(44983.6484, grad_fn=<MulBackward0>)\n",
            "torch.Size([512, 512])\n",
            "#iter 31 loss tensor(47029.8516, grad_fn=<MulBackward0>)\n",
            "torch.Size([512, 512])\n",
            "#iter 32 loss tensor(52233.4414, grad_fn=<MulBackward0>)\n",
            "torch.Size([512, 512])\n",
            "#iter 33 loss tensor(58067.0078, grad_fn=<MulBackward0>)\n",
            "torch.Size([512, 512])\n",
            "#iter 34 loss tensor(68627.5234, grad_fn=<MulBackward0>)\n",
            "torch.Size([512, 512])\n",
            "#iter 35 loss tensor(80763.8516, grad_fn=<MulBackward0>)\n",
            "torch.Size([512, 512])\n",
            "#iter 36 loss tensor(89565.9922, grad_fn=<MulBackward0>)\n",
            "torch.Size([512, 512])\n",
            "#iter 37 loss tensor(84477.8047, grad_fn=<MulBackward0>)\n",
            "torch.Size([512, 512])\n",
            "#iter 38 loss tensor(66576.9922, grad_fn=<MulBackward0>)\n",
            "torch.Size([512, 512])\n",
            "#iter 39 loss tensor(51439.9336, grad_fn=<MulBackward0>)\n",
            "torch.Size([512, 512])\n",
            "#iter 40 loss tensor(44116.3516, grad_fn=<MulBackward0>)\n",
            "torch.Size([512, 512])\n",
            "#iter 41 loss tensor(38426.3164, grad_fn=<MulBackward0>)\n",
            "torch.Size([512, 512])\n",
            "#iter 42 loss tensor(33982.0586, grad_fn=<MulBackward0>)\n",
            "torch.Size([512, 512])\n",
            "#iter 43 loss tensor(29904.5273, grad_fn=<MulBackward0>)\n",
            "torch.Size([512, 512])\n",
            "#iter 44 loss tensor(26247.0176, grad_fn=<MulBackward0>)\n",
            "torch.Size([512, 512])\n",
            "#iter 45 loss tensor(24719.8242, grad_fn=<MulBackward0>)\n",
            "torch.Size([512, 512])\n",
            "#iter 46 loss tensor(24261.8965, grad_fn=<MulBackward0>)\n",
            "torch.Size([512, 512])\n",
            "#iter 47 loss tensor(24007.7344, grad_fn=<MulBackward0>)\n",
            "torch.Size([512, 512])\n",
            "#iter 48 loss tensor(23758.9082, grad_fn=<MulBackward0>)\n",
            "torch.Size([512, 512])\n",
            "#iter 49 loss tensor(23678.6191, grad_fn=<MulBackward0>)\n",
            "torch.Size([512, 512])\n",
            "#iter 50 loss tensor(23646.6523, grad_fn=<MulBackward0>)\n",
            "torch.Size([512, 512])\n",
            "#iter 51 loss tensor(23577.6680, grad_fn=<MulBackward0>)\n",
            "torch.Size([512, 512])\n",
            "#iter 52 loss tensor(23398.7969, grad_fn=<MulBackward0>)\n",
            "torch.Size([512, 512])\n",
            "#iter 53 loss tensor(23243.0781, grad_fn=<MulBackward0>)\n",
            "torch.Size([512, 512])\n",
            "#iter 54 loss tensor(23095.5586, grad_fn=<MulBackward0>)\n",
            "torch.Size([512, 512])\n",
            "#iter 55 loss tensor(22878.7969, grad_fn=<MulBackward0>)\n",
            "torch.Size([512, 512])\n",
            "#iter 56 loss tensor(22560.2324, grad_fn=<MulBackward0>)\n",
            "torch.Size([512, 512])\n",
            "#iter 57 loss tensor(22161.6504, grad_fn=<MulBackward0>)\n",
            "torch.Size([512, 512])\n",
            "#iter 58 loss tensor(21587.6582, grad_fn=<MulBackward0>)\n",
            "torch.Size([512, 512])\n",
            "#iter 59 loss tensor(20800.7188, grad_fn=<MulBackward0>)\n",
            "torch.Size([512, 512])\n",
            "#iter 60 loss tensor(20145.2656, grad_fn=<MulBackward0>)\n",
            "torch.Size([512, 512])\n",
            "#iter 61 loss tensor(19566.6406, grad_fn=<MulBackward0>)\n",
            "torch.Size([512, 512])\n",
            "#iter 62 loss tensor(19052.7051, grad_fn=<MulBackward0>)\n",
            "torch.Size([512, 512])\n",
            "#iter 63 loss tensor(18554.0977, grad_fn=<MulBackward0>)\n",
            "torch.Size([512, 512])\n",
            "#iter 64 loss tensor(18077.4219, grad_fn=<MulBackward0>)\n",
            "torch.Size([512, 512])\n",
            "#iter 65 loss tensor(17596.2129, grad_fn=<MulBackward0>)\n",
            "torch.Size([512, 512])\n",
            "#iter 66 loss tensor(17106.0430, grad_fn=<MulBackward0>)\n",
            "torch.Size([512, 512])\n",
            "#iter 67 loss tensor(16627.6953, grad_fn=<MulBackward0>)\n",
            "torch.Size([512, 512])\n",
            "#iter 68 loss tensor(16183.9453, grad_fn=<MulBackward0>)\n",
            "torch.Size([512, 512])\n",
            "#iter 69 loss tensor(15778.6260, grad_fn=<MulBackward0>)\n",
            "torch.Size([512, 512])\n",
            "#iter 70 loss tensor(15430.0703, grad_fn=<MulBackward0>)\n",
            "torch.Size([512, 512])\n",
            "#iter 71 loss tensor(15074.4033, grad_fn=<MulBackward0>)\n",
            "torch.Size([512, 512])\n",
            "#iter 72 loss tensor(14733.7441, grad_fn=<MulBackward0>)\n",
            "torch.Size([512, 512])\n",
            "#iter 73 loss tensor(14402.4854, grad_fn=<MulBackward0>)\n",
            "torch.Size([512, 512])\n",
            "#iter 74 loss tensor(14073.7891, grad_fn=<MulBackward0>)\n",
            "torch.Size([512, 512])\n",
            "#iter 75 loss tensor(13767.9941, grad_fn=<MulBackward0>)\n",
            "torch.Size([512, 512])\n",
            "#iter 76 loss tensor(13464.9785, grad_fn=<MulBackward0>)\n",
            "torch.Size([512, 512])\n",
            "#iter 77 loss tensor(13183.2012, grad_fn=<MulBackward0>)\n",
            "torch.Size([512, 512])\n",
            "#iter 78 loss tensor(12915.1064, grad_fn=<MulBackward0>)\n",
            "torch.Size([512, 512])\n",
            "#iter 79 loss tensor(12648.5566, grad_fn=<MulBackward0>)\n",
            "torch.Size([512, 512])\n",
            "#iter 80 loss tensor(12395.8682, grad_fn=<MulBackward0>)\n",
            "torch.Size([512, 512])\n",
            "#iter 81 loss tensor(12157.9238, grad_fn=<MulBackward0>)\n",
            "torch.Size([512, 512])\n",
            "#iter 82 loss tensor(11928.0098, grad_fn=<MulBackward0>)\n",
            "torch.Size([512, 512])\n",
            "#iter 83 loss tensor(11711.1719, grad_fn=<MulBackward0>)\n",
            "torch.Size([512, 512])\n",
            "#iter 84 loss tensor(11510.3740, grad_fn=<MulBackward0>)\n",
            "torch.Size([512, 512])\n",
            "#iter 85 loss tensor(11302.4561, grad_fn=<MulBackward0>)\n",
            "torch.Size([512, 512])\n",
            "#iter 86 loss tensor(11092.6523, grad_fn=<MulBackward0>)\n",
            "torch.Size([512, 512])\n",
            "#iter 87 loss tensor(10887.9521, grad_fn=<MulBackward0>)\n",
            "torch.Size([512, 512])\n",
            "#iter 88 loss tensor(10691.8193, grad_fn=<MulBackward0>)\n",
            "torch.Size([512, 512])\n",
            "#iter 89 loss tensor(10528.6943, grad_fn=<MulBackward0>)\n",
            "torch.Size([512, 512])\n",
            "#iter 90 loss tensor(10376.5010, grad_fn=<MulBackward0>)\n",
            "torch.Size([512, 512])\n",
            "#iter 91 loss tensor(10232.5850, grad_fn=<MulBackward0>)\n",
            "torch.Size([512, 512])\n",
            "#iter 92 loss tensor(10104.4893, grad_fn=<MulBackward0>)\n",
            "torch.Size([512, 512])\n",
            "#iter 93 loss tensor(9991.3340, grad_fn=<MulBackward0>)\n",
            "torch.Size([512, 512])\n",
            "#iter 94 loss tensor(9889.0215, grad_fn=<MulBackward0>)\n",
            "torch.Size([512, 512])\n",
            "#iter 95 loss tensor(9799.7061, grad_fn=<MulBackward0>)\n",
            "torch.Size([512, 512])\n",
            "#iter 96 loss tensor(9713.9951, grad_fn=<MulBackward0>)\n",
            "torch.Size([512, 512])\n",
            "#iter 97 loss tensor(9632.6240, grad_fn=<MulBackward0>)\n",
            "torch.Size([512, 512])\n",
            "#iter 98 loss tensor(9552.2812, grad_fn=<MulBackward0>)\n",
            "torch.Size([512, 512])\n",
            "#iter 99 loss tensor(9481.2021, grad_fn=<MulBackward0>)\n",
            "torch.Size([512, 512])\n",
            "#iter 100 loss tensor(9415.3887, grad_fn=<MulBackward0>)\n",
            "torch.Size([512, 512])\n",
            "#iter 101 loss tensor(9356.2891, grad_fn=<MulBackward0>)\n",
            "torch.Size([512, 512])\n",
            "#iter 102 loss tensor(9303.9492, grad_fn=<MulBackward0>)\n",
            "torch.Size([512, 512])\n",
            "#iter 103 loss tensor(9260.7578, grad_fn=<MulBackward0>)\n",
            "torch.Size([512, 512])\n",
            "#iter 104 loss tensor(9227.2197, grad_fn=<MulBackward0>)\n",
            "torch.Size([512, 512])\n",
            "#iter 105 loss tensor(9202.0811, grad_fn=<MulBackward0>)\n",
            "torch.Size([512, 512])\n",
            "#iter 106 loss tensor(9158.8467, grad_fn=<MulBackward0>)\n",
            "torch.Size([512, 512])\n",
            "#iter 107 loss tensor(9110.6445, grad_fn=<MulBackward0>)\n",
            "torch.Size([512, 512])\n",
            "#iter 108 loss tensor(9059.8057, grad_fn=<MulBackward0>)\n",
            "torch.Size([512, 512])\n",
            "#iter 109 loss tensor(9016.6689, grad_fn=<MulBackward0>)\n",
            "torch.Size([512, 512])\n",
            "#iter 110 loss tensor(8986.3623, grad_fn=<MulBackward0>)\n",
            "torch.Size([512, 512])\n",
            "#iter 111 loss tensor(8950.6943, grad_fn=<MulBackward0>)\n",
            "torch.Size([512, 512])\n",
            "#iter 112 loss tensor(8902.8994, grad_fn=<MulBackward0>)\n",
            "torch.Size([512, 512])\n",
            "#iter 113 loss tensor(8868.6357, grad_fn=<MulBackward0>)\n",
            "torch.Size([512, 512])\n",
            "#iter 114 loss tensor(8873.3721, grad_fn=<MulBackward0>)\n",
            "torch.Size([512, 512])\n",
            "#iter 115 loss tensor(8900.0410, grad_fn=<MulBackward0>)\n",
            "torch.Size([512, 512])\n",
            "#iter 116 loss tensor(8919.9258, grad_fn=<MulBackward0>)\n",
            "torch.Size([512, 512])\n",
            "#iter 117 loss tensor(8923.4453, grad_fn=<MulBackward0>)\n",
            "torch.Size([512, 512])\n",
            "#iter 118 loss tensor(8944.6250, grad_fn=<MulBackward0>)\n",
            "torch.Size([512, 512])\n",
            "#iter 119 loss tensor(8945.7900, grad_fn=<MulBackward0>)\n",
            "torch.Size([512, 512])\n",
            "#iter 120 loss tensor(8939.0391, grad_fn=<MulBackward0>)\n",
            "torch.Size([512, 512])\n",
            "#iter 121 loss tensor(8928.0879, grad_fn=<MulBackward0>)\n",
            "torch.Size([512, 512])\n",
            "#iter 122 loss tensor(8916.1768, grad_fn=<MulBackward0>)\n",
            "torch.Size([512, 512])\n",
            "#iter 123 loss tensor(8890.0439, grad_fn=<MulBackward0>)\n",
            "torch.Size([512, 512])\n",
            "#iter 124 loss tensor(8850.9893, grad_fn=<MulBackward0>)\n",
            "torch.Size([512, 512])\n",
            "#iter 125 loss tensor(8803.6270, grad_fn=<MulBackward0>)\n",
            "torch.Size([512, 512])\n",
            "#iter 126 loss tensor(8749.4004, grad_fn=<MulBackward0>)\n",
            "torch.Size([512, 512])\n",
            "#iter 127 loss tensor(8681.8574, grad_fn=<MulBackward0>)\n",
            "torch.Size([512, 512])\n",
            "#iter 128 loss tensor(8602.5527, grad_fn=<MulBackward0>)\n",
            "torch.Size([512, 512])\n",
            "#iter 129 loss tensor(8527.9648, grad_fn=<MulBackward0>)\n",
            "torch.Size([512, 512])\n",
            "#iter 130 loss tensor(8461.8467, grad_fn=<MulBackward0>)\n",
            "torch.Size([512, 512])\n",
            "#iter 131 loss tensor(8404.0400, grad_fn=<MulBackward0>)\n",
            "torch.Size([512, 512])\n",
            "#iter 132 loss tensor(8359.6807, grad_fn=<MulBackward0>)\n",
            "torch.Size([512, 512])\n",
            "#iter 133 loss tensor(8322.7256, grad_fn=<MulBackward0>)\n",
            "torch.Size([512, 512])\n",
            "#iter 134 loss tensor(8322.6562, grad_fn=<MulBackward0>)\n",
            "torch.Size([512, 512])\n",
            "#iter 135 loss tensor(8329.4443, grad_fn=<MulBackward0>)\n",
            "torch.Size([512, 512])\n",
            "#iter 136 loss tensor(8333.4912, grad_fn=<MulBackward0>)\n",
            "torch.Size([512, 512])\n",
            "#iter 137 loss tensor(8329.5283, grad_fn=<MulBackward0>)\n",
            "torch.Size([512, 512])\n",
            "#iter 138 loss tensor(8327.9004, grad_fn=<MulBackward0>)\n",
            "torch.Size([512, 512])\n",
            "#iter 139 loss tensor(8324.3682, grad_fn=<MulBackward0>)\n",
            "torch.Size([512, 512])\n",
            "#iter 140 loss tensor(8318.6230, grad_fn=<MulBackward0>)\n",
            "torch.Size([512, 512])\n",
            "#iter 141 loss tensor(8336.2256, grad_fn=<MulBackward0>)\n",
            "torch.Size([512, 512])\n",
            "#iter 142 loss tensor(8386.3125, grad_fn=<MulBackward0>)\n",
            "torch.Size([512, 512])\n",
            "#iter 143 loss tensor(8449.4473, grad_fn=<MulBackward0>)\n",
            "torch.Size([512, 512])\n",
            "#iter 144 loss tensor(8536.1494, grad_fn=<MulBackward0>)\n",
            "torch.Size([512, 512])\n",
            "#iter 145 loss tensor(8632.3135, grad_fn=<MulBackward0>)\n",
            "torch.Size([512, 512])\n",
            "#iter 146 loss tensor(8720.4824, grad_fn=<MulBackward0>)\n",
            "torch.Size([512, 512])\n",
            "#iter 147 loss tensor(8779.3066, grad_fn=<MulBackward0>)\n",
            "torch.Size([512, 512])\n",
            "#iter 148 loss tensor(8826.5791, grad_fn=<MulBackward0>)\n",
            "torch.Size([512, 512])\n",
            "#iter 149 loss tensor(8881.0986, grad_fn=<MulBackward0>)\n",
            "torch.Size([512, 512])\n",
            "#iter 150 loss tensor(8931.5605, grad_fn=<MulBackward0>)\n",
            "torch.Size([512, 512])\n",
            "#iter 151 loss tensor(8967.6963, grad_fn=<MulBackward0>)\n",
            "torch.Size([512, 512])\n",
            "#iter 152 loss tensor(8983.7207, grad_fn=<MulBackward0>)\n",
            "torch.Size([512, 512])\n",
            "#iter 153 loss tensor(8968.4023, grad_fn=<MulBackward0>)\n",
            "torch.Size([512, 512])\n",
            "#iter 154 loss tensor(8934.6494, grad_fn=<MulBackward0>)\n",
            "torch.Size([512, 512])\n",
            "#iter 155 loss tensor(8863.6650, grad_fn=<MulBackward0>)\n",
            "torch.Size([512, 512])\n",
            "#iter 156 loss tensor(8747.2852, grad_fn=<MulBackward0>)\n",
            "torch.Size([512, 512])\n",
            "#iter 157 loss tensor(8594.4355, grad_fn=<MulBackward0>)\n",
            "torch.Size([512, 512])\n",
            "#iter 158 loss tensor(8381.2188, grad_fn=<MulBackward0>)\n",
            "torch.Size([512, 512])\n",
            "#iter 159 loss tensor(8133.8867, grad_fn=<MulBackward0>)\n",
            "torch.Size([512, 512])\n",
            "#iter 160 loss tensor(7866.0356, grad_fn=<MulBackward0>)\n",
            "torch.Size([512, 512])\n",
            "#iter 161 loss tensor(7574.1289, grad_fn=<MulBackward0>)\n",
            "torch.Size([512, 512])\n",
            "#iter 162 loss tensor(7261.1021, grad_fn=<MulBackward0>)\n",
            "torch.Size([512, 512])\n",
            "#iter 163 loss tensor(6938.6602, grad_fn=<MulBackward0>)\n",
            "torch.Size([512, 512])\n",
            "#iter 164 loss tensor(6625.6147, grad_fn=<MulBackward0>)\n",
            "torch.Size([512, 512])\n",
            "#iter 165 loss tensor(6326.3369, grad_fn=<MulBackward0>)\n",
            "torch.Size([512, 512])\n",
            "#iter 166 loss tensor(6040.1865, grad_fn=<MulBackward0>)\n",
            "torch.Size([512, 512])\n",
            "#iter 167 loss tensor(5775.6528, grad_fn=<MulBackward0>)\n",
            "torch.Size([512, 512])\n",
            "#iter 168 loss tensor(5520.3589, grad_fn=<MulBackward0>)\n",
            "torch.Size([512, 512])\n",
            "#iter 169 loss tensor(5288.0864, grad_fn=<MulBackward0>)\n",
            "torch.Size([512, 512])\n",
            "#iter 170 loss tensor(5115.3916, grad_fn=<MulBackward0>)\n",
            "torch.Size([512, 512])\n",
            "#iter 171 loss tensor(5006.8179, grad_fn=<MulBackward0>)\n",
            "torch.Size([512, 512])\n",
            "#iter 172 loss tensor(4948.1567, grad_fn=<MulBackward0>)\n",
            "torch.Size([512, 512])\n",
            "#iter 173 loss tensor(4924.7939, grad_fn=<MulBackward0>)\n",
            "torch.Size([512, 512])\n",
            "#iter 174 loss tensor(4950.7036, grad_fn=<MulBackward0>)\n",
            "torch.Size([512, 512])\n",
            "#iter 175 loss tensor(5024.6494, grad_fn=<MulBackward0>)\n",
            "torch.Size([512, 512])\n",
            "#iter 176 loss tensor(5146.0425, grad_fn=<MulBackward0>)\n",
            "torch.Size([512, 512])\n",
            "#iter 177 loss tensor(5315.2886, grad_fn=<MulBackward0>)\n",
            "torch.Size([512, 512])\n",
            "#iter 178 loss tensor(5524.1240, grad_fn=<MulBackward0>)\n",
            "torch.Size([512, 512])\n",
            "#iter 179 loss tensor(5761.9185, grad_fn=<MulBackward0>)\n",
            "torch.Size([512, 512])\n",
            "#iter 180 loss tensor(6020.1323, grad_fn=<MulBackward0>)\n",
            "torch.Size([512, 512])\n",
            "#iter 181 loss tensor(6299.3291, grad_fn=<MulBackward0>)\n",
            "torch.Size([512, 512])\n",
            "#iter 182 loss tensor(6598.3433, grad_fn=<MulBackward0>)\n",
            "torch.Size([512, 512])\n",
            "#iter 183 loss tensor(6915.5249, grad_fn=<MulBackward0>)\n",
            "torch.Size([512, 512])\n",
            "#iter 184 loss tensor(7246.6538, grad_fn=<MulBackward0>)\n",
            "torch.Size([512, 512])\n",
            "#iter 185 loss tensor(7575.7310, grad_fn=<MulBackward0>)\n",
            "torch.Size([512, 512])\n",
            "#iter 186 loss tensor(7897.6338, grad_fn=<MulBackward0>)\n",
            "torch.Size([512, 512])\n",
            "#iter 187 loss tensor(8205.0371, grad_fn=<MulBackward0>)\n",
            "torch.Size([512, 512])\n",
            "#iter 188 loss tensor(8494.7529, grad_fn=<MulBackward0>)\n",
            "torch.Size([512, 512])\n",
            "#iter 189 loss tensor(8774.7256, grad_fn=<MulBackward0>)\n",
            "torch.Size([512, 512])\n",
            "#iter 190 loss tensor(9004.1543, grad_fn=<MulBackward0>)\n",
            "torch.Size([512, 512])\n",
            "#iter 191 loss tensor(9260.3818, grad_fn=<MulBackward0>)\n",
            "torch.Size([512, 512])\n",
            "#iter 192 loss tensor(9463.2988, grad_fn=<MulBackward0>)\n",
            "torch.Size([512, 512])\n",
            "#iter 193 loss tensor(9681.4551, grad_fn=<MulBackward0>)\n",
            "torch.Size([512, 512])\n",
            "#iter 194 loss tensor(9864.1240, grad_fn=<MulBackward0>)\n",
            "torch.Size([512, 512])\n",
            "#iter 195 loss tensor(9983.6367, grad_fn=<MulBackward0>)\n",
            "torch.Size([512, 512])\n",
            "#iter 196 loss tensor(10056.4414, grad_fn=<MulBackward0>)\n",
            "torch.Size([512, 512])\n",
            "#iter 197 loss tensor(10065.8320, grad_fn=<MulBackward0>)\n",
            "torch.Size([512, 512])\n",
            "#iter 198 loss tensor(10034.9395, grad_fn=<MulBackward0>)\n",
            "torch.Size([512, 512])\n",
            "#iter 199 loss tensor(9943.2021, grad_fn=<MulBackward0>)\n",
            "torch.Size([512, 512])\n",
            "#iter 200 loss tensor(9787.0020, grad_fn=<MulBackward0>)\n",
            "torch.Size([512, 512])\n",
            "#iter 201 loss tensor(9578.1816, grad_fn=<MulBackward0>)\n",
            "torch.Size([512, 512])\n",
            "#iter 202 loss tensor(9314.0430, grad_fn=<MulBackward0>)\n",
            "torch.Size([512, 512])\n",
            "#iter 203 loss tensor(9055.0605, grad_fn=<MulBackward0>)\n",
            "torch.Size([512, 512])\n",
            "#iter 204 loss tensor(8777.1973, grad_fn=<MulBackward0>)\n",
            "torch.Size([512, 512])\n",
            "#iter 205 loss tensor(8530.0732, grad_fn=<MulBackward0>)\n",
            "torch.Size([512, 512])\n",
            "#iter 206 loss tensor(8284.5078, grad_fn=<MulBackward0>)\n",
            "torch.Size([512, 512])\n",
            "#iter 207 loss tensor(8050.1558, grad_fn=<MulBackward0>)\n",
            "torch.Size([512, 512])\n",
            "#iter 208 loss tensor(7785.1606, grad_fn=<MulBackward0>)\n",
            "torch.Size([512, 512])\n",
            "#iter 209 loss tensor(7554.5459, grad_fn=<MulBackward0>)\n",
            "torch.Size([512, 512])\n",
            "#iter 210 loss tensor(7398.2559, grad_fn=<MulBackward0>)\n",
            "torch.Size([512, 512])\n",
            "#iter 211 loss tensor(7163.2271, grad_fn=<MulBackward0>)\n",
            "torch.Size([512, 512])\n",
            "#iter 212 loss tensor(6971.0986, grad_fn=<MulBackward0>)\n",
            "torch.Size([512, 512])\n",
            "#iter 213 loss tensor(6842.5039, grad_fn=<MulBackward0>)\n",
            "torch.Size([512, 512])\n",
            "#iter 214 loss tensor(6670.9126, grad_fn=<MulBackward0>)\n",
            "torch.Size([512, 512])\n",
            "#iter 215 loss tensor(6419.2534, grad_fn=<MulBackward0>)\n",
            "torch.Size([512, 512])\n",
            "#iter 216 loss tensor(6212.1797, grad_fn=<MulBackward0>)\n",
            "torch.Size([512, 512])\n",
            "#iter 217 loss tensor(5980.0659, grad_fn=<MulBackward0>)\n",
            "torch.Size([512, 512])\n",
            "#iter 218 loss tensor(5761.5278, grad_fn=<MulBackward0>)\n",
            "torch.Size([512, 512])\n",
            "#iter 219 loss tensor(5609.2495, grad_fn=<MulBackward0>)\n",
            "torch.Size([512, 512])\n",
            "#iter 220 loss tensor(5540.3525, grad_fn=<MulBackward0>)\n",
            "torch.Size([512, 512])\n",
            "#iter 221 loss tensor(5458.7583, grad_fn=<MulBackward0>)\n",
            "torch.Size([512, 512])\n",
            "#iter 222 loss tensor(5397.3784, grad_fn=<MulBackward0>)\n",
            "torch.Size([512, 512])\n",
            "#iter 223 loss tensor(5421.9839, grad_fn=<MulBackward0>)\n",
            "torch.Size([512, 512])\n",
            "#iter 224 loss tensor(5446.9922, grad_fn=<MulBackward0>)\n",
            "torch.Size([512, 512])\n",
            "#iter 225 loss tensor(5480.7700, grad_fn=<MulBackward0>)\n",
            "torch.Size([512, 512])\n",
            "#iter 226 loss tensor(5520.2002, grad_fn=<MulBackward0>)\n",
            "torch.Size([512, 512])\n",
            "#iter 227 loss tensor(5565.9458, grad_fn=<MulBackward0>)\n",
            "torch.Size([512, 512])\n",
            "#iter 228 loss tensor(5594.8779, grad_fn=<MulBackward0>)\n",
            "torch.Size([512, 512])\n",
            "#iter 229 loss tensor(5626.1997, grad_fn=<MulBackward0>)\n",
            "torch.Size([512, 512])\n",
            "#iter 230 loss tensor(5681.7559, grad_fn=<MulBackward0>)\n",
            "torch.Size([512, 512])\n",
            "#iter 231 loss tensor(5743.2446, grad_fn=<MulBackward0>)\n",
            "torch.Size([512, 512])\n",
            "#iter 232 loss tensor(5812.8589, grad_fn=<MulBackward0>)\n",
            "torch.Size([512, 512])\n",
            "#iter 233 loss tensor(5885.3813, grad_fn=<MulBackward0>)\n",
            "torch.Size([512, 512])\n",
            "#iter 234 loss tensor(5952.0024, grad_fn=<MulBackward0>)\n",
            "torch.Size([512, 512])\n",
            "#iter 235 loss tensor(6017.2393, grad_fn=<MulBackward0>)\n",
            "torch.Size([512, 512])\n",
            "#iter 236 loss tensor(6080.6250, grad_fn=<MulBackward0>)\n",
            "torch.Size([512, 512])\n",
            "#iter 237 loss tensor(6151.6943, grad_fn=<MulBackward0>)\n",
            "torch.Size([512, 512])\n",
            "#iter 238 loss tensor(6228.5537, grad_fn=<MulBackward0>)\n",
            "torch.Size([512, 512])\n",
            "#iter 239 loss tensor(6316.1606, grad_fn=<MulBackward0>)\n",
            "torch.Size([512, 512])\n",
            "#iter 240 loss tensor(6413.2769, grad_fn=<MulBackward0>)\n",
            "torch.Size([512, 512])\n",
            "#iter 241 loss tensor(6508.2998, grad_fn=<MulBackward0>)\n",
            "torch.Size([512, 512])\n",
            "#iter 242 loss tensor(6602.5596, grad_fn=<MulBackward0>)\n",
            "torch.Size([512, 512])\n",
            "#iter 243 loss tensor(6685.9673, grad_fn=<MulBackward0>)\n",
            "torch.Size([512, 512])\n",
            "#iter 244 loss tensor(6774.1934, grad_fn=<MulBackward0>)\n",
            "torch.Size([512, 512])\n",
            "#iter 245 loss tensor(6869.7539, grad_fn=<MulBackward0>)\n",
            "torch.Size([512, 512])\n",
            "#iter 246 loss tensor(6957.4390, grad_fn=<MulBackward0>)\n",
            "torch.Size([512, 512])\n",
            "#iter 247 loss tensor(7031.3696, grad_fn=<MulBackward0>)\n",
            "torch.Size([512, 512])\n",
            "#iter 248 loss tensor(7094.2314, grad_fn=<MulBackward0>)\n",
            "torch.Size([512, 512])\n",
            "#iter 249 loss tensor(7166.1396, grad_fn=<MulBackward0>)\n",
            "torch.Size([512, 512])\n",
            "#iter 250 loss tensor(7245.4839, grad_fn=<MulBackward0>)\n",
            "torch.Size([512, 512])\n",
            "#iter 251 loss tensor(7330.2812, grad_fn=<MulBackward0>)\n",
            "torch.Size([512, 512])\n",
            "#iter 252 loss tensor(7420.3325, grad_fn=<MulBackward0>)\n",
            "torch.Size([512, 512])\n",
            "#iter 253 loss tensor(7518.4253, grad_fn=<MulBackward0>)\n",
            "torch.Size([512, 512])\n",
            "#iter 254 loss tensor(7622.1421, grad_fn=<MulBackward0>)\n",
            "torch.Size([512, 512])\n",
            "#iter 255 loss tensor(7727.9102, grad_fn=<MulBackward0>)\n",
            "torch.Size([512, 512])\n",
            "#iter 256 loss tensor(7834.1055, grad_fn=<MulBackward0>)\n",
            "torch.Size([512, 512])\n",
            "#iter 257 loss tensor(7939.2500, grad_fn=<MulBackward0>)\n",
            "torch.Size([512, 512])\n",
            "#iter 258 loss tensor(8042.3672, grad_fn=<MulBackward0>)\n",
            "torch.Size([512, 512])\n",
            "#iter 259 loss tensor(8136.4355, grad_fn=<MulBackward0>)\n",
            "torch.Size([512, 512])\n",
            "#iter 260 loss tensor(8225.9053, grad_fn=<MulBackward0>)\n",
            "torch.Size([512, 512])\n",
            "#iter 261 loss tensor(8307.3066, grad_fn=<MulBackward0>)\n",
            "torch.Size([512, 512])\n",
            "#iter 262 loss tensor(8381.9648, grad_fn=<MulBackward0>)\n",
            "torch.Size([512, 512])\n",
            "#iter 263 loss tensor(8446.6484, grad_fn=<MulBackward0>)\n",
            "torch.Size([512, 512])\n",
            "#iter 264 loss tensor(8506.3594, grad_fn=<MulBackward0>)\n",
            "torch.Size([512, 512])\n",
            "#iter 265 loss tensor(8562.0869, grad_fn=<MulBackward0>)\n",
            "torch.Size([512, 512])\n",
            "#iter 266 loss tensor(8616.7773, grad_fn=<MulBackward0>)\n",
            "torch.Size([512, 512])\n",
            "#iter 267 loss tensor(8669.6934, grad_fn=<MulBackward0>)\n",
            "torch.Size([512, 512])\n",
            "#iter 268 loss tensor(8722.7666, grad_fn=<MulBackward0>)\n",
            "torch.Size([512, 512])\n",
            "#iter 269 loss tensor(8777.2412, grad_fn=<MulBackward0>)\n",
            "torch.Size([512, 512])\n",
            "#iter 270 loss tensor(8830.9150, grad_fn=<MulBackward0>)\n",
            "torch.Size([512, 512])\n",
            "#iter 271 loss tensor(8871.8623, grad_fn=<MulBackward0>)\n",
            "torch.Size([512, 512])\n",
            "#iter 272 loss tensor(8909.5508, grad_fn=<MulBackward0>)\n",
            "torch.Size([512, 512])\n",
            "#iter 273 loss tensor(8934.9844, grad_fn=<MulBackward0>)\n",
            "torch.Size([512, 512])\n",
            "#iter 274 loss tensor(8934.6953, grad_fn=<MulBackward0>)\n",
            "torch.Size([512, 512])\n",
            "#iter 275 loss tensor(8930.7988, grad_fn=<MulBackward0>)\n",
            "torch.Size([512, 512])\n",
            "#iter 276 loss tensor(8916.7041, grad_fn=<MulBackward0>)\n",
            "torch.Size([512, 512])\n",
            "#iter 277 loss tensor(8901.6201, grad_fn=<MulBackward0>)\n",
            "torch.Size([512, 512])\n",
            "#iter 278 loss tensor(8883.5078, grad_fn=<MulBackward0>)\n",
            "torch.Size([512, 512])\n",
            "#iter 279 loss tensor(8859.8789, grad_fn=<MulBackward0>)\n",
            "torch.Size([512, 512])\n",
            "#iter 280 loss tensor(8823.7607, grad_fn=<MulBackward0>)\n",
            "torch.Size([512, 512])\n",
            "#iter 281 loss tensor(8785.6885, grad_fn=<MulBackward0>)\n",
            "torch.Size([512, 512])\n",
            "#iter 282 loss tensor(8758.8877, grad_fn=<MulBackward0>)\n",
            "torch.Size([512, 512])\n",
            "#iter 283 loss tensor(8740.9395, grad_fn=<MulBackward0>)\n",
            "torch.Size([512, 512])\n",
            "#iter 284 loss tensor(8716.6709, grad_fn=<MulBackward0>)\n",
            "torch.Size([512, 512])\n",
            "#iter 285 loss tensor(8684.0625, grad_fn=<MulBackward0>)\n",
            "torch.Size([512, 512])\n",
            "#iter 286 loss tensor(8627.0693, grad_fn=<MulBackward0>)\n",
            "torch.Size([512, 512])\n",
            "#iter 287 loss tensor(8563.7871, grad_fn=<MulBackward0>)\n",
            "torch.Size([512, 512])\n",
            "#iter 288 loss tensor(8498.0039, grad_fn=<MulBackward0>)\n",
            "torch.Size([512, 512])\n",
            "#iter 289 loss tensor(8449.8789, grad_fn=<MulBackward0>)\n",
            "torch.Size([512, 512])\n",
            "#iter 290 loss tensor(8418.0879, grad_fn=<MulBackward0>)\n",
            "torch.Size([512, 512])\n",
            "#iter 291 loss tensor(8401.1377, grad_fn=<MulBackward0>)\n",
            "torch.Size([512, 512])\n",
            "#iter 292 loss tensor(8374.2783, grad_fn=<MulBackward0>)\n",
            "torch.Size([512, 512])\n",
            "#iter 293 loss tensor(8359.3086, grad_fn=<MulBackward0>)\n",
            "torch.Size([512, 512])\n",
            "#iter 294 loss tensor(8358.9307, grad_fn=<MulBackward0>)\n",
            "torch.Size([512, 512])\n",
            "#iter 295 loss tensor(8363.5762, grad_fn=<MulBackward0>)\n",
            "torch.Size([512, 512])\n",
            "#iter 296 loss tensor(8354.7617, grad_fn=<MulBackward0>)\n",
            "torch.Size([512, 512])\n",
            "#iter 297 loss tensor(8349.3252, grad_fn=<MulBackward0>)\n",
            "torch.Size([512, 512])\n",
            "#iter 298 loss tensor(8359.3662, grad_fn=<MulBackward0>)\n",
            "torch.Size([512, 512])\n",
            "#iter 299 loss tensor(8360.8438, grad_fn=<MulBackward0>)\n",
            "torch.Size([512, 512])\n",
            "#iter 300 loss tensor(8369.4424, grad_fn=<MulBackward0>)\n",
            "torch.Size([512, 512])\n",
            "#iter 301 loss tensor(8345.3096, grad_fn=<MulBackward0>)\n",
            "torch.Size([512, 512])\n",
            "#iter 302 loss tensor(8280.8926, grad_fn=<MulBackward0>)\n",
            "torch.Size([512, 512])\n",
            "#iter 303 loss tensor(8207.7402, grad_fn=<MulBackward0>)\n",
            "torch.Size([512, 512])\n",
            "#iter 304 loss tensor(8114.6519, grad_fn=<MulBackward0>)\n",
            "torch.Size([512, 512])\n",
            "#iter 305 loss tensor(8011.7666, grad_fn=<MulBackward0>)\n",
            "torch.Size([512, 512])\n",
            "#iter 306 loss tensor(7939.6509, grad_fn=<MulBackward0>)\n",
            "torch.Size([512, 512])\n",
            "#iter 307 loss tensor(7890.3359, grad_fn=<MulBackward0>)\n",
            "torch.Size([512, 512])\n",
            "#iter 308 loss tensor(7835.6309, grad_fn=<MulBackward0>)\n",
            "torch.Size([512, 512])\n",
            "#iter 309 loss tensor(7758.9424, grad_fn=<MulBackward0>)\n",
            "torch.Size([512, 512])\n",
            "#iter 310 loss tensor(7663.0391, grad_fn=<MulBackward0>)\n",
            "torch.Size([512, 512])\n",
            "#iter 311 loss tensor(7559.3560, grad_fn=<MulBackward0>)\n",
            "torch.Size([512, 512])\n",
            "#iter 312 loss tensor(7458.5913, grad_fn=<MulBackward0>)\n",
            "torch.Size([512, 512])\n",
            "#iter 313 loss tensor(7353.5786, grad_fn=<MulBackward0>)\n",
            "torch.Size([512, 512])\n",
            "#iter 314 loss tensor(7254.3877, grad_fn=<MulBackward0>)\n",
            "torch.Size([512, 512])\n",
            "#iter 315 loss tensor(7165.2153, grad_fn=<MulBackward0>)\n",
            "torch.Size([512, 512])\n",
            "#iter 316 loss tensor(7078.5654, grad_fn=<MulBackward0>)\n",
            "torch.Size([512, 512])\n",
            "#iter 317 loss tensor(6994.5796, grad_fn=<MulBackward0>)\n",
            "torch.Size([512, 512])\n",
            "#iter 318 loss tensor(6899.0425, grad_fn=<MulBackward0>)\n",
            "torch.Size([512, 512])\n",
            "#iter 319 loss tensor(6806.0161, grad_fn=<MulBackward0>)\n",
            "torch.Size([512, 512])\n",
            "#iter 320 loss tensor(6713.5078, grad_fn=<MulBackward0>)\n",
            "torch.Size([512, 512])\n",
            "#iter 321 loss tensor(6624.8560, grad_fn=<MulBackward0>)\n",
            "torch.Size([512, 512])\n",
            "#iter 322 loss tensor(6542.6968, grad_fn=<MulBackward0>)\n",
            "torch.Size([512, 512])\n",
            "#iter 323 loss tensor(6468.7588, grad_fn=<MulBackward0>)\n",
            "torch.Size([512, 512])\n",
            "#iter 324 loss tensor(6393.1021, grad_fn=<MulBackward0>)\n",
            "torch.Size([512, 512])\n",
            "#iter 325 loss tensor(6314.7139, grad_fn=<MulBackward0>)\n",
            "torch.Size([512, 512])\n",
            "#iter 326 loss tensor(6243.1367, grad_fn=<MulBackward0>)\n",
            "torch.Size([512, 512])\n",
            "#iter 327 loss tensor(6179.8311, grad_fn=<MulBackward0>)\n",
            "torch.Size([512, 512])\n",
            "#iter 328 loss tensor(6139.1465, grad_fn=<MulBackward0>)\n",
            "torch.Size([512, 512])\n",
            "#iter 329 loss tensor(6095.3140, grad_fn=<MulBackward0>)\n",
            "torch.Size([512, 512])\n",
            "#iter 330 loss tensor(6042.6245, grad_fn=<MulBackward0>)\n",
            "torch.Size([512, 512])\n",
            "#iter 331 loss tensor(5996.3271, grad_fn=<MulBackward0>)\n",
            "torch.Size([512, 512])\n",
            "#iter 332 loss tensor(5963.6743, grad_fn=<MulBackward0>)\n",
            "torch.Size([512, 512])\n",
            "#iter 333 loss tensor(5989.2793, grad_fn=<MulBackward0>)\n",
            "torch.Size([512, 512])\n",
            "#iter 334 loss tensor(6031.5879, grad_fn=<MulBackward0>)\n",
            "torch.Size([512, 512])\n",
            "#iter 335 loss tensor(6085.5308, grad_fn=<MulBackward0>)\n",
            "torch.Size([512, 512])\n",
            "#iter 336 loss tensor(6136.8960, grad_fn=<MulBackward0>)\n",
            "torch.Size([512, 512])\n",
            "#iter 337 loss tensor(6212.7920, grad_fn=<MulBackward0>)\n",
            "torch.Size([512, 512])\n",
            "#iter 338 loss tensor(6312.3369, grad_fn=<MulBackward0>)\n",
            "torch.Size([512, 512])\n",
            "#iter 339 loss tensor(6477.7812, grad_fn=<MulBackward0>)\n",
            "torch.Size([512, 512])\n",
            "#iter 340 loss tensor(6615.5972, grad_fn=<MulBackward0>)\n",
            "torch.Size([512, 512])\n",
            "#iter 341 loss tensor(6710.0864, grad_fn=<MulBackward0>)\n",
            "torch.Size([512, 512])\n",
            "#iter 342 loss tensor(6810.2554, grad_fn=<MulBackward0>)\n",
            "torch.Size([512, 512])\n",
            "#iter 343 loss tensor(6893.5156, grad_fn=<MulBackward0>)\n",
            "torch.Size([512, 512])\n",
            "#iter 344 loss tensor(6923.3120, grad_fn=<MulBackward0>)\n",
            "torch.Size([512, 512])\n",
            "#iter 345 loss tensor(6932.9375, grad_fn=<MulBackward0>)\n",
            "torch.Size([512, 512])\n",
            "#iter 346 loss tensor(6921.9312, grad_fn=<MulBackward0>)\n",
            "torch.Size([512, 512])\n",
            "#iter 347 loss tensor(6909.1685, grad_fn=<MulBackward0>)\n",
            "torch.Size([512, 512])\n",
            "#iter 348 loss tensor(6900.3110, grad_fn=<MulBackward0>)\n",
            "torch.Size([512, 512])\n",
            "#iter 349 loss tensor(6905.2969, grad_fn=<MulBackward0>)\n",
            "torch.Size([512, 512])\n",
            "#iter 350 loss tensor(6928.8867, grad_fn=<MulBackward0>)\n",
            "torch.Size([512, 512])\n",
            "#iter 351 loss tensor(6967.5923, grad_fn=<MulBackward0>)\n",
            "torch.Size([512, 512])\n",
            "#iter 352 loss tensor(7013.2271, grad_fn=<MulBackward0>)\n",
            "torch.Size([512, 512])\n",
            "#iter 353 loss tensor(7097.1284, grad_fn=<MulBackward0>)\n",
            "torch.Size([512, 512])\n",
            "#iter 354 loss tensor(7172.1353, grad_fn=<MulBackward0>)\n",
            "torch.Size([512, 512])\n",
            "#iter 355 loss tensor(7242.0903, grad_fn=<MulBackward0>)\n",
            "torch.Size([512, 512])\n",
            "#iter 356 loss tensor(7293.7002, grad_fn=<MulBackward0>)\n",
            "torch.Size([512, 512])\n",
            "#iter 357 loss tensor(7324.8828, grad_fn=<MulBackward0>)\n",
            "torch.Size([512, 512])\n",
            "#iter 358 loss tensor(7298.0737, grad_fn=<MulBackward0>)\n",
            "torch.Size([512, 512])\n",
            "#iter 359 loss tensor(7268.6934, grad_fn=<MulBackward0>)\n",
            "torch.Size([512, 512])\n",
            "#iter 360 loss tensor(7231.2632, grad_fn=<MulBackward0>)\n",
            "torch.Size([512, 512])\n",
            "#iter 361 loss tensor(7188.0327, grad_fn=<MulBackward0>)\n",
            "torch.Size([512, 512])\n",
            "#iter 362 loss tensor(7130.2144, grad_fn=<MulBackward0>)\n",
            "torch.Size([512, 512])\n",
            "#iter 363 loss tensor(7042.5654, grad_fn=<MulBackward0>)\n",
            "torch.Size([512, 512])\n",
            "#iter 364 loss tensor(6976.4141, grad_fn=<MulBackward0>)\n",
            "torch.Size([512, 512])\n",
            "#iter 365 loss tensor(6940.5620, grad_fn=<MulBackward0>)\n",
            "torch.Size([512, 512])\n",
            "#iter 366 loss tensor(6829.0117, grad_fn=<MulBackward0>)\n",
            "torch.Size([512, 512])\n",
            "#iter 367 loss tensor(6764.4419, grad_fn=<MulBackward0>)\n",
            "torch.Size([512, 512])\n",
            "#iter 368 loss tensor(6835.2822, grad_fn=<MulBackward0>)\n",
            "torch.Size([512, 512])\n",
            "#iter 369 loss tensor(6826.4160, grad_fn=<MulBackward0>)\n",
            "torch.Size([512, 512])\n",
            "#iter 370 loss tensor(6879.3936, grad_fn=<MulBackward0>)\n",
            "torch.Size([512, 512])\n",
            "#iter 371 loss tensor(6971.5889, grad_fn=<MulBackward0>)\n",
            "torch.Size([512, 512])\n",
            "#iter 372 loss tensor(7089.1855, grad_fn=<MulBackward0>)\n",
            "torch.Size([512, 512])\n",
            "#iter 373 loss tensor(7211.4038, grad_fn=<MulBackward0>)\n",
            "torch.Size([512, 512])\n",
            "#iter 374 loss tensor(7211.6396, grad_fn=<MulBackward0>)\n",
            "torch.Size([512, 512])\n",
            "#iter 375 loss tensor(7228.7866, grad_fn=<MulBackward0>)\n",
            "torch.Size([512, 512])\n",
            "#iter 376 loss tensor(7246.5513, grad_fn=<MulBackward0>)\n",
            "torch.Size([512, 512])\n",
            "#iter 377 loss tensor(7267.5098, grad_fn=<MulBackward0>)\n",
            "torch.Size([512, 512])\n",
            "#iter 378 loss tensor(7303.3091, grad_fn=<MulBackward0>)\n",
            "torch.Size([512, 512])\n",
            "#iter 379 loss tensor(7329.2622, grad_fn=<MulBackward0>)\n",
            "torch.Size([512, 512])\n",
            "#iter 380 loss tensor(7346.2959, grad_fn=<MulBackward0>)\n",
            "torch.Size([512, 512])\n",
            "#iter 381 loss tensor(7347.9497, grad_fn=<MulBackward0>)\n",
            "torch.Size([512, 512])\n",
            "#iter 382 loss tensor(7338.2124, grad_fn=<MulBackward0>)\n",
            "torch.Size([512, 512])\n",
            "#iter 383 loss tensor(7325.3271, grad_fn=<MulBackward0>)\n",
            "torch.Size([512, 512])\n",
            "#iter 384 loss tensor(7315.5576, grad_fn=<MulBackward0>)\n",
            "torch.Size([512, 512])\n",
            "#iter 385 loss tensor(7302.9014, grad_fn=<MulBackward0>)\n",
            "torch.Size([512, 512])\n",
            "#iter 386 loss tensor(7284.0015, grad_fn=<MulBackward0>)\n",
            "torch.Size([512, 512])\n",
            "#iter 387 loss tensor(7255.6797, grad_fn=<MulBackward0>)\n",
            "torch.Size([512, 512])\n",
            "#iter 388 loss tensor(7215.1133, grad_fn=<MulBackward0>)\n",
            "torch.Size([512, 512])\n",
            "#iter 389 loss tensor(7159.3496, grad_fn=<MulBackward0>)\n",
            "torch.Size([512, 512])\n",
            "#iter 390 loss tensor(7090.0127, grad_fn=<MulBackward0>)\n",
            "torch.Size([512, 512])\n",
            "#iter 391 loss tensor(7010.5352, grad_fn=<MulBackward0>)\n",
            "torch.Size([512, 512])\n",
            "#iter 392 loss tensor(6917.4282, grad_fn=<MulBackward0>)\n",
            "torch.Size([512, 512])\n",
            "#iter 393 loss tensor(6821.6030, grad_fn=<MulBackward0>)\n",
            "torch.Size([512, 512])\n",
            "#iter 394 loss tensor(6729.7876, grad_fn=<MulBackward0>)\n",
            "torch.Size([512, 512])\n",
            "#iter 395 loss tensor(6639.4844, grad_fn=<MulBackward0>)\n",
            "torch.Size([512, 512])\n",
            "#iter 396 loss tensor(6548.7285, grad_fn=<MulBackward0>)\n",
            "torch.Size([512, 512])\n",
            "#iter 397 loss tensor(6448.4395, grad_fn=<MulBackward0>)\n",
            "torch.Size([512, 512])\n",
            "#iter 398 loss tensor(6337.9067, grad_fn=<MulBackward0>)\n",
            "torch.Size([512, 512])\n",
            "#iter 399 loss tensor(6219.5127, grad_fn=<MulBackward0>)\n",
            "torch.Size([512, 512])\n",
            "#iter 400 loss tensor(6091.8003, grad_fn=<MulBackward0>)\n",
            "torch.Size([512, 512])\n",
            "#iter 401 loss tensor(5959.7026, grad_fn=<MulBackward0>)\n",
            "torch.Size([512, 512])\n",
            "#iter 402 loss tensor(5829.0278, grad_fn=<MulBackward0>)\n",
            "torch.Size([512, 512])\n",
            "#iter 403 loss tensor(5705.0576, grad_fn=<MulBackward0>)\n",
            "torch.Size([512, 512])\n",
            "#iter 404 loss tensor(5580.7681, grad_fn=<MulBackward0>)\n",
            "torch.Size([512, 512])\n",
            "#iter 405 loss tensor(5459.3296, grad_fn=<MulBackward0>)\n",
            "torch.Size([512, 512])\n",
            "#iter 406 loss tensor(5335.3667, grad_fn=<MulBackward0>)\n",
            "torch.Size([512, 512])\n",
            "#iter 407 loss tensor(5198.4458, grad_fn=<MulBackward0>)\n",
            "torch.Size([512, 512])\n",
            "#iter 408 loss tensor(5063.0010, grad_fn=<MulBackward0>)\n",
            "torch.Size([512, 512])\n",
            "#iter 409 loss tensor(4918.3350, grad_fn=<MulBackward0>)\n",
            "torch.Size([512, 512])\n",
            "#iter 410 loss tensor(4776.4565, grad_fn=<MulBackward0>)\n",
            "torch.Size([512, 512])\n",
            "#iter 411 loss tensor(4648.4321, grad_fn=<MulBackward0>)\n",
            "torch.Size([512, 512])\n",
            "#iter 412 loss tensor(4530.3994, grad_fn=<MulBackward0>)\n",
            "torch.Size([512, 512])\n",
            "#iter 413 loss tensor(4422.1245, grad_fn=<MulBackward0>)\n",
            "torch.Size([512, 512])\n",
            "#iter 414 loss tensor(4306.2666, grad_fn=<MulBackward0>)\n",
            "torch.Size([512, 512])\n",
            "#iter 415 loss tensor(4196.5571, grad_fn=<MulBackward0>)\n",
            "torch.Size([512, 512])\n",
            "#iter 416 loss tensor(4100.6406, grad_fn=<MulBackward0>)\n",
            "torch.Size([512, 512])\n",
            "#iter 417 loss tensor(4010.9292, grad_fn=<MulBackward0>)\n",
            "torch.Size([512, 512])\n",
            "#iter 418 loss tensor(3940.1733, grad_fn=<MulBackward0>)\n",
            "torch.Size([512, 512])\n",
            "#iter 419 loss tensor(3892.7463, grad_fn=<MulBackward0>)\n",
            "torch.Size([512, 512])\n",
            "#iter 420 loss tensor(3856.5315, grad_fn=<MulBackward0>)\n",
            "torch.Size([512, 512])\n",
            "#iter 421 loss tensor(3828.1677, grad_fn=<MulBackward0>)\n",
            "torch.Size([512, 512])\n",
            "#iter 422 loss tensor(3814.1497, grad_fn=<MulBackward0>)\n",
            "torch.Size([512, 512])\n",
            "#iter 423 loss tensor(3797.6179, grad_fn=<MulBackward0>)\n",
            "torch.Size([512, 512])\n",
            "#iter 424 loss tensor(3783.1313, grad_fn=<MulBackward0>)\n",
            "torch.Size([512, 512])\n",
            "#iter 425 loss tensor(3777.0151, grad_fn=<MulBackward0>)\n",
            "torch.Size([512, 512])\n",
            "#iter 426 loss tensor(3780.7434, grad_fn=<MulBackward0>)\n",
            "torch.Size([512, 512])\n",
            "#iter 427 loss tensor(3796.0728, grad_fn=<MulBackward0>)\n",
            "torch.Size([512, 512])\n",
            "#iter 428 loss tensor(3823.7986, grad_fn=<MulBackward0>)\n",
            "torch.Size([512, 512])\n",
            "#iter 429 loss tensor(3867.1897, grad_fn=<MulBackward0>)\n",
            "torch.Size([512, 512])\n",
            "#iter 430 loss tensor(3907.7014, grad_fn=<MulBackward0>)\n",
            "torch.Size([512, 512])\n",
            "#iter 431 loss tensor(3931.7585, grad_fn=<MulBackward0>)\n",
            "torch.Size([512, 512])\n",
            "#iter 432 loss tensor(3975.3923, grad_fn=<MulBackward0>)\n",
            "torch.Size([512, 512])\n",
            "#iter 433 loss tensor(4047.5171, grad_fn=<MulBackward0>)\n",
            "torch.Size([512, 512])\n",
            "#iter 434 loss tensor(4140.6313, grad_fn=<MulBackward0>)\n",
            "torch.Size([512, 512])\n",
            "#iter 435 loss tensor(4255.7622, grad_fn=<MulBackward0>)\n",
            "torch.Size([512, 512])\n",
            "#iter 436 loss tensor(4392.1133, grad_fn=<MulBackward0>)\n",
            "torch.Size([512, 512])\n",
            "#iter 437 loss tensor(4524.5952, grad_fn=<MulBackward0>)\n",
            "torch.Size([512, 512])\n",
            "#iter 438 loss tensor(4639.4883, grad_fn=<MulBackward0>)\n",
            "torch.Size([512, 512])\n",
            "#iter 439 loss tensor(4742.0942, grad_fn=<MulBackward0>)\n",
            "torch.Size([512, 512])\n",
            "#iter 440 loss tensor(4857.1787, grad_fn=<MulBackward0>)\n",
            "torch.Size([512, 512])\n",
            "#iter 441 loss tensor(4971.5103, grad_fn=<MulBackward0>)\n",
            "torch.Size([512, 512])\n",
            "#iter 442 loss tensor(5077.8789, grad_fn=<MulBackward0>)\n",
            "torch.Size([512, 512])\n",
            "#iter 443 loss tensor(5183.0293, grad_fn=<MulBackward0>)\n",
            "torch.Size([512, 512])\n",
            "#iter 444 loss tensor(5294.0894, grad_fn=<MulBackward0>)\n",
            "torch.Size([512, 512])\n",
            "#iter 445 loss tensor(5408.6743, grad_fn=<MulBackward0>)\n",
            "torch.Size([512, 512])\n",
            "#iter 446 loss tensor(5515.8779, grad_fn=<MulBackward0>)\n",
            "torch.Size([512, 512])\n",
            "#iter 447 loss tensor(5620.1069, grad_fn=<MulBackward0>)\n",
            "torch.Size([512, 512])\n",
            "#iter 448 loss tensor(5717.1626, grad_fn=<MulBackward0>)\n",
            "torch.Size([512, 512])\n",
            "#iter 449 loss tensor(5818.7754, grad_fn=<MulBackward0>)\n",
            "torch.Size([512, 512])\n",
            "#iter 450 loss tensor(5922.6216, grad_fn=<MulBackward0>)\n",
            "torch.Size([512, 512])\n",
            "#iter 451 loss tensor(6020.5923, grad_fn=<MulBackward0>)\n",
            "torch.Size([512, 512])\n",
            "#iter 452 loss tensor(6109.7070, grad_fn=<MulBackward0>)\n",
            "torch.Size([512, 512])\n",
            "#iter 453 loss tensor(6190.8433, grad_fn=<MulBackward0>)\n",
            "torch.Size([512, 512])\n",
            "#iter 454 loss tensor(6264.3687, grad_fn=<MulBackward0>)\n",
            "torch.Size([512, 512])\n",
            "#iter 455 loss tensor(6331.5293, grad_fn=<MulBackward0>)\n",
            "torch.Size([512, 512])\n",
            "#iter 456 loss tensor(6387.1001, grad_fn=<MulBackward0>)\n",
            "torch.Size([512, 512])\n",
            "#iter 457 loss tensor(6430.8618, grad_fn=<MulBackward0>)\n",
            "torch.Size([512, 512])\n",
            "#iter 458 loss tensor(6468.3027, grad_fn=<MulBackward0>)\n",
            "torch.Size([512, 512])\n",
            "#iter 459 loss tensor(6500.5518, grad_fn=<MulBackward0>)\n",
            "torch.Size([512, 512])\n",
            "#iter 460 loss tensor(6518.4106, grad_fn=<MulBackward0>)\n",
            "torch.Size([512, 512])\n",
            "#iter 461 loss tensor(6530.6504, grad_fn=<MulBackward0>)\n",
            "torch.Size([512, 512])\n",
            "#iter 462 loss tensor(6538.9600, grad_fn=<MulBackward0>)\n",
            "torch.Size([512, 512])\n",
            "#iter 463 loss tensor(6539.3408, grad_fn=<MulBackward0>)\n",
            "torch.Size([512, 512])\n",
            "#iter 464 loss tensor(6536.1978, grad_fn=<MulBackward0>)\n",
            "torch.Size([512, 512])\n",
            "#iter 465 loss tensor(6522.5757, grad_fn=<MulBackward0>)\n",
            "torch.Size([512, 512])\n",
            "#iter 466 loss tensor(6504.4502, grad_fn=<MulBackward0>)\n",
            "torch.Size([512, 512])\n",
            "#iter 467 loss tensor(6478.8340, grad_fn=<MulBackward0>)\n",
            "torch.Size([512, 512])\n",
            "#iter 468 loss tensor(6441.6997, grad_fn=<MulBackward0>)\n",
            "torch.Size([512, 512])\n",
            "#iter 469 loss tensor(6397.9321, grad_fn=<MulBackward0>)\n",
            "torch.Size([512, 512])\n",
            "#iter 470 loss tensor(6347.8857, grad_fn=<MulBackward0>)\n",
            "torch.Size([512, 512])\n",
            "#iter 471 loss tensor(6295.3433, grad_fn=<MulBackward0>)\n",
            "torch.Size([512, 512])\n",
            "#iter 472 loss tensor(6243.7451, grad_fn=<MulBackward0>)\n",
            "torch.Size([512, 512])\n",
            "#iter 473 loss tensor(6195.5801, grad_fn=<MulBackward0>)\n",
            "torch.Size([512, 512])\n",
            "#iter 474 loss tensor(6145.0127, grad_fn=<MulBackward0>)\n",
            "torch.Size([512, 512])\n",
            "#iter 475 loss tensor(6085.5244, grad_fn=<MulBackward0>)\n",
            "torch.Size([512, 512])\n",
            "#iter 476 loss tensor(6021.8125, grad_fn=<MulBackward0>)\n",
            "torch.Size([512, 512])\n",
            "#iter 477 loss tensor(5955.2515, grad_fn=<MulBackward0>)\n",
            "torch.Size([512, 512])\n",
            "#iter 478 loss tensor(5881.5107, grad_fn=<MulBackward0>)\n",
            "torch.Size([512, 512])\n",
            "#iter 479 loss tensor(5802.6396, grad_fn=<MulBackward0>)\n",
            "torch.Size([512, 512])\n",
            "#iter 480 loss tensor(5722.9580, grad_fn=<MulBackward0>)\n",
            "torch.Size([512, 512])\n",
            "#iter 481 loss tensor(5645.0303, grad_fn=<MulBackward0>)\n",
            "torch.Size([512, 512])\n",
            "#iter 482 loss tensor(5569.1362, grad_fn=<MulBackward0>)\n",
            "torch.Size([512, 512])\n",
            "#iter 483 loss tensor(5492.9561, grad_fn=<MulBackward0>)\n",
            "torch.Size([512, 512])\n",
            "#iter 484 loss tensor(5419.1240, grad_fn=<MulBackward0>)\n",
            "torch.Size([512, 512])\n",
            "#iter 485 loss tensor(5346.0156, grad_fn=<MulBackward0>)\n",
            "torch.Size([512, 512])\n",
            "#iter 486 loss tensor(5271.8164, grad_fn=<MulBackward0>)\n",
            "torch.Size([512, 512])\n",
            "#iter 487 loss tensor(5203.3086, grad_fn=<MulBackward0>)\n",
            "torch.Size([512, 512])\n",
            "#iter 488 loss tensor(5138.0537, grad_fn=<MulBackward0>)\n",
            "torch.Size([512, 512])\n",
            "#iter 489 loss tensor(5077.9878, grad_fn=<MulBackward0>)\n",
            "torch.Size([512, 512])\n",
            "#iter 490 loss tensor(5024.6089, grad_fn=<MulBackward0>)\n",
            "torch.Size([512, 512])\n",
            "#iter 491 loss tensor(4976.9717, grad_fn=<MulBackward0>)\n",
            "torch.Size([512, 512])\n",
            "#iter 492 loss tensor(4938.1890, grad_fn=<MulBackward0>)\n",
            "torch.Size([512, 512])\n",
            "#iter 493 loss tensor(4905.7256, grad_fn=<MulBackward0>)\n",
            "torch.Size([512, 512])\n",
            "#iter 494 loss tensor(4882.8076, grad_fn=<MulBackward0>)\n",
            "torch.Size([512, 512])\n",
            "#iter 495 loss tensor(4862.9272, grad_fn=<MulBackward0>)\n",
            "torch.Size([512, 512])\n",
            "#iter 496 loss tensor(4841.9961, grad_fn=<MulBackward0>)\n",
            "torch.Size([512, 512])\n",
            "#iter 497 loss tensor(4823.9292, grad_fn=<MulBackward0>)\n",
            "torch.Size([512, 512])\n",
            "#iter 498 loss tensor(4805.6392, grad_fn=<MulBackward0>)\n",
            "torch.Size([512, 512])\n",
            "#iter 499 loss tensor(4791.0161, grad_fn=<MulBackward0>)\n",
            "torch.Size([512, 512])\n",
            "#iter 500 loss tensor(4779.2827, grad_fn=<MulBackward0>)\n",
            "torch.Size([512, 512])\n",
            "#iter 501 loss tensor(4773.6543, grad_fn=<MulBackward0>)\n",
            "torch.Size([512, 512])\n",
            "#iter 502 loss tensor(4773.8989, grad_fn=<MulBackward0>)\n",
            "torch.Size([512, 512])\n",
            "#iter 503 loss tensor(4778.0371, grad_fn=<MulBackward0>)\n",
            "torch.Size([512, 512])\n",
            "#iter 504 loss tensor(4783.6626, grad_fn=<MulBackward0>)\n",
            "torch.Size([512, 512])\n",
            "#iter 505 loss tensor(4793.7930, grad_fn=<MulBackward0>)\n",
            "torch.Size([512, 512])\n",
            "#iter 506 loss tensor(4814.0137, grad_fn=<MulBackward0>)\n",
            "torch.Size([512, 512])\n",
            "#iter 507 loss tensor(4843.4536, grad_fn=<MulBackward0>)\n",
            "torch.Size([512, 512])\n",
            "#iter 508 loss tensor(4873.4434, grad_fn=<MulBackward0>)\n",
            "torch.Size([512, 512])\n",
            "#iter 509 loss tensor(4904.3569, grad_fn=<MulBackward0>)\n",
            "torch.Size([512, 512])\n",
            "#iter 510 loss tensor(4942.2759, grad_fn=<MulBackward0>)\n",
            "torch.Size([512, 512])\n",
            "#iter 511 loss tensor(4986.3306, grad_fn=<MulBackward0>)\n",
            "torch.Size([512, 512])\n",
            "#iter 512 loss tensor(5034.3994, grad_fn=<MulBackward0>)\n",
            "torch.Size([512, 512])\n",
            "#iter 513 loss tensor(5079.1821, grad_fn=<MulBackward0>)\n",
            "torch.Size([512, 512])\n",
            "#iter 514 loss tensor(5120.3232, grad_fn=<MulBackward0>)\n",
            "torch.Size([512, 512])\n",
            "#iter 515 loss tensor(5152.0283, grad_fn=<MulBackward0>)\n",
            "torch.Size([512, 512])\n",
            "#iter 516 loss tensor(5180.1831, grad_fn=<MulBackward0>)\n",
            "torch.Size([512, 512])\n",
            "#iter 517 loss tensor(5206.6660, grad_fn=<MulBackward0>)\n",
            "torch.Size([512, 512])\n",
            "#iter 518 loss tensor(5234.3120, grad_fn=<MulBackward0>)\n",
            "torch.Size([512, 512])\n",
            "#iter 519 loss tensor(5264.5986, grad_fn=<MulBackward0>)\n",
            "torch.Size([512, 512])\n",
            "#iter 520 loss tensor(5300.4106, grad_fn=<MulBackward0>)\n",
            "torch.Size([512, 512])\n",
            "#iter 521 loss tensor(5340.2012, grad_fn=<MulBackward0>)\n",
            "torch.Size([512, 512])\n",
            "#iter 522 loss tensor(5395.7627, grad_fn=<MulBackward0>)\n",
            "torch.Size([512, 512])\n",
            "#iter 523 loss tensor(5465.3320, grad_fn=<MulBackward0>)\n",
            "torch.Size([512, 512])\n",
            "#iter 524 loss tensor(5530.7158, grad_fn=<MulBackward0>)\n",
            "torch.Size([512, 512])\n",
            "#iter 525 loss tensor(5588.9116, grad_fn=<MulBackward0>)\n",
            "torch.Size([512, 512])\n",
            "#iter 526 loss tensor(5641.3003, grad_fn=<MulBackward0>)\n",
            "torch.Size([512, 512])\n",
            "#iter 527 loss tensor(5686.1060, grad_fn=<MulBackward0>)\n",
            "torch.Size([512, 512])\n",
            "#iter 528 loss tensor(5725.0771, grad_fn=<MulBackward0>)\n",
            "torch.Size([512, 512])\n",
            "#iter 529 loss tensor(5772.5693, grad_fn=<MulBackward0>)\n",
            "torch.Size([512, 512])\n",
            "#iter 530 loss tensor(5827.5293, grad_fn=<MulBackward0>)\n",
            "torch.Size([512, 512])\n",
            "#iter 531 loss tensor(5854.1909, grad_fn=<MulBackward0>)\n",
            "torch.Size([512, 512])\n",
            "#iter 532 loss tensor(5910.5415, grad_fn=<MulBackward0>)\n",
            "torch.Size([512, 512])\n",
            "#iter 533 loss tensor(5977.9668, grad_fn=<MulBackward0>)\n",
            "torch.Size([512, 512])\n",
            "#iter 534 loss tensor(6038.5518, grad_fn=<MulBackward0>)\n",
            "torch.Size([512, 512])\n",
            "#iter 535 loss tensor(6110.9414, grad_fn=<MulBackward0>)\n",
            "torch.Size([512, 512])\n",
            "#iter 536 loss tensor(6157.5396, grad_fn=<MulBackward0>)\n",
            "torch.Size([512, 512])\n",
            "#iter 537 loss tensor(6228.0288, grad_fn=<MulBackward0>)\n",
            "torch.Size([512, 512])\n",
            "#iter 538 loss tensor(6327.6616, grad_fn=<MulBackward0>)\n",
            "torch.Size([512, 512])\n",
            "#iter 539 loss tensor(6428.6353, grad_fn=<MulBackward0>)\n",
            "torch.Size([512, 512])\n",
            "#iter 540 loss tensor(6509.5034, grad_fn=<MulBackward0>)\n",
            "torch.Size([512, 512])\n",
            "#iter 541 loss tensor(6564.4795, grad_fn=<MulBackward0>)\n",
            "torch.Size([512, 512])\n",
            "#iter 542 loss tensor(6612.2437, grad_fn=<MulBackward0>)\n",
            "torch.Size([512, 512])\n",
            "#iter 543 loss tensor(6663.2656, grad_fn=<MulBackward0>)\n",
            "torch.Size([512, 512])\n",
            "#iter 544 loss tensor(6733.2432, grad_fn=<MulBackward0>)\n",
            "torch.Size([512, 512])\n",
            "#iter 545 loss tensor(6814.6860, grad_fn=<MulBackward0>)\n",
            "torch.Size([512, 512])\n",
            "#iter 546 loss tensor(6883.0107, grad_fn=<MulBackward0>)\n",
            "torch.Size([512, 512])\n",
            "#iter 547 loss tensor(6944.5767, grad_fn=<MulBackward0>)\n",
            "torch.Size([512, 512])\n",
            "#iter 548 loss tensor(6995.2622, grad_fn=<MulBackward0>)\n",
            "torch.Size([512, 512])\n",
            "#iter 549 loss tensor(7042.8511, grad_fn=<MulBackward0>)\n",
            "torch.Size([512, 512])\n",
            "#iter 550 loss tensor(7089.7363, grad_fn=<MulBackward0>)\n",
            "torch.Size([512, 512])\n",
            "#iter 551 loss tensor(7133.2075, grad_fn=<MulBackward0>)\n",
            "torch.Size([512, 512])\n",
            "#iter 552 loss tensor(7178.2871, grad_fn=<MulBackward0>)\n",
            "torch.Size([512, 512])\n",
            "#iter 553 loss tensor(7223.6064, grad_fn=<MulBackward0>)\n",
            "torch.Size([512, 512])\n",
            "#iter 554 loss tensor(7262.6357, grad_fn=<MulBackward0>)\n",
            "torch.Size([512, 512])\n",
            "#iter 555 loss tensor(7292.8921, grad_fn=<MulBackward0>)\n",
            "torch.Size([512, 512])\n",
            "#iter 556 loss tensor(7317.8677, grad_fn=<MulBackward0>)\n",
            "torch.Size([512, 512])\n",
            "#iter 557 loss tensor(7337.4434, grad_fn=<MulBackward0>)\n",
            "torch.Size([512, 512])\n",
            "#iter 558 loss tensor(7352.7222, grad_fn=<MulBackward0>)\n",
            "torch.Size([512, 512])\n",
            "#iter 559 loss tensor(7361.8286, grad_fn=<MulBackward0>)\n",
            "torch.Size([512, 512])\n",
            "#iter 560 loss tensor(7367.0571, grad_fn=<MulBackward0>)\n",
            "torch.Size([512, 512])\n",
            "#iter 561 loss tensor(7365.7466, grad_fn=<MulBackward0>)\n",
            "torch.Size([512, 512])\n",
            "#iter 562 loss tensor(7367.0796, grad_fn=<MulBackward0>)\n",
            "torch.Size([512, 512])\n",
            "#iter 563 loss tensor(7362.0508, grad_fn=<MulBackward0>)\n",
            "torch.Size([512, 512])\n",
            "#iter 564 loss tensor(7355.0366, grad_fn=<MulBackward0>)\n",
            "torch.Size([512, 512])\n",
            "#iter 565 loss tensor(7333.5981, grad_fn=<MulBackward0>)\n",
            "torch.Size([512, 512])\n",
            "#iter 566 loss tensor(7308.9814, grad_fn=<MulBackward0>)\n",
            "torch.Size([512, 512])\n",
            "#iter 567 loss tensor(7286.2080, grad_fn=<MulBackward0>)\n",
            "torch.Size([512, 512])\n",
            "#iter 568 loss tensor(7251.5034, grad_fn=<MulBackward0>)\n",
            "torch.Size([512, 512])\n",
            "#iter 569 loss tensor(7220.7095, grad_fn=<MulBackward0>)\n",
            "torch.Size([512, 512])\n",
            "#iter 570 loss tensor(7187.4199, grad_fn=<MulBackward0>)\n",
            "torch.Size([512, 512])\n",
            "#iter 571 loss tensor(7144.4736, grad_fn=<MulBackward0>)\n",
            "torch.Size([512, 512])\n",
            "#iter 572 loss tensor(7095.8281, grad_fn=<MulBackward0>)\n",
            "torch.Size([512, 512])\n",
            "#iter 573 loss tensor(7039.8281, grad_fn=<MulBackward0>)\n",
            "torch.Size([512, 512])\n",
            "#iter 574 loss tensor(6987.7568, grad_fn=<MulBackward0>)\n",
            "torch.Size([512, 512])\n",
            "#iter 575 loss tensor(6967.0488, grad_fn=<MulBackward0>)\n",
            "torch.Size([512, 512])\n",
            "#iter 576 loss tensor(6990.7852, grad_fn=<MulBackward0>)\n",
            "torch.Size([512, 512])\n",
            "#iter 577 loss tensor(7025.9287, grad_fn=<MulBackward0>)\n",
            "torch.Size([512, 512])\n",
            "#iter 578 loss tensor(7006.9170, grad_fn=<MulBackward0>)\n",
            "torch.Size([512, 512])\n",
            "#iter 579 loss tensor(6987.6118, grad_fn=<MulBackward0>)\n",
            "torch.Size([512, 512])\n",
            "#iter 580 loss tensor(6964.8193, grad_fn=<MulBackward0>)\n",
            "torch.Size([512, 512])\n",
            "#iter 581 loss tensor(6918.8364, grad_fn=<MulBackward0>)\n",
            "torch.Size([512, 512])\n",
            "#iter 582 loss tensor(6895.0444, grad_fn=<MulBackward0>)\n",
            "torch.Size([512, 512])\n",
            "#iter 583 loss tensor(6918.8467, grad_fn=<MulBackward0>)\n",
            "torch.Size([512, 512])\n",
            "#iter 584 loss tensor(6986.5488, grad_fn=<MulBackward0>)\n",
            "torch.Size([512, 512])\n",
            "#iter 585 loss tensor(7081.6519, grad_fn=<MulBackward0>)\n",
            "torch.Size([512, 512])\n",
            "#iter 586 loss tensor(7145.6953, grad_fn=<MulBackward0>)\n",
            "torch.Size([512, 512])\n",
            "#iter 587 loss tensor(7155.3301, grad_fn=<MulBackward0>)\n",
            "torch.Size([512, 512])\n",
            "#iter 588 loss tensor(7195.6245, grad_fn=<MulBackward0>)\n",
            "torch.Size([512, 512])\n",
            "#iter 589 loss tensor(7296.7642, grad_fn=<MulBackward0>)\n",
            "torch.Size([512, 512])\n",
            "#iter 590 loss tensor(7437.7788, grad_fn=<MulBackward0>)\n",
            "torch.Size([512, 512])\n",
            "#iter 591 loss tensor(7649.0884, grad_fn=<MulBackward0>)\n",
            "torch.Size([512, 512])\n",
            "#iter 592 loss tensor(7847.2427, grad_fn=<MulBackward0>)\n",
            "torch.Size([512, 512])\n",
            "#iter 593 loss tensor(8064.1919, grad_fn=<MulBackward0>)\n",
            "torch.Size([512, 512])\n",
            "#iter 594 loss tensor(8321.8066, grad_fn=<MulBackward0>)\n",
            "torch.Size([512, 512])\n",
            "#iter 595 loss tensor(8585.8311, grad_fn=<MulBackward0>)\n",
            "torch.Size([512, 512])\n",
            "#iter 596 loss tensor(8781.3037, grad_fn=<MulBackward0>)\n",
            "torch.Size([512, 512])\n",
            "#iter 597 loss tensor(8936.5479, grad_fn=<MulBackward0>)\n",
            "torch.Size([512, 512])\n",
            "#iter 598 loss tensor(9053.5703, grad_fn=<MulBackward0>)\n",
            "torch.Size([512, 512])\n",
            "#iter 599 loss tensor(9114.8496, grad_fn=<MulBackward0>)\n",
            "torch.Size([512, 512])\n",
            "#iter 600 loss tensor(9102.6035, grad_fn=<MulBackward0>)\n",
            "torch.Size([512, 512])\n",
            "#iter 601 loss tensor(9010.2705, grad_fn=<MulBackward0>)\n",
            "torch.Size([512, 512])\n",
            "#iter 602 loss tensor(8838.6846, grad_fn=<MulBackward0>)\n",
            "torch.Size([512, 512])\n",
            "#iter 603 loss tensor(8594.4355, grad_fn=<MulBackward0>)\n",
            "torch.Size([512, 512])\n",
            "#iter 604 loss tensor(8303.4229, grad_fn=<MulBackward0>)\n",
            "torch.Size([512, 512])\n",
            "#iter 605 loss tensor(7984.7285, grad_fn=<MulBackward0>)\n",
            "torch.Size([512, 512])\n",
            "#iter 606 loss tensor(7598.8975, grad_fn=<MulBackward0>)\n",
            "torch.Size([512, 512])\n",
            "#iter 607 loss tensor(7155.6685, grad_fn=<MulBackward0>)\n",
            "torch.Size([512, 512])\n",
            "#iter 608 loss tensor(6695.4116, grad_fn=<MulBackward0>)\n",
            "torch.Size([512, 512])\n",
            "#iter 609 loss tensor(6379.3550, grad_fn=<MulBackward0>)\n",
            "torch.Size([512, 512])\n",
            "#iter 610 loss tensor(6141.8447, grad_fn=<MulBackward0>)\n",
            "torch.Size([512, 512])\n",
            "#iter 611 loss tensor(6126.0659, grad_fn=<MulBackward0>)\n",
            "torch.Size([512, 512])\n",
            "#iter 612 loss tensor(5844.6738, grad_fn=<MulBackward0>)\n",
            "torch.Size([512, 512])\n",
            "#iter 613 loss tensor(5585.1968, grad_fn=<MulBackward0>)\n",
            "torch.Size([512, 512])\n",
            "#iter 614 loss tensor(5328.9961, grad_fn=<MulBackward0>)\n",
            "torch.Size([512, 512])\n",
            "#iter 615 loss tensor(5266.6968, grad_fn=<MulBackward0>)\n",
            "torch.Size([512, 512])\n",
            "#iter 616 loss tensor(5340.4692, grad_fn=<MulBackward0>)\n",
            "torch.Size([512, 512])\n",
            "#iter 617 loss tensor(5308.2856, grad_fn=<MulBackward0>)\n",
            "torch.Size([512, 512])\n",
            "#iter 618 loss tensor(5165.6763, grad_fn=<MulBackward0>)\n",
            "torch.Size([512, 512])\n",
            "#iter 619 loss tensor(5052.0298, grad_fn=<MulBackward0>)\n",
            "torch.Size([512, 512])\n",
            "#iter 620 loss tensor(5050.4160, grad_fn=<MulBackward0>)\n",
            "torch.Size([512, 512])\n",
            "#iter 621 loss tensor(5261.9062, grad_fn=<MulBackward0>)\n",
            "torch.Size([512, 512])\n",
            "#iter 622 loss tensor(5313.0620, grad_fn=<MulBackward0>)\n",
            "torch.Size([512, 512])\n",
            "#iter 623 loss tensor(5190.1177, grad_fn=<MulBackward0>)\n",
            "torch.Size([512, 512])\n",
            "#iter 624 loss tensor(5042.0132, grad_fn=<MulBackward0>)\n",
            "torch.Size([512, 512])\n",
            "#iter 625 loss tensor(5032.3701, grad_fn=<MulBackward0>)\n",
            "torch.Size([512, 512])\n",
            "#iter 626 loss tensor(5215.4028, grad_fn=<MulBackward0>)\n",
            "torch.Size([512, 512])\n",
            "#iter 627 loss tensor(5311.7593, grad_fn=<MulBackward0>)\n",
            "torch.Size([512, 512])\n",
            "#iter 628 loss tensor(5285.4229, grad_fn=<MulBackward0>)\n",
            "torch.Size([512, 512])\n",
            "#iter 629 loss tensor(5206.2329, grad_fn=<MulBackward0>)\n",
            "torch.Size([512, 512])\n",
            "#iter 630 loss tensor(5184.1616, grad_fn=<MulBackward0>)\n",
            "torch.Size([512, 512])\n",
            "#iter 631 loss tensor(5160.7480, grad_fn=<MulBackward0>)\n",
            "torch.Size([512, 512])\n",
            "#iter 632 loss tensor(5210.9297, grad_fn=<MulBackward0>)\n",
            "torch.Size([512, 512])\n",
            "#iter 633 loss tensor(5272.0498, grad_fn=<MulBackward0>)\n",
            "torch.Size([512, 512])\n",
            "#iter 634 loss tensor(5306.3257, grad_fn=<MulBackward0>)\n",
            "torch.Size([512, 512])\n",
            "#iter 635 loss tensor(5287.8818, grad_fn=<MulBackward0>)\n",
            "torch.Size([512, 512])\n",
            "#iter 636 loss tensor(5252.8936, grad_fn=<MulBackward0>)\n",
            "torch.Size([512, 512])\n",
            "#iter 637 loss tensor(5249.0654, grad_fn=<MulBackward0>)\n",
            "torch.Size([512, 512])\n",
            "#iter 638 loss tensor(5166.9346, grad_fn=<MulBackward0>)\n",
            "torch.Size([512, 512])\n",
            "#iter 639 loss tensor(5151.1719, grad_fn=<MulBackward0>)\n",
            "torch.Size([512, 512])\n",
            "#iter 640 loss tensor(5062.6455, grad_fn=<MulBackward0>)\n",
            "torch.Size([512, 512])\n",
            "#iter 641 loss tensor(4972.6406, grad_fn=<MulBackward0>)\n",
            "torch.Size([512, 512])\n",
            "#iter 642 loss tensor(4940.3926, grad_fn=<MulBackward0>)\n",
            "torch.Size([512, 512])\n",
            "#iter 643 loss tensor(4944.4976, grad_fn=<MulBackward0>)\n",
            "torch.Size([512, 512])\n",
            "#iter 644 loss tensor(5014.9482, grad_fn=<MulBackward0>)\n",
            "torch.Size([512, 512])\n",
            "#iter 645 loss tensor(5050.6919, grad_fn=<MulBackward0>)\n",
            "torch.Size([512, 512])\n",
            "#iter 646 loss tensor(5006.5635, grad_fn=<MulBackward0>)\n",
            "torch.Size([512, 512])\n",
            "#iter 647 loss tensor(4990.6582, grad_fn=<MulBackward0>)\n",
            "torch.Size([512, 512])\n",
            "#iter 648 loss tensor(4998.2007, grad_fn=<MulBackward0>)\n",
            "torch.Size([512, 512])\n",
            "#iter 649 loss tensor(4959.1396, grad_fn=<MulBackward0>)\n",
            "torch.Size([512, 512])\n",
            "#iter 650 loss tensor(4901.9985, grad_fn=<MulBackward0>)\n",
            "torch.Size([512, 512])\n",
            "#iter 651 loss tensor(4828.8569, grad_fn=<MulBackward0>)\n",
            "torch.Size([512, 512])\n",
            "#iter 652 loss tensor(4770.3711, grad_fn=<MulBackward0>)\n",
            "torch.Size([512, 512])\n",
            "#iter 653 loss tensor(4760.3438, grad_fn=<MulBackward0>)\n",
            "torch.Size([512, 512])\n",
            "#iter 654 loss tensor(4742.7163, grad_fn=<MulBackward0>)\n",
            "torch.Size([512, 512])\n",
            "#iter 655 loss tensor(4725.4644, grad_fn=<MulBackward0>)\n",
            "torch.Size([512, 512])\n",
            "#iter 656 loss tensor(4719.5576, grad_fn=<MulBackward0>)\n",
            "torch.Size([512, 512])\n",
            "#iter 657 loss tensor(4734.5732, grad_fn=<MulBackward0>)\n",
            "torch.Size([512, 512])\n",
            "#iter 658 loss tensor(4792.2446, grad_fn=<MulBackward0>)\n",
            "torch.Size([512, 512])\n",
            "#iter 659 loss tensor(4791.1006, grad_fn=<MulBackward0>)\n",
            "torch.Size([512, 512])\n",
            "#iter 660 loss tensor(4750.8594, grad_fn=<MulBackward0>)\n",
            "torch.Size([512, 512])\n",
            "#iter 661 loss tensor(4725.0161, grad_fn=<MulBackward0>)\n",
            "torch.Size([512, 512])\n",
            "#iter 662 loss tensor(4748.5879, grad_fn=<MulBackward0>)\n",
            "torch.Size([512, 512])\n",
            "#iter 663 loss tensor(4749.5317, grad_fn=<MulBackward0>)\n",
            "torch.Size([512, 512])\n",
            "#iter 664 loss tensor(4748.0312, grad_fn=<MulBackward0>)\n",
            "torch.Size([512, 512])\n",
            "#iter 665 loss tensor(4735.9683, grad_fn=<MulBackward0>)\n",
            "torch.Size([512, 512])\n",
            "#iter 666 loss tensor(4759.3867, grad_fn=<MulBackward0>)\n",
            "torch.Size([512, 512])\n",
            "#iter 667 loss tensor(4805.3594, grad_fn=<MulBackward0>)\n",
            "torch.Size([512, 512])\n",
            "#iter 668 loss tensor(4855.5962, grad_fn=<MulBackward0>)\n",
            "torch.Size([512, 512])\n",
            "#iter 669 loss tensor(4897.8994, grad_fn=<MulBackward0>)\n",
            "torch.Size([512, 512])\n",
            "#iter 670 loss tensor(4915.1372, grad_fn=<MulBackward0>)\n",
            "torch.Size([512, 512])\n",
            "#iter 671 loss tensor(4934.1206, grad_fn=<MulBackward0>)\n",
            "torch.Size([512, 512])\n",
            "#iter 672 loss tensor(4948.8223, grad_fn=<MulBackward0>)\n",
            "torch.Size([512, 512])\n",
            "#iter 673 loss tensor(4984.3262, grad_fn=<MulBackward0>)\n",
            "torch.Size([512, 512])\n",
            "#iter 674 loss tensor(5045.7285, grad_fn=<MulBackward0>)\n",
            "torch.Size([512, 512])\n",
            "#iter 675 loss tensor(5122.7358, grad_fn=<MulBackward0>)\n",
            "torch.Size([512, 512])\n",
            "#iter 676 loss tensor(5202.4404, grad_fn=<MulBackward0>)\n",
            "torch.Size([512, 512])\n",
            "#iter 677 loss tensor(5255.5518, grad_fn=<MulBackward0>)\n",
            "torch.Size([512, 512])\n",
            "#iter 678 loss tensor(5298.2896, grad_fn=<MulBackward0>)\n",
            "torch.Size([512, 512])\n",
            "#iter 679 loss tensor(5353.7090, grad_fn=<MulBackward0>)\n",
            "torch.Size([512, 512])\n",
            "#iter 680 loss tensor(5427.0425, grad_fn=<MulBackward0>)\n",
            "torch.Size([512, 512])\n",
            "#iter 681 loss tensor(5500.8765, grad_fn=<MulBackward0>)\n",
            "torch.Size([512, 512])\n",
            "#iter 682 loss tensor(5571.4888, grad_fn=<MulBackward0>)\n",
            "torch.Size([512, 512])\n",
            "#iter 683 loss tensor(5644.7617, grad_fn=<MulBackward0>)\n",
            "torch.Size([512, 512])\n",
            "#iter 684 loss tensor(5715.8506, grad_fn=<MulBackward0>)\n",
            "torch.Size([512, 512])\n",
            "#iter 685 loss tensor(5792.8037, grad_fn=<MulBackward0>)\n",
            "torch.Size([512, 512])\n",
            "#iter 686 loss tensor(5875.2935, grad_fn=<MulBackward0>)\n",
            "torch.Size([512, 512])\n",
            "#iter 687 loss tensor(5956.5303, grad_fn=<MulBackward0>)\n"
          ]
        }
      ]
    },
    {
      "cell_type": "code",
      "source": [
        "plt.plot(history[5:])"
      ],
      "metadata": {
        "id": "jHYMzoLTbFyR"
      },
      "execution_count": null,
      "outputs": []
    },
    {
      "cell_type": "markdown",
      "source": [
        "Visualisation"
      ],
      "metadata": {
        "id": "twoS2qPPcSPN"
      }
    },
    {
      "cell_type": "code",
      "source": [
        "psi[0,0,:,:].shape"
      ],
      "metadata": {
        "id": "cmYDRsmlc0-b"
      },
      "execution_count": null,
      "outputs": []
    },
    {
      "cell_type": "code",
      "source": [
        "psicheck = torch.tensor(psi[0,0,:,:],requires_grad=False)\n",
        "psiMasked = (psicheck*wallsMask) + (inverseUpperWallMask*Q)\n",
        "fig = plt.figure(figsize=(figSize, figSize))\n",
        "plt.imshow(psiMasked)\n",
        "plt.title('psi function with mask')"
      ],
      "metadata": {
        "id": "Tx_qNIxjcZoa"
      },
      "execution_count": null,
      "outputs": []
    },
    {
      "cell_type": "code",
      "source": [
        "plt.plot(psiMasked[:,250])\n",
        "plt.title('psi function slice')"
      ],
      "metadata": {
        "id": "r-cNSoA-vtz4"
      },
      "execution_count": null,
      "outputs": []
    },
    {
      "cell_type": "code",
      "source": [
        "v1, v2 = velocityDistr(psiMasked,dx1n,dx2n,lim1,lim2)\n",
        "fig = plt.figure(figsize=(figSize*2, figSize))\n",
        "plt.subplot(1,2,1)\n",
        "plt.imshow(v1)\n",
        "plt.title('v1')\n",
        "plt.subplot(1,2,2)\n",
        "plt.imshow(v2)\n",
        "plt.title('v2')"
      ],
      "metadata": {
        "id": "IcEzHkrgcVWx"
      },
      "execution_count": null,
      "outputs": []
    },
    {
      "cell_type": "code",
      "source": [
        "plt.plot(v2[:,250])"
      ],
      "metadata": {
        "id": "tM5Nv56YeC9r"
      },
      "execution_count": null,
      "outputs": []
    },
    {
      "cell_type": "markdown",
      "source": [
        "#Links\n",
        "\n",
        "[1]. https://github.com/Mechanics-Mechatronics-and-Robotics/Mathematical_modelling/blob/main/Practice_1_by_IStebakov.ipynb\n",
        "\n",
        "[2]. https://github.com/mateuszbuda/brain-segmentation-pytorch"
      ],
      "metadata": {
        "id": "rpGo7xQz6cny"
      }
    }
  ]
}