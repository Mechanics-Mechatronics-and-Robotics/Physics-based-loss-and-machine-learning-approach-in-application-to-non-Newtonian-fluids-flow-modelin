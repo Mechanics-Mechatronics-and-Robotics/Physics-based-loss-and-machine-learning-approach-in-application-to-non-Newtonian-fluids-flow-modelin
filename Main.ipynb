{
  "nbformat": 4,
  "nbformat_minor": 0,
  "metadata": {
    "colab": {
      "name": "Main.ipynb",
      "provenance": [],
      "collapsed_sections": []
    },
    "kernelspec": {
      "name": "python3",
      "display_name": "Python 3"
    },
    "language_info": {
      "name": "python"
    },
    "accelerator": "GPU"
  },
  "cells": [
    {
      "cell_type": "markdown",
      "source": [
        "#**Physics-based loss and machine learing approach in application to fluids flow modelling: 2D flow domains**\n",
        "\n",
        "The program recieves an image of the flow domain and the flow rate value, then calculate velocity distribution. The main idea is power loss minimization. The main unknown function is the stream function $\\psi = \\psi(x_1, x_2)$ that determines the velocity field $\\textbf{V} = [[v_1, v_2]]$, where $v_1 = \\frac{\\partial \\psi}{\\partial x_2}$, $v_2 = - \\frac{\\partial \\psi}{\\partial x_1}$.\n",
        "\n"
      ],
      "metadata": {
        "id": "RJkKJ83igGYb"
      }
    },
    {
      "cell_type": "markdown",
      "source": [
        "#Libraries"
      ],
      "metadata": {
        "id": "ozT2l1DxVSOL"
      }
    },
    {
      "cell_type": "markdown",
      "source": [
        "## Install libraries"
      ],
      "metadata": {
        "id": "s3KFs0M9r7EQ"
      }
    },
    {
      "cell_type": "code",
      "execution_count": 216,
      "metadata": {
        "id": "jPSaJ-z614Tm"
      },
      "outputs": [],
      "source": [
        "!pip install -Uqq fastbook\n",
        "import fastbook\n",
        "fastbook.setup_book()"
      ]
    },
    {
      "cell_type": "markdown",
      "source": [
        "## Import libraries"
      ],
      "metadata": {
        "id": "ydwhZV95sFoN"
      }
    },
    {
      "cell_type": "code",
      "source": [
        "from fastai.vision.all import *\n",
        "import cv2\n",
        "from google.colab.patches import cv2_imshow\n",
        "from collections import OrderedDict"
      ],
      "metadata": {
        "id": "Go3JwW4hICsK"
      },
      "execution_count": 217,
      "outputs": []
    },
    {
      "cell_type": "markdown",
      "source": [
        "#Functions"
      ],
      "metadata": {
        "id": "BT8OQ6AkVb6U"
      }
    },
    {
      "cell_type": "markdown",
      "source": [
        "## Additional functions"
      ],
      "metadata": {
        "id": "Hw2AD3oWsfJb"
      }
    },
    {
      "cell_type": "markdown",
      "source": [
        "Numerical derivative"
      ],
      "metadata": {
        "id": "2JAf1YAHtV15"
      }
    },
    {
      "cell_type": "code",
      "source": [
        "def mydiff(j,y,dx):\n",
        "  '''The function calculates the first order derivative in a specific direction \n",
        "     'dx' at a specific point 'j' for a given array 'y' \n",
        "     using parabolic approximation\n",
        "  '''\n",
        "  dydx = 0\n",
        "  n = len(y)\n",
        "  if j==0:\n",
        "    dydx=(-y[3]+4*y[2]-3*y[1])/(2*dx)\n",
        "  elif j==n-1:\n",
        "    dydx=(3*y[j]-4*y[j-1]+y[j-2])/(2*dx)\n",
        "  else:\n",
        "    dydx=(y[j+1]-y[j-1])/(2*dx);\n",
        "  return dydx"
      ],
      "metadata": {
        "id": "MSTF3qPgtbn8"
      },
      "execution_count": 218,
      "outputs": []
    },
    {
      "cell_type": "code",
      "source": [
        "def num_diff(f, dx1, dx2):\n",
        "  '''function to find partial derivatives of a two variables function:\n",
        "  i - index along x1\n",
        "  j - index along x2\n",
        "  for internal points - central differences e.q. df_dx = (f_{i+1}-f_{i-1})/(2*dx)\n",
        "  for boundaries - left and right finite differences e.q. df_dx = (f_{i+1}-f_{i})/dx or df_dx = (f_{i}-f_{i-1})/dx\n",
        "  '''\n",
        "  n1, n2 = f.shape\n",
        "  df_dx1, df_dx2 = torch.zeros(n1,n2), torch.zeros(n1,n2)\n",
        "  # x1 derivative:\n",
        "  df_dx1[1:n1-1,:] = (f[2:,:] - f[:-2,:])/(2*dx1)\n",
        "  df_dx1[0,:] = (f[1,:] - f[0,:])/dx1\n",
        "  df_dx1[n1-1,:] = (f[n1-1,:] - f[n1-2,:])/dx1\n",
        "  # x2 derivative:\n",
        "  df_dx2[:, 1:n2-1] = (f[:,2:] - f[:,:-2])/(2*dx2)\n",
        "  df_dx2[:, 0] = (f[:,1] - f[:,0])/dx2\n",
        "  df_dx2[:,n2-1] = (f[:,n2-1] - f[:,n2-2])/dx2\n",
        "  return df_dx1, df_dx2"
      ],
      "metadata": {
        "id": "5P2RND6cYEOK"
      },
      "execution_count": 219,
      "outputs": []
    },
    {
      "cell_type": "markdown",
      "source": [
        "Numerical integrals: single and double"
      ],
      "metadata": {
        "id": "1i1RAg4ozeGq"
      }
    },
    {
      "cell_type": "code",
      "source": [
        "def singleIntegral(f,lowerLim,upperLim):\n",
        "  '''The function calculates the single integral using Simpson's formula. \n",
        "     The formula limits are uniform and set from 0 to 1. So, the obtained\n",
        "     result is multiplied by the difference between the upper and lower limits.\n",
        "  '''  \n",
        "  sglInt = 0\n",
        "  n = len(f)\n",
        "  x = torch.linspace(0,1,n)\n",
        "  dxn = x[1]-x[0]\n",
        "\n",
        "  for i in range (1, (n-1), 2):\n",
        "    sglInt += (f[i-1] + 4*f[i]+f[i+1])*dxn/3\n",
        "  if (n % 2) == 0:\n",
        "    sglInt += (f[-1]+f[-2])*dxn/2\n",
        "\n",
        "  sglInt = sglInt*(upperLim-lowerLim)\n",
        "\n",
        "  return sglInt"
      ],
      "metadata": {
        "id": "MbSgsSbO0srV"
      },
      "execution_count": 220,
      "outputs": []
    },
    {
      "cell_type": "code",
      "source": [
        "def doublelIntegral(f,lim1,lim2):\n",
        "  '''The function calculates the double integral using Simpson's formula twice. \n",
        "     The formula limits are uniform and set from 0 to 1. So, the obtained\n",
        "     result is multiplied by the differences between the upper and lower limits.\n",
        "  '''\n",
        "  dblInt = 0\n",
        "  n = f.shape\n",
        "  x1 = torch.linspace(0,1,n[0])\n",
        "  x2 = torch.linspace(0,1,n[1])\n",
        "  dx1n = x1[1]-x1[0]\n",
        "  dx2n = x2[1]-x2[0]\n",
        "\n",
        "  for i in range (1, (n[0]-1), 2):\n",
        "    for j in range (1, (n[1]-1), 2):\n",
        "      dblInt += (f[i-1][j-1] + f[i+1][j-1] + f[i-1][j+1] + f[i+1][j+1] + \n",
        "                   4*(f[i][j+1] + f[i][j-1] + f[i-1][j] + f[i+1][j]) + \n",
        "                   16*f[i][j])*dx1n*dx2n/9\n",
        "          \n",
        "  dblInt = dblInt*(lim1[1]-lim1[0])*(lim2[1]-lim2[0])\n",
        "\n",
        "  return (dblInt)"
      ],
      "metadata": {
        "id": "fxibGVL-zkCW"
      },
      "execution_count": 221,
      "outputs": []
    },
    {
      "cell_type": "markdown",
      "source": [
        "Check double integral "
      ],
      "metadata": {
        "id": "qyl0qTFMj-lf"
      }
    },
    {
      "cell_type": "code",
      "source": [
        "ss = 101\n",
        "x = torch.linspace(0,1,ss)\n",
        "y = torch.linspace(0,1,ss)\n",
        "y = y.reshape(1,-1).t()\n",
        "z = (x*x) * (y*y)\n",
        "print(doublelIntegral(z,[0,1],[0,1]),'- calculated', 1/9, '- exact')"
      ],
      "metadata": {
        "id": "byisjmu7c8C6",
        "colab": {
          "base_uri": "https://localhost:8080/"
        },
        "outputId": "daf41255-09cf-4e89-e245-7259bdbf6175"
      },
      "execution_count": 222,
      "outputs": [
        {
          "output_type": "stream",
          "name": "stdout",
          "text": [
            "tensor(0.1111) - calculated 0.1111111111111111 - exact\n"
          ]
        }
      ]
    },
    {
      "cell_type": "markdown",
      "source": [
        "Color filter "
      ],
      "metadata": {
        "id": "lon3t_mIeGEi"
      }
    },
    {
      "cell_type": "code",
      "source": [
        "def colorFilter(img, color):\n",
        "  white = (255,255,255,255)\n",
        "  black = (0,0,0,255)\n",
        "  width,heigth = img.size\n",
        "  for i in range(width):\n",
        "    for j in range(heigth):\n",
        "      if img.getpixel((i,j)) == color:\n",
        "        img.putpixel((i,j),black)\n",
        "      else:\n",
        "        #print(img.getpixel((i,j)))\n",
        "        img.putpixel((i,j),white)\n",
        "  return (img)"
      ],
      "metadata": {
        "id": "626DXTn0eKR-"
      },
      "execution_count": 223,
      "outputs": []
    },
    {
      "cell_type": "markdown",
      "source": [
        "##Major functions\n",
        "\n",
        "Distributions: the velocity components [[$v_1$, $v_2$]], the strain rate tensor components [[$\\xi_{ij}$]], $\\xi_{ij}=\\xi_{ji}$ . And the shear rate intensity Η. "
      ],
      "metadata": {
        "id": "mH8zURs8A1Sr"
      }
    },
    {
      "cell_type": "code",
      "source": [
        "def velocityDistr(psi,dx1n,dx2n,lim1,lim2):\n",
        "\n",
        "  n = psi.shape\n",
        "  dpsidx1, dpsidx2 = num_diff(psi, dx1n, dx2n)\n",
        "  v1 = dpsidx2/lim2[1]\n",
        "  v2 = - dpsidx1/lim1[1]\n",
        "\n",
        "  return v1,v2"
      ],
      "metadata": {
        "id": "WMUIipgs5t3Q"
      },
      "execution_count": 224,
      "outputs": []
    },
    {
      "cell_type": "code",
      "source": [
        "def TksiDistr(v1,v2,dx1n,dx2n,lim1,lim2):\n",
        "\n",
        "  n = v1.shape\n",
        "  dv1dx1, dv1dx2 = num_diff(v1, dx1n, dx2n)\n",
        "  dv2dx1, dv2dx2 = num_diff(v2, dx1n, dx2n)\n",
        "\n",
        "  xi11 = dv1dx1/lim1[1]\n",
        "  xi12 = 0.5*(dv1dx2/lim2[1] + dv2dx1/lim1[1])\n",
        "  xi22 = dv2dx2/lim2[1]\n",
        "  EtaEta = (2*(xi11*xi11 + 2*xi12*xi12 + xi22*xi22))\n",
        "\n",
        "  return xi11,xi12,xi22,EtaEta"
      ],
      "metadata": {
        "id": "716qlRJoNglx"
      },
      "execution_count": 225,
      "outputs": []
    },
    {
      "cell_type": "markdown",
      "source": [
        "# Initialization"
      ],
      "metadata": {
        "id": "nzMpruhsYD38"
      }
    },
    {
      "cell_type": "markdown",
      "source": [
        "##Image of the flow domain"
      ],
      "metadata": {
        "id": "itN_H_kFke1t"
      }
    },
    {
      "cell_type": "markdown",
      "source": [
        "Path"
      ],
      "metadata": {
        "id": "3NCXTaNK4V4S"
      }
    },
    {
      "cell_type": "code",
      "source": [
        " path =  Path('/content/gdrive/MyDrive/study/Publications/2022/IEEE-CEC-2022/physical-loss')\n",
        " imgPath = path/'ToyDataset'\n",
        " imgList = imgPath.ls()\n",
        " imgPath.ls()"
      ],
      "metadata": {
        "id": "tDbZIropJMjw",
        "colab": {
          "base_uri": "https://localhost:8080/"
        },
        "outputId": "acd6e020-f847-4bc2-841a-97513faa410b"
      },
      "execution_count": 226,
      "outputs": [
        {
          "output_type": "execute_result",
          "data": {
            "text/plain": [
              "(#3) [Path('/content/gdrive/MyDrive/study/Publications/2022/IEEE-CEC-2022/physical-loss/ToyDataset/Parallel plates and ball.png'),Path('/content/gdrive/MyDrive/study/Publications/2022/IEEE-CEC-2022/physical-loss/ToyDataset/Parallel plates with notch.png'),Path('/content/gdrive/MyDrive/study/Publications/2022/IEEE-CEC-2022/physical-loss/ToyDataset/Parallel plates.png')]"
            ]
          },
          "metadata": {},
          "execution_count": 226
        }
      ]
    },
    {
      "cell_type": "markdown",
      "source": [
        "##Geometry\n",
        "The domain of size *'L x L'*  with flow channel is represented as an image of size *'imgSize x imgSize'*. S1 is the upper wall with black label [0 0 0]. S2 and S4 are outlet and inlet surfaces, respectivelly. S3 is the lower wall with blue label [0 0 255]. "
      ],
      "metadata": {
        "id": "ORhTWZZvVw7c"
      }
    },
    {
      "cell_type": "code",
      "source": [
        "L = 0.1 # L x L flow domain\n",
        "imgSize = 512 # imgSize x imgSize pixels image\n",
        "imgNo = 2\n",
        "upperWallColor =  (0, 0, 0,255)\n",
        "lowerWallColor =  (0, 0, 255,255)\n",
        "#Normalized coordinates\n",
        "x1n = torch.linspace(0,1,imgSize)\n",
        "x2n = torch.linspace(0,1,imgSize)\n",
        "dx1n = x1n[1] - x1n[0]\n",
        "dx2n = x2n[1] - x2n[0]\n",
        "lim1 = [0, L]\n",
        "lim2 = [0, L]\n",
        "#Visualisation\n",
        "figSize = 3\n",
        "#Training\n",
        "noOfEpoch = 1000\n",
        "learnRate = 0.001"
      ],
      "metadata": {
        "id": "y8Q_jxpUYIEm"
      },
      "execution_count": 227,
      "outputs": []
    },
    {
      "cell_type": "code",
      "source": [
        "domainMask = Image.open(imgList[imgNo])\n",
        "domainMask "
      ],
      "metadata": {
        "id": "1hKq9A5gtHzs",
        "colab": {
          "base_uri": "https://localhost:8080/",
          "height": 143
        },
        "outputId": "c4606a3d-6b2b-40f1-ee88-89f4607eaf31"
      },
      "execution_count": 228,
      "outputs": [
        {
          "output_type": "execute_result",
          "data": {
            "image/png": "[encoded data removed]",
            "text/plain": [
              "<PIL.PngImagePlugin.PngImageFile image mode=RGBA size=126x126 at 0x7FA9624A1C50>"
            ]
          },
          "metadata": {},
          "execution_count": 228
        }
      ]
    },
    {
      "cell_type": "markdown",
      "source": [
        "Create masks for the walls and resize image"
      ],
      "metadata": {
        "id": "45EnY5VmEcjK"
      }
    },
    {
      "cell_type": "code",
      "source": [
        "x2n.dtype"
      ],
      "metadata": {
        "id": "SgL2YvbN3rmT",
        "colab": {
          "base_uri": "https://localhost:8080/"
        },
        "outputId": "aed4807f-b7ce-4977-8d0e-1b050484fd19"
      },
      "execution_count": 229,
      "outputs": [
        {
          "output_type": "execute_result",
          "data": {
            "text/plain": [
              "torch.float32"
            ]
          },
          "metadata": {},
          "execution_count": 229
        }
      ]
    },
    {
      "cell_type": "code",
      "source": [
        "\n",
        "upperWallMask = colorFilter(domainMask, upperWallColor)\n",
        "upperWallMask = upperWallMask.resize((imgSize,imgSize),resample=4)\n",
        "#upperWallMask"
      ],
      "metadata": {
        "id": "lmyMgC4op_o_"
      },
      "execution_count": 230,
      "outputs": []
    },
    {
      "cell_type": "code",
      "source": [
        "domainMask = Image.open(imgList[imgNo])\n",
        "lowerWallMask = colorFilter(domainMask, lowerWallColor)\n",
        "lowerWallMask = lowerWallMask.resize((imgSize,imgSize),resample=4)\n",
        "#lowerWallMask"
      ],
      "metadata": {
        "id": "FF424vauuCi8"
      },
      "execution_count": 231,
      "outputs": []
    },
    {
      "cell_type": "markdown",
      "source": [
        "##Kinematic properties\n",
        "The velocity is equal to zero on all the surfaces. The flow rate is known."
      ],
      "metadata": {
        "id": "XaVb_Ejsmynq"
      }
    },
    {
      "cell_type": "code",
      "source": [
        "Q = 1 #flow rate through the inlet (outlet) boundary, m^3/s\n",
        "psim = 0 # lower wall\n",
        "psip = Q # upper wall\n",
        "psi00 = torch.linspace(0,1,imgSize, dtype=torch.float32)*torch.ones(imgSize,imgSize)\n",
        "psi0 = torch.t(psi00)\n",
        "fig = plt.figure(figsize=(figSize, figSize))\n",
        "plt.imshow(psi0)"
      ],
      "metadata": {
        "id": "Gb4BFZNWnBsh",
        "colab": {
          "base_uri": "https://localhost:8080/",
          "height": 236
        },
        "outputId": "0036b705-64e8-445d-9a2a-c3dce7b727da"
      },
      "execution_count": 232,
      "outputs": [
        {
          "output_type": "execute_result",
          "data": {
            "text/plain": [
              "<matplotlib.image.AxesImage at 0x7fa9627b9f10>"
            ]
          },
          "metadata": {},
          "execution_count": 232
        },
        {
          "output_type": "display_data",
          "data": {
            "image/png": "[encoded data removed]",
            "text/plain": [
              "<Figure size 216x216 with 1 Axes>"
            ]
          },
          "metadata": {
            "needs_background": "light"
          }
        }
      ]
    },
    {
      "cell_type": "code",
      "source": [
        "psi00.dtype"
      ],
      "metadata": {
        "id": "H-xEZhto3cLN",
        "colab": {
          "base_uri": "https://localhost:8080/"
        },
        "outputId": "f16180e3-7e5d-4186-b7e9-b22db3061d5b"
      },
      "execution_count": 233,
      "outputs": [
        {
          "output_type": "execute_result",
          "data": {
            "text/plain": [
              "torch.float32"
            ]
          },
          "metadata": {},
          "execution_count": 233
        }
      ]
    },
    {
      "cell_type": "code",
      "source": [
        "wallsMask = (tensor(upperWallMask)[:,:,1]*tensor(lowerWallMask)[:,:,1])\n",
        "inverseUpperWallMask = (tensor(upperWallMask)[:,:,1]/(-255)+1)\n",
        "psi0Masked = (psi0*wallsMask) + (inverseUpperWallMask*Q)\n",
        "fig = plt.figure(figsize=(figSize, figSize))\n",
        "plt.imshow(psi0Masked)\n",
        "plt.title('psi function with mask')"
      ],
      "metadata": {
        "id": "lyOiYXNSUVnK",
        "colab": {
          "base_uri": "https://localhost:8080/",
          "height": 248
        },
        "outputId": "01db208b-be0f-4d6c-ba24-d213923f02aa"
      },
      "execution_count": 234,
      "outputs": [
        {
          "output_type": "execute_result",
          "data": {
            "text/plain": [
              "Text(0.5, 1.0, 'psi function with mask')"
            ]
          },
          "metadata": {},
          "execution_count": 234
        },
        {
          "output_type": "display_data",
          "data": {
            "image/png": "[encoded data removed]",
            "text/plain": [
              "<Figure size 216x216 with 1 Axes>"
            ]
          },
          "metadata": {
            "needs_background": "light"
          }
        }
      ]
    },
    {
      "cell_type": "markdown",
      "source": [
        "Velocity distribution"
      ],
      "metadata": {
        "id": "B7LQzVv63_0n"
      }
    },
    {
      "cell_type": "code",
      "source": [
        "v1, v2 = velocityDistr(psi0Masked,dx1n,dx2n,lim1,lim2)\n",
        "fig = plt.figure(figsize=(figSize*2, figSize))\n",
        "plt.subplot(1,2,1)\n",
        "plt.imshow(v1)\n",
        "plt.title('v1')\n",
        "plt.subplot(1,2,2)\n",
        "plt.imshow(v2)\n",
        "plt.title('v2')"
      ],
      "metadata": {
        "id": "qbVbaBjT3aOd",
        "colab": {
          "base_uri": "https://localhost:8080/",
          "height": 238
        },
        "outputId": "114565be-a180-41b3-cd35-70550e5d1407"
      },
      "execution_count": 235,
      "outputs": [
        {
          "output_type": "execute_result",
          "data": {
            "text/plain": [
              "Text(0.5, 1.0, 'v2')"
            ]
          },
          "metadata": {},
          "execution_count": 235
        },
        {
          "output_type": "display_data",
          "data": {
            "image/png": "[encoded data removed]",
            "text/plain": [
              "<Figure size 432x216 with 2 Axes>"
            ]
          },
          "metadata": {
            "needs_background": "light"
          }
        }
      ]
    },
    {
      "cell_type": "markdown",
      "source": [
        "##Dynamic properties\n",
        "The fluid is Newtonian."
      ],
      "metadata": {
        "id": "hvAQmdvsnZQ5"
      }
    },
    {
      "cell_type": "code",
      "source": [
        "mu = 1e-3 # koefficient of dynamic viscosity (viscosity), Pa*s"
      ],
      "metadata": {
        "id": "t4YCVOBPneFt"
      },
      "execution_count": 236,
      "outputs": []
    },
    {
      "cell_type": "markdown",
      "source": [
        "##Check exact solution\n",
        "Newtonian fluid flows between parallel plates "
      ],
      "metadata": {
        "id": "wOpHVjQdkxS_"
      }
    },
    {
      "cell_type": "code",
      "source": [
        "h=L/5\n",
        "pressureDrop = Q*3*mu*L/(2*h*h*h)\n",
        "internalPower = pressureDrop*Q\n",
        "print('pressure drop',pressureDrop,'internal power',internalPower)"
      ],
      "metadata": {
        "colab": {
          "base_uri": "https://localhost:8080/"
        },
        "id": "fpG0AV2LlF-W",
        "outputId": "764563a8-a9fc-4c1c-9393-b0f7fefa1bb9"
      },
      "execution_count": 237,
      "outputs": [
        {
          "output_type": "stream",
          "name": "stdout",
          "text": [
            "pressure drop 18.75 internal power 18.75\n"
          ]
        }
      ]
    },
    {
      "cell_type": "markdown",
      "source": [
        "#Training"
      ],
      "metadata": {
        "id": "PhZutgNIyYhH"
      }
    },
    {
      "cell_type": "markdown",
      "source": [
        "##Create model\n",
        "Unet architecture [2] is used"
      ],
      "metadata": {
        "id": "FPeLHoR31p1D"
      }
    },
    {
      "cell_type": "code",
      "source": [
        "class UNet(nn.Module):\n",
        "\n",
        "    def __init__(self, in_channels=3, out_channels=1, init_features=32):\n",
        "        super(UNet, self).__init__()\n",
        "\n",
        "        features = init_features\n",
        "        self.encoder1 = UNet._block(in_channels, features, name=\"enc1\")\n",
        "        self.pool1 = nn.MaxPool2d(kernel_size=2, stride=2)\n",
        "        self.encoder2 = UNet._block(features, features * 2, name=\"enc2\")\n",
        "        self.pool2 = nn.MaxPool2d(kernel_size=2, stride=2)\n",
        "        self.encoder3 = UNet._block(features * 2, features * 4, name=\"enc3\")\n",
        "        self.pool3 = nn.MaxPool2d(kernel_size=2, stride=2)\n",
        "        self.encoder4 = UNet._block(features * 4, features * 8, name=\"enc4\")\n",
        "        self.pool4 = nn.MaxPool2d(kernel_size=2, stride=2)\n",
        "\n",
        "        self.bottleneck = UNet._block(features * 8, features * 16, name=\"bottleneck\")\n",
        "\n",
        "        self.upconv4 = nn.ConvTranspose2d(\n",
        "            features * 16, features * 8, kernel_size=2, stride=2\n",
        "        )\n",
        "        self.decoder4 = UNet._block((features * 8) * 2, features * 8, name=\"dec4\")\n",
        "        self.upconv3 = nn.ConvTranspose2d(\n",
        "            features * 8, features * 4, kernel_size=2, stride=2\n",
        "        )\n",
        "        self.decoder3 = UNet._block((features * 4) * 2, features * 4, name=\"dec3\")\n",
        "        self.upconv2 = nn.ConvTranspose2d(\n",
        "            features * 4, features * 2, kernel_size=2, stride=2\n",
        "        )\n",
        "        self.decoder2 = UNet._block((features * 2) * 2, features * 2, name=\"dec2\")\n",
        "        self.upconv1 = nn.ConvTranspose2d(\n",
        "            features * 2, features, kernel_size=2, stride=2\n",
        "        )\n",
        "        self.decoder1 = UNet._block(features * 2, features, name=\"dec1\")\n",
        "\n",
        "        self.conv = nn.Conv2d(\n",
        "            in_channels=features, out_channels=out_channels, kernel_size=1\n",
        "        )\n",
        "\n",
        "    def forward(self, x):\n",
        "        enc1 = self.encoder1(x)\n",
        "        enc2 = self.encoder2(self.pool1(enc1))\n",
        "        enc3 = self.encoder3(self.pool2(enc2))\n",
        "        enc4 = self.encoder4(self.pool3(enc3))\n",
        "\n",
        "        bottleneck = self.bottleneck(self.pool4(enc4))\n",
        "\n",
        "        dec4 = self.upconv4(bottleneck)\n",
        "        dec4 = torch.cat((dec4, enc4), dim=1)\n",
        "        dec4 = self.decoder4(dec4)\n",
        "        dec3 = self.upconv3(dec4)\n",
        "        dec3 = torch.cat((dec3, enc3), dim=1)\n",
        "        dec3 = self.decoder3(dec3)\n",
        "        dec2 = self.upconv2(dec3)\n",
        "        dec2 = torch.cat((dec2, enc2), dim=1)\n",
        "        dec2 = self.decoder2(dec2)\n",
        "        dec1 = self.upconv1(dec2)\n",
        "        dec1 = torch.cat((dec1, enc1), dim=1)\n",
        "        dec1 = self.decoder1(dec1)\n",
        "        return torch.sigmoid(self.conv(dec1))\n",
        "\n",
        "    @staticmethod\n",
        "    def _block(in_channels, features, name):\n",
        "        return nn.Sequential(\n",
        "            OrderedDict(\n",
        "                [\n",
        "                    (\n",
        "                        name + \"conv1\",\n",
        "                        nn.Conv2d(\n",
        "                            in_channels=in_channels,\n",
        "                            out_channels=features,\n",
        "                            kernel_size=3,\n",
        "                            padding=1,\n",
        "                            bias=False,\n",
        "                        ),\n",
        "                    ),\n",
        "                    (name + \"norm1\", nn.BatchNorm2d(num_features=features)),\n",
        "                    (name + \"relu1\", nn.ReLU(inplace=True)),\n",
        "                    (\n",
        "                        name + \"conv2\",\n",
        "                        nn.Conv2d(\n",
        "                            in_channels=features,\n",
        "                            out_channels=features,\n",
        "                            kernel_size=3,\n",
        "                            padding=1,\n",
        "                            bias=False,\n",
        "                        ),\n",
        "                    ),\n",
        "                    (name + \"norm2\", nn.BatchNorm2d(num_features=features)),\n",
        "                    (name + \"relu2\", nn.ReLU(inplace=True)),\n",
        "                ]\n",
        "            )\n",
        "        )\n",
        "\n",
        "\n",
        "        \n",
        "model = UNet(in_channels=1, out_channels=1, init_features=32)"
      ],
      "metadata": {
        "id": "PID82zl-cxN4"
      },
      "execution_count": 238,
      "outputs": []
    },
    {
      "cell_type": "code",
      "source": [
        "#model"
      ],
      "metadata": {
        "id": "2yb3P0n1c8df"
      },
      "execution_count": 239,
      "outputs": []
    },
    {
      "cell_type": "markdown",
      "source": [
        "## Optimizer"
      ],
      "metadata": {
        "id": "PwikCXOPyPPR"
      }
    },
    {
      "cell_type": "code",
      "source": [
        "optimizer = torch.optim.Adam(model.parameters(), lr=learnRate, weight_decay=1e-5)"
      ],
      "metadata": {
        "id": "oKBkisM7hASi"
      },
      "execution_count": 240,
      "outputs": []
    },
    {
      "cell_type": "markdown",
      "source": [
        "##Input image"
      ],
      "metadata": {
        "id": "TyTAp5u0yroJ"
      }
    },
    {
      "cell_type": "code",
      "source": [
        "psi0Masked.dtype"
      ],
      "metadata": {
        "id": "j6BFOOEv3OhT",
        "colab": {
          "base_uri": "https://localhost:8080/"
        },
        "outputId": "56acd9c8-814e-491b-b198-97a58c1ba421"
      },
      "execution_count": 241,
      "outputs": [
        {
          "output_type": "execute_result",
          "data": {
            "text/plain": [
              "torch.float32"
            ]
          },
          "metadata": {},
          "execution_count": 241
        }
      ]
    },
    {
      "cell_type": "code",
      "source": [
        "#x = torch.randn((1, 1, 512, 512))\n",
        "x = torch.ones((1, 1, imgSize, imgSize))*psi0Masked\n",
        "#fig = plt.figure(figsize=(3, 3))\n",
        "#plt.imshow(x[0,0,:,:])\n",
        "x.dtype, x.shape"
      ],
      "metadata": {
        "id": "xruHyQ-vdVhz",
        "colab": {
          "base_uri": "https://localhost:8080/"
        },
        "outputId": "4ab62ace-7c1b-4806-a0ed-f72b6621d0a7"
      },
      "execution_count": 242,
      "outputs": [
        {
          "output_type": "execute_result",
          "data": {
            "text/plain": [
              "(torch.float32, torch.Size([1, 1, 512, 512]))"
            ]
          },
          "metadata": {},
          "execution_count": 242
        }
      ]
    },
    {
      "cell_type": "code",
      "source": [
        "#model(x)"
      ],
      "metadata": {
        "id": "f1L8QG9ndbML"
      },
      "execution_count": 243,
      "outputs": []
    },
    {
      "cell_type": "code",
      "source": [
        "s = dx1n*dx2n*lim1[1]*lim2[1]\n",
        "s"
      ],
      "metadata": {
        "id": "osreN0VAdhZw",
        "colab": {
          "base_uri": "https://localhost:8080/"
        },
        "outputId": "27e3d7dc-d7e2-4b51-de5a-7a64a14e75ce"
      },
      "execution_count": 244,
      "outputs": [
        {
          "output_type": "execute_result",
          "data": {
            "text/plain": [
              "tensor(3.8296e-08)"
            ]
          },
          "metadata": {},
          "execution_count": 244
        }
      ]
    },
    {
      "cell_type": "code",
      "source": [
        "history = []\n",
        "\n",
        "\n",
        "for epoch in range(noOfEpoch):\n",
        "  psi = model(x)\n",
        "  psiMasked = (psi[0,0,:,:]*wallsMask) + (inverseUpperWallMask*Q)\n",
        "  print(psi[0,0,:,:].shape)\n",
        "  v1,v2 = velocityDistr(psiMasked,dx1n,dx2n,lim1,lim2)\n",
        "  xi11,xi12,xi22,EtaEta = TksiDistr(v1,v2,dx1n,dx2n,lim1,lim2)\n",
        "  out = 0.5*mu*s*EtaEta.sum() #doublelIntegral(0.5*mu*EtaEta,lim1,lim2) #loss\n",
        "  #out = loss(out)\n",
        "  if out < 1e-6:\n",
        "      break\n",
        "  history.append(out.item())\n",
        "  out.backward()\n",
        "  optimizer.step()\n",
        "  print('#iter',epoch,'loss',out)"
      ],
      "metadata": {
        "id": "CsBCY3g4gspY",
        "colab": {
          "base_uri": "https://localhost:8080/",
          "height": 1000
        },
        "outputId": "495a15ae-0695-4cb3-f336-b632dee98804"
      },
      "execution_count": 245,
      "outputs": [
        {
          "output_type": "stream",
          "name": "stdout",
          "text": [
            "torch.Size([512, 512])\n",
            "#iter 0 loss tensor(2890986.7500, grad_fn=<MulBackward0>)\n",
            "torch.Size([512, 512])\n",
            "#iter 1 loss tensor(1975912.6250, grad_fn=<MulBackward0>)\n",
            "torch.Size([512, 512])\n",
            "#iter 2 loss tensor(1612033., grad_fn=<MulBackward0>)\n",
            "torch.Size([512, 512])\n",
            "#iter 3 loss tensor(805153.8750, grad_fn=<MulBackward0>)\n",
            "torch.Size([512, 512])\n",
            "#iter 4 loss tensor(585709.4375, grad_fn=<MulBackward0>)\n",
            "torch.Size([512, 512])\n",
            "#iter 5 loss tensor(504592.3750, grad_fn=<MulBackward0>)\n",
            "torch.Size([512, 512])\n",
            "#iter 6 loss tensor(490037.6875, grad_fn=<MulBackward0>)\n",
            "torch.Size([512, 512])\n",
            "#iter 7 loss tensor(441961.9062, grad_fn=<MulBackward0>)\n",
            "torch.Size([512, 512])\n",
            "#iter 8 loss tensor(381599.4375, grad_fn=<MulBackward0>)\n",
            "torch.Size([512, 512])\n",
            "#iter 9 loss tensor(379059.2500, grad_fn=<MulBackward0>)\n",
            "torch.Size([512, 512])\n",
            "#iter 10 loss tensor(458460.0625, grad_fn=<MulBackward0>)\n",
            "torch.Size([512, 512])\n",
            "#iter 11 loss tensor(518667.6562, grad_fn=<MulBackward0>)\n",
            "torch.Size([512, 512])\n",
            "#iter 12 loss tensor(469636.9688, grad_fn=<MulBackward0>)\n",
            "torch.Size([512, 512])\n",
            "#iter 13 loss tensor(363836.3125, grad_fn=<MulBackward0>)\n",
            "torch.Size([512, 512])\n",
            "#iter 14 loss tensor(329471.5000, grad_fn=<MulBackward0>)\n",
            "torch.Size([512, 512])\n",
            "#iter 15 loss tensor(341686.8750, grad_fn=<MulBackward0>)\n",
            "torch.Size([512, 512])\n",
            "#iter 16 loss tensor(371497.9062, grad_fn=<MulBackward0>)\n",
            "torch.Size([512, 512])\n",
            "#iter 17 loss tensor(382455.6562, grad_fn=<MulBackward0>)\n",
            "torch.Size([512, 512])\n",
            "#iter 18 loss tensor(381368.8438, grad_fn=<MulBackward0>)\n",
            "torch.Size([512, 512])\n",
            "#iter 19 loss tensor(370433.9062, grad_fn=<MulBackward0>)\n",
            "torch.Size([512, 512])\n",
            "#iter 20 loss tensor(354106., grad_fn=<MulBackward0>)\n",
            "torch.Size([512, 512])\n",
            "#iter 21 loss tensor(332586.7188, grad_fn=<MulBackward0>)\n",
            "torch.Size([512, 512])\n",
            "#iter 22 loss tensor(309005.2500, grad_fn=<MulBackward0>)\n",
            "torch.Size([512, 512])\n",
            "#iter 23 loss tensor(285170.2500, grad_fn=<MulBackward0>)\n",
            "torch.Size([512, 512])\n",
            "#iter 24 loss tensor(263830.5625, grad_fn=<MulBackward0>)\n",
            "torch.Size([512, 512])\n",
            "#iter 25 loss tensor(246691.7344, grad_fn=<MulBackward0>)\n",
            "torch.Size([512, 512])\n",
            "#iter 26 loss tensor(231741.2969, grad_fn=<MulBackward0>)\n",
            "torch.Size([512, 512])\n",
            "#iter 27 loss tensor(220161.7031, grad_fn=<MulBackward0>)\n",
            "torch.Size([512, 512])\n",
            "#iter 28 loss tensor(212318.3125, grad_fn=<MulBackward0>)\n",
            "torch.Size([512, 512])\n",
            "#iter 29 loss tensor(204040.6562, grad_fn=<MulBackward0>)\n",
            "torch.Size([512, 512])\n",
            "#iter 30 loss tensor(193682.1562, grad_fn=<MulBackward0>)\n",
            "torch.Size([512, 512])\n",
            "#iter 31 loss tensor(183095.4062, grad_fn=<MulBackward0>)\n",
            "torch.Size([512, 512])\n",
            "#iter 32 loss tensor(172734.2500, grad_fn=<MulBackward0>)\n",
            "torch.Size([512, 512])\n",
            "#iter 33 loss tensor(162555.5781, grad_fn=<MulBackward0>)\n",
            "torch.Size([512, 512])\n",
            "#iter 34 loss tensor(153198.3906, grad_fn=<MulBackward0>)\n",
            "torch.Size([512, 512])\n",
            "#iter 35 loss tensor(144923.7188, grad_fn=<MulBackward0>)\n",
            "torch.Size([512, 512])\n",
            "#iter 36 loss tensor(138233.1562, grad_fn=<MulBackward0>)\n",
            "torch.Size([512, 512])\n",
            "#iter 37 loss tensor(133752.3906, grad_fn=<MulBackward0>)\n",
            "torch.Size([512, 512])\n",
            "#iter 38 loss tensor(131420.4844, grad_fn=<MulBackward0>)\n",
            "torch.Size([512, 512])\n",
            "#iter 39 loss tensor(131589.9219, grad_fn=<MulBackward0>)\n",
            "torch.Size([512, 512])\n",
            "#iter 40 loss tensor(132693.7031, grad_fn=<MulBackward0>)\n",
            "torch.Size([512, 512])\n",
            "#iter 41 loss tensor(133705.8281, grad_fn=<MulBackward0>)\n",
            "torch.Size([512, 512])\n",
            "#iter 42 loss tensor(134043.5000, grad_fn=<MulBackward0>)\n",
            "torch.Size([512, 512])\n",
            "#iter 43 loss tensor(133436.5156, grad_fn=<MulBackward0>)\n",
            "torch.Size([512, 512])\n",
            "#iter 44 loss tensor(130606.3047, grad_fn=<MulBackward0>)\n",
            "torch.Size([512, 512])\n",
            "#iter 45 loss tensor(125846.3047, grad_fn=<MulBackward0>)\n",
            "torch.Size([512, 512])\n",
            "#iter 46 loss tensor(120405.8203, grad_fn=<MulBackward0>)\n",
            "torch.Size([512, 512])\n",
            "#iter 47 loss tensor(115158.9453, grad_fn=<MulBackward0>)\n",
            "torch.Size([512, 512])\n",
            "#iter 48 loss tensor(110748.3438, grad_fn=<MulBackward0>)\n",
            "torch.Size([512, 512])\n",
            "#iter 49 loss tensor(107316.2188, grad_fn=<MulBackward0>)\n",
            "torch.Size([512, 512])\n",
            "#iter 50 loss tensor(104932.9609, grad_fn=<MulBackward0>)\n",
            "torch.Size([512, 512])\n",
            "#iter 51 loss tensor(103888.1719, grad_fn=<MulBackward0>)\n",
            "torch.Size([512, 512])\n",
            "#iter 52 loss tensor(103647.6250, grad_fn=<MulBackward0>)\n",
            "torch.Size([512, 512])\n",
            "#iter 53 loss tensor(103630.0625, grad_fn=<MulBackward0>)\n",
            "torch.Size([512, 512])\n",
            "#iter 54 loss tensor(103418.5078, grad_fn=<MulBackward0>)\n",
            "torch.Size([512, 512])\n",
            "#iter 55 loss tensor(102123.0391, grad_fn=<MulBackward0>)\n",
            "torch.Size([512, 512])\n",
            "#iter 56 loss tensor(101296.2891, grad_fn=<MulBackward0>)\n",
            "torch.Size([512, 512])\n",
            "#iter 57 loss tensor(100147.6406, grad_fn=<MulBackward0>)\n",
            "torch.Size([512, 512])\n",
            "#iter 58 loss tensor(98516.8125, grad_fn=<MulBackward0>)\n",
            "torch.Size([512, 512])\n",
            "#iter 59 loss tensor(96475.6328, grad_fn=<MulBackward0>)\n",
            "torch.Size([512, 512])\n",
            "#iter 60 loss tensor(94008.6328, grad_fn=<MulBackward0>)\n",
            "torch.Size([512, 512])\n",
            "#iter 61 loss tensor(91233.2344, grad_fn=<MulBackward0>)\n",
            "torch.Size([512, 512])\n",
            "#iter 62 loss tensor(88050.0312, grad_fn=<MulBackward0>)\n",
            "torch.Size([512, 512])\n",
            "#iter 63 loss tensor(84538.6562, grad_fn=<MulBackward0>)\n",
            "torch.Size([512, 512])\n",
            "#iter 64 loss tensor(81073.4141, grad_fn=<MulBackward0>)\n",
            "torch.Size([512, 512])\n",
            "#iter 65 loss tensor(77861.3281, grad_fn=<MulBackward0>)\n",
            "torch.Size([512, 512])\n",
            "#iter 66 loss tensor(74996.8906, grad_fn=<MulBackward0>)\n",
            "torch.Size([512, 512])\n",
            "#iter 67 loss tensor(72424.8984, grad_fn=<MulBackward0>)\n",
            "torch.Size([512, 512])\n",
            "#iter 68 loss tensor(70388.6406, grad_fn=<MulBackward0>)\n",
            "torch.Size([512, 512])\n",
            "#iter 69 loss tensor(68808.3125, grad_fn=<MulBackward0>)\n",
            "torch.Size([512, 512])\n",
            "#iter 70 loss tensor(67768.4688, grad_fn=<MulBackward0>)\n",
            "torch.Size([512, 512])\n",
            "#iter 71 loss tensor(67366.6484, grad_fn=<MulBackward0>)\n",
            "torch.Size([512, 512])\n",
            "#iter 72 loss tensor(67499.1250, grad_fn=<MulBackward0>)\n",
            "torch.Size([512, 512])\n",
            "#iter 73 loss tensor(67955.1406, grad_fn=<MulBackward0>)\n",
            "torch.Size([512, 512])\n",
            "#iter 74 loss tensor(68654.8828, grad_fn=<MulBackward0>)\n",
            "torch.Size([512, 512])\n",
            "#iter 75 loss tensor(69565.2422, grad_fn=<MulBackward0>)\n",
            "torch.Size([512, 512])\n",
            "#iter 76 loss tensor(70265.1250, grad_fn=<MulBackward0>)\n",
            "torch.Size([512, 512])\n",
            "#iter 77 loss tensor(70432.0703, grad_fn=<MulBackward0>)\n",
            "torch.Size([512, 512])\n",
            "#iter 78 loss tensor(70393.5156, grad_fn=<MulBackward0>)\n",
            "torch.Size([512, 512])\n",
            "#iter 79 loss tensor(70221.6172, grad_fn=<MulBackward0>)\n",
            "torch.Size([512, 512])\n",
            "#iter 80 loss tensor(69773.1719, grad_fn=<MulBackward0>)\n",
            "torch.Size([512, 512])\n",
            "#iter 81 loss tensor(69051.7734, grad_fn=<MulBackward0>)\n",
            "torch.Size([512, 512])\n",
            "#iter 82 loss tensor(68154.1641, grad_fn=<MulBackward0>)\n",
            "torch.Size([512, 512])\n",
            "#iter 83 loss tensor(67175.1406, grad_fn=<MulBackward0>)\n",
            "torch.Size([512, 512])\n",
            "#iter 84 loss tensor(66052.0703, grad_fn=<MulBackward0>)\n",
            "torch.Size([512, 512])\n",
            "#iter 85 loss tensor(64817.5078, grad_fn=<MulBackward0>)\n",
            "torch.Size([512, 512])\n",
            "#iter 86 loss tensor(63533.4453, grad_fn=<MulBackward0>)\n",
            "torch.Size([512, 512])\n",
            "#iter 87 loss tensor(62150.2070, grad_fn=<MulBackward0>)\n",
            "torch.Size([512, 512])\n",
            "#iter 88 loss tensor(60761.7969, grad_fn=<MulBackward0>)\n",
            "torch.Size([512, 512])\n",
            "#iter 89 loss tensor(59313.6953, grad_fn=<MulBackward0>)\n",
            "torch.Size([512, 512])\n",
            "#iter 90 loss tensor(57825.1211, grad_fn=<MulBackward0>)\n",
            "torch.Size([512, 512])\n",
            "#iter 91 loss tensor(56185.0352, grad_fn=<MulBackward0>)\n",
            "torch.Size([512, 512])\n",
            "#iter 92 loss tensor(54567.7383, grad_fn=<MulBackward0>)\n",
            "torch.Size([512, 512])\n",
            "#iter 93 loss tensor(53270.3398, grad_fn=<MulBackward0>)\n",
            "torch.Size([512, 512])\n",
            "#iter 94 loss tensor(52236.1562, grad_fn=<MulBackward0>)\n",
            "torch.Size([512, 512])\n",
            "#iter 95 loss tensor(51612.8359, grad_fn=<MulBackward0>)\n",
            "torch.Size([512, 512])\n",
            "#iter 96 loss tensor(51184.5508, grad_fn=<MulBackward0>)\n",
            "torch.Size([512, 512])\n",
            "#iter 97 loss tensor(51047.3320, grad_fn=<MulBackward0>)\n",
            "torch.Size([512, 512])\n",
            "#iter 98 loss tensor(51205.7188, grad_fn=<MulBackward0>)\n",
            "torch.Size([512, 512])\n",
            "#iter 99 loss tensor(51491.9805, grad_fn=<MulBackward0>)\n",
            "torch.Size([512, 512])\n",
            "#iter 100 loss tensor(51356.0703, grad_fn=<MulBackward0>)\n",
            "torch.Size([512, 512])\n",
            "#iter 101 loss tensor(51037.1523, grad_fn=<MulBackward0>)\n",
            "torch.Size([512, 512])\n",
            "#iter 102 loss tensor(50465.5898, grad_fn=<MulBackward0>)\n",
            "torch.Size([512, 512])\n",
            "#iter 103 loss tensor(49880.2617, grad_fn=<MulBackward0>)\n",
            "torch.Size([512, 512])\n",
            "#iter 104 loss tensor(49455.1641, grad_fn=<MulBackward0>)\n",
            "torch.Size([512, 512])\n",
            "#iter 105 loss tensor(49178.6406, grad_fn=<MulBackward0>)\n",
            "torch.Size([512, 512])\n",
            "#iter 106 loss tensor(48824.7812, grad_fn=<MulBackward0>)\n",
            "torch.Size([512, 512])\n",
            "#iter 107 loss tensor(48604.4258, grad_fn=<MulBackward0>)\n",
            "torch.Size([512, 512])\n",
            "#iter 108 loss tensor(48553.3164, grad_fn=<MulBackward0>)\n",
            "torch.Size([512, 512])\n",
            "#iter 109 loss tensor(48505.0977, grad_fn=<MulBackward0>)\n",
            "torch.Size([512, 512])\n",
            "#iter 110 loss tensor(48361.0117, grad_fn=<MulBackward0>)\n",
            "torch.Size([512, 512])\n",
            "#iter 111 loss tensor(48210.9688, grad_fn=<MulBackward0>)\n",
            "torch.Size([512, 512])\n",
            "#iter 112 loss tensor(48215.4570, grad_fn=<MulBackward0>)\n",
            "torch.Size([512, 512])\n",
            "#iter 113 loss tensor(48100.4062, grad_fn=<MulBackward0>)\n",
            "torch.Size([512, 512])\n",
            "#iter 114 loss tensor(47885.8359, grad_fn=<MulBackward0>)\n",
            "torch.Size([512, 512])\n",
            "#iter 115 loss tensor(47592.2148, grad_fn=<MulBackward0>)\n",
            "torch.Size([512, 512])\n",
            "#iter 116 loss tensor(47445.1250, grad_fn=<MulBackward0>)\n",
            "torch.Size([512, 512])\n",
            "#iter 117 loss tensor(47018.7891, grad_fn=<MulBackward0>)\n",
            "torch.Size([512, 512])\n",
            "#iter 118 loss tensor(46532.8086, grad_fn=<MulBackward0>)\n",
            "torch.Size([512, 512])\n",
            "#iter 119 loss tensor(46088.5117, grad_fn=<MulBackward0>)\n",
            "torch.Size([512, 512])\n",
            "#iter 120 loss tensor(45439.0742, grad_fn=<MulBackward0>)\n",
            "torch.Size([512, 512])\n",
            "#iter 121 loss tensor(44531.9180, grad_fn=<MulBackward0>)\n",
            "torch.Size([512, 512])\n",
            "#iter 122 loss tensor(43576.1523, grad_fn=<MulBackward0>)\n",
            "torch.Size([512, 512])\n",
            "#iter 123 loss tensor(42537.7422, grad_fn=<MulBackward0>)\n",
            "torch.Size([512, 512])\n",
            "#iter 124 loss tensor(41635.1953, grad_fn=<MulBackward0>)\n",
            "torch.Size([512, 512])\n",
            "#iter 125 loss tensor(40633.8594, grad_fn=<MulBackward0>)\n",
            "torch.Size([512, 512])\n",
            "#iter 126 loss tensor(39352.2461, grad_fn=<MulBackward0>)\n",
            "torch.Size([512, 512])\n",
            "#iter 127 loss tensor(38262.7969, grad_fn=<MulBackward0>)\n",
            "torch.Size([512, 512])\n",
            "#iter 128 loss tensor(37029.8555, grad_fn=<MulBackward0>)\n",
            "torch.Size([512, 512])\n",
            "#iter 129 loss tensor(35900.3438, grad_fn=<MulBackward0>)\n",
            "torch.Size([512, 512])\n",
            "#iter 130 loss tensor(34864.2891, grad_fn=<MulBackward0>)\n",
            "torch.Size([512, 512])\n",
            "#iter 131 loss tensor(33965.6289, grad_fn=<MulBackward0>)\n",
            "torch.Size([512, 512])\n",
            "#iter 132 loss tensor(33192.5742, grad_fn=<MulBackward0>)\n",
            "torch.Size([512, 512])\n",
            "#iter 133 loss tensor(32616.4883, grad_fn=<MulBackward0>)\n",
            "torch.Size([512, 512])\n",
            "#iter 134 loss tensor(32253.5957, grad_fn=<MulBackward0>)\n",
            "torch.Size([512, 512])\n",
            "#iter 135 loss tensor(32188.9492, grad_fn=<MulBackward0>)\n",
            "torch.Size([512, 512])\n",
            "#iter 136 loss tensor(32248.3477, grad_fn=<MulBackward0>)\n",
            "torch.Size([512, 512])\n",
            "#iter 137 loss tensor(32638.5020, grad_fn=<MulBackward0>)\n",
            "torch.Size([512, 512])\n",
            "#iter 138 loss tensor(33320.9766, grad_fn=<MulBackward0>)\n",
            "torch.Size([512, 512])\n",
            "#iter 139 loss tensor(34240.7617, grad_fn=<MulBackward0>)\n",
            "torch.Size([512, 512])\n",
            "#iter 140 loss tensor(35294.6094, grad_fn=<MulBackward0>)\n",
            "torch.Size([512, 512])\n",
            "#iter 141 loss tensor(36576.4180, grad_fn=<MulBackward0>)\n",
            "torch.Size([512, 512])\n",
            "#iter 142 loss tensor(37960.8906, grad_fn=<MulBackward0>)\n",
            "torch.Size([512, 512])\n",
            "#iter 143 loss tensor(39437.5625, grad_fn=<MulBackward0>)\n",
            "torch.Size([512, 512])\n",
            "#iter 144 loss tensor(40932.0391, grad_fn=<MulBackward0>)\n",
            "torch.Size([512, 512])\n",
            "#iter 145 loss tensor(42315.8867, grad_fn=<MulBackward0>)\n",
            "torch.Size([512, 512])\n",
            "#iter 146 loss tensor(43642.8086, grad_fn=<MulBackward0>)\n",
            "torch.Size([512, 512])\n",
            "#iter 147 loss tensor(44762.8906, grad_fn=<MulBackward0>)\n",
            "torch.Size([512, 512])\n",
            "#iter 148 loss tensor(45436.9102, grad_fn=<MulBackward0>)\n",
            "torch.Size([512, 512])\n",
            "#iter 149 loss tensor(45584.2812, grad_fn=<MulBackward0>)\n",
            "torch.Size([512, 512])\n",
            "#iter 150 loss tensor(45179., grad_fn=<MulBackward0>)\n",
            "torch.Size([512, 512])\n",
            "#iter 151 loss tensor(44317.5586, grad_fn=<MulBackward0>)\n",
            "torch.Size([512, 512])\n",
            "#iter 152 loss tensor(42897.0508, grad_fn=<MulBackward0>)\n",
            "torch.Size([512, 512])\n",
            "#iter 153 loss tensor(41065.0039, grad_fn=<MulBackward0>)\n",
            "torch.Size([512, 512])\n",
            "#iter 154 loss tensor(38881.0781, grad_fn=<MulBackward0>)\n",
            "torch.Size([512, 512])\n",
            "#iter 155 loss tensor(36388.4219, grad_fn=<MulBackward0>)\n",
            "torch.Size([512, 512])\n",
            "#iter 156 loss tensor(33798.6758, grad_fn=<MulBackward0>)\n",
            "torch.Size([512, 512])\n",
            "#iter 157 loss tensor(31164.4004, grad_fn=<MulBackward0>)\n",
            "torch.Size([512, 512])\n",
            "#iter 158 loss tensor(28634.3652, grad_fn=<MulBackward0>)\n",
            "torch.Size([512, 512])\n",
            "#iter 159 loss tensor(26409.8457, grad_fn=<MulBackward0>)\n",
            "torch.Size([512, 512])\n",
            "#iter 160 loss tensor(24626.9395, grad_fn=<MulBackward0>)\n",
            "torch.Size([512, 512])\n",
            "#iter 161 loss tensor(23431.5977, grad_fn=<MulBackward0>)\n",
            "torch.Size([512, 512])\n",
            "#iter 162 loss tensor(22957.0215, grad_fn=<MulBackward0>)\n",
            "torch.Size([512, 512])\n",
            "#iter 163 loss tensor(23259.4551, grad_fn=<MulBackward0>)\n",
            "torch.Size([512, 512])\n",
            "#iter 164 loss tensor(24379.5020, grad_fn=<MulBackward0>)\n",
            "torch.Size([512, 512])\n",
            "#iter 165 loss tensor(26336.8027, grad_fn=<MulBackward0>)\n",
            "torch.Size([512, 512])\n",
            "#iter 166 loss tensor(29065.1992, grad_fn=<MulBackward0>)\n",
            "torch.Size([512, 512])\n",
            "#iter 167 loss tensor(32485.7363, grad_fn=<MulBackward0>)\n",
            "torch.Size([512, 512])\n",
            "#iter 168 loss tensor(36498.3672, grad_fn=<MulBackward0>)\n",
            "torch.Size([512, 512])\n",
            "#iter 169 loss tensor(40938.8398, grad_fn=<MulBackward0>)\n",
            "torch.Size([512, 512])\n",
            "#iter 170 loss tensor(45656.9453, grad_fn=<MulBackward0>)\n",
            "torch.Size([512, 512])\n",
            "#iter 171 loss tensor(50465.4297, grad_fn=<MulBackward0>)\n",
            "torch.Size([512, 512])\n",
            "#iter 172 loss tensor(55155.9961, grad_fn=<MulBackward0>)\n",
            "torch.Size([512, 512])\n",
            "#iter 173 loss tensor(59517.0859, grad_fn=<MulBackward0>)\n",
            "torch.Size([512, 512])\n",
            "#iter 174 loss tensor(63383.3633, grad_fn=<MulBackward0>)\n",
            "torch.Size([512, 512])\n",
            "#iter 175 loss tensor(66730.3203, grad_fn=<MulBackward0>)\n",
            "torch.Size([512, 512])\n",
            "#iter 176 loss tensor(69281.3672, grad_fn=<MulBackward0>)\n",
            "torch.Size([512, 512])\n",
            "#iter 177 loss tensor(70857.3438, grad_fn=<MulBackward0>)\n",
            "torch.Size([512, 512])\n",
            "#iter 178 loss tensor(71516.2969, grad_fn=<MulBackward0>)\n",
            "torch.Size([512, 512])\n",
            "#iter 179 loss tensor(71257.4844, grad_fn=<MulBackward0>)\n",
            "torch.Size([512, 512])\n",
            "#iter 180 loss tensor(70318.6641, grad_fn=<MulBackward0>)\n",
            "torch.Size([512, 512])\n",
            "#iter 181 loss tensor(68538.8203, grad_fn=<MulBackward0>)\n",
            "torch.Size([512, 512])\n",
            "#iter 182 loss tensor(65934.4453, grad_fn=<MulBackward0>)\n",
            "torch.Size([512, 512])\n",
            "#iter 183 loss tensor(62606.5742, grad_fn=<MulBackward0>)\n",
            "torch.Size([512, 512])\n",
            "#iter 184 loss tensor(58420.1328, grad_fn=<MulBackward0>)\n",
            "torch.Size([512, 512])\n",
            "#iter 185 loss tensor(53681.0391, grad_fn=<MulBackward0>)\n",
            "torch.Size([512, 512])\n",
            "#iter 186 loss tensor(49126.5820, grad_fn=<MulBackward0>)\n",
            "torch.Size([512, 512])\n",
            "#iter 187 loss tensor(44615.6562, grad_fn=<MulBackward0>)\n",
            "torch.Size([512, 512])\n",
            "#iter 188 loss tensor(40415.7305, grad_fn=<MulBackward0>)\n",
            "torch.Size([512, 512])\n",
            "#iter 189 loss tensor(36789.6328, grad_fn=<MulBackward0>)\n",
            "torch.Size([512, 512])\n",
            "#iter 190 loss tensor(33783.6484, grad_fn=<MulBackward0>)\n",
            "torch.Size([512, 512])\n",
            "#iter 191 loss tensor(31159.2988, grad_fn=<MulBackward0>)\n",
            "torch.Size([512, 512])\n",
            "#iter 192 loss tensor(28769.1094, grad_fn=<MulBackward0>)\n",
            "torch.Size([512, 512])\n",
            "#iter 193 loss tensor(26613.9980, grad_fn=<MulBackward0>)\n",
            "torch.Size([512, 512])\n",
            "#iter 194 loss tensor(25060.2070, grad_fn=<MulBackward0>)\n",
            "torch.Size([512, 512])\n",
            "#iter 195 loss tensor(23807.8184, grad_fn=<MulBackward0>)\n",
            "torch.Size([512, 512])\n",
            "#iter 196 loss tensor(22815.7715, grad_fn=<MulBackward0>)\n",
            "torch.Size([512, 512])\n",
            "#iter 197 loss tensor(22015.8145, grad_fn=<MulBackward0>)\n",
            "torch.Size([512, 512])\n",
            "#iter 198 loss tensor(21369.0977, grad_fn=<MulBackward0>)\n",
            "torch.Size([512, 512])\n",
            "#iter 199 loss tensor(20869.9883, grad_fn=<MulBackward0>)\n",
            "torch.Size([512, 512])\n",
            "#iter 200 loss tensor(20490.9355, grad_fn=<MulBackward0>)\n",
            "torch.Size([512, 512])\n",
            "#iter 201 loss tensor(20229.7441, grad_fn=<MulBackward0>)\n",
            "torch.Size([512, 512])\n",
            "#iter 202 loss tensor(20040.0078, grad_fn=<MulBackward0>)\n",
            "torch.Size([512, 512])\n",
            "#iter 203 loss tensor(19885.6719, grad_fn=<MulBackward0>)\n",
            "torch.Size([512, 512])\n",
            "#iter 204 loss tensor(19764.8691, grad_fn=<MulBackward0>)\n",
            "torch.Size([512, 512])\n",
            "#iter 205 loss tensor(19676.1348, grad_fn=<MulBackward0>)\n",
            "torch.Size([512, 512])\n",
            "#iter 206 loss tensor(19614.3613, grad_fn=<MulBackward0>)\n",
            "torch.Size([512, 512])\n",
            "#iter 207 loss tensor(19577.1387, grad_fn=<MulBackward0>)\n",
            "torch.Size([512, 512])\n",
            "#iter 208 loss tensor(19553.8594, grad_fn=<MulBackward0>)\n",
            "torch.Size([512, 512])\n",
            "#iter 209 loss tensor(19537.3477, grad_fn=<MulBackward0>)\n",
            "torch.Size([512, 512])\n",
            "#iter 210 loss tensor(19519.9238, grad_fn=<MulBackward0>)\n",
            "torch.Size([512, 512])\n",
            "#iter 211 loss tensor(19499.4160, grad_fn=<MulBackward0>)\n",
            "torch.Size([512, 512])\n",
            "#iter 212 loss tensor(19485.5996, grad_fn=<MulBackward0>)\n",
            "torch.Size([512, 512])\n",
            "#iter 213 loss tensor(19478.3867, grad_fn=<MulBackward0>)\n",
            "torch.Size([512, 512])\n",
            "#iter 214 loss tensor(19470.7734, grad_fn=<MulBackward0>)\n",
            "torch.Size([512, 512])\n",
            "#iter 215 loss tensor(19461.7441, grad_fn=<MulBackward0>)\n",
            "torch.Size([512, 512])\n",
            "#iter 216 loss tensor(19442.0176, grad_fn=<MulBackward0>)\n",
            "torch.Size([512, 512])\n",
            "#iter 217 loss tensor(19436.5410, grad_fn=<MulBackward0>)\n",
            "torch.Size([512, 512])\n",
            "#iter 218 loss tensor(19458.0469, grad_fn=<MulBackward0>)\n",
            "torch.Size([512, 512])\n",
            "#iter 219 loss tensor(19486.2676, grad_fn=<MulBackward0>)\n",
            "torch.Size([512, 512])\n",
            "#iter 220 loss tensor(19522.4961, grad_fn=<MulBackward0>)\n",
            "torch.Size([512, 512])\n",
            "#iter 221 loss tensor(19560.9004, grad_fn=<MulBackward0>)\n",
            "torch.Size([512, 512])\n",
            "#iter 222 loss tensor(19595.6367, grad_fn=<MulBackward0>)\n",
            "torch.Size([512, 512])\n",
            "#iter 223 loss tensor(19634.1230, grad_fn=<MulBackward0>)\n",
            "torch.Size([512, 512])\n",
            "#iter 224 loss tensor(19685.3457, grad_fn=<MulBackward0>)\n",
            "torch.Size([512, 512])\n",
            "#iter 225 loss tensor(19739.0762, grad_fn=<MulBackward0>)\n",
            "torch.Size([512, 512])\n",
            "#iter 226 loss tensor(19784.7266, grad_fn=<MulBackward0>)\n",
            "torch.Size([512, 512])\n",
            "#iter 227 loss tensor(19825.4785, grad_fn=<MulBackward0>)\n",
            "torch.Size([512, 512])\n",
            "#iter 228 loss tensor(19858.5898, grad_fn=<MulBackward0>)\n",
            "torch.Size([512, 512])\n",
            "#iter 229 loss tensor(19883.5547, grad_fn=<MulBackward0>)\n",
            "torch.Size([512, 512])\n",
            "#iter 230 loss tensor(19892.1797, grad_fn=<MulBackward0>)\n",
            "torch.Size([512, 512])\n",
            "#iter 231 loss tensor(19907.7734, grad_fn=<MulBackward0>)\n",
            "torch.Size([512, 512])\n",
            "#iter 232 loss tensor(19920.1465, grad_fn=<MulBackward0>)\n",
            "torch.Size([512, 512])\n",
            "#iter 233 loss tensor(19927.7188, grad_fn=<MulBackward0>)\n",
            "torch.Size([512, 512])\n",
            "#iter 234 loss tensor(19935.8340, grad_fn=<MulBackward0>)\n",
            "torch.Size([512, 512])\n",
            "#iter 235 loss tensor(19964.1875, grad_fn=<MulBackward0>)\n",
            "torch.Size([512, 512])\n",
            "#iter 236 loss tensor(19986.0156, grad_fn=<MulBackward0>)\n",
            "torch.Size([512, 512])\n",
            "#iter 237 loss tensor(20006.5879, grad_fn=<MulBackward0>)\n",
            "torch.Size([512, 512])\n",
            "#iter 238 loss tensor(20029.6797, grad_fn=<MulBackward0>)\n",
            "torch.Size([512, 512])\n",
            "#iter 239 loss tensor(20037.4727, grad_fn=<MulBackward0>)\n",
            "torch.Size([512, 512])\n",
            "#iter 240 loss tensor(20018.7578, grad_fn=<MulBackward0>)\n",
            "torch.Size([512, 512])\n",
            "#iter 241 loss tensor(20009.5664, grad_fn=<MulBackward0>)\n",
            "torch.Size([512, 512])\n",
            "#iter 242 loss tensor(20001.1406, grad_fn=<MulBackward0>)\n",
            "torch.Size([512, 512])\n",
            "#iter 243 loss tensor(19985.3867, grad_fn=<MulBackward0>)\n",
            "torch.Size([512, 512])\n",
            "#iter 244 loss tensor(19960., grad_fn=<MulBackward0>)\n",
            "torch.Size([512, 512])\n",
            "#iter 245 loss tensor(19900.8789, grad_fn=<MulBackward0>)\n",
            "torch.Size([512, 512])\n",
            "#iter 246 loss tensor(19829.7441, grad_fn=<MulBackward0>)\n",
            "torch.Size([512, 512])\n",
            "#iter 247 loss tensor(19758.3125, grad_fn=<MulBackward0>)\n",
            "torch.Size([512, 512])\n",
            "#iter 248 loss tensor(19697.3047, grad_fn=<MulBackward0>)\n",
            "torch.Size([512, 512])\n",
            "#iter 249 loss tensor(19668.3164, grad_fn=<MulBackward0>)\n",
            "torch.Size([512, 512])\n",
            "#iter 250 loss tensor(19662.4746, grad_fn=<MulBackward0>)\n",
            "torch.Size([512, 512])\n",
            "#iter 251 loss tensor(19710.6133, grad_fn=<MulBackward0>)\n",
            "torch.Size([512, 512])\n",
            "#iter 252 loss tensor(19788.4805, grad_fn=<MulBackward0>)\n",
            "torch.Size([512, 512])\n",
            "#iter 253 loss tensor(19902.0625, grad_fn=<MulBackward0>)\n",
            "torch.Size([512, 512])\n",
            "#iter 254 loss tensor(20007.1328, grad_fn=<MulBackward0>)\n",
            "torch.Size([512, 512])\n",
            "#iter 255 loss tensor(20115.2031, grad_fn=<MulBackward0>)\n",
            "torch.Size([512, 512])\n",
            "#iter 256 loss tensor(20236.7461, grad_fn=<MulBackward0>)\n",
            "torch.Size([512, 512])\n",
            "#iter 257 loss tensor(20373.2988, grad_fn=<MulBackward0>)\n",
            "torch.Size([512, 512])\n",
            "#iter 258 loss tensor(20557.7344, grad_fn=<MulBackward0>)\n",
            "torch.Size([512, 512])\n",
            "#iter 259 loss tensor(20772.6641, grad_fn=<MulBackward0>)\n",
            "torch.Size([512, 512])\n",
            "#iter 260 loss tensor(20971.6484, grad_fn=<MulBackward0>)\n",
            "torch.Size([512, 512])\n",
            "#iter 261 loss tensor(21154.7773, grad_fn=<MulBackward0>)\n",
            "torch.Size([512, 512])\n",
            "#iter 262 loss tensor(21331.7207, grad_fn=<MulBackward0>)\n",
            "torch.Size([512, 512])\n",
            "#iter 263 loss tensor(21504.1973, grad_fn=<MulBackward0>)\n",
            "torch.Size([512, 512])\n",
            "#iter 264 loss tensor(21657.6250, grad_fn=<MulBackward0>)\n",
            "torch.Size([512, 512])\n",
            "#iter 265 loss tensor(21786.9766, grad_fn=<MulBackward0>)\n",
            "torch.Size([512, 512])\n",
            "#iter 266 loss tensor(21892.3613, grad_fn=<MulBackward0>)\n",
            "torch.Size([512, 512])\n",
            "#iter 267 loss tensor(21966.4727, grad_fn=<MulBackward0>)\n",
            "torch.Size([512, 512])\n",
            "#iter 268 loss tensor(22010.5430, grad_fn=<MulBackward0>)\n",
            "torch.Size([512, 512])\n",
            "#iter 269 loss tensor(22031.4336, grad_fn=<MulBackward0>)\n",
            "torch.Size([512, 512])\n",
            "#iter 270 loss tensor(22026.4922, grad_fn=<MulBackward0>)\n",
            "torch.Size([512, 512])\n",
            "#iter 271 loss tensor(21989.8477, grad_fn=<MulBackward0>)\n",
            "torch.Size([512, 512])\n",
            "#iter 272 loss tensor(21921.2949, grad_fn=<MulBackward0>)\n",
            "torch.Size([512, 512])\n",
            "#iter 273 loss tensor(21819.6426, grad_fn=<MulBackward0>)\n",
            "torch.Size([512, 512])\n",
            "#iter 274 loss tensor(21684.7402, grad_fn=<MulBackward0>)\n",
            "torch.Size([512, 512])\n",
            "#iter 275 loss tensor(21527.3438, grad_fn=<MulBackward0>)\n",
            "torch.Size([512, 512])\n",
            "#iter 276 loss tensor(21329.6309, grad_fn=<MulBackward0>)\n",
            "torch.Size([512, 512])\n",
            "#iter 277 loss tensor(21104.0488, grad_fn=<MulBackward0>)\n",
            "torch.Size([512, 512])\n",
            "#iter 278 loss tensor(20857.1797, grad_fn=<MulBackward0>)\n",
            "torch.Size([512, 512])\n",
            "#iter 279 loss tensor(20616.8164, grad_fn=<MulBackward0>)\n",
            "torch.Size([512, 512])\n",
            "#iter 280 loss tensor(20400.6895, grad_fn=<MulBackward0>)\n",
            "torch.Size([512, 512])\n",
            "#iter 281 loss tensor(20218.0117, grad_fn=<MulBackward0>)\n",
            "torch.Size([512, 512])\n",
            "#iter 282 loss tensor(20034.3828, grad_fn=<MulBackward0>)\n",
            "torch.Size([512, 512])\n",
            "#iter 283 loss tensor(19792.5430, grad_fn=<MulBackward0>)\n",
            "torch.Size([512, 512])\n",
            "#iter 284 loss tensor(19463.9512, grad_fn=<MulBackward0>)\n",
            "torch.Size([512, 512])\n",
            "#iter 285 loss tensor(19124.8457, grad_fn=<MulBackward0>)\n",
            "torch.Size([512, 512])\n",
            "#iter 286 loss tensor(18789.1543, grad_fn=<MulBackward0>)\n",
            "torch.Size([512, 512])\n",
            "#iter 287 loss tensor(18492.3789, grad_fn=<MulBackward0>)\n",
            "torch.Size([512, 512])\n",
            "#iter 288 loss tensor(18301.2227, grad_fn=<MulBackward0>)\n",
            "torch.Size([512, 512])\n",
            "#iter 289 loss tensor(18180.4277, grad_fn=<MulBackward0>)\n",
            "torch.Size([512, 512])\n",
            "#iter 290 loss tensor(18155.0293, grad_fn=<MulBackward0>)\n",
            "torch.Size([512, 512])\n",
            "#iter 291 loss tensor(18185.8652, grad_fn=<MulBackward0>)\n",
            "torch.Size([512, 512])\n",
            "#iter 292 loss tensor(18206.4121, grad_fn=<MulBackward0>)\n",
            "torch.Size([512, 512])\n",
            "#iter 293 loss tensor(18230.9258, grad_fn=<MulBackward0>)\n",
            "torch.Size([512, 512])\n",
            "#iter 294 loss tensor(18359.9668, grad_fn=<MulBackward0>)\n",
            "torch.Size([512, 512])\n",
            "#iter 295 loss tensor(18584.2031, grad_fn=<MulBackward0>)\n",
            "torch.Size([512, 512])\n",
            "#iter 296 loss tensor(18947.6680, grad_fn=<MulBackward0>)\n",
            "torch.Size([512, 512])\n",
            "#iter 297 loss tensor(19360.7227, grad_fn=<MulBackward0>)\n",
            "torch.Size([512, 512])\n",
            "#iter 298 loss tensor(19736.0293, grad_fn=<MulBackward0>)\n",
            "torch.Size([512, 512])\n",
            "#iter 299 loss tensor(19915.3281, grad_fn=<MulBackward0>)\n",
            "torch.Size([512, 512])\n",
            "#iter 300 loss tensor(19915.5273, grad_fn=<MulBackward0>)\n",
            "torch.Size([512, 512])\n",
            "#iter 301 loss tensor(19796.6113, grad_fn=<MulBackward0>)\n",
            "torch.Size([512, 512])\n",
            "#iter 302 loss tensor(19567.3652, grad_fn=<MulBackward0>)\n",
            "torch.Size([512, 512])\n",
            "#iter 303 loss tensor(19360.4609, grad_fn=<MulBackward0>)\n",
            "torch.Size([512, 512])\n",
            "#iter 304 loss tensor(19174.7480, grad_fn=<MulBackward0>)\n",
            "torch.Size([512, 512])\n",
            "#iter 305 loss tensor(18983.9395, grad_fn=<MulBackward0>)\n",
            "torch.Size([512, 512])\n",
            "#iter 306 loss tensor(18748.6309, grad_fn=<MulBackward0>)\n",
            "torch.Size([512, 512])\n",
            "#iter 307 loss tensor(18503.1777, grad_fn=<MulBackward0>)\n",
            "torch.Size([512, 512])\n",
            "#iter 308 loss tensor(18290.0977, grad_fn=<MulBackward0>)\n",
            "torch.Size([512, 512])\n",
            "#iter 309 loss tensor(18072.1465, grad_fn=<MulBackward0>)\n",
            "torch.Size([512, 512])\n",
            "#iter 310 loss tensor(17857.3633, grad_fn=<MulBackward0>)\n",
            "torch.Size([512, 512])\n",
            "#iter 311 loss tensor(17653.0527, grad_fn=<MulBackward0>)\n",
            "torch.Size([512, 512])\n",
            "#iter 312 loss tensor(17500.9004, grad_fn=<MulBackward0>)\n",
            "torch.Size([512, 512])\n",
            "#iter 313 loss tensor(17372.9297, grad_fn=<MulBackward0>)\n",
            "torch.Size([512, 512])\n",
            "#iter 314 loss tensor(17200.7832, grad_fn=<MulBackward0>)\n",
            "torch.Size([512, 512])\n",
            "#iter 315 loss tensor(16967.4141, grad_fn=<MulBackward0>)\n",
            "torch.Size([512, 512])\n",
            "#iter 316 loss tensor(16702.6191, grad_fn=<MulBackward0>)\n",
            "torch.Size([512, 512])\n",
            "#iter 317 loss tensor(16389.7676, grad_fn=<MulBackward0>)\n",
            "torch.Size([512, 512])\n",
            "#iter 318 loss tensor(16066.9189, grad_fn=<MulBackward0>)\n",
            "torch.Size([512, 512])\n",
            "#iter 319 loss tensor(15732.8125, grad_fn=<MulBackward0>)\n",
            "torch.Size([512, 512])\n",
            "#iter 320 loss tensor(15410.9590, grad_fn=<MulBackward0>)\n",
            "torch.Size([512, 512])\n",
            "#iter 321 loss tensor(15112.2412, grad_fn=<MulBackward0>)\n",
            "torch.Size([512, 512])\n",
            "#iter 322 loss tensor(14827.7705, grad_fn=<MulBackward0>)\n",
            "torch.Size([512, 512])\n",
            "#iter 323 loss tensor(14596.1475, grad_fn=<MulBackward0>)\n",
            "torch.Size([512, 512])\n",
            "#iter 324 loss tensor(14407.9551, grad_fn=<MulBackward0>)\n",
            "torch.Size([512, 512])\n",
            "#iter 325 loss tensor(14250.3203, grad_fn=<MulBackward0>)\n",
            "torch.Size([512, 512])\n",
            "#iter 326 loss tensor(14163.9795, grad_fn=<MulBackward0>)\n",
            "torch.Size([512, 512])\n",
            "#iter 327 loss tensor(14118.0293, grad_fn=<MulBackward0>)\n",
            "torch.Size([512, 512])\n",
            "#iter 328 loss tensor(14124.1914, grad_fn=<MulBackward0>)\n",
            "torch.Size([512, 512])\n",
            "#iter 329 loss tensor(14191.6494, grad_fn=<MulBackward0>)\n",
            "torch.Size([512, 512])\n",
            "#iter 330 loss tensor(14317.3555, grad_fn=<MulBackward0>)\n",
            "torch.Size([512, 512])\n",
            "#iter 331 loss tensor(14466.2119, grad_fn=<MulBackward0>)\n",
            "torch.Size([512, 512])\n",
            "#iter 332 loss tensor(14647.4736, grad_fn=<MulBackward0>)\n",
            "torch.Size([512, 512])\n",
            "#iter 333 loss tensor(14813.7383, grad_fn=<MulBackward0>)\n",
            "torch.Size([512, 512])\n",
            "#iter 334 loss tensor(14988.3223, grad_fn=<MulBackward0>)\n",
            "torch.Size([512, 512])\n",
            "#iter 335 loss tensor(15211.4355, grad_fn=<MulBackward0>)\n",
            "torch.Size([512, 512])\n",
            "#iter 336 loss tensor(15458.9346, grad_fn=<MulBackward0>)\n",
            "torch.Size([512, 512])\n",
            "#iter 337 loss tensor(15694.1992, grad_fn=<MulBackward0>)\n",
            "torch.Size([512, 512])\n",
            "#iter 338 loss tensor(15988.3594, grad_fn=<MulBackward0>)\n",
            "torch.Size([512, 512])\n",
            "#iter 339 loss tensor(16330.1836, grad_fn=<MulBackward0>)\n",
            "torch.Size([512, 512])\n",
            "#iter 340 loss tensor(16714.4023, grad_fn=<MulBackward0>)\n",
            "torch.Size([512, 512])\n",
            "#iter 341 loss tensor(17119.7129, grad_fn=<MulBackward0>)\n",
            "torch.Size([512, 512])\n",
            "#iter 342 loss tensor(17520.4941, grad_fn=<MulBackward0>)\n",
            "torch.Size([512, 512])\n",
            "#iter 343 loss tensor(17902.7227, grad_fn=<MulBackward0>)\n",
            "torch.Size([512, 512])\n",
            "#iter 344 loss tensor(18241.7207, grad_fn=<MulBackward0>)\n",
            "torch.Size([512, 512])\n",
            "#iter 345 loss tensor(18553.2949, grad_fn=<MulBackward0>)\n",
            "torch.Size([512, 512])\n",
            "#iter 346 loss tensor(18823.0410, grad_fn=<MulBackward0>)\n",
            "torch.Size([512, 512])\n",
            "#iter 347 loss tensor(19026.3711, grad_fn=<MulBackward0>)\n",
            "torch.Size([512, 512])\n",
            "#iter 348 loss tensor(19145.1875, grad_fn=<MulBackward0>)\n",
            "torch.Size([512, 512])\n",
            "#iter 349 loss tensor(19167.4746, grad_fn=<MulBackward0>)\n",
            "torch.Size([512, 512])\n",
            "#iter 350 loss tensor(19050.4180, grad_fn=<MulBackward0>)\n",
            "torch.Size([512, 512])\n",
            "#iter 351 loss tensor(18833.8066, grad_fn=<MulBackward0>)\n",
            "torch.Size([512, 512])\n",
            "#iter 352 loss tensor(18530.2539, grad_fn=<MulBackward0>)\n",
            "torch.Size([512, 512])\n",
            "#iter 353 loss tensor(18145.6875, grad_fn=<MulBackward0>)\n",
            "torch.Size([512, 512])\n",
            "#iter 354 loss tensor(17709.9844, grad_fn=<MulBackward0>)\n",
            "torch.Size([512, 512])\n",
            "#iter 355 loss tensor(17233.4277, grad_fn=<MulBackward0>)\n",
            "torch.Size([512, 512])\n",
            "#iter 356 loss tensor(16783.6504, grad_fn=<MulBackward0>)\n",
            "torch.Size([512, 512])\n",
            "#iter 357 loss tensor(16413.3789, grad_fn=<MulBackward0>)\n",
            "torch.Size([512, 512])\n",
            "#iter 358 loss tensor(16064.5234, grad_fn=<MulBackward0>)\n",
            "torch.Size([512, 512])\n",
            "#iter 359 loss tensor(15532.0830, grad_fn=<MulBackward0>)\n",
            "torch.Size([512, 512])\n",
            "#iter 360 loss tensor(14905.4463, grad_fn=<MulBackward0>)\n",
            "torch.Size([512, 512])\n",
            "#iter 361 loss tensor(14340.3086, grad_fn=<MulBackward0>)\n",
            "torch.Size([512, 512])\n",
            "#iter 362 loss tensor(13901.0176, grad_fn=<MulBackward0>)\n",
            "torch.Size([512, 512])\n",
            "#iter 363 loss tensor(13533.3311, grad_fn=<MulBackward0>)\n",
            "torch.Size([512, 512])\n",
            "#iter 364 loss tensor(13299.9092, grad_fn=<MulBackward0>)\n",
            "torch.Size([512, 512])\n",
            "#iter 365 loss tensor(13120.9043, grad_fn=<MulBackward0>)\n",
            "torch.Size([512, 512])\n",
            "#iter 366 loss tensor(12965.2695, grad_fn=<MulBackward0>)\n",
            "torch.Size([512, 512])\n",
            "#iter 367 loss tensor(12807.5947, grad_fn=<MulBackward0>)\n",
            "torch.Size([512, 512])\n",
            "#iter 368 loss tensor(12657.1016, grad_fn=<MulBackward0>)\n",
            "torch.Size([512, 512])\n",
            "#iter 369 loss tensor(12489.8564, grad_fn=<MulBackward0>)\n",
            "torch.Size([512, 512])\n",
            "#iter 370 loss tensor(12332.2578, grad_fn=<MulBackward0>)\n",
            "torch.Size([512, 512])\n",
            "#iter 371 loss tensor(12197.1104, grad_fn=<MulBackward0>)\n",
            "torch.Size([512, 512])\n",
            "#iter 372 loss tensor(12062.4336, grad_fn=<MulBackward0>)\n",
            "torch.Size([512, 512])\n",
            "#iter 373 loss tensor(11936.8467, grad_fn=<MulBackward0>)\n",
            "torch.Size([512, 512])\n",
            "#iter 374 loss tensor(11821.1182, grad_fn=<MulBackward0>)\n",
            "torch.Size([512, 512])\n",
            "#iter 375 loss tensor(11720.4980, grad_fn=<MulBackward0>)\n",
            "torch.Size([512, 512])\n",
            "#iter 376 loss tensor(11631.1484, grad_fn=<MulBackward0>)\n",
            "torch.Size([512, 512])\n",
            "#iter 377 loss tensor(11567.1689, grad_fn=<MulBackward0>)\n",
            "torch.Size([512, 512])\n",
            "#iter 378 loss tensor(11525.2529, grad_fn=<MulBackward0>)\n",
            "torch.Size([512, 512])\n",
            "#iter 379 loss tensor(11487.2744, grad_fn=<MulBackward0>)\n",
            "torch.Size([512, 512])\n",
            "#iter 380 loss tensor(11443.0449, grad_fn=<MulBackward0>)\n",
            "torch.Size([512, 512])\n",
            "#iter 381 loss tensor(11426.7744, grad_fn=<MulBackward0>)\n",
            "torch.Size([512, 512])\n",
            "#iter 382 loss tensor(11448.0850, grad_fn=<MulBackward0>)\n",
            "torch.Size([512, 512])\n",
            "#iter 383 loss tensor(11472.2100, grad_fn=<MulBackward0>)\n",
            "torch.Size([512, 512])\n",
            "#iter 384 loss tensor(11517.0674, grad_fn=<MulBackward0>)\n",
            "torch.Size([512, 512])\n",
            "#iter 385 loss tensor(11589.6914, grad_fn=<MulBackward0>)\n",
            "torch.Size([512, 512])\n",
            "#iter 386 loss tensor(11689.1709, grad_fn=<MulBackward0>)\n",
            "torch.Size([512, 512])\n",
            "#iter 387 loss tensor(11782.6543, grad_fn=<MulBackward0>)\n",
            "torch.Size([512, 512])\n",
            "#iter 388 loss tensor(11847.4893, grad_fn=<MulBackward0>)\n",
            "torch.Size([512, 512])\n",
            "#iter 389 loss tensor(11920.9580, grad_fn=<MulBackward0>)\n",
            "torch.Size([512, 512])\n",
            "#iter 390 loss tensor(12005.9746, grad_fn=<MulBackward0>)\n",
            "torch.Size([512, 512])\n",
            "#iter 391 loss tensor(12091.6143, grad_fn=<MulBackward0>)\n",
            "torch.Size([512, 512])\n",
            "#iter 392 loss tensor(12168.9795, grad_fn=<MulBackward0>)\n",
            "torch.Size([512, 512])\n",
            "#iter 393 loss tensor(12240.5381, grad_fn=<MulBackward0>)\n",
            "torch.Size([512, 512])\n",
            "#iter 394 loss tensor(12297.0020, grad_fn=<MulBackward0>)\n",
            "torch.Size([512, 512])\n",
            "#iter 395 loss tensor(12349.2852, grad_fn=<MulBackward0>)\n",
            "torch.Size([512, 512])\n",
            "#iter 396 loss tensor(12402.0547, grad_fn=<MulBackward0>)\n",
            "torch.Size([512, 512])\n",
            "#iter 397 loss tensor(12444.2617, grad_fn=<MulBackward0>)\n",
            "torch.Size([512, 512])\n",
            "#iter 398 loss tensor(12472.5166, grad_fn=<MulBackward0>)\n",
            "torch.Size([512, 512])\n",
            "#iter 399 loss tensor(12479.2842, grad_fn=<MulBackward0>)\n",
            "torch.Size([512, 512])\n",
            "#iter 400 loss tensor(12491.1484, grad_fn=<MulBackward0>)\n",
            "torch.Size([512, 512])\n",
            "#iter 401 loss tensor(12512.6328, grad_fn=<MulBackward0>)\n",
            "torch.Size([512, 512])\n",
            "#iter 402 loss tensor(12532.3076, grad_fn=<MulBackward0>)\n",
            "torch.Size([512, 512])\n",
            "#iter 403 loss tensor(12539.4004, grad_fn=<MulBackward0>)\n",
            "torch.Size([512, 512])\n",
            "#iter 404 loss tensor(12549.4697, grad_fn=<MulBackward0>)\n",
            "torch.Size([512, 512])\n",
            "#iter 405 loss tensor(12553.3740, grad_fn=<MulBackward0>)\n",
            "torch.Size([512, 512])\n",
            "#iter 406 loss tensor(12557.9443, grad_fn=<MulBackward0>)\n",
            "torch.Size([512, 512])\n",
            "#iter 407 loss tensor(12566.4746, grad_fn=<MulBackward0>)\n",
            "torch.Size([512, 512])\n",
            "#iter 408 loss tensor(12581.7783, grad_fn=<MulBackward0>)\n",
            "torch.Size([512, 512])\n",
            "#iter 409 loss tensor(12603.1230, grad_fn=<MulBackward0>)\n",
            "torch.Size([512, 512])\n",
            "#iter 410 loss tensor(12626.9951, grad_fn=<MulBackward0>)\n",
            "torch.Size([512, 512])\n",
            "#iter 411 loss tensor(12655.4717, grad_fn=<MulBackward0>)\n",
            "torch.Size([512, 512])\n",
            "#iter 412 loss tensor(12688.8418, grad_fn=<MulBackward0>)\n",
            "torch.Size([512, 512])\n",
            "#iter 413 loss tensor(12722.5781, grad_fn=<MulBackward0>)\n",
            "torch.Size([512, 512])\n",
            "#iter 414 loss tensor(12758.0059, grad_fn=<MulBackward0>)\n",
            "torch.Size([512, 512])\n",
            "#iter 415 loss tensor(12798.3877, grad_fn=<MulBackward0>)\n",
            "torch.Size([512, 512])\n",
            "#iter 416 loss tensor(12847.9443, grad_fn=<MulBackward0>)\n",
            "torch.Size([512, 512])\n",
            "#iter 417 loss tensor(12867.1309, grad_fn=<MulBackward0>)\n",
            "torch.Size([512, 512])\n",
            "#iter 418 loss tensor(12883.5479, grad_fn=<MulBackward0>)\n",
            "torch.Size([512, 512])\n",
            "#iter 419 loss tensor(12907.3945, grad_fn=<MulBackward0>)\n",
            "torch.Size([512, 512])\n",
            "#iter 420 loss tensor(12936.9736, grad_fn=<MulBackward0>)\n",
            "torch.Size([512, 512])\n",
            "#iter 421 loss tensor(12970.9463, grad_fn=<MulBackward0>)\n",
            "torch.Size([512, 512])\n",
            "#iter 422 loss tensor(13002.9482, grad_fn=<MulBackward0>)\n",
            "torch.Size([512, 512])\n",
            "#iter 423 loss tensor(13034.8418, grad_fn=<MulBackward0>)\n",
            "torch.Size([512, 512])\n",
            "#iter 424 loss tensor(13070.0898, grad_fn=<MulBackward0>)\n",
            "torch.Size([512, 512])\n",
            "#iter 425 loss tensor(13108.3604, grad_fn=<MulBackward0>)\n",
            "torch.Size([512, 512])\n",
            "#iter 426 loss tensor(13149.7578, grad_fn=<MulBackward0>)\n",
            "torch.Size([512, 512])\n",
            "#iter 427 loss tensor(13189.9629, grad_fn=<MulBackward0>)\n",
            "torch.Size([512, 512])\n",
            "#iter 428 loss tensor(13228.1621, grad_fn=<MulBackward0>)\n",
            "torch.Size([512, 512])\n",
            "#iter 429 loss tensor(13265.7568, grad_fn=<MulBackward0>)\n",
            "torch.Size([512, 512])\n",
            "#iter 430 loss tensor(13303.6025, grad_fn=<MulBackward0>)\n",
            "torch.Size([512, 512])\n",
            "#iter 431 loss tensor(13341.3730, grad_fn=<MulBackward0>)\n",
            "torch.Size([512, 512])\n",
            "#iter 432 loss tensor(13354.7207, grad_fn=<MulBackward0>)\n",
            "torch.Size([512, 512])\n",
            "#iter 433 loss tensor(13363.4199, grad_fn=<MulBackward0>)\n",
            "torch.Size([512, 512])\n",
            "#iter 434 loss tensor(13372.8135, grad_fn=<MulBackward0>)\n",
            "torch.Size([512, 512])\n",
            "#iter 435 loss tensor(13382.4883, grad_fn=<MulBackward0>)\n",
            "torch.Size([512, 512])\n",
            "#iter 436 loss tensor(13393.8047, grad_fn=<MulBackward0>)\n",
            "torch.Size([512, 512])\n",
            "#iter 437 loss tensor(13407.7080, grad_fn=<MulBackward0>)\n",
            "torch.Size([512, 512])\n",
            "#iter 438 loss tensor(13418.7520, grad_fn=<MulBackward0>)\n",
            "torch.Size([512, 512])\n",
            "#iter 439 loss tensor(13429.7139, grad_fn=<MulBackward0>)\n",
            "torch.Size([512, 512])\n",
            "#iter 440 loss tensor(13440.5586, grad_fn=<MulBackward0>)\n",
            "torch.Size([512, 512])\n",
            "#iter 441 loss tensor(13450.5234, grad_fn=<MulBackward0>)\n",
            "torch.Size([512, 512])\n",
            "#iter 442 loss tensor(13459.0254, grad_fn=<MulBackward0>)\n",
            "torch.Size([512, 512])\n",
            "#iter 443 loss tensor(13462.9883, grad_fn=<MulBackward0>)\n",
            "torch.Size([512, 512])\n",
            "#iter 444 loss tensor(13459.5391, grad_fn=<MulBackward0>)\n",
            "torch.Size([512, 512])\n",
            "#iter 445 loss tensor(13456.9395, grad_fn=<MulBackward0>)\n",
            "torch.Size([512, 512])\n",
            "#iter 446 loss tensor(13455.4014, grad_fn=<MulBackward0>)\n",
            "torch.Size([512, 512])\n",
            "#iter 447 loss tensor(13451.5195, grad_fn=<MulBackward0>)\n",
            "torch.Size([512, 512])\n",
            "#iter 448 loss tensor(13447.0479, grad_fn=<MulBackward0>)\n",
            "torch.Size([512, 512])\n",
            "#iter 449 loss tensor(13445.1377, grad_fn=<MulBackward0>)\n",
            "torch.Size([512, 512])\n",
            "#iter 450 loss tensor(13445.5527, grad_fn=<MulBackward0>)\n",
            "torch.Size([512, 512])\n",
            "#iter 451 loss tensor(13445.8408, grad_fn=<MulBackward0>)\n",
            "torch.Size([512, 512])\n",
            "#iter 452 loss tensor(13444.6738, grad_fn=<MulBackward0>)\n",
            "torch.Size([512, 512])\n",
            "#iter 453 loss tensor(13443.8115, grad_fn=<MulBackward0>)\n",
            "torch.Size([512, 512])\n",
            "#iter 454 loss tensor(13443.4629, grad_fn=<MulBackward0>)\n",
            "torch.Size([512, 512])\n",
            "#iter 455 loss tensor(13445.3027, grad_fn=<MulBackward0>)\n",
            "torch.Size([512, 512])\n",
            "#iter 456 loss tensor(13449.9971, grad_fn=<MulBackward0>)\n",
            "torch.Size([512, 512])\n",
            "#iter 457 loss tensor(13456.2881, grad_fn=<MulBackward0>)\n",
            "torch.Size([512, 512])\n",
            "#iter 458 loss tensor(13463.3760, grad_fn=<MulBackward0>)\n",
            "torch.Size([512, 512])\n",
            "#iter 459 loss tensor(13470.8740, grad_fn=<MulBackward0>)\n",
            "torch.Size([512, 512])\n",
            "#iter 460 loss tensor(13480.2305, grad_fn=<MulBackward0>)\n",
            "torch.Size([512, 512])\n",
            "#iter 461 loss tensor(13490.5869, grad_fn=<MulBackward0>)\n",
            "torch.Size([512, 512])\n",
            "#iter 462 loss tensor(13501.1172, grad_fn=<MulBackward0>)\n",
            "torch.Size([512, 512])\n",
            "#iter 463 loss tensor(13509.2676, grad_fn=<MulBackward0>)\n",
            "torch.Size([512, 512])\n",
            "#iter 464 loss tensor(13516.0557, grad_fn=<MulBackward0>)\n",
            "torch.Size([512, 512])\n",
            "#iter 465 loss tensor(13520.0488, grad_fn=<MulBackward0>)\n",
            "torch.Size([512, 512])\n",
            "#iter 466 loss tensor(13523.9160, grad_fn=<MulBackward0>)\n",
            "torch.Size([512, 512])\n",
            "#iter 467 loss tensor(13529.1035, grad_fn=<MulBackward0>)\n",
            "torch.Size([512, 512])\n",
            "#iter 468 loss tensor(13534.7256, grad_fn=<MulBackward0>)\n",
            "torch.Size([512, 512])\n",
            "#iter 469 loss tensor(13541.7129, grad_fn=<MulBackward0>)\n",
            "torch.Size([512, 512])\n",
            "#iter 470 loss tensor(13550.3154, grad_fn=<MulBackward0>)\n",
            "torch.Size([512, 512])\n",
            "#iter 471 loss tensor(13558.4414, grad_fn=<MulBackward0>)\n",
            "torch.Size([512, 512])\n",
            "#iter 472 loss tensor(13567.9902, grad_fn=<MulBackward0>)\n",
            "torch.Size([512, 512])\n",
            "#iter 473 loss tensor(13575.2070, grad_fn=<MulBackward0>)\n",
            "torch.Size([512, 512])\n",
            "#iter 474 loss tensor(13580.9473, grad_fn=<MulBackward0>)\n",
            "torch.Size([512, 512])\n",
            "#iter 475 loss tensor(13585.8623, grad_fn=<MulBackward0>)\n",
            "torch.Size([512, 512])\n",
            "#iter 476 loss tensor(13590.9424, grad_fn=<MulBackward0>)\n",
            "torch.Size([512, 512])\n",
            "#iter 477 loss tensor(13596.9014, grad_fn=<MulBackward0>)\n",
            "torch.Size([512, 512])\n",
            "#iter 478 loss tensor(13602.6602, grad_fn=<MulBackward0>)\n",
            "torch.Size([512, 512])\n",
            "#iter 479 loss tensor(13611.7373, grad_fn=<MulBackward0>)\n",
            "torch.Size([512, 512])\n",
            "#iter 480 loss tensor(13622.5371, grad_fn=<MulBackward0>)\n",
            "torch.Size([512, 512])\n",
            "#iter 481 loss tensor(13635.5986, grad_fn=<MulBackward0>)\n",
            "torch.Size([512, 512])\n",
            "#iter 482 loss tensor(13653.5137, grad_fn=<MulBackward0>)\n",
            "torch.Size([512, 512])\n",
            "#iter 483 loss tensor(13671.6270, grad_fn=<MulBackward0>)\n",
            "torch.Size([512, 512])\n",
            "#iter 484 loss tensor(13687.1436, grad_fn=<MulBackward0>)\n",
            "torch.Size([512, 512])\n",
            "#iter 485 loss tensor(13698.3262, grad_fn=<MulBackward0>)\n",
            "torch.Size([512, 512])\n",
            "#iter 486 loss tensor(13708.8291, grad_fn=<MulBackward0>)\n",
            "torch.Size([512, 512])\n",
            "#iter 487 loss tensor(13717.4512, grad_fn=<MulBackward0>)\n",
            "torch.Size([512, 512])\n",
            "#iter 488 loss tensor(13718.1777, grad_fn=<MulBackward0>)\n",
            "torch.Size([512, 512])\n",
            "#iter 489 loss tensor(13716.7373, grad_fn=<MulBackward0>)\n",
            "torch.Size([512, 512])\n",
            "#iter 490 loss tensor(13709.4150, grad_fn=<MulBackward0>)\n",
            "torch.Size([512, 512])\n",
            "#iter 491 loss tensor(13705.3008, grad_fn=<MulBackward0>)\n",
            "torch.Size([512, 512])\n",
            "#iter 492 loss tensor(13703.4785, grad_fn=<MulBackward0>)\n",
            "torch.Size([512, 512])\n",
            "#iter 493 loss tensor(13702.9199, grad_fn=<MulBackward0>)\n",
            "torch.Size([512, 512])\n",
            "#iter 494 loss tensor(13702.7627, grad_fn=<MulBackward0>)\n",
            "torch.Size([512, 512])\n",
            "#iter 495 loss tensor(13698.2715, grad_fn=<MulBackward0>)\n",
            "torch.Size([512, 512])\n",
            "#iter 496 loss tensor(13693.7793, grad_fn=<MulBackward0>)\n",
            "torch.Size([512, 512])\n",
            "#iter 497 loss tensor(13688.8525, grad_fn=<MulBackward0>)\n",
            "torch.Size([512, 512])\n",
            "#iter 498 loss tensor(13687.7012, grad_fn=<MulBackward0>)\n",
            "torch.Size([512, 512])\n",
            "#iter 499 loss tensor(13689.4043, grad_fn=<MulBackward0>)\n",
            "torch.Size([512, 512])\n",
            "#iter 500 loss tensor(13694.4551, grad_fn=<MulBackward0>)\n",
            "torch.Size([512, 512])\n",
            "#iter 501 loss tensor(13700.7598, grad_fn=<MulBackward0>)\n",
            "torch.Size([512, 512])\n",
            "#iter 502 loss tensor(13705.6289, grad_fn=<MulBackward0>)\n",
            "torch.Size([512, 512])\n",
            "#iter 503 loss tensor(13710.1904, grad_fn=<MulBackward0>)\n",
            "torch.Size([512, 512])\n",
            "#iter 504 loss tensor(13715.2910, grad_fn=<MulBackward0>)\n",
            "torch.Size([512, 512])\n",
            "#iter 505 loss tensor(13717.6426, grad_fn=<MulBackward0>)\n",
            "torch.Size([512, 512])\n",
            "#iter 506 loss tensor(13718.5420, grad_fn=<MulBackward0>)\n",
            "torch.Size([512, 512])\n",
            "#iter 507 loss tensor(13718.2100, grad_fn=<MulBackward0>)\n",
            "torch.Size([512, 512])\n",
            "#iter 508 loss tensor(13717.8135, grad_fn=<MulBackward0>)\n",
            "torch.Size([512, 512])\n",
            "#iter 509 loss tensor(13718.7344, grad_fn=<MulBackward0>)\n",
            "torch.Size([512, 512])\n",
            "#iter 510 loss tensor(13717.9971, grad_fn=<MulBackward0>)\n",
            "torch.Size([512, 512])\n",
            "#iter 511 loss tensor(13713.0098, grad_fn=<MulBackward0>)\n",
            "torch.Size([512, 512])\n",
            "#iter 512 loss tensor(13704.7021, grad_fn=<MulBackward0>)\n",
            "torch.Size([512, 512])\n",
            "#iter 513 loss tensor(13696.0576, grad_fn=<MulBackward0>)\n",
            "torch.Size([512, 512])\n",
            "#iter 514 loss tensor(13685.5488, grad_fn=<MulBackward0>)\n",
            "torch.Size([512, 512])\n",
            "#iter 515 loss tensor(13673.7871, grad_fn=<MulBackward0>)\n",
            "torch.Size([512, 512])\n",
            "#iter 516 loss tensor(13654.8281, grad_fn=<MulBackward0>)\n",
            "torch.Size([512, 512])\n",
            "#iter 517 loss tensor(13627.9121, grad_fn=<MulBackward0>)\n",
            "torch.Size([512, 512])\n",
            "#iter 518 loss tensor(13598.3350, grad_fn=<MulBackward0>)\n",
            "torch.Size([512, 512])\n",
            "#iter 519 loss tensor(13569.1436, grad_fn=<MulBackward0>)\n",
            "torch.Size([512, 512])\n",
            "#iter 520 loss tensor(13540.5752, grad_fn=<MulBackward0>)\n",
            "torch.Size([512, 512])\n",
            "#iter 521 loss tensor(13509.9160, grad_fn=<MulBackward0>)\n",
            "torch.Size([512, 512])\n",
            "#iter 522 loss tensor(13477.6982, grad_fn=<MulBackward0>)\n",
            "torch.Size([512, 512])\n",
            "#iter 523 loss tensor(13445.6895, grad_fn=<MulBackward0>)\n",
            "torch.Size([512, 512])\n",
            "#iter 524 loss tensor(13414.3096, grad_fn=<MulBackward0>)\n",
            "torch.Size([512, 512])\n",
            "#iter 525 loss tensor(13384.4756, grad_fn=<MulBackward0>)\n",
            "torch.Size([512, 512])\n",
            "#iter 526 loss tensor(13353.8906, grad_fn=<MulBackward0>)\n",
            "torch.Size([512, 512])\n",
            "#iter 527 loss tensor(13321.5469, grad_fn=<MulBackward0>)\n",
            "torch.Size([512, 512])\n",
            "#iter 528 loss tensor(13288.6221, grad_fn=<MulBackward0>)\n",
            "torch.Size([512, 512])\n",
            "#iter 529 loss tensor(13254.0859, grad_fn=<MulBackward0>)\n",
            "torch.Size([512, 512])\n",
            "#iter 530 loss tensor(13217.4268, grad_fn=<MulBackward0>)\n",
            "torch.Size([512, 512])\n",
            "#iter 531 loss tensor(13178.8535, grad_fn=<MulBackward0>)\n",
            "torch.Size([512, 512])\n",
            "#iter 532 loss tensor(13141.6396, grad_fn=<MulBackward0>)\n",
            "torch.Size([512, 512])\n",
            "#iter 533 loss tensor(13103.7676, grad_fn=<MulBackward0>)\n",
            "torch.Size([512, 512])\n",
            "#iter 534 loss tensor(13066.3350, grad_fn=<MulBackward0>)\n",
            "torch.Size([512, 512])\n",
            "#iter 535 loss tensor(13027.2979, grad_fn=<MulBackward0>)\n",
            "torch.Size([512, 512])\n",
            "#iter 536 loss tensor(12986.4355, grad_fn=<MulBackward0>)\n",
            "torch.Size([512, 512])\n",
            "#iter 537 loss tensor(12943.3018, grad_fn=<MulBackward0>)\n",
            "torch.Size([512, 512])\n",
            "#iter 538 loss tensor(12898.8691, grad_fn=<MulBackward0>)\n",
            "torch.Size([512, 512])\n",
            "#iter 539 loss tensor(12849.0674, grad_fn=<MulBackward0>)\n",
            "torch.Size([512, 512])\n",
            "#iter 540 loss tensor(12798.1035, grad_fn=<MulBackward0>)\n",
            "torch.Size([512, 512])\n",
            "#iter 541 loss tensor(12742.7969, grad_fn=<MulBackward0>)\n",
            "torch.Size([512, 512])\n",
            "#iter 542 loss tensor(12689.7334, grad_fn=<MulBackward0>)\n",
            "torch.Size([512, 512])\n",
            "#iter 543 loss tensor(12641.1211, grad_fn=<MulBackward0>)\n",
            "torch.Size([512, 512])\n",
            "#iter 544 loss tensor(12595.8203, grad_fn=<MulBackward0>)\n",
            "torch.Size([512, 512])\n",
            "#iter 545 loss tensor(12550.8857, grad_fn=<MulBackward0>)\n",
            "torch.Size([512, 512])\n",
            "#iter 546 loss tensor(12506.2910, grad_fn=<MulBackward0>)\n",
            "torch.Size([512, 512])\n",
            "#iter 547 loss tensor(12458.9102, grad_fn=<MulBackward0>)\n",
            "torch.Size([512, 512])\n",
            "#iter 548 loss tensor(12408.5312, grad_fn=<MulBackward0>)\n",
            "torch.Size([512, 512])\n",
            "#iter 549 loss tensor(12354.8301, grad_fn=<MulBackward0>)\n",
            "torch.Size([512, 512])\n",
            "#iter 550 loss tensor(12298.6328, grad_fn=<MulBackward0>)\n",
            "torch.Size([512, 512])\n",
            "#iter 551 loss tensor(12239.0068, grad_fn=<MulBackward0>)\n",
            "torch.Size([512, 512])\n",
            "#iter 552 loss tensor(12179.8623, grad_fn=<MulBackward0>)\n",
            "torch.Size([512, 512])\n",
            "#iter 553 loss tensor(12122.8135, grad_fn=<MulBackward0>)\n",
            "torch.Size([512, 512])\n",
            "#iter 554 loss tensor(12065.7402, grad_fn=<MulBackward0>)\n",
            "torch.Size([512, 512])\n",
            "#iter 555 loss tensor(12005.9277, grad_fn=<MulBackward0>)\n",
            "torch.Size([512, 512])\n",
            "#iter 556 loss tensor(11939.2861, grad_fn=<MulBackward0>)\n",
            "torch.Size([512, 512])\n",
            "#iter 557 loss tensor(11870.7422, grad_fn=<MulBackward0>)\n",
            "torch.Size([512, 512])\n",
            "#iter 558 loss tensor(11804.1309, grad_fn=<MulBackward0>)\n",
            "torch.Size([512, 512])\n",
            "#iter 559 loss tensor(11739.0625, grad_fn=<MulBackward0>)\n",
            "torch.Size([512, 512])\n",
            "#iter 560 loss tensor(11670.8408, grad_fn=<MulBackward0>)\n",
            "torch.Size([512, 512])\n",
            "#iter 561 loss tensor(11598.3164, grad_fn=<MulBackward0>)\n",
            "torch.Size([512, 512])\n",
            "#iter 562 loss tensor(11521.8633, grad_fn=<MulBackward0>)\n",
            "torch.Size([512, 512])\n",
            "#iter 563 loss tensor(11437.5508, grad_fn=<MulBackward0>)\n",
            "torch.Size([512, 512])\n",
            "#iter 564 loss tensor(11349.5127, grad_fn=<MulBackward0>)\n",
            "torch.Size([512, 512])\n",
            "#iter 565 loss tensor(11265.4541, grad_fn=<MulBackward0>)\n",
            "torch.Size([512, 512])\n",
            "#iter 566 loss tensor(11183.0537, grad_fn=<MulBackward0>)\n",
            "torch.Size([512, 512])\n",
            "#iter 567 loss tensor(11091.5166, grad_fn=<MulBackward0>)\n",
            "torch.Size([512, 512])\n",
            "#iter 568 loss tensor(10996.9629, grad_fn=<MulBackward0>)\n",
            "torch.Size([512, 512])\n",
            "#iter 569 loss tensor(10903.8711, grad_fn=<MulBackward0>)\n",
            "torch.Size([512, 512])\n",
            "#iter 570 loss tensor(10815.3770, grad_fn=<MulBackward0>)\n",
            "torch.Size([512, 512])\n",
            "#iter 571 loss tensor(10730.5674, grad_fn=<MulBackward0>)\n",
            "torch.Size([512, 512])\n",
            "#iter 572 loss tensor(10648.5068, grad_fn=<MulBackward0>)\n",
            "torch.Size([512, 512])\n",
            "#iter 573 loss tensor(10570.3877, grad_fn=<MulBackward0>)\n",
            "torch.Size([512, 512])\n",
            "#iter 574 loss tensor(10494., grad_fn=<MulBackward0>)\n",
            "torch.Size([512, 512])\n",
            "#iter 575 loss tensor(10418.1934, grad_fn=<MulBackward0>)\n",
            "torch.Size([512, 512])\n",
            "#iter 576 loss tensor(10344.6982, grad_fn=<MulBackward0>)\n",
            "torch.Size([512, 512])\n",
            "#iter 577 loss tensor(10274.3408, grad_fn=<MulBackward0>)\n",
            "torch.Size([512, 512])\n",
            "#iter 578 loss tensor(10203.5166, grad_fn=<MulBackward0>)\n",
            "torch.Size([512, 512])\n",
            "#iter 579 loss tensor(10136.7236, grad_fn=<MulBackward0>)\n",
            "torch.Size([512, 512])\n",
            "#iter 580 loss tensor(10074.0703, grad_fn=<MulBackward0>)\n",
            "torch.Size([512, 512])\n",
            "#iter 581 loss tensor(10016.4238, grad_fn=<MulBackward0>)\n",
            "torch.Size([512, 512])\n",
            "#iter 582 loss tensor(9962.6973, grad_fn=<MulBackward0>)\n",
            "torch.Size([512, 512])\n",
            "#iter 583 loss tensor(9913.7793, grad_fn=<MulBackward0>)\n",
            "torch.Size([512, 512])\n",
            "#iter 584 loss tensor(9869.5840, grad_fn=<MulBackward0>)\n",
            "torch.Size([512, 512])\n",
            "#iter 585 loss tensor(9832.0645, grad_fn=<MulBackward0>)\n",
            "torch.Size([512, 512])\n",
            "#iter 586 loss tensor(9797.5518, grad_fn=<MulBackward0>)\n",
            "torch.Size([512, 512])\n",
            "#iter 587 loss tensor(9762.5928, grad_fn=<MulBackward0>)\n",
            "torch.Size([512, 512])\n",
            "#iter 588 loss tensor(9721.4756, grad_fn=<MulBackward0>)\n",
            "torch.Size([512, 512])\n",
            "#iter 589 loss tensor(9683.4385, grad_fn=<MulBackward0>)\n",
            "torch.Size([512, 512])\n",
            "#iter 590 loss tensor(9650.9746, grad_fn=<MulBackward0>)\n",
            "torch.Size([512, 512])\n",
            "#iter 591 loss tensor(9623.6494, grad_fn=<MulBackward0>)\n",
            "torch.Size([512, 512])\n",
            "#iter 592 loss tensor(9596.2061, grad_fn=<MulBackward0>)\n",
            "torch.Size([512, 512])\n",
            "#iter 593 loss tensor(9566.2627, grad_fn=<MulBackward0>)\n",
            "torch.Size([512, 512])\n",
            "#iter 594 loss tensor(9529.5029, grad_fn=<MulBackward0>)\n",
            "torch.Size([512, 512])\n",
            "#iter 595 loss tensor(9486.5166, grad_fn=<MulBackward0>)\n",
            "torch.Size([512, 512])\n",
            "#iter 596 loss tensor(9435.7529, grad_fn=<MulBackward0>)\n",
            "torch.Size([512, 512])\n",
            "#iter 597 loss tensor(9381.6348, grad_fn=<MulBackward0>)\n",
            "torch.Size([512, 512])\n",
            "#iter 598 loss tensor(9324.2988, grad_fn=<MulBackward0>)\n",
            "torch.Size([512, 512])\n",
            "#iter 599 loss tensor(9262.7930, grad_fn=<MulBackward0>)\n",
            "torch.Size([512, 512])\n",
            "#iter 600 loss tensor(9199.1504, grad_fn=<MulBackward0>)\n",
            "torch.Size([512, 512])\n",
            "#iter 601 loss tensor(9134.0908, grad_fn=<MulBackward0>)\n",
            "torch.Size([512, 512])\n",
            "#iter 602 loss tensor(9068.1514, grad_fn=<MulBackward0>)\n",
            "torch.Size([512, 512])\n",
            "#iter 603 loss tensor(8997.4619, grad_fn=<MulBackward0>)\n",
            "torch.Size([512, 512])\n",
            "#iter 604 loss tensor(8927.0674, grad_fn=<MulBackward0>)\n",
            "torch.Size([512, 512])\n",
            "#iter 605 loss tensor(8857.9990, grad_fn=<MulBackward0>)\n",
            "torch.Size([512, 512])\n",
            "#iter 606 loss tensor(8789.4229, grad_fn=<MulBackward0>)\n",
            "torch.Size([512, 512])\n",
            "#iter 607 loss tensor(8720.7061, grad_fn=<MulBackward0>)\n",
            "torch.Size([512, 512])\n",
            "#iter 608 loss tensor(8653.3848, grad_fn=<MulBackward0>)\n",
            "torch.Size([512, 512])\n",
            "#iter 609 loss tensor(8590.3652, grad_fn=<MulBackward0>)\n",
            "torch.Size([512, 512])\n",
            "#iter 610 loss tensor(8529.2178, grad_fn=<MulBackward0>)\n",
            "torch.Size([512, 512])\n",
            "#iter 611 loss tensor(8471.2920, grad_fn=<MulBackward0>)\n",
            "torch.Size([512, 512])\n",
            "#iter 612 loss tensor(8417.4492, grad_fn=<MulBackward0>)\n",
            "torch.Size([512, 512])\n",
            "#iter 613 loss tensor(8366.6299, grad_fn=<MulBackward0>)\n",
            "torch.Size([512, 512])\n",
            "#iter 614 loss tensor(8317.4756, grad_fn=<MulBackward0>)\n",
            "torch.Size([512, 512])\n",
            "#iter 615 loss tensor(8266.7275, grad_fn=<MulBackward0>)\n",
            "torch.Size([512, 512])\n",
            "#iter 616 loss tensor(8217.3555, grad_fn=<MulBackward0>)\n",
            "torch.Size([512, 512])\n",
            "#iter 617 loss tensor(8169.0566, grad_fn=<MulBackward0>)\n",
            "torch.Size([512, 512])\n",
            "#iter 618 loss tensor(8123.0752, grad_fn=<MulBackward0>)\n",
            "torch.Size([512, 512])\n",
            "#iter 619 loss tensor(8079.2915, grad_fn=<MulBackward0>)\n",
            "torch.Size([512, 512])\n",
            "#iter 620 loss tensor(8041.5068, grad_fn=<MulBackward0>)\n",
            "torch.Size([512, 512])\n",
            "#iter 621 loss tensor(8008.0093, grad_fn=<MulBackward0>)\n",
            "torch.Size([512, 512])\n",
            "#iter 622 loss tensor(7977.3379, grad_fn=<MulBackward0>)\n",
            "torch.Size([512, 512])\n",
            "#iter 623 loss tensor(7951.4165, grad_fn=<MulBackward0>)\n",
            "torch.Size([512, 512])\n",
            "#iter 624 loss tensor(7927.8120, grad_fn=<MulBackward0>)\n",
            "torch.Size([512, 512])\n",
            "#iter 625 loss tensor(7904.4429, grad_fn=<MulBackward0>)\n",
            "torch.Size([512, 512])\n",
            "#iter 626 loss tensor(7883.6333, grad_fn=<MulBackward0>)\n",
            "torch.Size([512, 512])\n",
            "#iter 627 loss tensor(7864.3726, grad_fn=<MulBackward0>)\n",
            "torch.Size([512, 512])\n",
            "#iter 628 loss tensor(7843.6738, grad_fn=<MulBackward0>)\n",
            "torch.Size([512, 512])\n",
            "#iter 629 loss tensor(7820.8076, grad_fn=<MulBackward0>)\n",
            "torch.Size([512, 512])\n",
            "#iter 630 loss tensor(7799.6084, grad_fn=<MulBackward0>)\n",
            "torch.Size([512, 512])\n",
            "#iter 631 loss tensor(7779.0366, grad_fn=<MulBackward0>)\n",
            "torch.Size([512, 512])\n",
            "#iter 632 loss tensor(7759.6021, grad_fn=<MulBackward0>)\n",
            "torch.Size([512, 512])\n",
            "#iter 633 loss tensor(7743.8774, grad_fn=<MulBackward0>)\n",
            "torch.Size([512, 512])\n",
            "#iter 634 loss tensor(7731.2100, grad_fn=<MulBackward0>)\n",
            "torch.Size([512, 512])\n",
            "#iter 635 loss tensor(7720.6069, grad_fn=<MulBackward0>)\n",
            "torch.Size([512, 512])\n",
            "#iter 636 loss tensor(7708.3643, grad_fn=<MulBackward0>)\n",
            "torch.Size([512, 512])\n",
            "#iter 637 loss tensor(7698.2612, grad_fn=<MulBackward0>)\n",
            "torch.Size([512, 512])\n",
            "#iter 638 loss tensor(7690.7344, grad_fn=<MulBackward0>)\n",
            "torch.Size([512, 512])\n",
            "#iter 639 loss tensor(7684.9697, grad_fn=<MulBackward0>)\n",
            "torch.Size([512, 512])\n",
            "#iter 640 loss tensor(7681.7959, grad_fn=<MulBackward0>)\n",
            "torch.Size([512, 512])\n",
            "#iter 641 loss tensor(7681.8022, grad_fn=<MulBackward0>)\n",
            "torch.Size([512, 512])\n",
            "#iter 642 loss tensor(7682.4341, grad_fn=<MulBackward0>)\n",
            "torch.Size([512, 512])\n",
            "#iter 643 loss tensor(7682.7544, grad_fn=<MulBackward0>)\n",
            "torch.Size([512, 512])\n",
            "#iter 644 loss tensor(7685.3555, grad_fn=<MulBackward0>)\n",
            "torch.Size([512, 512])\n",
            "#iter 645 loss tensor(7691.4785, grad_fn=<MulBackward0>)\n",
            "torch.Size([512, 512])\n",
            "#iter 646 loss tensor(7699.9312, grad_fn=<MulBackward0>)\n",
            "torch.Size([512, 512])\n",
            "#iter 647 loss tensor(7709.6743, grad_fn=<MulBackward0>)\n",
            "torch.Size([512, 512])\n",
            "#iter 648 loss tensor(7720.2095, grad_fn=<MulBackward0>)\n",
            "torch.Size([512, 512])\n",
            "#iter 649 loss tensor(7731.4258, grad_fn=<MulBackward0>)\n",
            "torch.Size([512, 512])\n",
            "#iter 650 loss tensor(7744.1694, grad_fn=<MulBackward0>)\n",
            "torch.Size([512, 512])\n",
            "#iter 651 loss tensor(7757.5630, grad_fn=<MulBackward0>)\n",
            "torch.Size([512, 512])\n",
            "#iter 652 loss tensor(7769.5850, grad_fn=<MulBackward0>)\n",
            "torch.Size([512, 512])\n",
            "#iter 653 loss tensor(7781.9224, grad_fn=<MulBackward0>)\n",
            "torch.Size([512, 512])\n",
            "#iter 654 loss tensor(7795.8491, grad_fn=<MulBackward0>)\n",
            "torch.Size([512, 512])\n",
            "#iter 655 loss tensor(7811.1401, grad_fn=<MulBackward0>)\n",
            "torch.Size([512, 512])\n",
            "#iter 656 loss tensor(7828.0176, grad_fn=<MulBackward0>)\n",
            "torch.Size([512, 512])\n",
            "#iter 657 loss tensor(7847.8467, grad_fn=<MulBackward0>)\n",
            "torch.Size([512, 512])\n",
            "#iter 658 loss tensor(7869.5815, grad_fn=<MulBackward0>)\n",
            "torch.Size([512, 512])\n",
            "#iter 659 loss tensor(7894.8545, grad_fn=<MulBackward0>)\n",
            "torch.Size([512, 512])\n",
            "#iter 660 loss tensor(7922.8228, grad_fn=<MulBackward0>)\n",
            "torch.Size([512, 512])\n",
            "#iter 661 loss tensor(7952.9209, grad_fn=<MulBackward0>)\n",
            "torch.Size([512, 512])\n",
            "#iter 662 loss tensor(7984.8462, grad_fn=<MulBackward0>)\n",
            "torch.Size([512, 512])\n",
            "#iter 663 loss tensor(8021.5127, grad_fn=<MulBackward0>)\n",
            "torch.Size([512, 512])\n",
            "#iter 664 loss tensor(8063.0791, grad_fn=<MulBackward0>)\n",
            "torch.Size([512, 512])\n",
            "#iter 665 loss tensor(8107.3608, grad_fn=<MulBackward0>)\n",
            "torch.Size([512, 512])\n",
            "#iter 666 loss tensor(8154.5542, grad_fn=<MulBackward0>)\n",
            "torch.Size([512, 512])\n",
            "#iter 667 loss tensor(8203.6299, grad_fn=<MulBackward0>)\n",
            "torch.Size([512, 512])\n",
            "#iter 668 loss tensor(8254.7432, grad_fn=<MulBackward0>)\n",
            "torch.Size([512, 512])\n",
            "#iter 669 loss tensor(8306.8506, grad_fn=<MulBackward0>)\n",
            "torch.Size([512, 512])\n",
            "#iter 670 loss tensor(8354.1475, grad_fn=<MulBackward0>)\n",
            "torch.Size([512, 512])\n",
            "#iter 671 loss tensor(8397.7119, grad_fn=<MulBackward0>)\n",
            "torch.Size([512, 512])\n",
            "#iter 672 loss tensor(8440.8291, grad_fn=<MulBackward0>)\n",
            "torch.Size([512, 512])\n",
            "#iter 673 loss tensor(8478.8271, grad_fn=<MulBackward0>)\n",
            "torch.Size([512, 512])\n",
            "#iter 674 loss tensor(8511.8447, grad_fn=<MulBackward0>)\n",
            "torch.Size([512, 512])\n",
            "#iter 675 loss tensor(8543.4941, grad_fn=<MulBackward0>)\n",
            "torch.Size([512, 512])\n",
            "#iter 676 loss tensor(8571.4834, grad_fn=<MulBackward0>)\n",
            "torch.Size([512, 512])\n",
            "#iter 677 loss tensor(8598.5293, grad_fn=<MulBackward0>)\n",
            "torch.Size([512, 512])\n",
            "#iter 678 loss tensor(8624.2266, grad_fn=<MulBackward0>)\n",
            "torch.Size([512, 512])\n",
            "#iter 679 loss tensor(8649.3428, grad_fn=<MulBackward0>)\n",
            "torch.Size([512, 512])\n",
            "#iter 680 loss tensor(8675.6143, grad_fn=<MulBackward0>)\n",
            "torch.Size([512, 512])\n",
            "#iter 681 loss tensor(8699.7686, grad_fn=<MulBackward0>)\n",
            "torch.Size([512, 512])\n",
            "#iter 682 loss tensor(8722.0898, grad_fn=<MulBackward0>)\n",
            "torch.Size([512, 512])\n",
            "#iter 683 loss tensor(8742.4473, grad_fn=<MulBackward0>)\n",
            "torch.Size([512, 512])\n",
            "#iter 684 loss tensor(8761.6758, grad_fn=<MulBackward0>)\n",
            "torch.Size([512, 512])\n",
            "#iter 685 loss tensor(8781.6494, grad_fn=<MulBackward0>)\n",
            "torch.Size([512, 512])\n",
            "#iter 686 loss tensor(8802.3359, grad_fn=<MulBackward0>)\n",
            "torch.Size([512, 512])\n",
            "#iter 687 loss tensor(8821.9297, grad_fn=<MulBackward0>)\n",
            "torch.Size([512, 512])\n",
            "#iter 688 loss tensor(8837.5273, grad_fn=<MulBackward0>)\n",
            "torch.Size([512, 512])\n",
            "#iter 689 loss tensor(8852.0449, grad_fn=<MulBackward0>)\n",
            "torch.Size([512, 512])\n",
            "#iter 690 loss tensor(8866.9492, grad_fn=<MulBackward0>)\n",
            "torch.Size([512, 512])\n",
            "#iter 691 loss tensor(8878.6123, grad_fn=<MulBackward0>)\n",
            "torch.Size([512, 512])\n",
            "#iter 692 loss tensor(8891.0361, grad_fn=<MulBackward0>)\n",
            "torch.Size([512, 512])\n",
            "#iter 693 loss tensor(8905.5264, grad_fn=<MulBackward0>)\n",
            "torch.Size([512, 512])\n",
            "#iter 694 loss tensor(8920.5859, grad_fn=<MulBackward0>)\n",
            "torch.Size([512, 512])\n",
            "#iter 695 loss tensor(8936.0986, grad_fn=<MulBackward0>)\n",
            "torch.Size([512, 512])\n",
            "#iter 696 loss tensor(8951.3428, grad_fn=<MulBackward0>)\n",
            "torch.Size([512, 512])\n",
            "#iter 697 loss tensor(8965.7344, grad_fn=<MulBackward0>)\n",
            "torch.Size([512, 512])\n",
            "#iter 698 loss tensor(8980.4570, grad_fn=<MulBackward0>)\n",
            "torch.Size([512, 512])\n",
            "#iter 699 loss tensor(8994.4102, grad_fn=<MulBackward0>)\n",
            "torch.Size([512, 512])\n",
            "#iter 700 loss tensor(9008.7627, grad_fn=<MulBackward0>)\n",
            "torch.Size([512, 512])\n",
            "#iter 701 loss tensor(9019.9482, grad_fn=<MulBackward0>)\n",
            "torch.Size([512, 512])\n",
            "#iter 702 loss tensor(9028.8955, grad_fn=<MulBackward0>)\n",
            "torch.Size([512, 512])\n",
            "#iter 703 loss tensor(9036.4004, grad_fn=<MulBackward0>)\n",
            "torch.Size([512, 512])\n"
          ]
        },
        {
          "output_type": "error",
          "ename": "KeyboardInterrupt",
          "evalue": "ignored",
          "traceback": [
            "\u001b[0;31m---------------------------------------------------------------------------\u001b[0m",
            "\u001b[0;31mKeyboardInterrupt\u001b[0m                         Traceback (most recent call last)",
            "\u001b[0;32m<ipython-input-245-0d1ca103f3ba>\u001b[0m in \u001b[0;36m<module>\u001b[0;34m()\u001b[0m\n\u001b[1;32m     13\u001b[0m       \u001b[0;32mbreak\u001b[0m\u001b[0;34m\u001b[0m\u001b[0;34m\u001b[0m\u001b[0m\n\u001b[1;32m     14\u001b[0m   \u001b[0mhistory\u001b[0m\u001b[0;34m.\u001b[0m\u001b[0mappend\u001b[0m\u001b[0;34m(\u001b[0m\u001b[0mout\u001b[0m\u001b[0;34m.\u001b[0m\u001b[0mitem\u001b[0m\u001b[0;34m(\u001b[0m\u001b[0;34m)\u001b[0m\u001b[0;34m)\u001b[0m\u001b[0;34m\u001b[0m\u001b[0;34m\u001b[0m\u001b[0m\n\u001b[0;32m---> 15\u001b[0;31m   \u001b[0mout\u001b[0m\u001b[0;34m.\u001b[0m\u001b[0mbackward\u001b[0m\u001b[0;34m(\u001b[0m\u001b[0;34m)\u001b[0m\u001b[0;34m\u001b[0m\u001b[0;34m\u001b[0m\u001b[0m\n\u001b[0m\u001b[1;32m     16\u001b[0m   \u001b[0moptimizer\u001b[0m\u001b[0;34m.\u001b[0m\u001b[0mstep\u001b[0m\u001b[0;34m(\u001b[0m\u001b[0;34m)\u001b[0m\u001b[0;34m\u001b[0m\u001b[0;34m\u001b[0m\u001b[0m\n\u001b[1;32m     17\u001b[0m   \u001b[0mprint\u001b[0m\u001b[0;34m(\u001b[0m\u001b[0;34m'#iter'\u001b[0m\u001b[0;34m,\u001b[0m\u001b[0mepoch\u001b[0m\u001b[0;34m,\u001b[0m\u001b[0;34m'loss'\u001b[0m\u001b[0;34m,\u001b[0m\u001b[0mout\u001b[0m\u001b[0;34m)\u001b[0m\u001b[0;34m\u001b[0m\u001b[0;34m\u001b[0m\u001b[0m\n",
            "\u001b[0;32m/usr/local/lib/python3.7/dist-packages/torch/_tensor.py\u001b[0m in \u001b[0;36mbackward\u001b[0;34m(self, gradient, retain_graph, create_graph, inputs)\u001b[0m\n\u001b[1;32m    305\u001b[0m                 \u001b[0mcreate_graph\u001b[0m\u001b[0;34m=\u001b[0m\u001b[0mcreate_graph\u001b[0m\u001b[0;34m,\u001b[0m\u001b[0;34m\u001b[0m\u001b[0;34m\u001b[0m\u001b[0m\n\u001b[1;32m    306\u001b[0m                 inputs=inputs)\n\u001b[0;32m--> 307\u001b[0;31m         \u001b[0mtorch\u001b[0m\u001b[0;34m.\u001b[0m\u001b[0mautograd\u001b[0m\u001b[0;34m.\u001b[0m\u001b[0mbackward\u001b[0m\u001b[0;34m(\u001b[0m\u001b[0mself\u001b[0m\u001b[0;34m,\u001b[0m \u001b[0mgradient\u001b[0m\u001b[0;34m,\u001b[0m \u001b[0mretain_graph\u001b[0m\u001b[0;34m,\u001b[0m \u001b[0mcreate_graph\u001b[0m\u001b[0;34m,\u001b[0m \u001b[0minputs\u001b[0m\u001b[0;34m=\u001b[0m\u001b[0minputs\u001b[0m\u001b[0;34m)\u001b[0m\u001b[0;34m\u001b[0m\u001b[0;34m\u001b[0m\u001b[0m\n\u001b[0m\u001b[1;32m    308\u001b[0m \u001b[0;34m\u001b[0m\u001b[0m\n\u001b[1;32m    309\u001b[0m     \u001b[0;32mdef\u001b[0m \u001b[0mregister_hook\u001b[0m\u001b[0;34m(\u001b[0m\u001b[0mself\u001b[0m\u001b[0;34m,\u001b[0m \u001b[0mhook\u001b[0m\u001b[0;34m)\u001b[0m\u001b[0;34m:\u001b[0m\u001b[0;34m\u001b[0m\u001b[0;34m\u001b[0m\u001b[0m\n",
            "\u001b[0;32m/usr/local/lib/python3.7/dist-packages/torch/autograd/__init__.py\u001b[0m in \u001b[0;36mbackward\u001b[0;34m(tensors, grad_tensors, retain_graph, create_graph, grad_variables, inputs)\u001b[0m\n\u001b[1;32m    154\u001b[0m     Variable._execution_engine.run_backward(\n\u001b[1;32m    155\u001b[0m         \u001b[0mtensors\u001b[0m\u001b[0;34m,\u001b[0m \u001b[0mgrad_tensors_\u001b[0m\u001b[0;34m,\u001b[0m \u001b[0mretain_graph\u001b[0m\u001b[0;34m,\u001b[0m \u001b[0mcreate_graph\u001b[0m\u001b[0;34m,\u001b[0m \u001b[0minputs\u001b[0m\u001b[0;34m,\u001b[0m\u001b[0;34m\u001b[0m\u001b[0;34m\u001b[0m\u001b[0m\n\u001b[0;32m--> 156\u001b[0;31m         allow_unreachable=True, accumulate_grad=True)  # allow_unreachable flag\n\u001b[0m\u001b[1;32m    157\u001b[0m \u001b[0;34m\u001b[0m\u001b[0m\n\u001b[1;32m    158\u001b[0m \u001b[0;34m\u001b[0m\u001b[0m\n",
            "\u001b[0;31mKeyboardInterrupt\u001b[0m: "
          ]
        }
      ]
    },
    {
      "cell_type": "code",
      "source": [
        "plt.plot(history[5:])"
      ],
      "metadata": {
        "colab": {
          "base_uri": "https://localhost:8080/",
          "height": 286
        },
        "id": "jHYMzoLTbFyR",
        "outputId": "a450c5e3-4ce5-4bf6-d5b2-bbb92e72138d"
      },
      "execution_count": 246,
      "outputs": [
        {
          "output_type": "execute_result",
          "data": {
            "text/plain": [
              "[<matplotlib.lines.Line2D at 0x7fa9622ab390>]"
            ]
          },
          "metadata": {},
          "execution_count": 246
        },
        {
          "output_type": "display_data",
          "data": {
            "image/png": "[encoded data removed]",
            "text/plain": [
              "<Figure size 432x288 with 1 Axes>"
            ]
          },
          "metadata": {
            "needs_background": "light"
          }
        }
      ]
    },
    {
      "cell_type": "markdown",
      "source": [
        "Visualisation"
      ],
      "metadata": {
        "id": "twoS2qPPcSPN"
      }
    },
    {
      "cell_type": "code",
      "source": [
        "psi[0,0,:,:].shape"
      ],
      "metadata": {
        "colab": {
          "base_uri": "https://localhost:8080/"
        },
        "id": "cmYDRsmlc0-b",
        "outputId": "b211e4f0-acf7-4bf7-fb8f-e2352f927fcb"
      },
      "execution_count": 247,
      "outputs": [
        {
          "output_type": "execute_result",
          "data": {
            "text/plain": [
              "torch.Size([512, 512])"
            ]
          },
          "metadata": {},
          "execution_count": 247
        }
      ]
    },
    {
      "cell_type": "code",
      "source": [
        "psicheck = torch.tensor(psi[0,0,:,:],requires_grad=False)\n",
        "fig = plt.figure(figsize=(figSize, figSize))\n",
        "plt.imshow(psicheck)\n",
        "plt.title('psi function with mask')"
      ],
      "metadata": {
        "colab": {
          "base_uri": "https://localhost:8080/",
          "height": 303
        },
        "id": "Tx_qNIxjcZoa",
        "outputId": "4a7b5fdf-2f26-4c20-e5be-aab97aa22b21"
      },
      "execution_count": 248,
      "outputs": [
        {
          "output_type": "stream",
          "name": "stderr",
          "text": [
            "/usr/local/lib/python3.7/dist-packages/ipykernel_launcher.py:1: UserWarning: To copy construct from a tensor, it is recommended to use sourceTensor.clone().detach() or sourceTensor.clone().detach().requires_grad_(True), rather than torch.tensor(sourceTensor).\n",
            "  \"\"\"Entry point for launching an IPython kernel.\n"
          ]
        },
        {
          "output_type": "execute_result",
          "data": {
            "text/plain": [
              "Text(0.5, 1.0, 'psi function with mask')"
            ]
          },
          "metadata": {},
          "execution_count": 248
        },
        {
          "output_type": "display_data",
          "data": {
            "image/png": "[encoded data removed]",
            "text/plain": [
              "<Figure size 216x216 with 1 Axes>"
            ]
          },
          "metadata": {
            "needs_background": "light"
          }
        }
      ]
    },
    {
      "cell_type": "code",
      "source": [
        "v1, v2 = velocityDistr(psicheck,dx1n,dx2n,lim1,lim2)\n",
        "fig = plt.figure(figsize=(figSize*2, figSize))\n",
        "plt.subplot(1,2,1)\n",
        "plt.imshow(v1)\n",
        "plt.title('v1')\n",
        "plt.subplot(1,2,2)\n",
        "plt.imshow(v2)\n",
        "plt.title('v2')"
      ],
      "metadata": {
        "colab": {
          "base_uri": "https://localhost:8080/",
          "height": 238
        },
        "id": "IcEzHkrgcVWx",
        "outputId": "8c27d62a-e2f3-4020-af56-02d5e2e9cb3f"
      },
      "execution_count": 249,
      "outputs": [
        {
          "output_type": "execute_result",
          "data": {
            "text/plain": [
              "Text(0.5, 1.0, 'v2')"
            ]
          },
          "metadata": {},
          "execution_count": 249
        },
        {
          "output_type": "display_data",
          "data": {
            "image/png": "[encoded data removed]",
            "text/plain": [
              "<Figure size 432x216 with 2 Axes>"
            ]
          },
          "metadata": {
            "needs_background": "light"
          }
        }
      ]
    },
    {
      "cell_type": "code",
      "source": [
        "plt.plot(v2[:,250])"
      ],
      "metadata": {
        "colab": {
          "base_uri": "https://localhost:8080/",
          "height": 286
        },
        "id": "tM5Nv56YeC9r",
        "outputId": "88001692-ef8a-4ee4-ef56-4246a44eb8dc"
      },
      "execution_count": 250,
      "outputs": [
        {
          "output_type": "execute_result",
          "data": {
            "text/plain": [
              "[<matplotlib.lines.Line2D at 0x7fa9620b67d0>]"
            ]
          },
          "metadata": {},
          "execution_count": 250
        },
        {
          "output_type": "display_data",
          "data": {
            "image/png": "[encoded data removed]",
            "text/plain": [
              "<Figure size 432x288 with 1 Axes>"
            ]
          },
          "metadata": {
            "needs_background": "light"
          }
        }
      ]
    },
    {
      "cell_type": "markdown",
      "source": [
        "#Links\n",
        "\n",
        "[1]. https://github.com/Mechanics-Mechatronics-and-Robotics/Mathematical_modelling/blob/main/Practice_1_by_IStebakov.ipynb\n",
        "\n",
        "[2]. https://github.com/mateuszbuda/brain-segmentation-pytorch"
      ],
      "metadata": {
        "id": "rpGo7xQz6cny"
      }
    }
  ]
}